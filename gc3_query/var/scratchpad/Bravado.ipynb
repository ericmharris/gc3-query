{
 "cells": [
  {
   "cell_type": "markdown",
   "metadata": {},
   "source": [
    "### Authentication\n",
    "\n",
    "https://github.com/Yelp/bravado\n",
    "\n",
    "###### Example with Basic Authentication\n",
    "\n",
    "```\n",
    "from bravado.requests_client import RequestsClient\n",
    "from bravado.client import SwaggerClient\n",
    "\n",
    "http_client = RequestsClient()\n",
    "http_client.set_basic_auth(\n",
    "    'api.yourhost.com',\n",
    "    'username', 'password'\n",
    ")\n",
    "client = SwaggerClient.from_url(\n",
    "    'http://petstore.swagger.io/v2/swagger.json',\n",
    "    http_client=http_client,\n",
    ")\n",
    "pet = client.pet.getPetById(petId=42).result()\n",
    "\n",
    "```\n",
    "\n",
    "###### Example with Header Authentication\n",
    "\n",
    "```\n",
    "from bravado.requests_client import RequestsClient\n",
    "from bravado.client import SwaggerClient\n",
    "\n",
    "http_client = RequestsClient()\n",
    "http_client.set_api_key(\n",
    "    'api.yourhost.com', 'token',\n",
    "    param_name='api_key', param_in='header'\n",
    ")\n",
    "client = SwaggerClient.from_url(\n",
    "    'http://petstore.swagger.io/v2/swagger.json',\n",
    "    http_client=http_client,\n",
    ")\n",
    "pet = client.pet.getPetById(petId=42).result()\n",
    "```"
   ]
  },
  {
   "cell_type": "markdown",
   "metadata": {},
   "source": [
    "##  PaaS auth\n"
   ]
  },
  {
   "cell_type": "code",
   "execution_count": null,
   "metadata": {},
   "outputs": [],
   "source": [
    "import os\n",
    "from bravado.client import SwaggerClient\n",
    "from bravado.client import SwaggerClient\n",
    "from bravado.swagger_model import load_file\n",
    "from bravado.requests_client import RequestsClient\n",
    "\n",
    "# from bravado.fido_client import FidoClient\n",
    "\n",
    "import json\n",
    "import keyring\n",
    "import requests\n",
    "import dataclasses\n",
    "from prettyprinter import pprint as pp\n",
    "from requests import Session\n",
    "from requests.auth import HTTPBasicAuth\n",
    "from requests.auth import _basic_auth_str\n",
    "from secrets import opc_username, opc_password"
   ]
  },
  {
   "cell_type": "markdown",
   "metadata": {},
   "source": []
  },
  {
   "cell_type": "markdown",
   "metadata": {},
   "source": []
  },
  {
   "cell_type": "code",
   "execution_count": null,
   "metadata": {},
   "outputs": [],
   "source": [
    "## \n",
    "idm_domain_name = 'gc30003'\n",
    "idm_service_instance_id = '587626604'\n",
    "idm_username = f'{idm_domain_name}.{opc_username}'\n",
    "iaas_rest_endpoint = r'https://compute.uscom-central-1.oraclecloud.com'\n",
    "iaas_auth_endpoint = r'https://compute.uscom-central-1.oraclecloud.com/authenticate/'\n",
    "traditional_iaas_username = f'/Compute-{idm_domain_name}/{opc_username}'\n",
    "idcs_iaas_username = f'/Compute-{idm_service_instance_id}/{opc_username}'\n",
    "# basic_auth_cred = _basic_auth_str(idcs_iaas_username, opc_password)\n",
    "json_data={\"user\":idm_domain_name, \"password\":opc_password}\n",
    "files = None\n",
    "params = None\n",
    "data=None\n",
    "\n",
    "basic_auth_cred = _basic_auth_str(idm_username, opc_password)\n",
    "\n",
    "# headers = dict([('Authorization', basic_auth_cred), ('Content-Type', 'application/oracle-compute-v3+json'), ('X-ID-TENANT-NAME', 'gc30003'), ('X-PSM-CLI-REQUEST', 'cli'), ('X-PSM-CLI-VERSION', '1.1.20')])\n",
    "headers = dict([('Authorization', basic_auth_cred), ('X-ID-TENANT-NAME', 'gc30003'), ('X-PSM-CLI-REQUEST', 'cli'), ('X-PSM-CLI-VERSION', '1.1.20')])\n",
    "\n",
    "print(f'headers: {headers}')\n",
    "print(f'json_data: {json_data}')\n",
    "print(f'_basic_auth_str(idm_username={idm_username}, opc_password), basic_auth_cred: {basic_auth_cred}')\n",
    "# print(f'idm_username: {idm_username}')\n",
    "print(f'idcs_iaas_username: {idcs_iaas_username}')\n",
    "print(f'iaas_rest_endpoint: {iaas_rest_endpoint}')\n",
    "print(f'iaas_auth_endpoint: {iaas_auth_endpoint}')\n"
   ]
  },
  {
   "cell_type": "code",
   "execution_count": null,
   "metadata": {},
   "outputs": [],
   "source": [
    "cwd = os.getcwd()\n",
    "client = SwaggerClient.from_spec(load_file(f'{cwd}/open_api_definitions/iaas_instances.json'))\n",
    "client.Instances"
   ]
  },
  {
   "cell_type": "code",
   "execution_count": null,
   "metadata": {},
   "outputs": [],
   "source": [
    "requests_client = RequestsClient()\n",
    "\n",
    "## for PaaS auth\n",
    "requests_client.session.auth = (idm_username, opc_password)\n",
    "## For IaaS auth\n",
    "# requests_client.session.auth = (idcs_iaas_username, opc_password)\n",
    "\n",
    "requests_client.session.headers.update(headers)\n",
    "# requests_client.set_basic_auth('apicatalog.oraclecloud.com', idm_username, opc_password)\n",
    "# requests_client.set_basic_auth(rest_endpoint, idm_username, opc_password)\n",
    "# requests_client.session.headers['Authorization'] = domain_auth_token"
   ]
  },
  {
   "cell_type": "code",
   "execution_count": null,
   "metadata": {},
   "outputs": [],
   "source": [
    "request_url = r'https://apicatalog.oraclecloud.com/v1/search?q=Instances'\n",
    "# response = requests.request(method=method, url=request_url, headers=headers, data=data, files=files, params=params)\n",
    "response = requests_client.session.get(url=request_url,\n",
    "                         json=json_data,\n",
    "                         data=data,\n",
    "                         headers=headers,\n",
    "                         files=files, \n",
    "                         params=params)\n",
    "print(f'Response OK: {response.ok}, Status Code: {response.status_code}, URL: {response.url}')"
   ]
  },
  {
   "cell_type": "markdown",
   "metadata": {},
   "source": [
    "## Switching to IaaS auth"
   ]
  },
  {
   "cell_type": "code",
   "execution_count": null,
   "metadata": {},
   "outputs": [],
   "source": [
    "import os\n",
    "from bravado.client import SwaggerClient\n",
    "from bravado.client import SwaggerClient\n",
    "from bravado.swagger_model import load_file\n",
    "from bravado.requests_client import RequestsClient\n",
    "\n",
    "# from bravado.fido_client import FidoClient\n",
    "\n",
    "import json\n",
    "import keyring\n",
    "import requests\n",
    "import dataclasses\n",
    "from prettyprinter import pprint as pp\n",
    "from requests import Session\n",
    "from requests.auth import HTTPBasicAuth\n",
    "from requests.auth import _basic_auth_str\n",
    "from secrets import opc_username, opc_password"
   ]
  },
  {
   "cell_type": "code",
   "execution_count": null,
   "metadata": {},
   "outputs": [],
   "source": [
    "idm_domain_name = 'gc30003'\n",
    "idm_service_instance_id = '587626604'\n",
    "iaas_rest_endpoint = r'https://compute.uscom-central-1.oraclecloud.com'\n",
    "iaas_auth_endpoint = r'https://compute.uscom-central-1.oraclecloud.com/authenticate/'\n",
    "traditional_iaas_username = f'/Compute-{idm_domain_name}/{opc_username}'\n",
    "idcs_iaas_username = f'/Compute-{idm_service_instance_id}/{opc_username}'\n",
    "basic_auth_cred = _basic_auth_str(idcs_iaas_username, opc_password)\n",
    "json_data={\"user\":traditional_iaas_username, \"password\":opc_password}\n",
    "files = None\n",
    "params = None\n",
    "headers = dict([('Authorization', basic_auth_cred), ('Content-Type', 'application/oracle-compute-v3+json'), ('X-ID-TENANT-NAME', 'gc30003'), ('X-PSM-CLI-REQUEST', 'cli'), ('X-PSM-CLI-VERSION', '1.1.20')])\n",
    "\n",
    "print(f'headers: {headers}')\n",
    "print(f'json_data: {json_data}')\n",
    "print(f'basic_auth_cred: {basic_auth_cred}')\n",
    "print(f'traditional_iaas_username: {traditional_iaas_username}')\n",
    "print(f'idcs_iaas_username: {idcs_iaas_username}')\n",
    "print(f'iaas_rest_endpoint: {iaas_rest_endpoint}')\n",
    "print(f'iaas_auth_endpoint: {iaas_auth_endpoint}')"
   ]
  },
  {
   "cell_type": "code",
   "execution_count": null,
   "metadata": {},
   "outputs": [],
   "source": [
    "requests_client = RequestsClient()\n",
    "## for PaaS auth\n",
    "# requests_client.session.auth = (idm_username, opc_password)\n",
    "## For IaaS auth\n",
    "requests_client.session.auth = (idcs_iaas_username, opc_password)\n",
    "requests_client.session.headers.update(headers)\n",
    "\n",
    "print(f'iaas_auth_endpoint: {iaas_auth_endpoint}')"
   ]
  },
  {
   "cell_type": "code",
   "execution_count": null,
   "metadata": {},
   "outputs": [],
   "source": [
    "response = requests_client.session.post(url=iaas_auth_endpoint,\n",
    "                         json=json_data,\n",
    "                         files=files, \n",
    "                         params=params)\n",
    "print(f'Response OK: {response.ok}, Status Code: {response.status_code}, URL: {response.url}')\n",
    "if response.ok and 'Set-Cookie' in response.headers:\n",
    "    print(f\"Auth request succeess.\\n\")\n",
    "    ### The auth cookie is already placed in the session ... nothing else needs to be done.\n",
    "    print(f\"RequestsClient Session Cookies: {requests_client.session.cookies}\")\n",
    "\n",
    "else:\n",
    "    print(f'Something failed! Response OK: {response.ok}, Status Code: {response.status_code}')"
   ]
  },
  {
   "cell_type": "code",
   "execution_count": null,
   "metadata": {},
   "outputs": [],
   "source": [
    "request_url = f'{iaas_rest_endpoint}/instance/'\n",
    "#              https://compute.uscom-central-1.oraclecloud.com/instance/\n",
    "# request_url: https://compute.uscom-central-1.oraclecloud.com/instance/\n",
    "print(f'request_url: {request_url}')\n",
    "\n",
    "response = requests_client.session.get(url=request_url,\n",
    "                         json=json_data,\n",
    "                         headers=headers,\n",
    "                         files=files, \n",
    "                         params=params)\n",
    "print(f'Response OK: {response.ok}, Status Code: {response.status_code}, URL: {response.url}')\n"
   ]
  },
  {
   "cell_type": "code",
   "execution_count": null,
   "metadata": {},
   "outputs": [],
   "source": [
    "response.text"
   ]
  },
  {
   "cell_type": "code",
   "execution_count": null,
   "metadata": {},
   "outputs": [],
   "source": [
    "client_from_catalog = SwaggerClient.from_url(spec_url=swagger_url, http_client=requests_client, config={'also_return_response': True})"
   ]
  },
  {
   "cell_type": "code",
   "execution_count": null,
   "metadata": {},
   "outputs": [],
   "source": [
    "# # https://pyswagger.readthedocs.io/en/latest/\n",
    "# import keyring\n",
    "# import requests\n",
    "# from pyswagger import App, Security\n",
    "# from pyswagger.contrib.client.requests import Client\n",
    "\n",
    "# from requests.auth import _basic_auth_str\n",
    "\n",
    "# from secrets import opc_username, opc_password"
   ]
  },
  {
   "cell_type": "code",
   "execution_count": null,
   "metadata": {},
   "outputs": [],
   "source": [
    "## \n",
    "idm_domain_name = 'gc30003'\n",
    "idm_service_instance_id = '587626604'\n",
    "idm_username = f'{idm_domain_name}.{opc_username}'\n",
    "iaas_rest_endpoint = r'https://compute.uscom-central-1.oraclecloud.com'\n",
    "iaas_auth_endpoint = r'https://compute.uscom-central-1.oraclecloud.com/authenticate/'\n",
    "traditional_iaas_username = f'/Compute-{idm_domain_name}/{opc_username}'\n",
    "idcs_iaas_username = f'/Compute-{idm_service_instance_id}/{opc_username}'\n",
    "# basic_auth_cred = _basic_auth_str(idcs_iaas_username, opc_password)\n",
    "json_data={\"user\":idm_domain_name, \"password\":opc_password}\n",
    "files = None\n",
    "params = None\n",
    "data=None\n",
    "\n",
    "basic_auth_cred = _basic_auth_str(idm_username, opc_password)\n",
    "\n",
    "# headers = dict([('Authorization', basic_auth_cred), ('Content-Type', 'application/oracle-compute-v3+json'), ('X-ID-TENANT-NAME', 'gc30003'), ('X-PSM-CLI-REQUEST', 'cli'), ('X-PSM-CLI-VERSION', '1.1.20')])\n",
    "headers = dict([('Authorization', basic_auth_cred), ('X-ID-TENANT-NAME', 'gc30003'), ('X-PSM-CLI-REQUEST', 'cli'), ('X-PSM-CLI-VERSION', '1.1.20')])\n",
    "\n",
    "print(f'headers: {headers}')\n",
    "print(f'json_data: {json_data}')\n",
    "print(f'_basic_auth_str(idm_username={idm_username}, opc_password), basic_auth_cred: {basic_auth_cred}')\n",
    "# print(f'idm_username: {idm_username}')\n",
    "# print(f'idcs_iaas_username: {idcs_iaas_username}')\n",
    "# print(f'iaas_rest_endpoint: {iaas_rest_endpoint}')\n",
    "# print(f'iaas_auth_endpoint: {iaas_auth_endpoint}')"
   ]
  },
  {
   "cell_type": "code",
   "execution_count": null,
   "metadata": {},
   "outputs": [],
   "source": [
    "# idm_domain = 'gc30003'\n",
    "# idm_username = f'{idm_domain}.{opc_username}'\n",
    "# print(f'idm_username: {idm_username}')\n",
    "# # load Swagger resource file into App object\n",
    "# domain_auth_token = _basic_auth_str(idm_username, opc_password)\n",
    "# print(f'domain_auth_token: {domain_auth_token}')\n",
    "\n",
    "# compute_container = '/Compute-587626604/eric.harris@oracle.com'\n",
    "# print(f'compute_container: {compute_container}')\n"
   ]
  },
  {
   "cell_type": "code",
   "execution_count": null,
   "metadata": {},
   "outputs": [],
   "source": [
    "# # Example with Basic Authentication\n",
    "# from bravado.requests_client import RequestsClient\n",
    "# from bravado.client import SwaggerClient\n",
    "\n",
    "# http_client = RequestsClient()\n",
    "# http_client.set_basic_auth('apicatalog.oraclecloud.com', idm_username, opc_password)\n"
   ]
  },
  {
   "cell_type": "code",
   "execution_count": null,
   "metadata": {},
   "outputs": [],
   "source": [
    "\n",
    "# request_url = r'https://apicatalog.oraclecloud.com/v1/orgs/oracle-public/apicollections/compute/18.1.2/apis/Instances/canonical'\n",
    "# client = SwaggerClient.from_url(request_url, http_client=http_client)\n"
   ]
  },
  {
   "cell_type": "code",
   "execution_count": null,
   "metadata": {},
   "outputs": [],
   "source": [
    "session = Session()\n",
    "session.auth = (idm_username, opc_password)\n",
    "session.headers.update(headers)"
   ]
  },
  {
   "cell_type": "code",
   "execution_count": null,
   "metadata": {},
   "outputs": [],
   "source": [
    "compute_container = '/Compute-587626604/eric.harris@oracle.com'\n",
    "print(f'compute_container: {compute_container}')\n",
    "instance_list = client.Instances.listInstance(container=compute_container)"
   ]
  },
  {
   "cell_type": "code",
   "execution_count": null,
   "metadata": {},
   "outputs": [],
   "source": [
    "instance_list.result()"
   ]
  },
  {
   "cell_type": "markdown",
   "metadata": {},
   "source": [
    "## Testing after requests is working with Compute\n"
   ]
  },
  {
   "cell_type": "code",
   "execution_count": 1,
   "metadata": {},
   "outputs": [],
   "source": [
    "import os\n",
    "from pathlib import Path\n",
    "from bravado.client import SwaggerClient\n",
    "from bravado.client import SwaggerClient\n",
    "from bravado.swagger_model import load_file\n",
    "from bravado.requests_client import RequestsClient\n",
    "from bravado.swagger_model import load_file\n",
    "\n",
    "\n",
    "# from bravado.fido_client import FidoClient\n",
    "\n",
    "import json\n",
    "import keyring\n",
    "import requests\n",
    "import dataclasses\n",
    "from requests import Session\n",
    "from requests.auth import HTTPBasicAuth\n",
    "from requests.auth import _basic_auth_str\n",
    "from secrets import opc_username, opc_password"
   ]
  },
  {
   "cell_type": "code",
   "execution_count": 2,
   "metadata": {},
   "outputs": [],
   "source": [
    "import keyring\n",
    "import requests\n",
    "from json import load, loads, dump, dumps\n",
    "from requests import Session\n",
    "from secrets import opc_username, opc_password"
   ]
  },
  {
   "cell_type": "code",
   "execution_count": 3,
   "metadata": {},
   "outputs": [],
   "source": [
    "## https://medium.com/@betz.mark/validate-json-models-with-swagger-and-bravado-5fad6b21a825\n",
    "# Validate json models with swagger and bravado\n",
    "from bravado_core.spec import Spec\n",
    "from bravado_core.validate import validate_object\n",
    "from yaml import load, Loader, dump, Dumper"
   ]
  },
  {
   "cell_type": "code",
   "execution_count": 4,
   "metadata": {},
   "outputs": [
    {
     "name": "stdout",
     "output_type": "stream",
     "text": [
      "iaas_rest_endpoint: https://compute.uscom-central-1.oraclecloud.com\n",
      "iaas_auth_endpoint: https://compute.uscom-central-1.oraclecloud.com/authenticate/\n",
      "\n"
     ]
    }
   ],
   "source": [
    "idm_domain_name = 'gc30003'\n",
    "idm_service_instance_id = '587626604'\n",
    "iaas_rest_endpoint = r'https://compute.uscom-central-1.oraclecloud.com'\n",
    "iaas_auth_endpoint = f'{iaas_rest_endpoint}/authenticate/'\n",
    "\n",
    "print(f'iaas_rest_endpoint: {iaas_rest_endpoint}')\n",
    "print(f'iaas_auth_endpoint: {iaas_auth_endpoint}\\n')"
   ]
  },
  {
   "cell_type": "code",
   "execution_count": 5,
   "metadata": {},
   "outputs": [
    {
     "name": "stdout",
     "output_type": "stream",
     "text": [
      "idm_domain_username: /Compute-gc30003/eric.harris@oracle.com\n",
      "idm_service_instance_username: /Compute-587626604/eric.harris@oracle.com\n",
      "username: /Compute-587626604/eric.harris@oracle.com\n",
      "\n",
      "json_data: {'user': '/Compute-587626604/eric.harris@oracle.com', 'password': 'P@ll4dium!'}\n",
      "headers: {'Content-Type': 'application/oracle-compute-v3+json', 'Accept': 'application/oracle-compute-v3+directory+json'}\n"
     ]
    }
   ],
   "source": [
    "### Username/pass setup\n",
    "idm_domain_username = f'/Compute-{idm_domain_name}/{opc_username}'\n",
    "idm_service_instance_username = f'/Compute-{idm_service_instance_id}/{opc_username}'\n",
    "# username = traditional_iaas_username\n",
    "username = idm_service_instance_username\n",
    "# basic_auth_cred = _basic_auth_str(username, opc_password)\n",
    "\n",
    "print(f'idm_domain_username: {idm_domain_username}')\n",
    "print(f'idm_service_instance_username: {idm_service_instance_username}')\n",
    "print(f'username: {username}')\n",
    "# print(f'basic_auth_cred: {basic_auth_cred}')\n",
    "\n",
    "### END Username/pass setup\n",
    "json_data={\"user\":username, \"password\":opc_password}\n",
    "print(f'\\njson_data: {json_data}')\n",
    "\n",
    "\n",
    "files = None\n",
    "params = None\n",
    "\n",
    "### https://docs.oracle.com/en/cloud/iaas/compute-iaas-cloud/stcsa/SendRequests.html\n",
    "### Supported Headers shown here\n",
    "# headers = dict([('Content-Type', 'application/oracle-compute-v3+json'),\n",
    "#                ('Accept', 'application/oracle-compute-v3+directory+json'),\n",
    "#                ('Accept-Encoding', 'gzip;q=1.0, identity; q=0.5'),\n",
    "#                ('Content-Encoding', 'deflate'),\n",
    "#                ('Cookie', '<Set from /authenticate>')\n",
    "#                ])\n",
    "\n",
    "\n",
    "headers = dict([('Content-Type', 'application/oracle-compute-v3+json'),\n",
    "               ('Accept', 'application/oracle-compute-v3+directory+json'),\n",
    "               ])\n",
    "\n",
    "print(f'headers: {headers}')"
   ]
  },
  {
   "cell_type": "code",
   "execution_count": 6,
   "metadata": {},
   "outputs": [
    {
     "name": "stdout",
     "output_type": "stream",
     "text": [
      "requests_client.session.headers before update: {'User-Agent': 'python-requests/2.18.4', 'Accept-Encoding': 'gzip, deflate', 'Accept': 'application/oracle-compute-v3+directory+json', 'Connection': 'keep-alive', 'Content-Type': 'application/oracle-compute-v3+json'}\n",
      "\n",
      "requests_client.session.headers after update: {'User-Agent': 'python-requests/2.18.4', 'Accept-Encoding': 'gzip, deflate', 'Accept': 'application/oracle-compute-v3+directory+json', 'Connection': 'keep-alive', 'Content-Type': 'application/oracle-compute-v3+json'}\n",
      "\n"
     ]
    }
   ],
   "source": [
    "requests_client = RequestsClient()\n",
    "requests_client.session.headers.update(headers)\n",
    "\n",
    "print(f\"requests_client.session.headers before update: {requests_client.session.headers}\\n\")\n",
    "requests_client.session.headers.update(headers)\n",
    "print(f\"requests_client.session.headers after update: {requests_client.session.headers}\\n\")\n"
   ]
  },
  {
   "cell_type": "code",
   "execution_count": 7,
   "metadata": {},
   "outputs": [
    {
     "name": "stdout",
     "output_type": "stream",
     "text": [
      "Response OK: True, Status Code: 204, URL: https://compute.uscom-central-1.oraclecloud.com/authenticate/\n",
      "Auth request succeess.\n",
      "\n",
      "\n",
      "Session Cookies: <RequestsCookieJar[<Cookie nimbula=eyJpZGVudGl0eSI6ICJ7XCJyZWFsbVwiOiBcInVzY29tLWNlbnRyYWwtMVwiLCBcInZhbHVlXCI6IFwie1xcXCJjdXN0b21lclxcXCI6IFxcXCJDb21wdXRlLTU4NzYyNjYwNFxcXCIsIFxcXCJyZWFsbVxcXCI6IFxcXCJ1c2NvbS1jZW50cmFsLTFcXFwiLCBcXFwiZW50aXR5X3R5cGVcXFwiOiBcXFwidXNlclxcXCIsIFxcXCJzZXNzaW9uX2V4cGlyZXNcXFwiOiAxNTIzNjU2MjA5Ljk4ODAwNDksIFxcXCJleHBpcmVzXFxcIjogMTUyMzY0NzIwOS45ODgwNDIxLCBcXFwidXNlclxcXCI6IFxcXCIvQ29tcHV0ZS01ODc2MjY2MDQvZXJpYy5oYXJyaXNAb3JhY2xlLmNvbVxcXCIsIFxcXCJncm91cHNcXFwiOiBbXFxcIi9Db21wdXRlLTU4NzYyNjYwNC9Db21wdXRlLkNvbXB1dGVfT3BlcmF0aW9uc1xcXCIsIFxcXCIvQ29tcHV0ZS01ODc2MjY2MDQvQ29tcHV0ZS5Db21wdXRlX01vbml0b3JcXFwiXX1cIiwgXCJzaWduYXR1cmVcIjogXCJFU1NSMTg2Z3NFZFMzNzVSaFc3elV1M2xSVW5nS1UvTWdhQ292elh4dE8xaitlWGZDZE9nY0hjRTliWGtpZTY2eTF1VWo5TzlVZjRFamJvQS9jOERhdk5aajkvZzVZalRUVmpRN1ZucUszVTVDN2d3RGw1eDBIcWlzblovRDZ0L0Y4d3dCcHp5ei9WSEZMOGg5OUZwaGp6bXhuWldKUEhzQUh6L1BRS0lDTGRXa1lzS2lhVTEzSi9XdVhJbWdnZ1U4c041WTN5N0VUbDB3cU9VeHFwMi9KMGltakFkL2NUdnFMOVErYnoyNVdGNHZSOHF5VHJoM3FETmFWTkUzRFdaa25UcENRcmdjeTlQZWJycFdBMVRUeDRrcnREdk5kVWUwcmRYRVVjNWJTZmVWamhWa2hpR00wTkNsaVZndHFaTlN2U2g4TEgvejhaSWJZbThvWE1lM0E9PVwifSJ9 for compute.uscom-central-1.oraclecloud.com/>]>\n",
      "\n",
      "Response Headers['Set-Cookie']: nimbula=eyJpZGVudGl0eSI6ICJ7XCJyZWFsbVwiOiBcInVzY29tLWNlbnRyYWwtMVwiLCBcInZhbHVlXCI6IFwie1xcXCJjdXN0b21lclxcXCI6IFxcXCJDb21wdXRlLTU4NzYyNjYwNFxcXCIsIFxcXCJyZWFsbVxcXCI6IFxcXCJ1c2NvbS1jZW50cmFsLTFcXFwiLCBcXFwiZW50aXR5X3R5cGVcXFwiOiBcXFwidXNlclxcXCIsIFxcXCJzZXNzaW9uX2V4cGlyZXNcXFwiOiAxNTIzNjU2MjA5Ljk4ODAwNDksIFxcXCJleHBpcmVzXFxcIjogMTUyMzY0NzIwOS45ODgwNDIxLCBcXFwidXNlclxcXCI6IFxcXCIvQ29tcHV0ZS01ODc2MjY2MDQvZXJpYy5oYXJyaXNAb3JhY2xlLmNvbVxcXCIsIFxcXCJncm91cHNcXFwiOiBbXFxcIi9Db21wdXRlLTU4NzYyNjYwNC9Db21wdXRlLkNvbXB1dGVfT3BlcmF0aW9uc1xcXCIsIFxcXCIvQ29tcHV0ZS01ODc2MjY2MDQvQ29tcHV0ZS5Db21wdXRlX01vbml0b3JcXFwiXX1cIiwgXCJzaWduYXR1cmVcIjogXCJFU1NSMTg2Z3NFZFMzNzVSaFc3elV1M2xSVW5nS1UvTWdhQ292elh4dE8xaitlWGZDZE9nY0hjRTliWGtpZTY2eTF1VWo5TzlVZjRFamJvQS9jOERhdk5aajkvZzVZalRUVmpRN1ZucUszVTVDN2d3RGw1eDBIcWlzblovRDZ0L0Y4d3dCcHp5ei9WSEZMOGg5OUZwaGp6bXhuWldKUEhzQUh6L1BRS0lDTGRXa1lzS2lhVTEzSi9XdVhJbWdnZ1U4c041WTN5N0VUbDB3cU9VeHFwMi9KMGltakFkL2NUdnFMOVErYnoyNVdGNHZSOHF5VHJoM3FETmFWTkUzRFdaa25UcENRcmdjeTlQZWJycFdBMVRUeDRrcnREdk5kVWUwcmRYRVVjNWJTZmVWamhWa2hpR00wTkNsaVZndHFaTlN2U2g4TEgvejhaSWJZbThvWE1lM0E9PVwifSJ9; Path=/; Max-Age=1800\n"
     ]
    }
   ],
   "source": [
    "response = requests_client.session.post(url=iaas_auth_endpoint, json=json_data)\n",
    "\n",
    "print(f'Response OK: {response.ok}, Status Code: {response.status_code}, URL: {response.url}')\n",
    "if response.ok and 'Set-Cookie' in response.headers:\n",
    "    print(f\"Auth request succeess.\\n\")\n",
    "    ### The auth cookie is already placed in the session ... nothing else needs to be done.\n",
    "    print(f\"\\nSession Cookies: {requests_client.session.cookies}\")\n",
    "    print(f\"\\nResponse Headers['Set-Cookie']: {response.headers['Set-Cookie']}\")\n",
    "\n",
    "else:\n",
    "    print(f'Something failed! Response OK: {response.ok}, Status Code: {response.status_code}')"
   ]
  },
  {
   "cell_type": "code",
   "execution_count": 8,
   "metadata": {
    "scrolled": true
   },
   "outputs": [
    {
     "name": "stdout",
     "output_type": "stream",
     "text": [
      "requests_client.session.headers before update: {'User-Agent': 'python-requests/2.18.4', 'Accept-Encoding': 'gzip, deflate', 'Accept': 'application/oracle-compute-v3+directory+json', 'Connection': 'keep-alive', 'Content-Type': 'application/oracle-compute-v3+json'}\n",
      "\n",
      "cookie_header: {'Cookie': 'nimbula=eyJpZGVudGl0eSI6ICJ7XCJyZWFsbVwiOiBcInVzY29tLWNlbnRyYWwtMVwiLCBcInZhbHVlXCI6IFwie1xcXCJjdXN0b21lclxcXCI6IFxcXCJDb21wdXRlLTU4NzYyNjYwNFxcXCIsIFxcXCJyZWFsbVxcXCI6IFxcXCJ1c2NvbS1jZW50cmFsLTFcXFwiLCBcXFwiZW50aXR5X3R5cGVcXFwiOiBcXFwidXNlclxcXCIsIFxcXCJzZXNzaW9uX2V4cGlyZXNcXFwiOiAxNTIzNjU2MjA5Ljk4ODAwNDksIFxcXCJleHBpcmVzXFxcIjogMTUyMzY0NzIwOS45ODgwNDIxLCBcXFwidXNlclxcXCI6IFxcXCIvQ29tcHV0ZS01ODc2MjY2MDQvZXJpYy5oYXJyaXNAb3JhY2xlLmNvbVxcXCIsIFxcXCJncm91cHNcXFwiOiBbXFxcIi9Db21wdXRlLTU4NzYyNjYwNC9Db21wdXRlLkNvbXB1dGVfT3BlcmF0aW9uc1xcXCIsIFxcXCIvQ29tcHV0ZS01ODc2MjY2MDQvQ29tcHV0ZS5Db21wdXRlX01vbml0b3JcXFwiXX1cIiwgXCJzaWduYXR1cmVcIjogXCJFU1NSMTg2Z3NFZFMzNzVSaFc3elV1M2xSVW5nS1UvTWdhQ292elh4dE8xaitlWGZDZE9nY0hjRTliWGtpZTY2eTF1VWo5TzlVZjRFamJvQS9jOERhdk5aajkvZzVZalRUVmpRN1ZucUszVTVDN2d3RGw1eDBIcWlzblovRDZ0L0Y4d3dCcHp5ei9WSEZMOGg5OUZwaGp6bXhuWldKUEhzQUh6L1BRS0lDTGRXa1lzS2lhVTEzSi9XdVhJbWdnZ1U4c041WTN5N0VUbDB3cU9VeHFwMi9KMGltakFkL2NUdnFMOVErYnoyNVdGNHZSOHF5VHJoM3FETmFWTkUzRFdaa25UcENRcmdjeTlQZWJycFdBMVRUeDRrcnREdk5kVWUwcmRYRVVjNWJTZmVWamhWa2hpR00wTkNsaVZndHFaTlN2U2g4TEgvejhaSWJZbThvWE1lM0E9PVwifSJ9; Path=/; Max-Age=1800'}\n",
      "\n",
      "requests_client.session.headers after update: {'User-Agent': 'python-requests/2.18.4', 'Accept-Encoding': 'gzip, deflate', 'Accept': 'application/oracle-compute-v3+directory+json', 'Connection': 'keep-alive', 'Content-Type': 'application/oracle-compute-v3+json', 'Cookie': 'nimbula=eyJpZGVudGl0eSI6ICJ7XCJyZWFsbVwiOiBcInVzY29tLWNlbnRyYWwtMVwiLCBcInZhbHVlXCI6IFwie1xcXCJjdXN0b21lclxcXCI6IFxcXCJDb21wdXRlLTU4NzYyNjYwNFxcXCIsIFxcXCJyZWFsbVxcXCI6IFxcXCJ1c2NvbS1jZW50cmFsLTFcXFwiLCBcXFwiZW50aXR5X3R5cGVcXFwiOiBcXFwidXNlclxcXCIsIFxcXCJzZXNzaW9uX2V4cGlyZXNcXFwiOiAxNTIzNjU2MjA5Ljk4ODAwNDksIFxcXCJleHBpcmVzXFxcIjogMTUyMzY0NzIwOS45ODgwNDIxLCBcXFwidXNlclxcXCI6IFxcXCIvQ29tcHV0ZS01ODc2MjY2MDQvZXJpYy5oYXJyaXNAb3JhY2xlLmNvbVxcXCIsIFxcXCJncm91cHNcXFwiOiBbXFxcIi9Db21wdXRlLTU4NzYyNjYwNC9Db21wdXRlLkNvbXB1dGVfT3BlcmF0aW9uc1xcXCIsIFxcXCIvQ29tcHV0ZS01ODc2MjY2MDQvQ29tcHV0ZS5Db21wdXRlX01vbml0b3JcXFwiXX1cIiwgXCJzaWduYXR1cmVcIjogXCJFU1NSMTg2Z3NFZFMzNzVSaFc3elV1M2xSVW5nS1UvTWdhQ292elh4dE8xaitlWGZDZE9nY0hjRTliWGtpZTY2eTF1VWo5TzlVZjRFamJvQS9jOERhdk5aajkvZzVZalRUVmpRN1ZucUszVTVDN2d3RGw1eDBIcWlzblovRDZ0L0Y4d3dCcHp5ei9WSEZMOGg5OUZwaGp6bXhuWldKUEhzQUh6L1BRS0lDTGRXa1lzS2lhVTEzSi9XdVhJbWdnZ1U4c041WTN5N0VUbDB3cU9VeHFwMi9KMGltakFkL2NUdnFMOVErYnoyNVdGNHZSOHF5VHJoM3FETmFWTkUzRFdaa25UcENRcmdjeTlQZWJycFdBMVRUeDRrcnREdk5kVWUwcmRYRVVjNWJTZmVWamhWa2hpR00wTkNsaVZndHFaTlN2U2g4TEgvejhaSWJZbThvWE1lM0E9PVwifSJ9; Path=/; Max-Age=1800'}\n",
      "\n"
     ]
    }
   ],
   "source": [
    "print(f\"requests_client.session.headers before update: {requests_client.session.headers}\\n\")\n",
    "cookie_header = {'Cookie': response.headers['Set-Cookie']}\n",
    "print(f\"cookie_header: {cookie_header}\\n\")\n",
    "requests_client.session.headers.update(cookie_header)\n",
    "print(f\"requests_client.session.headers after update: {requests_client.session.headers}\\n\")\n"
   ]
  },
  {
   "cell_type": "markdown",
   "metadata": {},
   "source": [
    "#### Loading swagger.json by file path\n",
    "[http://bravado.readthedocs.io/en/latest/advanced.html#loading-swagger-json-by-file-path](http://bravado.readthedocs.io/en/latest/advanced.html#loading-swagger-json-by-file-path)\n",
    "\n",
    "\n",
    "bravado also accepts swagger.json from a file path. Like so:\n",
    "\n",
    "```\n",
    "client = SwaggerClient.from_url('file:///some/path/swagger.json')\n",
    "```\n",
    "\n",
    "Alternatively, you can also use the load_file helper method.\n",
    "\n",
    "<pre>\n",
    "from bravado.swagger_model import load_file\n",
    "client = SwaggerClient.from_spec(load_file('/path/to/swagger.json'))\n",
    "</pre>\n",
    "\n",
    "This uses the from_spec() class method\n",
    "\n",
    "<pre>\n",
    "    @classmethod\n",
    "    def from_spec(cls, spec_dict, <b>origin_url</b>=None, http_client=None,\n",
    "                  config=None):\n",
    "        \"\"\"\n",
    "        Build a :class:`SwaggerClient` from a Swagger spec in dict form.\n",
    "\n",
    "        :param spec_dict: a dict with a Swagger spec in json-like form\n",
    "        :param origin_url: the url used to retrieve the spec_dict\n",
    "        :type  origin_url: str\n",
    "        :param config: Configuration dict - see spec.CONFIG_DEFAULTS\n",
    "\n",
    "        :rtype: :class:`bravado_core.spec.Spec`\n",
    "        \"\"\"\n",
    "        http_client = http_client or RequestsClient()\n",
    "\n",
    "        # Apply bravado config defaults\n",
    "        config = dict(CONFIG_DEFAULTS, **(config or {}))\n",
    "\n",
    "        also_return_response = config.pop('also_return_response', False)\n",
    "        swagger_spec = Spec.from_dict(\n",
    "            spec_dict, origin_url, http_client, config,\n",
    "        )\n",
    "        return cls(swagger_spec, also_return_response=also_return_response)\n",
    "</pre>\n",
    "\n",
    "\n",
    "\n"
   ]
  },
  {
   "cell_type": "code",
   "execution_count": 9,
   "metadata": {},
   "outputs": [
    {
     "name": "stdout",
     "output_type": "stream",
     "text": [
      "spec_file_path exists: True, spec_file_path: C:\\Users\\eharris\\devel\\gc3-query\\gc3_query\\var\\scratchpad\\open_api_definitions\\iaas_instances.json\n",
      "spec_file_uri: C:\\Users\\eharris\\devel\\gc3-query\\gc3_query\\var\\scratchpad\\open_api_definitions\\iaas_instances.json\n"
     ]
    }
   ],
   "source": [
    "cwd = os.getcwd()\n",
    "spec_file_path = Path().joinpath('open_api_definitions/iaas_instances.json').resolve()\n",
    "print(f'spec_file_path exists: {spec_file_path.exists()}, spec_file_path: {spec_file_path}')\n",
    "\n",
    "#### http://bravado.readthedocs.io/en/latest/advanced.html#loading-swagger-json-by-file-path\n",
    "## needed for: client = SwaggerClient.from_url('file:///some/path/swagger.json')\n",
    "spec_file_uri = f\"file:///{spec_file_path}\"\n",
    "print(f'spec_file_uri: {spec_file_path}')\n"
   ]
  },
  {
   "cell_type": "code",
   "execution_count": null,
   "metadata": {},
   "outputs": [],
   "source": [
    "# client = SwaggerClient.from_url(spec_file_uri)\n",
    "# client.Instances\n"
   ]
  },
  {
   "cell_type": "code",
   "execution_count": null,
   "metadata": {},
   "outputs": [],
   "source": [
    "# swagger_client = SwaggerClient.from_url(spec_url=spec_file_uri, http_client=requests_client, config={'also_return_response': True})"
   ]
  },
  {
   "cell_type": "markdown",
   "metadata": {},
   "source": [
    "##### Update swagger definition to use https as the scheme\n",
    "\n",
    "If we don't update the schemes key to https the client will use http\n",
    "\n",
    "   swagger_spec.api_url:  http://compute.uscom-central-1.oraclecloud.com\n",
    "\n",
    "instead of \n",
    "\n",
    "  swagger_spec.api_url:  https://compute.uscom-central-1.oraclecloud.com\n",
    "\n",
    "<pre>\n",
    "{\n",
    "  \"swagger\" : \"2.0\",\n",
    "  \"info\" : {\n",
    "    \"version\" : \"18.1.2-20180126.052521\",\n",
    "    \"description\" : \"A Compute Classic instance is a virtual machine running a specific operating system and with CPU and memory resources that you specify. See <a target=\\\"_blank\\\" href=\\\"http://www.oracle.com/pls/topic/lookup?ctx=stcomputecs&id=STCSG-GUID-F928F362-2DB6-4E45-843F-C269E0740A36\\\">About Instances</a> in <em>Using Oracle Cloud Infrastructure Compute Classic</em>.<p>You can view and delete instances using the HTTP requests listed below.\",\n",
    "    \"title\" : \"Instances\"\n",
    "  },\n",
    "  <b>\"schemes\" : [ \"http\" ]</b>,\n",
    "  \"consumes\" : [ \"application/oracle-compute-v3+json\", \"application/oracle-compute-v3+directory+json\" ],\n",
    "  \"produces\" : [ \"application/oracle-compute-v3+json\", \"application/oracle-compute-v3+directory+json\" ],\n",
    "  \"paths\" : {\n",
    "    \"/instance/\" : {\n",
    "      \"get\" : {\n",
    "        \"tags\" : [ \"Instances\" ],\n",
    "</pre>\n",
    "\n",
    "\n",
    "\n",
    "\n",
    "\n"
   ]
  },
  {
   "cell_type": "code",
   "execution_count": 10,
   "metadata": {},
   "outputs": [
    {
     "name": "stdout",
     "output_type": "stream",
     "text": [
      "Original spec: spec_dict['schemes']: ['http']\n",
      "Spec after scheme update: spec_dict['schemes']: ['https']\n"
     ]
    }
   ],
   "source": [
    "\n",
    "spec_dict = load_file(spec_file_path)\n",
    "spec_dict['schemes']\n",
    "print(f\"Original spec: spec_dict['schemes']: {spec_dict['schemes']}\")\n",
    "spec_dict['schemes'] = ['https']\n",
    "print(f\"Spec after scheme update: spec_dict['schemes']: {spec_dict['schemes']}\")\n"
   ]
  },
  {
   "cell_type": "code",
   "execution_count": 11,
   "metadata": {},
   "outputs": [
    {
     "name": "stderr",
     "output_type": "stream",
     "text": [
      "C:\\Apps\\python\\python_3.6\\envs\\psmcli\\lib\\site-packages\\bravado_core\\spec.py:146: Warning: config also_return_response is not a recognized config key\n",
      "  category=Warning,\n"
     ]
    }
   ],
   "source": [
    "swagger_spec = Spec.from_dict(spec_dict=spec_dict, \n",
    "                                         origin_url=iaas_rest_endpoint,\n",
    "                                         http_client=requests_client, \n",
    "                                         config={'also_return_response': True}\n",
    "        )"
   ]
  },
  {
   "cell_type": "code",
   "execution_count": 12,
   "metadata": {},
   "outputs": [
    {
     "data": {
      "text/plain": [
       "'https://compute.uscom-central-1.oraclecloud.com'"
      ]
     },
     "execution_count": 12,
     "metadata": {},
     "output_type": "execute_result"
    }
   ],
   "source": [
    "swagger_spec.api_url"
   ]
  },
  {
   "cell_type": "code",
   "execution_count": null,
   "metadata": {},
   "outputs": [],
   "source": [
    "# swagger_client = SwaggerClient.from_spec(spec_dict=load_file(spec_file_path), \n",
    "#                                          origin_url=iaas_rest_endpoint,\n",
    "#                                          http_client=requests_client, \n",
    "#                                          config={'also_return_response': True})"
   ]
  },
  {
   "cell_type": "code",
   "execution_count": 13,
   "metadata": {},
   "outputs": [],
   "source": [
    "swagger_client = SwaggerClient.from_spec(spec_dict=spec_dict, \n",
    "                                         origin_url=iaas_rest_endpoint,\n",
    "                                         http_client=requests_client, \n",
    "                                         config={'also_return_response': True})"
   ]
  },
  {
   "cell_type": "code",
   "execution_count": 21,
   "metadata": {
    "scrolled": true
   },
   "outputs": [
    {
     "data": {
      "text/plain": [
       "{'deleteInstance': Operation(deleteInstance),\n",
       " 'discoverInstance': Operation(discoverInstance),\n",
       " 'discoverRootInstance': Operation(discoverRootInstance),\n",
       " 'getInstance': Operation(getInstance),\n",
       " 'listInstance': Operation(listInstance),\n",
       " 'updateInstance': Operation(updateInstance)}"
      ]
     },
     "execution_count": 21,
     "metadata": {},
     "output_type": "execute_result"
    }
   ],
   "source": [
    "swagger_client\n",
    "swagger_client.Instances.resource.operations"
   ]
  },
  {
   "cell_type": "markdown",
   "metadata": {},
   "source": [
    "## discoverInstance \n",
    "\n",
    "** From swagger_client **\n",
    "<pre>\n",
    "Type:           Operation\n",
    "String form:    Operation(discoverInstance)\n",
    "File:           c:\\apps\\python\\python_3.6\\envs\\psmcli\\lib\\site-packages\\bravado_core\\operation.py\n",
    "Docstring:      <no docstring>\n",
    "Init docstring:\n",
    "Swagger operation defined by a unique (http_method, path_name) pair.\n",
    "\n",
    ":type swagger_spec: :class:`Spec`\n",
    ":param path_name: path of the operation. e.g. /pet/{petId}\n",
    ":param http_method: get/put/post/delete/etc\n",
    ":param op_spec: operation specification in dict form\n",
    "</pre>\n",
    "\n",
    "\n",
    "** From swagger.json instances_swagger_18.1.2.json **\n",
    "\n",
    "<pre>\n",
    "    \"/instance/{container}\" : {\n",
    "      \"get\" : {\n",
    "        \"tags\" : [ \"Instances\" ],\n",
    "        \"summary\" : \"Retrieve Names of all Instances and Subcontainers in a Container\",\n",
    "        \"description\" : \"Retrieves the names of objects and subcontainers that you can access in the specified container.<p><b>Required Role: </b>To complete this task, you must have the <code>Compute_Operations</code> role. If this role isn't assigned to you or you're not sure, then ask your system administrator to ensure that the role is assigned to you in Oracle Cloud My Services. See <a target=\\\"_blank\\\" href=\\\"http://www.oracle.com/pls/topic/lookup?ctx=stcomputecs&id=MMOCS-GUID-54C2E747-7D5B-451C-A39C-77936178EBB6\\\">Modifying User Roles</a> in <em>Managing and Monitoring Oracle Cloud</em>.\",\n",
    "      <b>  \"operationId\" : \"discoverInstance\", </b>\n",
    "        \"responses\" : {\n",
    "          \"200\" : {\n",
    "            \"headers\" : {\n",
    "              \"set-cookie\" : {\n",
    "                \"type\" : \"string\",\n",
    "                \"description\" : \"The cookie value is returned if the session is extended\"\n",
    "              }\n",
    "            },\n",
    "            \"description\" : \"OK. See <a class=\\\"xref\\\" href=\\\"Status%20Codes.html\\\">Status Codes</a> for information about other possible HTTP status codes.\",\n",
    "           <b> \"schema\" : {\n",
    "              \"$ref\" : \"#/definitions/Instance-discover-response\"\n",
    "            }</b>\n",
    "          }\n",
    "        },\n",
    "        \"consumes\" : [ \"application/oracle-compute-v3+json\" ],\n",
    "        \"produces\" : [ \"application/oracle-compute-v3+directory+json\" ],\n",
    "        \"parameters\" : [ {\n",
    "         <b> \"name\" : \"container\", </b>\n",
    "          \"in\" : \"path\",\n",
    "         <b> \"description\" : \"Specify <code>/Compute-<i>identityDomain</i>/<i>user</i>/</code> to retrieve the names of objects that you can access. Specify <code>/Compute-<i>identityDomain</i>/</code> to retrieve the names of containers that contain objects that you can access.\",</b>\n",
    "          \"required\" : true,\n",
    "          \"type\" : \"string\"\n",
    "        }, {\n",
    "          \"name\" : \"Cookie\",\n",
    "          \"in\" : \"header\",\n",
    "          \"type\" : \"string\",\n",
    "          \"description\" : \"The Cookie: header must be included with every request to the service. It must be set to the value of the set-cookie header in the response received to the POST /authenticate/ call.\"\n",
    "        } ]\n",
    "      }\n",
    "    },\n",
    "</pre>\n",
    "\n",
    "\n"
   ]
  },
  {
   "cell_type": "code",
   "execution_count": 35,
   "metadata": {},
   "outputs": [
    {
     "name": "stdout",
     "output_type": "stream",
     "text": [
      "discoverInstance Operation: Operation(discoverInstance), discoverInstance.api_url: https://compute.uscom-central-1.oraclecloud.com\n"
     ]
    }
   ],
   "source": [
    "op = swagger_client.Instances.resource.operations['discoverInstance']\n",
    "op_api_url = op.swagger_spec.api_url\n",
    "print(f\"discoverInstance Operation: {op}, discoverInstance.api_url: {op_api_url}\")\n"
   ]
  },
  {
   "cell_type": "code",
   "execution_count": 40,
   "metadata": {},
   "outputs": [
    {
     "name": "stdout",
     "output_type": "stream",
     "text": [
      "<bravado.client.ResourceDecorator object at 0x0000021697DA86D8>\n"
     ]
    }
   ],
   "source": [
    "instances = swagger_client.Instances\n"
   ]
  },
  {
   "cell_type": "markdown",
   "metadata": {},
   "source": [
    "```\n",
    "class SwaggerClient(object):\n",
    "    \"\"\"A client for accessing a Swagger-documented RESTful service.\n",
    "\n",
    "    :type swagger_spec: :class:`bravado_core.spec.Spec`\n",
    "    \"\"\"\n",
    "\n",
    "    def __init__(self, swagger_spec, also_return_response=False):\n",
    "        self.__also_return_response = also_return_response\n",
    "        self.swagger_spec = swagger_spec\n",
    "\n",
    "    @classmethod\n",
    "    def from_url(cls, spec_url, http_client=None, request_headers=None, config=None):\n",
    "        \"\"\"Build a :class:`SwaggerClient` from a url to the Swagger\n",
    "        specification for a RESTful API.\n",
    "\n",
    "        :param spec_url: url pointing at the swagger API specification\n",
    "        :type spec_url: str\n",
    "        :param http_client: an HTTP client used to perform requests\n",
    "        :type  http_client: :class:`bravado.http_client.HttpClient`\n",
    "        :param request_headers: Headers to pass with http requests\n",
    "        :type  request_headers: dict\n",
    "        :param config: Config dict for bravado and bravado_core.\n",
    "            See CONFIG_DEFAULTS in :module:`bravado_core.spec`.\n",
    "            See CONFIG_DEFAULTS in :module:`bravado.client`.\n",
    "\n",
    "        :rtype: :class:`bravado_core.spec.Spec`\n",
    "        \"\"\"\n",
    "        log.debug(u\"Loading from %s\", spec_url)\n",
    "        http_client = http_client or RequestsClient()\n",
    "        loader = Loader(http_client, request_headers=request_headers)\n",
    "        spec_dict = loader.load_spec(spec_url)\n",
    "\n",
    "        # RefResolver may have to download additional json files (remote refs)\n",
    "        # via http. Wrap http_client's request() so that request headers are\n",
    "        # passed along with the request transparently. Yeah, this is not ideal,\n",
    "        # but since RefResolver has new found responsibilities, it is\n",
    "        # functional.\n",
    "        if request_headers is not None:\n",
    "            http_client.request = inject_headers_for_remote_refs(\n",
    "                http_client.request, request_headers)\n",
    "\n",
    "        return cls.from_spec(spec_dict, spec_url, http_client, config)\n",
    "\n",
    "    @classmethod\n",
    "    def from_spec(cls, spec_dict, origin_url=None, http_client=None,\n",
    "                  config=None):\n",
    "        \"\"\"\n",
    "        Build a :class:`SwaggerClient` from a Swagger spec in dict form.\n",
    "\n",
    "        :param spec_dict: a dict with a Swagger spec in json-like form\n",
    "        :param origin_url: the url used to retrieve the spec_dict\n",
    "        :type  origin_url: str\n",
    "        :param config: Configuration dict - see spec.CONFIG_DEFAULTS\n",
    "\n",
    "        :rtype: :class:`bravado_core.spec.Spec`\n",
    "        \"\"\"\n",
    "        http_client = http_client or RequestsClient()\n",
    "\n",
    "        # Apply bravado config defaults\n",
    "        config = dict(CONFIG_DEFAULTS, **(config or {}))\n",
    "\n",
    "        also_return_response = config.pop('also_return_response', False)\n",
    "        swagger_spec = Spec.from_dict(\n",
    "            spec_dict, origin_url, http_client, config,\n",
    "        )\n",
    "        return cls(swagger_spec, also_return_response=also_return_response)\n",
    "```"
   ]
  },
  {
   "cell_type": "code",
   "execution_count": 43,
   "metadata": {},
   "outputs": [
    {
     "name": "stdout",
     "output_type": "stream",
     "text": [
      "instances: <bravado.client.ResourceDecorator object at 0x0000021697DA86D8>, idm_service_instance_username: /Compute-587626604/eric.harris@oracle.com\n"
     ]
    }
   ],
   "source": [
    "print(f\"instances: {instances}, idm_service_instance_username: {idm_service_instance_username}\")"
   ]
  },
  {
   "cell_type": "code",
   "execution_count": 67,
   "metadata": {},
   "outputs": [
    {
     "name": "stdout",
     "output_type": "stream",
     "text": [
      "container: /Compute-587626604/eric.harris@oracle.com/\n"
     ]
    }
   ],
   "source": [
    "container = f\"{idm_service_instance_username}/\"\n",
    "print(f\"container: {container}\")"
   ]
  },
  {
   "cell_type": "code",
   "execution_count": 68,
   "metadata": {},
   "outputs": [],
   "source": [
    "discover_instance = instances.discoverInstance(container=container)"
   ]
  },
  {
   "cell_type": "code",
   "execution_count": 69,
   "metadata": {},
   "outputs": [
    {
     "ename": "ConnectionError",
     "evalue": "HTTPSConnectionPool(host='compute.uscom-central-1.oraclecloud.com', port=443): Max retries exceeded with url: /instance/%2FCompute-587626604%2Feric.harris%40oracle.com%2F (Caused by NewConnectionError('<urllib3.connection.VerifiedHTTPSConnection object at 0x0000021697E5D438>: Failed to establish a new connection: [WinError 10060] A connection attempt failed because the connected party did not properly respond after a period of time, or established connection failed because connected host has failed to respond',))",
     "output_type": "error",
     "traceback": [
      "\u001b[1;31m---------------------------------------------------------------------------\u001b[0m",
      "\u001b[1;31mTimeoutError\u001b[0m                              Traceback (most recent call last)",
      "\u001b[1;32mC:\\Apps\\python\\python_3.6\\envs\\psmcli\\lib\\site-packages\\urllib3\\connection.py\u001b[0m in \u001b[0;36m_new_conn\u001b[1;34m(self)\u001b[0m\n\u001b[0;32m    140\u001b[0m             conn = connection.create_connection(\n\u001b[1;32m--> 141\u001b[1;33m                 (self.host, self.port), self.timeout, **extra_kw)\n\u001b[0m\u001b[0;32m    142\u001b[0m \u001b[1;33m\u001b[0m\u001b[0m\n",
      "\u001b[1;32mC:\\Apps\\python\\python_3.6\\envs\\psmcli\\lib\\site-packages\\urllib3\\util\\connection.py\u001b[0m in \u001b[0;36mcreate_connection\u001b[1;34m(address, timeout, source_address, socket_options)\u001b[0m\n\u001b[0;32m     82\u001b[0m     \u001b[1;32mif\u001b[0m \u001b[0merr\u001b[0m \u001b[1;32mis\u001b[0m \u001b[1;32mnot\u001b[0m \u001b[1;32mNone\u001b[0m\u001b[1;33m:\u001b[0m\u001b[1;33m\u001b[0m\u001b[0m\n\u001b[1;32m---> 83\u001b[1;33m         \u001b[1;32mraise\u001b[0m \u001b[0merr\u001b[0m\u001b[1;33m\u001b[0m\u001b[0m\n\u001b[0m\u001b[0;32m     84\u001b[0m \u001b[1;33m\u001b[0m\u001b[0m\n",
      "\u001b[1;32mC:\\Apps\\python\\python_3.6\\envs\\psmcli\\lib\\site-packages\\urllib3\\util\\connection.py\u001b[0m in \u001b[0;36mcreate_connection\u001b[1;34m(address, timeout, source_address, socket_options)\u001b[0m\n\u001b[0;32m     72\u001b[0m                 \u001b[0msock\u001b[0m\u001b[1;33m.\u001b[0m\u001b[0mbind\u001b[0m\u001b[1;33m(\u001b[0m\u001b[0msource_address\u001b[0m\u001b[1;33m)\u001b[0m\u001b[1;33m\u001b[0m\u001b[0m\n\u001b[1;32m---> 73\u001b[1;33m             \u001b[0msock\u001b[0m\u001b[1;33m.\u001b[0m\u001b[0mconnect\u001b[0m\u001b[1;33m(\u001b[0m\u001b[0msa\u001b[0m\u001b[1;33m)\u001b[0m\u001b[1;33m\u001b[0m\u001b[0m\n\u001b[0m\u001b[0;32m     74\u001b[0m             \u001b[1;32mreturn\u001b[0m \u001b[0msock\u001b[0m\u001b[1;33m\u001b[0m\u001b[0m\n",
      "\u001b[1;31mTimeoutError\u001b[0m: [WinError 10060] A connection attempt failed because the connected party did not properly respond after a period of time, or established connection failed because connected host has failed to respond",
      "\nDuring handling of the above exception, another exception occurred:\n",
      "\u001b[1;31mNewConnectionError\u001b[0m                        Traceback (most recent call last)",
      "\u001b[1;32mC:\\Apps\\python\\python_3.6\\envs\\psmcli\\lib\\site-packages\\urllib3\\connectionpool.py\u001b[0m in \u001b[0;36murlopen\u001b[1;34m(self, method, url, body, headers, retries, redirect, assert_same_host, timeout, pool_timeout, release_conn, chunked, body_pos, **response_kw)\u001b[0m\n\u001b[0;32m    600\u001b[0m                                                   \u001b[0mbody\u001b[0m\u001b[1;33m=\u001b[0m\u001b[0mbody\u001b[0m\u001b[1;33m,\u001b[0m \u001b[0mheaders\u001b[0m\u001b[1;33m=\u001b[0m\u001b[0mheaders\u001b[0m\u001b[1;33m,\u001b[0m\u001b[1;33m\u001b[0m\u001b[0m\n\u001b[1;32m--> 601\u001b[1;33m                                                   chunked=chunked)\n\u001b[0m\u001b[0;32m    602\u001b[0m \u001b[1;33m\u001b[0m\u001b[0m\n",
      "\u001b[1;32mC:\\Apps\\python\\python_3.6\\envs\\psmcli\\lib\\site-packages\\urllib3\\connectionpool.py\u001b[0m in \u001b[0;36m_make_request\u001b[1;34m(self, conn, method, url, timeout, chunked, **httplib_request_kw)\u001b[0m\n\u001b[0;32m    345\u001b[0m         \u001b[1;32mtry\u001b[0m\u001b[1;33m:\u001b[0m\u001b[1;33m\u001b[0m\u001b[0m\n\u001b[1;32m--> 346\u001b[1;33m             \u001b[0mself\u001b[0m\u001b[1;33m.\u001b[0m\u001b[0m_validate_conn\u001b[0m\u001b[1;33m(\u001b[0m\u001b[0mconn\u001b[0m\u001b[1;33m)\u001b[0m\u001b[1;33m\u001b[0m\u001b[0m\n\u001b[0m\u001b[0;32m    347\u001b[0m         \u001b[1;32mexcept\u001b[0m \u001b[1;33m(\u001b[0m\u001b[0mSocketTimeout\u001b[0m\u001b[1;33m,\u001b[0m \u001b[0mBaseSSLError\u001b[0m\u001b[1;33m)\u001b[0m \u001b[1;32mas\u001b[0m \u001b[0me\u001b[0m\u001b[1;33m:\u001b[0m\u001b[1;33m\u001b[0m\u001b[0m\n",
      "\u001b[1;32mC:\\Apps\\python\\python_3.6\\envs\\psmcli\\lib\\site-packages\\urllib3\\connectionpool.py\u001b[0m in \u001b[0;36m_validate_conn\u001b[1;34m(self, conn)\u001b[0m\n\u001b[0;32m    849\u001b[0m         \u001b[1;32mif\u001b[0m \u001b[1;32mnot\u001b[0m \u001b[0mgetattr\u001b[0m\u001b[1;33m(\u001b[0m\u001b[0mconn\u001b[0m\u001b[1;33m,\u001b[0m \u001b[1;34m'sock'\u001b[0m\u001b[1;33m,\u001b[0m \u001b[1;32mNone\u001b[0m\u001b[1;33m)\u001b[0m\u001b[1;33m:\u001b[0m  \u001b[1;31m# AppEngine might not have  `.sock`\u001b[0m\u001b[1;33m\u001b[0m\u001b[0m\n\u001b[1;32m--> 850\u001b[1;33m             \u001b[0mconn\u001b[0m\u001b[1;33m.\u001b[0m\u001b[0mconnect\u001b[0m\u001b[1;33m(\u001b[0m\u001b[1;33m)\u001b[0m\u001b[1;33m\u001b[0m\u001b[0m\n\u001b[0m\u001b[0;32m    851\u001b[0m \u001b[1;33m\u001b[0m\u001b[0m\n",
      "\u001b[1;32mC:\\Apps\\python\\python_3.6\\envs\\psmcli\\lib\\site-packages\\urllib3\\connection.py\u001b[0m in \u001b[0;36mconnect\u001b[1;34m(self)\u001b[0m\n\u001b[0;32m    283\u001b[0m         \u001b[1;31m# Add certificate verification\u001b[0m\u001b[1;33m\u001b[0m\u001b[1;33m\u001b[0m\u001b[0m\n\u001b[1;32m--> 284\u001b[1;33m         \u001b[0mconn\u001b[0m \u001b[1;33m=\u001b[0m \u001b[0mself\u001b[0m\u001b[1;33m.\u001b[0m\u001b[0m_new_conn\u001b[0m\u001b[1;33m(\u001b[0m\u001b[1;33m)\u001b[0m\u001b[1;33m\u001b[0m\u001b[0m\n\u001b[0m\u001b[0;32m    285\u001b[0m \u001b[1;33m\u001b[0m\u001b[0m\n",
      "\u001b[1;32mC:\\Apps\\python\\python_3.6\\envs\\psmcli\\lib\\site-packages\\urllib3\\connection.py\u001b[0m in \u001b[0;36m_new_conn\u001b[1;34m(self)\u001b[0m\n\u001b[0;32m    149\u001b[0m             raise NewConnectionError(\n\u001b[1;32m--> 150\u001b[1;33m                 self, \"Failed to establish a new connection: %s\" % e)\n\u001b[0m\u001b[0;32m    151\u001b[0m \u001b[1;33m\u001b[0m\u001b[0m\n",
      "\u001b[1;31mNewConnectionError\u001b[0m: <urllib3.connection.VerifiedHTTPSConnection object at 0x0000021697E5D438>: Failed to establish a new connection: [WinError 10060] A connection attempt failed because the connected party did not properly respond after a period of time, or established connection failed because connected host has failed to respond",
      "\nDuring handling of the above exception, another exception occurred:\n",
      "\u001b[1;31mMaxRetryError\u001b[0m                             Traceback (most recent call last)",
      "\u001b[1;32mC:\\Apps\\python\\python_3.6\\envs\\psmcli\\lib\\site-packages\\requests\\adapters.py\u001b[0m in \u001b[0;36msend\u001b[1;34m(self, request, stream, timeout, verify, cert, proxies)\u001b[0m\n\u001b[0;32m    439\u001b[0m                     \u001b[0mretries\u001b[0m\u001b[1;33m=\u001b[0m\u001b[0mself\u001b[0m\u001b[1;33m.\u001b[0m\u001b[0mmax_retries\u001b[0m\u001b[1;33m,\u001b[0m\u001b[1;33m\u001b[0m\u001b[0m\n\u001b[1;32m--> 440\u001b[1;33m                     \u001b[0mtimeout\u001b[0m\u001b[1;33m=\u001b[0m\u001b[0mtimeout\u001b[0m\u001b[1;33m\u001b[0m\u001b[0m\n\u001b[0m\u001b[0;32m    441\u001b[0m                 )\n",
      "\u001b[1;32mC:\\Apps\\python\\python_3.6\\envs\\psmcli\\lib\\site-packages\\urllib3\\connectionpool.py\u001b[0m in \u001b[0;36murlopen\u001b[1;34m(self, method, url, body, headers, retries, redirect, assert_same_host, timeout, pool_timeout, release_conn, chunked, body_pos, **response_kw)\u001b[0m\n\u001b[0;32m    638\u001b[0m             retries = retries.increment(method, url, error=e, _pool=self,\n\u001b[1;32m--> 639\u001b[1;33m                                         _stacktrace=sys.exc_info()[2])\n\u001b[0m\u001b[0;32m    640\u001b[0m             \u001b[0mretries\u001b[0m\u001b[1;33m.\u001b[0m\u001b[0msleep\u001b[0m\u001b[1;33m(\u001b[0m\u001b[1;33m)\u001b[0m\u001b[1;33m\u001b[0m\u001b[0m\n",
      "\u001b[1;32mC:\\Apps\\python\\python_3.6\\envs\\psmcli\\lib\\site-packages\\urllib3\\util\\retry.py\u001b[0m in \u001b[0;36mincrement\u001b[1;34m(self, method, url, response, error, _pool, _stacktrace)\u001b[0m\n\u001b[0;32m    387\u001b[0m         \u001b[1;32mif\u001b[0m \u001b[0mnew_retry\u001b[0m\u001b[1;33m.\u001b[0m\u001b[0mis_exhausted\u001b[0m\u001b[1;33m(\u001b[0m\u001b[1;33m)\u001b[0m\u001b[1;33m:\u001b[0m\u001b[1;33m\u001b[0m\u001b[0m\n\u001b[1;32m--> 388\u001b[1;33m             \u001b[1;32mraise\u001b[0m \u001b[0mMaxRetryError\u001b[0m\u001b[1;33m(\u001b[0m\u001b[0m_pool\u001b[0m\u001b[1;33m,\u001b[0m \u001b[0murl\u001b[0m\u001b[1;33m,\u001b[0m \u001b[0merror\u001b[0m \u001b[1;32mor\u001b[0m \u001b[0mResponseError\u001b[0m\u001b[1;33m(\u001b[0m\u001b[0mcause\u001b[0m\u001b[1;33m)\u001b[0m\u001b[1;33m)\u001b[0m\u001b[1;33m\u001b[0m\u001b[0m\n\u001b[0m\u001b[0;32m    389\u001b[0m \u001b[1;33m\u001b[0m\u001b[0m\n",
      "\u001b[1;31mMaxRetryError\u001b[0m: HTTPSConnectionPool(host='compute.uscom-central-1.oraclecloud.com', port=443): Max retries exceeded with url: /instance/%2FCompute-587626604%2Feric.harris%40oracle.com%2F (Caused by NewConnectionError('<urllib3.connection.VerifiedHTTPSConnection object at 0x0000021697E5D438>: Failed to establish a new connection: [WinError 10060] A connection attempt failed because the connected party did not properly respond after a period of time, or established connection failed because connected host has failed to respond',))",
      "\nDuring handling of the above exception, another exception occurred:\n",
      "\u001b[1;31mConnectionError\u001b[0m                           Traceback (most recent call last)",
      "\u001b[1;32m<ipython-input-69-8b172f29c6e9>\u001b[0m in \u001b[0;36m<module>\u001b[1;34m()\u001b[0m\n\u001b[1;32m----> 1\u001b[1;33m \u001b[0mdiscover_instance_result\u001b[0m \u001b[1;33m=\u001b[0m \u001b[0mdiscover_instance\u001b[0m\u001b[1;33m.\u001b[0m\u001b[0mresult\u001b[0m\u001b[1;33m(\u001b[0m\u001b[1;33m)\u001b[0m\u001b[1;33m\u001b[0m\u001b[0m\n\u001b[0m",
      "\u001b[1;32mC:\\Apps\\python\\python_3.6\\envs\\psmcli\\lib\\site-packages\\bravado\\http_future.py\u001b[0m in \u001b[0;36mwrapper\u001b[1;34m(self, *args, **kwargs)\u001b[0m\n\u001b[0;32m     60\u001b[0m         \u001b[1;32mif\u001b[0m \u001b[0mtimeout_errors\u001b[0m\u001b[1;33m:\u001b[0m\u001b[1;33m\u001b[0m\u001b[0m\n\u001b[0;32m     61\u001b[0m             \u001b[1;32mtry\u001b[0m\u001b[1;33m:\u001b[0m\u001b[1;33m\u001b[0m\u001b[0m\n\u001b[1;32m---> 62\u001b[1;33m                 \u001b[1;32mreturn\u001b[0m \u001b[0mfunc\u001b[0m\u001b[1;33m(\u001b[0m\u001b[0mself\u001b[0m\u001b[1;33m,\u001b[0m \u001b[1;33m*\u001b[0m\u001b[0margs\u001b[0m\u001b[1;33m,\u001b[0m \u001b[1;33m**\u001b[0m\u001b[0mkwargs\u001b[0m\u001b[1;33m)\u001b[0m\u001b[1;33m\u001b[0m\u001b[0m\n\u001b[0m\u001b[0;32m     63\u001b[0m             \u001b[1;32mexcept\u001b[0m \u001b[0mtimeout_errors\u001b[0m \u001b[1;32mas\u001b[0m \u001b[0mexception\u001b[0m\u001b[1;33m:\u001b[0m\u001b[1;33m\u001b[0m\u001b[0m\n\u001b[0;32m     64\u001b[0m                 six.reraise(\n",
      "\u001b[1;32mC:\\Apps\\python\\python_3.6\\envs\\psmcli\\lib\\site-packages\\bravado\\http_future.py\u001b[0m in \u001b[0;36mresult\u001b[1;34m(self, timeout)\u001b[0m\n\u001b[0;32m    112\u001b[0m             \u001b[0mto\u001b[0m \u001b[0mthe\u001b[0m \u001b[0mconstructor\u001b[0m\u001b[1;33m.\u001b[0m\u001b[1;33m\u001b[0m\u001b[0m\n\u001b[0;32m    113\u001b[0m         \"\"\"\n\u001b[1;32m--> 114\u001b[1;33m         \u001b[0minner_response\u001b[0m \u001b[1;33m=\u001b[0m \u001b[0mself\u001b[0m\u001b[1;33m.\u001b[0m\u001b[0mfuture\u001b[0m\u001b[1;33m.\u001b[0m\u001b[0mresult\u001b[0m\u001b[1;33m(\u001b[0m\u001b[0mtimeout\u001b[0m\u001b[1;33m=\u001b[0m\u001b[0mtimeout\u001b[0m\u001b[1;33m)\u001b[0m\u001b[1;33m\u001b[0m\u001b[0m\n\u001b[0m\u001b[0;32m    115\u001b[0m         \u001b[0mincoming_response\u001b[0m \u001b[1;33m=\u001b[0m \u001b[0mself\u001b[0m\u001b[1;33m.\u001b[0m\u001b[0mresponse_adapter\u001b[0m\u001b[1;33m(\u001b[0m\u001b[0minner_response\u001b[0m\u001b[1;33m)\u001b[0m\u001b[1;33m\u001b[0m\u001b[0m\n\u001b[0;32m    116\u001b[0m \u001b[1;33m\u001b[0m\u001b[0m\n",
      "\u001b[1;32mC:\\Apps\\python\\python_3.6\\envs\\psmcli\\lib\\site-packages\\bravado\\requests_client.py\u001b[0m in \u001b[0;36mresult\u001b[1;34m(self, timeout)\u001b[0m\n\u001b[0;32m    298\u001b[0m         response = self.session.send(\n\u001b[0;32m    299\u001b[0m             \u001b[0mprepared_request\u001b[0m\u001b[1;33m,\u001b[0m\u001b[1;33m\u001b[0m\u001b[0m\n\u001b[1;32m--> 300\u001b[1;33m             \u001b[0mtimeout\u001b[0m\u001b[1;33m=\u001b[0m\u001b[0mself\u001b[0m\u001b[1;33m.\u001b[0m\u001b[0mbuild_timeout\u001b[0m\u001b[1;33m(\u001b[0m\u001b[0mtimeout\u001b[0m\u001b[1;33m)\u001b[0m\u001b[1;33m,\u001b[0m\u001b[1;33m\u001b[0m\u001b[0m\n\u001b[0m\u001b[0;32m    301\u001b[0m         )\n\u001b[0;32m    302\u001b[0m         \u001b[1;32mreturn\u001b[0m \u001b[0mresponse\u001b[0m\u001b[1;33m\u001b[0m\u001b[0m\n",
      "\u001b[1;32mC:\\Apps\\python\\python_3.6\\envs\\psmcli\\lib\\site-packages\\requests\\sessions.py\u001b[0m in \u001b[0;36msend\u001b[1;34m(self, request, **kwargs)\u001b[0m\n\u001b[0;32m    616\u001b[0m \u001b[1;33m\u001b[0m\u001b[0m\n\u001b[0;32m    617\u001b[0m         \u001b[1;31m# Send the request\u001b[0m\u001b[1;33m\u001b[0m\u001b[1;33m\u001b[0m\u001b[0m\n\u001b[1;32m--> 618\u001b[1;33m         \u001b[0mr\u001b[0m \u001b[1;33m=\u001b[0m \u001b[0madapter\u001b[0m\u001b[1;33m.\u001b[0m\u001b[0msend\u001b[0m\u001b[1;33m(\u001b[0m\u001b[0mrequest\u001b[0m\u001b[1;33m,\u001b[0m \u001b[1;33m**\u001b[0m\u001b[0mkwargs\u001b[0m\u001b[1;33m)\u001b[0m\u001b[1;33m\u001b[0m\u001b[0m\n\u001b[0m\u001b[0;32m    619\u001b[0m \u001b[1;33m\u001b[0m\u001b[0m\n\u001b[0;32m    620\u001b[0m         \u001b[1;31m# Total elapsed time of the request (approximately)\u001b[0m\u001b[1;33m\u001b[0m\u001b[1;33m\u001b[0m\u001b[0m\n",
      "\u001b[1;32mC:\\Apps\\python\\python_3.6\\envs\\psmcli\\lib\\site-packages\\requests\\adapters.py\u001b[0m in \u001b[0;36msend\u001b[1;34m(self, request, stream, timeout, verify, cert, proxies)\u001b[0m\n\u001b[0;32m    506\u001b[0m                 \u001b[1;32mraise\u001b[0m \u001b[0mSSLError\u001b[0m\u001b[1;33m(\u001b[0m\u001b[0me\u001b[0m\u001b[1;33m,\u001b[0m \u001b[0mrequest\u001b[0m\u001b[1;33m=\u001b[0m\u001b[0mrequest\u001b[0m\u001b[1;33m)\u001b[0m\u001b[1;33m\u001b[0m\u001b[0m\n\u001b[0;32m    507\u001b[0m \u001b[1;33m\u001b[0m\u001b[0m\n\u001b[1;32m--> 508\u001b[1;33m             \u001b[1;32mraise\u001b[0m \u001b[0mConnectionError\u001b[0m\u001b[1;33m(\u001b[0m\u001b[0me\u001b[0m\u001b[1;33m,\u001b[0m \u001b[0mrequest\u001b[0m\u001b[1;33m=\u001b[0m\u001b[0mrequest\u001b[0m\u001b[1;33m)\u001b[0m\u001b[1;33m\u001b[0m\u001b[0m\n\u001b[0m\u001b[0;32m    509\u001b[0m \u001b[1;33m\u001b[0m\u001b[0m\n\u001b[0;32m    510\u001b[0m         \u001b[1;32mexcept\u001b[0m \u001b[0mClosedPoolError\u001b[0m \u001b[1;32mas\u001b[0m \u001b[0me\u001b[0m\u001b[1;33m:\u001b[0m\u001b[1;33m\u001b[0m\u001b[0m\n",
      "\u001b[1;31mConnectionError\u001b[0m: HTTPSConnectionPool(host='compute.uscom-central-1.oraclecloud.com', port=443): Max retries exceeded with url: /instance/%2FCompute-587626604%2Feric.harris%40oracle.com%2F (Caused by NewConnectionError('<urllib3.connection.VerifiedHTTPSConnection object at 0x0000021697E5D438>: Failed to establish a new connection: [WinError 10060] A connection attempt failed because the connected party did not properly respond after a period of time, or established connection failed because connected host has failed to respond',))"
     ]
    }
   ],
   "source": [
    "discover_instance_result = discover_instance.result()"
   ]
  },
  {
   "cell_type": "markdown",
   "metadata": {},
   "source": [
    "###### nope, discover_instance_result = discover_instance.result()\n",
    "\n",
    "We're now getting:\n",
    "\n",
    "```\n",
    "ConnectionError: HTTPSConnectionPool(host='compute.uscom-central-1.oraclecloud.com', port=443): Max retries exceeded with url: /instance/%2FCompute-587626604%2Feric.harris%40oracle.com%2F (Caused by NewConnectionError('<urllib3.connection.VerifiedHTTPSConnection object at 0x0000021B45D240B8>: Failed to establish a new connection: [WinError 10060] A connection attempt failed because the connected party did not properly respond after a period of time, or established connection failed because connected host has failed to respond',))\n",
    "\n",
    "```\n",
    "\n",
    "%2F is ASCII for '/'\n",
    "/instance/%2FCompute-587626604%2Feric.harris%40oracle.com%2F -> /instance//Compute-587626604/eric.harris%40oracle.com/\n",
    "\n",
    "<pre>\n",
    "        \"parameters\" : [ {\n",
    "         <b> \"name\" : \"container\", </b>\n",
    "          \"in\" : \"path\",\n",
    "         <b> \"description\" : \"Specify <code>/Compute-<i>identityDomain</i>/<i>user</i>/</code> to retrieve the names of objects that you can access. Specify <code>/Compute-<i>identityDomain</i>/</code> to retrieve the names of containers that contain objects that you can access.\",</b>\n",
    "          \"required\" : true,\n",
    "          \"type\" : \"string\"\n",
    "        }, {\n",
    "          \"name\" : \"Cookie\",\n",
    "          \"in\" : \"header\",\n",
    "          \"type\" : \"string\",\n",
    "          \"description\" : \"The Cookie: header must be included with every request to the service. It must be set to the value of the set-cookie header in the response received to the POST /authenticate/ call.\"\n",
    "        } ]\n",
    "      }\n",
    "    },\n",
    "</pre>\n"
   ]
  },
  {
   "cell_type": "code",
   "execution_count": 70,
   "metadata": {},
   "outputs": [
    {
     "name": "stdout",
     "output_type": "stream",
     "text": [
      "container: Compute-587626604/eric.harris@oracle.com\n"
     ]
    }
   ],
   "source": [
    "container = idm_service_instance_username[1:]\n",
    "print(f\"container: {container}\")"
   ]
  },
  {
   "cell_type": "code",
   "execution_count": 71,
   "metadata": {},
   "outputs": [],
   "source": [
    "discover_instance = instances.discoverInstance(container=container)\n"
   ]
  },
  {
   "cell_type": "code",
   "execution_count": 72,
   "metadata": {},
   "outputs": [
    {
     "ename": "ConnectionError",
     "evalue": "HTTPSConnectionPool(host='compute.uscom-central-1.oraclecloud.com', port=443): Max retries exceeded with url: /instance/Compute-587626604%2Feric.harris%40oracle.com (Caused by NewConnectionError('<urllib3.connection.VerifiedHTTPSConnection object at 0x0000021698118400>: Failed to establish a new connection: [WinError 10060] A connection attempt failed because the connected party did not properly respond after a period of time, or established connection failed because connected host has failed to respond',))",
     "output_type": "error",
     "traceback": [
      "\u001b[1;31m---------------------------------------------------------------------------\u001b[0m",
      "\u001b[1;31mTimeoutError\u001b[0m                              Traceback (most recent call last)",
      "\u001b[1;32mC:\\Apps\\python\\python_3.6\\envs\\psmcli\\lib\\site-packages\\urllib3\\connection.py\u001b[0m in \u001b[0;36m_new_conn\u001b[1;34m(self)\u001b[0m\n\u001b[0;32m    140\u001b[0m             conn = connection.create_connection(\n\u001b[1;32m--> 141\u001b[1;33m                 (self.host, self.port), self.timeout, **extra_kw)\n\u001b[0m\u001b[0;32m    142\u001b[0m \u001b[1;33m\u001b[0m\u001b[0m\n",
      "\u001b[1;32mC:\\Apps\\python\\python_3.6\\envs\\psmcli\\lib\\site-packages\\urllib3\\util\\connection.py\u001b[0m in \u001b[0;36mcreate_connection\u001b[1;34m(address, timeout, source_address, socket_options)\u001b[0m\n\u001b[0;32m     82\u001b[0m     \u001b[1;32mif\u001b[0m \u001b[0merr\u001b[0m \u001b[1;32mis\u001b[0m \u001b[1;32mnot\u001b[0m \u001b[1;32mNone\u001b[0m\u001b[1;33m:\u001b[0m\u001b[1;33m\u001b[0m\u001b[0m\n\u001b[1;32m---> 83\u001b[1;33m         \u001b[1;32mraise\u001b[0m \u001b[0merr\u001b[0m\u001b[1;33m\u001b[0m\u001b[0m\n\u001b[0m\u001b[0;32m     84\u001b[0m \u001b[1;33m\u001b[0m\u001b[0m\n",
      "\u001b[1;32mC:\\Apps\\python\\python_3.6\\envs\\psmcli\\lib\\site-packages\\urllib3\\util\\connection.py\u001b[0m in \u001b[0;36mcreate_connection\u001b[1;34m(address, timeout, source_address, socket_options)\u001b[0m\n\u001b[0;32m     72\u001b[0m                 \u001b[0msock\u001b[0m\u001b[1;33m.\u001b[0m\u001b[0mbind\u001b[0m\u001b[1;33m(\u001b[0m\u001b[0msource_address\u001b[0m\u001b[1;33m)\u001b[0m\u001b[1;33m\u001b[0m\u001b[0m\n\u001b[1;32m---> 73\u001b[1;33m             \u001b[0msock\u001b[0m\u001b[1;33m.\u001b[0m\u001b[0mconnect\u001b[0m\u001b[1;33m(\u001b[0m\u001b[0msa\u001b[0m\u001b[1;33m)\u001b[0m\u001b[1;33m\u001b[0m\u001b[0m\n\u001b[0m\u001b[0;32m     74\u001b[0m             \u001b[1;32mreturn\u001b[0m \u001b[0msock\u001b[0m\u001b[1;33m\u001b[0m\u001b[0m\n",
      "\u001b[1;31mTimeoutError\u001b[0m: [WinError 10060] A connection attempt failed because the connected party did not properly respond after a period of time, or established connection failed because connected host has failed to respond",
      "\nDuring handling of the above exception, another exception occurred:\n",
      "\u001b[1;31mNewConnectionError\u001b[0m                        Traceback (most recent call last)",
      "\u001b[1;32mC:\\Apps\\python\\python_3.6\\envs\\psmcli\\lib\\site-packages\\urllib3\\connectionpool.py\u001b[0m in \u001b[0;36murlopen\u001b[1;34m(self, method, url, body, headers, retries, redirect, assert_same_host, timeout, pool_timeout, release_conn, chunked, body_pos, **response_kw)\u001b[0m\n\u001b[0;32m    600\u001b[0m                                                   \u001b[0mbody\u001b[0m\u001b[1;33m=\u001b[0m\u001b[0mbody\u001b[0m\u001b[1;33m,\u001b[0m \u001b[0mheaders\u001b[0m\u001b[1;33m=\u001b[0m\u001b[0mheaders\u001b[0m\u001b[1;33m,\u001b[0m\u001b[1;33m\u001b[0m\u001b[0m\n\u001b[1;32m--> 601\u001b[1;33m                                                   chunked=chunked)\n\u001b[0m\u001b[0;32m    602\u001b[0m \u001b[1;33m\u001b[0m\u001b[0m\n",
      "\u001b[1;32mC:\\Apps\\python\\python_3.6\\envs\\psmcli\\lib\\site-packages\\urllib3\\connectionpool.py\u001b[0m in \u001b[0;36m_make_request\u001b[1;34m(self, conn, method, url, timeout, chunked, **httplib_request_kw)\u001b[0m\n\u001b[0;32m    345\u001b[0m         \u001b[1;32mtry\u001b[0m\u001b[1;33m:\u001b[0m\u001b[1;33m\u001b[0m\u001b[0m\n\u001b[1;32m--> 346\u001b[1;33m             \u001b[0mself\u001b[0m\u001b[1;33m.\u001b[0m\u001b[0m_validate_conn\u001b[0m\u001b[1;33m(\u001b[0m\u001b[0mconn\u001b[0m\u001b[1;33m)\u001b[0m\u001b[1;33m\u001b[0m\u001b[0m\n\u001b[0m\u001b[0;32m    347\u001b[0m         \u001b[1;32mexcept\u001b[0m \u001b[1;33m(\u001b[0m\u001b[0mSocketTimeout\u001b[0m\u001b[1;33m,\u001b[0m \u001b[0mBaseSSLError\u001b[0m\u001b[1;33m)\u001b[0m \u001b[1;32mas\u001b[0m \u001b[0me\u001b[0m\u001b[1;33m:\u001b[0m\u001b[1;33m\u001b[0m\u001b[0m\n",
      "\u001b[1;32mC:\\Apps\\python\\python_3.6\\envs\\psmcli\\lib\\site-packages\\urllib3\\connectionpool.py\u001b[0m in \u001b[0;36m_validate_conn\u001b[1;34m(self, conn)\u001b[0m\n\u001b[0;32m    849\u001b[0m         \u001b[1;32mif\u001b[0m \u001b[1;32mnot\u001b[0m \u001b[0mgetattr\u001b[0m\u001b[1;33m(\u001b[0m\u001b[0mconn\u001b[0m\u001b[1;33m,\u001b[0m \u001b[1;34m'sock'\u001b[0m\u001b[1;33m,\u001b[0m \u001b[1;32mNone\u001b[0m\u001b[1;33m)\u001b[0m\u001b[1;33m:\u001b[0m  \u001b[1;31m# AppEngine might not have  `.sock`\u001b[0m\u001b[1;33m\u001b[0m\u001b[0m\n\u001b[1;32m--> 850\u001b[1;33m             \u001b[0mconn\u001b[0m\u001b[1;33m.\u001b[0m\u001b[0mconnect\u001b[0m\u001b[1;33m(\u001b[0m\u001b[1;33m)\u001b[0m\u001b[1;33m\u001b[0m\u001b[0m\n\u001b[0m\u001b[0;32m    851\u001b[0m \u001b[1;33m\u001b[0m\u001b[0m\n",
      "\u001b[1;32mC:\\Apps\\python\\python_3.6\\envs\\psmcli\\lib\\site-packages\\urllib3\\connection.py\u001b[0m in \u001b[0;36mconnect\u001b[1;34m(self)\u001b[0m\n\u001b[0;32m    283\u001b[0m         \u001b[1;31m# Add certificate verification\u001b[0m\u001b[1;33m\u001b[0m\u001b[1;33m\u001b[0m\u001b[0m\n\u001b[1;32m--> 284\u001b[1;33m         \u001b[0mconn\u001b[0m \u001b[1;33m=\u001b[0m \u001b[0mself\u001b[0m\u001b[1;33m.\u001b[0m\u001b[0m_new_conn\u001b[0m\u001b[1;33m(\u001b[0m\u001b[1;33m)\u001b[0m\u001b[1;33m\u001b[0m\u001b[0m\n\u001b[0m\u001b[0;32m    285\u001b[0m \u001b[1;33m\u001b[0m\u001b[0m\n",
      "\u001b[1;32mC:\\Apps\\python\\python_3.6\\envs\\psmcli\\lib\\site-packages\\urllib3\\connection.py\u001b[0m in \u001b[0;36m_new_conn\u001b[1;34m(self)\u001b[0m\n\u001b[0;32m    149\u001b[0m             raise NewConnectionError(\n\u001b[1;32m--> 150\u001b[1;33m                 self, \"Failed to establish a new connection: %s\" % e)\n\u001b[0m\u001b[0;32m    151\u001b[0m \u001b[1;33m\u001b[0m\u001b[0m\n",
      "\u001b[1;31mNewConnectionError\u001b[0m: <urllib3.connection.VerifiedHTTPSConnection object at 0x0000021698118400>: Failed to establish a new connection: [WinError 10060] A connection attempt failed because the connected party did not properly respond after a period of time, or established connection failed because connected host has failed to respond",
      "\nDuring handling of the above exception, another exception occurred:\n",
      "\u001b[1;31mMaxRetryError\u001b[0m                             Traceback (most recent call last)",
      "\u001b[1;32mC:\\Apps\\python\\python_3.6\\envs\\psmcli\\lib\\site-packages\\requests\\adapters.py\u001b[0m in \u001b[0;36msend\u001b[1;34m(self, request, stream, timeout, verify, cert, proxies)\u001b[0m\n\u001b[0;32m    439\u001b[0m                     \u001b[0mretries\u001b[0m\u001b[1;33m=\u001b[0m\u001b[0mself\u001b[0m\u001b[1;33m.\u001b[0m\u001b[0mmax_retries\u001b[0m\u001b[1;33m,\u001b[0m\u001b[1;33m\u001b[0m\u001b[0m\n\u001b[1;32m--> 440\u001b[1;33m                     \u001b[0mtimeout\u001b[0m\u001b[1;33m=\u001b[0m\u001b[0mtimeout\u001b[0m\u001b[1;33m\u001b[0m\u001b[0m\n\u001b[0m\u001b[0;32m    441\u001b[0m                 )\n",
      "\u001b[1;32mC:\\Apps\\python\\python_3.6\\envs\\psmcli\\lib\\site-packages\\urllib3\\connectionpool.py\u001b[0m in \u001b[0;36murlopen\u001b[1;34m(self, method, url, body, headers, retries, redirect, assert_same_host, timeout, pool_timeout, release_conn, chunked, body_pos, **response_kw)\u001b[0m\n\u001b[0;32m    638\u001b[0m             retries = retries.increment(method, url, error=e, _pool=self,\n\u001b[1;32m--> 639\u001b[1;33m                                         _stacktrace=sys.exc_info()[2])\n\u001b[0m\u001b[0;32m    640\u001b[0m             \u001b[0mretries\u001b[0m\u001b[1;33m.\u001b[0m\u001b[0msleep\u001b[0m\u001b[1;33m(\u001b[0m\u001b[1;33m)\u001b[0m\u001b[1;33m\u001b[0m\u001b[0m\n",
      "\u001b[1;32mC:\\Apps\\python\\python_3.6\\envs\\psmcli\\lib\\site-packages\\urllib3\\util\\retry.py\u001b[0m in \u001b[0;36mincrement\u001b[1;34m(self, method, url, response, error, _pool, _stacktrace)\u001b[0m\n\u001b[0;32m    387\u001b[0m         \u001b[1;32mif\u001b[0m \u001b[0mnew_retry\u001b[0m\u001b[1;33m.\u001b[0m\u001b[0mis_exhausted\u001b[0m\u001b[1;33m(\u001b[0m\u001b[1;33m)\u001b[0m\u001b[1;33m:\u001b[0m\u001b[1;33m\u001b[0m\u001b[0m\n\u001b[1;32m--> 388\u001b[1;33m             \u001b[1;32mraise\u001b[0m \u001b[0mMaxRetryError\u001b[0m\u001b[1;33m(\u001b[0m\u001b[0m_pool\u001b[0m\u001b[1;33m,\u001b[0m \u001b[0murl\u001b[0m\u001b[1;33m,\u001b[0m \u001b[0merror\u001b[0m \u001b[1;32mor\u001b[0m \u001b[0mResponseError\u001b[0m\u001b[1;33m(\u001b[0m\u001b[0mcause\u001b[0m\u001b[1;33m)\u001b[0m\u001b[1;33m)\u001b[0m\u001b[1;33m\u001b[0m\u001b[0m\n\u001b[0m\u001b[0;32m    389\u001b[0m \u001b[1;33m\u001b[0m\u001b[0m\n",
      "\u001b[1;31mMaxRetryError\u001b[0m: HTTPSConnectionPool(host='compute.uscom-central-1.oraclecloud.com', port=443): Max retries exceeded with url: /instance/Compute-587626604%2Feric.harris%40oracle.com (Caused by NewConnectionError('<urllib3.connection.VerifiedHTTPSConnection object at 0x0000021698118400>: Failed to establish a new connection: [WinError 10060] A connection attempt failed because the connected party did not properly respond after a period of time, or established connection failed because connected host has failed to respond',))",
      "\nDuring handling of the above exception, another exception occurred:\n",
      "\u001b[1;31mConnectionError\u001b[0m                           Traceback (most recent call last)",
      "\u001b[1;32m<ipython-input-72-8b172f29c6e9>\u001b[0m in \u001b[0;36m<module>\u001b[1;34m()\u001b[0m\n\u001b[1;32m----> 1\u001b[1;33m \u001b[0mdiscover_instance_result\u001b[0m \u001b[1;33m=\u001b[0m \u001b[0mdiscover_instance\u001b[0m\u001b[1;33m.\u001b[0m\u001b[0mresult\u001b[0m\u001b[1;33m(\u001b[0m\u001b[1;33m)\u001b[0m\u001b[1;33m\u001b[0m\u001b[0m\n\u001b[0m",
      "\u001b[1;32mC:\\Apps\\python\\python_3.6\\envs\\psmcli\\lib\\site-packages\\bravado\\http_future.py\u001b[0m in \u001b[0;36mwrapper\u001b[1;34m(self, *args, **kwargs)\u001b[0m\n\u001b[0;32m     60\u001b[0m         \u001b[1;32mif\u001b[0m \u001b[0mtimeout_errors\u001b[0m\u001b[1;33m:\u001b[0m\u001b[1;33m\u001b[0m\u001b[0m\n\u001b[0;32m     61\u001b[0m             \u001b[1;32mtry\u001b[0m\u001b[1;33m:\u001b[0m\u001b[1;33m\u001b[0m\u001b[0m\n\u001b[1;32m---> 62\u001b[1;33m                 \u001b[1;32mreturn\u001b[0m \u001b[0mfunc\u001b[0m\u001b[1;33m(\u001b[0m\u001b[0mself\u001b[0m\u001b[1;33m,\u001b[0m \u001b[1;33m*\u001b[0m\u001b[0margs\u001b[0m\u001b[1;33m,\u001b[0m \u001b[1;33m**\u001b[0m\u001b[0mkwargs\u001b[0m\u001b[1;33m)\u001b[0m\u001b[1;33m\u001b[0m\u001b[0m\n\u001b[0m\u001b[0;32m     63\u001b[0m             \u001b[1;32mexcept\u001b[0m \u001b[0mtimeout_errors\u001b[0m \u001b[1;32mas\u001b[0m \u001b[0mexception\u001b[0m\u001b[1;33m:\u001b[0m\u001b[1;33m\u001b[0m\u001b[0m\n\u001b[0;32m     64\u001b[0m                 six.reraise(\n",
      "\u001b[1;32mC:\\Apps\\python\\python_3.6\\envs\\psmcli\\lib\\site-packages\\bravado\\http_future.py\u001b[0m in \u001b[0;36mresult\u001b[1;34m(self, timeout)\u001b[0m\n\u001b[0;32m    112\u001b[0m             \u001b[0mto\u001b[0m \u001b[0mthe\u001b[0m \u001b[0mconstructor\u001b[0m\u001b[1;33m.\u001b[0m\u001b[1;33m\u001b[0m\u001b[0m\n\u001b[0;32m    113\u001b[0m         \"\"\"\n\u001b[1;32m--> 114\u001b[1;33m         \u001b[0minner_response\u001b[0m \u001b[1;33m=\u001b[0m \u001b[0mself\u001b[0m\u001b[1;33m.\u001b[0m\u001b[0mfuture\u001b[0m\u001b[1;33m.\u001b[0m\u001b[0mresult\u001b[0m\u001b[1;33m(\u001b[0m\u001b[0mtimeout\u001b[0m\u001b[1;33m=\u001b[0m\u001b[0mtimeout\u001b[0m\u001b[1;33m)\u001b[0m\u001b[1;33m\u001b[0m\u001b[0m\n\u001b[0m\u001b[0;32m    115\u001b[0m         \u001b[0mincoming_response\u001b[0m \u001b[1;33m=\u001b[0m \u001b[0mself\u001b[0m\u001b[1;33m.\u001b[0m\u001b[0mresponse_adapter\u001b[0m\u001b[1;33m(\u001b[0m\u001b[0minner_response\u001b[0m\u001b[1;33m)\u001b[0m\u001b[1;33m\u001b[0m\u001b[0m\n\u001b[0;32m    116\u001b[0m \u001b[1;33m\u001b[0m\u001b[0m\n",
      "\u001b[1;32mC:\\Apps\\python\\python_3.6\\envs\\psmcli\\lib\\site-packages\\bravado\\requests_client.py\u001b[0m in \u001b[0;36mresult\u001b[1;34m(self, timeout)\u001b[0m\n\u001b[0;32m    298\u001b[0m         response = self.session.send(\n\u001b[0;32m    299\u001b[0m             \u001b[0mprepared_request\u001b[0m\u001b[1;33m,\u001b[0m\u001b[1;33m\u001b[0m\u001b[0m\n\u001b[1;32m--> 300\u001b[1;33m             \u001b[0mtimeout\u001b[0m\u001b[1;33m=\u001b[0m\u001b[0mself\u001b[0m\u001b[1;33m.\u001b[0m\u001b[0mbuild_timeout\u001b[0m\u001b[1;33m(\u001b[0m\u001b[0mtimeout\u001b[0m\u001b[1;33m)\u001b[0m\u001b[1;33m,\u001b[0m\u001b[1;33m\u001b[0m\u001b[0m\n\u001b[0m\u001b[0;32m    301\u001b[0m         )\n\u001b[0;32m    302\u001b[0m         \u001b[1;32mreturn\u001b[0m \u001b[0mresponse\u001b[0m\u001b[1;33m\u001b[0m\u001b[0m\n",
      "\u001b[1;32mC:\\Apps\\python\\python_3.6\\envs\\psmcli\\lib\\site-packages\\requests\\sessions.py\u001b[0m in \u001b[0;36msend\u001b[1;34m(self, request, **kwargs)\u001b[0m\n\u001b[0;32m    616\u001b[0m \u001b[1;33m\u001b[0m\u001b[0m\n\u001b[0;32m    617\u001b[0m         \u001b[1;31m# Send the request\u001b[0m\u001b[1;33m\u001b[0m\u001b[1;33m\u001b[0m\u001b[0m\n\u001b[1;32m--> 618\u001b[1;33m         \u001b[0mr\u001b[0m \u001b[1;33m=\u001b[0m \u001b[0madapter\u001b[0m\u001b[1;33m.\u001b[0m\u001b[0msend\u001b[0m\u001b[1;33m(\u001b[0m\u001b[0mrequest\u001b[0m\u001b[1;33m,\u001b[0m \u001b[1;33m**\u001b[0m\u001b[0mkwargs\u001b[0m\u001b[1;33m)\u001b[0m\u001b[1;33m\u001b[0m\u001b[0m\n\u001b[0m\u001b[0;32m    619\u001b[0m \u001b[1;33m\u001b[0m\u001b[0m\n\u001b[0;32m    620\u001b[0m         \u001b[1;31m# Total elapsed time of the request (approximately)\u001b[0m\u001b[1;33m\u001b[0m\u001b[1;33m\u001b[0m\u001b[0m\n",
      "\u001b[1;32mC:\\Apps\\python\\python_3.6\\envs\\psmcli\\lib\\site-packages\\requests\\adapters.py\u001b[0m in \u001b[0;36msend\u001b[1;34m(self, request, stream, timeout, verify, cert, proxies)\u001b[0m\n\u001b[0;32m    506\u001b[0m                 \u001b[1;32mraise\u001b[0m \u001b[0mSSLError\u001b[0m\u001b[1;33m(\u001b[0m\u001b[0me\u001b[0m\u001b[1;33m,\u001b[0m \u001b[0mrequest\u001b[0m\u001b[1;33m=\u001b[0m\u001b[0mrequest\u001b[0m\u001b[1;33m)\u001b[0m\u001b[1;33m\u001b[0m\u001b[0m\n\u001b[0;32m    507\u001b[0m \u001b[1;33m\u001b[0m\u001b[0m\n\u001b[1;32m--> 508\u001b[1;33m             \u001b[1;32mraise\u001b[0m \u001b[0mConnectionError\u001b[0m\u001b[1;33m(\u001b[0m\u001b[0me\u001b[0m\u001b[1;33m,\u001b[0m \u001b[0mrequest\u001b[0m\u001b[1;33m=\u001b[0m\u001b[0mrequest\u001b[0m\u001b[1;33m)\u001b[0m\u001b[1;33m\u001b[0m\u001b[0m\n\u001b[0m\u001b[0;32m    509\u001b[0m \u001b[1;33m\u001b[0m\u001b[0m\n\u001b[0;32m    510\u001b[0m         \u001b[1;32mexcept\u001b[0m \u001b[0mClosedPoolError\u001b[0m \u001b[1;32mas\u001b[0m \u001b[0me\u001b[0m\u001b[1;33m:\u001b[0m\u001b[1;33m\u001b[0m\u001b[0m\n",
      "\u001b[1;31mConnectionError\u001b[0m: HTTPSConnectionPool(host='compute.uscom-central-1.oraclecloud.com', port=443): Max retries exceeded with url: /instance/Compute-587626604%2Feric.harris%40oracle.com (Caused by NewConnectionError('<urllib3.connection.VerifiedHTTPSConnection object at 0x0000021698118400>: Failed to establish a new connection: [WinError 10060] A connection attempt failed because the connected party did not properly respond after a period of time, or established connection failed because connected host has failed to respond',))"
     ]
    }
   ],
   "source": [
    "discover_instance_result = discover_instance.result()"
   ]
  },
  {
   "cell_type": "code",
   "execution_count": null,
   "metadata": {},
   "outputs": [],
   "source": [
    "from bravado.swagger_model import Loader\n",
    "\n",
    "loader = Loader(requests_client, request_headers=None)\n",
    "spec_dict = loader.load_spec(spec_file_uri)\n",
    "spec_dict"
   ]
  },
  {
   "cell_type": "code",
   "execution_count": null,
   "metadata": {},
   "outputs": [],
   "source": []
  }
 ],
 "metadata": {
  "kernelspec": {
   "display_name": "Python 3",
   "language": "python",
   "name": "python3"
  },
  "language_info": {
   "codemirror_mode": {
    "name": "ipython",
    "version": 3
   },
   "file_extension": ".py",
   "mimetype": "text/x-python",
   "name": "python",
   "nbconvert_exporter": "python",
   "pygments_lexer": "ipython3",
   "version": "3.6.4"
  }
 },
 "nbformat": 4,
 "nbformat_minor": 2
}
