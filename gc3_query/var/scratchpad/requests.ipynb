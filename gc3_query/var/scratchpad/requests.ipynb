{
 "cells": [
  {
   "cell_type": "markdown",
   "metadata": {},
   "source": [
    "### PaaS Authentication\n",
    "\n",
    "The authenticated user must be an Oracle Cloud user.\n",
    "\n",
    "You must include the Authorization header and use Basic authorization. That is, the header value must begin with Basic followed by a space, and then base-64 encoded <domain.username>:<password>. You should URL encode the string before you base-64 encode it. For the domain portion of the string, use your identity domain. For example, if your identity domain is exampleDomain, you might use exampleDomain.jdoe@example.com:myPassword. (Every Oracle Cloud service belongs to an identity domain. An identity domain is a construct for managing users and roles through Oracle Identity Cloud Service)."
   ]
  },
  {
   "cell_type": "code",
   "execution_count": null,
   "metadata": {},
   "outputs": [],
   "source": [
    "## \n",
    "import json\n",
    "import keyring\n",
    "import requests\n",
    "import dataclasses\n",
    "from requests import Session\n",
    "from requests.auth import HTTPBasicAuth\n",
    "from requests.auth import _basic_auth_str\n",
    "from secrets import opc_username, opc_password"
   ]
  },
  {
   "cell_type": "code",
   "execution_count": null,
   "metadata": {},
   "outputs": [],
   "source": [
    "## \n",
    "idm_domain_name = 'gc30003'\n",
    "idm_service_instance_id = '587626604'\n",
    "idm_username = f'{idm_domain_name}.{opc_username}'\n",
    "iaas_rest_endpoint = r'https://compute.uscom-central-1.oraclecloud.com'\n",
    "iaas_auth_endpoint = r'https://compute.uscom-central-1.oraclecloud.com/authenticate/'\n",
    "traditional_iaas_username = f'/Compute-{idm_domain_name}/{opc_username}'\n",
    "idcs_iaas_username = f'/Compute-{idm_service_instance_id}/{opc_username}'\n",
    "# basic_auth_cred = _basic_auth_str(idcs_iaas_username, opc_password)\n",
    "json_data={\"user\":idm_domain_name, \"password\":opc_password}\n",
    "files = None\n",
    "params = None\n",
    "data=None\n",
    "\n",
    "basic_auth_cred = _basic_auth_str(idm_username, opc_password)\n",
    "\n",
    "# headers = dict([('Authorization', basic_auth_cred), ('Content-Type', 'application/oracle-compute-v3+json'), ('X-ID-TENANT-NAME', 'gc30003'), ('X-PSM-CLI-REQUEST', 'cli'), ('X-PSM-CLI-VERSION', '1.1.20')])\n",
    "headers = dict([('Authorization', basic_auth_cred), ('X-ID-TENANT-NAME', 'gc30003'), ('X-PSM-CLI-REQUEST', 'cli'), ('X-PSM-CLI-VERSION', '1.1.20')])\n",
    "\n",
    "print(f'headers: {headers}')\n",
    "print(f'json_data: {json_data}')\n",
    "print(f'_basic_auth_str(idm_username={idm_username}, opc_password), basic_auth_cred: {basic_auth_cred}')\n",
    "# print(f'idm_username: {idm_username}')\n",
    "# print(f'idcs_iaas_username: {idcs_iaas_username}')\n",
    "# print(f'iaas_rest_endpoint: {iaas_rest_endpoint}')\n",
    "# print(f'iaas_auth_endpoint: {iaas_auth_endpoint}')\n",
    "\n",
    "\n"
   ]
  },
  {
   "cell_type": "code",
   "execution_count": null,
   "metadata": {},
   "outputs": [],
   "source": [
    "\n",
    "# method = 'GET'\n",
    "# headers = dict([('Authorization', domain_auth_token), ('X-ID-TENANT-NAME', 'gc30003'), ('X-PSM-CLI-REQUEST', 'cli'), ('X-PSM-CLI-VERSION', '1.1.20')])\n",
    "# data=None\n",
    "# files = None\n",
    "# params = None\n",
    "# request_url = r'https://apicatalog.oraclecloud.com/v1/orgs/oracle-public/apicollections/compute/18.1.2/apis/Instances/canonical'\n",
    "# print(f'method: {method}, headers: {headers}, URL: {request_url}')\n",
    "\n",
    "# response = requests.request(method=method, url=request_url, headers=headers, data=data, files=files, params=params)\n",
    "# print(f'Response OK: {response.ok}, Status Code: {response.status_code}, URL: {response.url}')"
   ]
  },
  {
   "cell_type": "code",
   "execution_count": null,
   "metadata": {},
   "outputs": [],
   "source": [
    "## \n",
    "session = Session()\n",
    "session.auth = (idm_username, opc_password)\n",
    "session.headers.update(headers)"
   ]
  },
  {
   "cell_type": "code",
   "execution_count": null,
   "metadata": {},
   "outputs": [],
   "source": [
    "##\n",
    "request_url = r'https://apicatalog.oraclecloud.com/v1/search?q=Instances'\n",
    "# response = requests.request(method=method, url=request_url, headers=headers, data=data, files=files, params=params)\n",
    "response = session.get(url=request_url,\n",
    "                         json=json_data,\n",
    "                         data=data,\n",
    "                         headers=headers,\n",
    "                         files=files, \n",
    "                         params=params)\n",
    "print(f'Response OK: {response.ok}, Status Code: {response.status_code}, URL: {response.url}')\n"
   ]
  },
  {
   "cell_type": "code",
   "execution_count": null,
   "metadata": {},
   "outputs": [],
   "source": [
    "response_data = response.json()\n",
    "response_data.keys()\n",
    "# pp(response_data['data'][0]['links']['api']['href'])\n",
    "api_metadata_href = response_data['data'][0]['links']['api']['href']\n",
    "print(f'API metadata located at: {api_metadata_href}')\n",
    "# response.json()\n",
    "# response_data['links']\n",
    "# response_data['links']"
   ]
  },
  {
   "cell_type": "code",
   "execution_count": null,
   "metadata": {},
   "outputs": [],
   "source": [
    "##\n",
    "request_url = api_metadata_href\n",
    "# response = requests.request(method=method, url=request_url, headers=headers, data=data, files=files, params=params)\n",
    "response = session.get(url=request_url,\n",
    "                         json=json_data,\n",
    "                         data=data,\n",
    "                         headers=headers,\n",
    "                         files=files, \n",
    "                         params=params)\n",
    "print(f'Response OK: {response.ok}, Status Code: {response.status_code}, URL: {response.url}')"
   ]
  },
  {
   "cell_type": "code",
   "execution_count": null,
   "metadata": {},
   "outputs": [],
   "source": [
    "response_data = response.json()\n",
    "response_data.keys()\n",
    "api_swagger_href = response_data['links']['canonical']['href']\n",
    "print(f'API Swagger defn located at: {api_swagger_href}')\n"
   ]
  },
  {
   "cell_type": "code",
   "execution_count": null,
   "metadata": {},
   "outputs": [],
   "source": [
    "##\n",
    "request_url = api_swagger_href\n",
    "# response = requests.request(method=method, url=request_url, headers=headers, data=data, files=files, params=params)\n",
    "response = session.get(url=request_url,\n",
    "                         json=json_data,\n",
    "                         data=data,\n",
    "                         headers=headers,\n",
    "                         files=files, \n",
    "                         params=params)\n",
    "print(f'Response OK: {response.ok}, Status Code: {response.status_code}, URL: {response.url}')"
   ]
  },
  {
   "cell_type": "code",
   "execution_count": null,
   "metadata": {},
   "outputs": [],
   "source": [
    "response_data = response.json()\n",
    "response_data.keys()\n",
    "print(f\"Swagger API defn for: {response_data['info']['title']}, swagger version: {response_data['swagger']}, API version: {response_data['info']['version']}\")\n",
    "# pp(response_data)"
   ]
  },
  {
   "cell_type": "code",
   "execution_count": null,
   "metadata": {},
   "outputs": [],
   "source": [
    "# request_url = r'https://apicatalog.oraclecloud.com/v1/orgs/oracle-public/apicollections/compute/18.1.2/apis/Instances'\n",
    "# response = requests.request(method=method, url=request_url, headers=headers, data=data, files=files, params=params)\n",
    "# print(f'Response OK: {response.ok}, Status Code: {response.status_code}, URL: {response.url}')"
   ]
  },
  {
   "cell_type": "code",
   "execution_count": null,
   "metadata": {},
   "outputs": [],
   "source": []
  },
  {
   "cell_type": "code",
   "execution_count": null,
   "metadata": {},
   "outputs": [],
   "source": []
  },
  {
   "cell_type": "markdown",
   "metadata": {},
   "source": [
    "### IaaS (Compute Classic) Authentication\n",
    "\n",
    "\n",
    "\n",
    "[https://docs.oracle.com/en/cloud/iaas/compute-iaas-cloud/stcsa/Authentication.html](https://docs.oracle.com/en/cloud/iaas/compute-iaas-cloud/stcsa/Authentication.html)\n",
    "\n",
    "\n",
    "API calls to Compute Classic require basic authentication (user name and password). You can pass your username and password with every API call or you can pass a valid authentication token. To get a valid authentication token, send an HTTP request to authenticate the user credentials. If the authentication request succeeds, the server returns a cookie containing an authentication token that is valid for 30 minutes. The client making the API calls must include this cookie in the API calls.\n",
    "\n",
    "\n",
    "Get an authentication cookie from Compute Classic, as shown in the following cURL command example:\n",
    "\n",
    "```\n",
    "curl -i -X POST\n",
    "     -H \"Content-Type: application/oracle-compute-v3+json\"\n",
    "     -d '{\"user\":\"/Compute-acme/jack.jones@example.com\",\"password\":\"ft7)Dvjo\"}'\n",
    "        https://api-z999.compute.us0.oraclecloud.com/authenticate/\n",
    "\n",
    "```\n",
    "5. In the response to the POST request, look for the Set-Cookie header, as shown in the following example.\n",
    "\n",
    "```\n",
    "Set-Cookie: nimbula=eyJpZGVudGl0eSI6ICJ7XCJyZWFsbVwiOiBcImNvbXB1dGUtdXM2LXoyOFwiLCBcInZhbHVlXCI6IFwie1xcXCJjdXN0b21lclxcXCI6IFxcXCJDb21wdXRlLWFjbWVjY3NcXFwiLCBcXFwicmVhbG1cXFwiOiBcXFwiY29tcHV0ZS11czYtejI4XFxcIiwgXFxcImVudGl0eV90eXBlXFxcIjogXFxcInVzZXJcXFwiLCBcXFwic2Vzc2lvbl9leHBpcmVzXFxcIjogMTQ2MDQ4NjA5Mi44MDM1NiwgXFxcImV4cGlyZXNcXFwiOiAxNDYwNDc3MDkyLjgwMzU5MiwgXFxcInVzZXJcXFwiOiBcXFwiL0NvbXB1dGUtYWNtZWNjcy9zeWxhamEua2FubmFuQG9yYWNsZS5jb21cXFwiLCBcXFwiZ3JvdXBzXFxcIjogW1xcXCIvQ29tcHV0ZS1hY21lY2NzL0NvbXB1dGUuQ29tcHV0ZV9PcGVyYXRpb25zXFxcIiwgXFxcIi9Db21wdXRlLWFjbWVjY3MvQ29tcHV0ZS5Db21wdXRlX01vbml0b3JcXFwiXX1cIiwgXCJzaWduYXR1cmVcIjogXCJRT0xaeUZZdU54SmdjL3FuSk16MDRnNmRWVng2blY5S0JpYm5zeFNCWXJXcVVJVGZmMkZtdjhoTytaVnZwQVdURGpwczRNMHZTc2RocWw3QmM0VGJpSmhFTWVyNFBjVVgvb05qd2VpaUcyaStBeDBPWmc3SDJFSjRITWQ0S1V3eTl6NlYzRHd4eUhwTjdqM0w0eEFUTDUyeVpVQWVQK1diMkdzU1pjMmpTaHZyNi9ibU1CZ1Nyd2M4MUdxdURBMFN6d044V2VneUF1YVk5QTUxZmxaanJBMGVvVUJudmZ6NGxCUVVIZXloYyt0SXZVaDdUcGU2RGwxd3RSeFNGVVlQR0FEQk9xMExGaVd1QlpaU0FTZVcwOHBZcEZ2a2lOZXdPdU9LaU93dFc3VkFtZ3VHT0E1Yk1ibzYvMm5oZEhTWHJhYmtsY000UVE1LzZUMDJlZUpTYVE9PVwifSJ9; Path=/; Max-Age=1800\n",
    "Note that the Set-Cookie header and value are in a single line. Line breaks are used in this example for readability.\n",
    "```\n",
    "6. Store the authentication cookie in an environment variable, as shown in the following example for a Linux host.\n",
    "\n",
    "Note that the entire command is in a single line. Line breaks are used in this example for readability.\n",
    "```\n",
    "export COMPUTE_COOKIE='nimbula=eyJpZGVudGl0eSI6ICJ7XCJyZWFsbVwiOiBcImNvbXB1dGUtdXM2LXoyOFwiLCBcInZhbHVlXCI6IFwie1xcXCJjdXN0b21lclxcXCI6IFxcXCJDb21wdXRlLWFjbWVjY3NcXFwiLCBcXFwicmVhbG1cXFwiOiBcXFwiY29tcHV0ZS11czYtejI4XFxcIiwgXFxcImVudGl0eV90eXBlXFxcIjogXFxcInVzZXJcXFwiLCBcXFwic2Vzc2lvbl9leHBpcmVzXFxcIjogMTQ2MDQ4NjA5Mi44MDM1NiwgXFxcImV4cGlyZXNcXFwiOiAxNDYwNDc3MDkyLjgwMzU5MiwgXFxcInVzZXJcXFwiOiBcXFwiL0NvbXB1dGUtYWNtZWNjcy9zeWxhamEua2FubmFuQG9yYWNsZS5jb21cXFwiLCBcXFwiZ3JvdXBzXFxcIjogW1xcXCIvQ29tcHV0ZS1hY21lY2NzL0NvbXB1dGUuQ29tcHV0ZV9PcGVyYXRpb25zXFxcIiwgXFxcIi9Db21wdXRlLWFjbWVjY3MvQ29tcHV0ZS5Db21wdXRlX01vbml0b3JcXFwiXX1cIiwgXCJzaWduYXR1cmVcIjogXCJRT0xaeUZZdU54SmdjL3FuSk16MDRnNmRWVng2blY5S0JpYm5zeFNCWXJXcVVJVGZmMkZtdjhoTytaVnZwQVdURGpwczRNMHZTc2RocWw3QmM0VGJpSmhFTWVyNFBjVVgvb05qd2VpaUcyaStBeDBPWmc3SDJFSjRITWQ0S1V3eTl6NlYzRHd4eUhwTjdqM0w0eEFUTDUyeVpVQWVQK1diMkdzU1pjMmpTaHZyNi9ibU1CZ1Nyd2M4MUdxdURBMFN6d044V2VneUF1YVk5QTUxZmxaanJBMGVvVUJudmZ6NGxCUVVIZXloYyt0SXZVaDdUcGU2RGwxd3RSeFNGVVlQR0FEQk9xMExGaVd1QlpaU0FTZVcwOHBZcEZ2a2lOZXdPdU9LaU93dFc3VkFtZ3VHT0E1Yk1ibzYvMm5oZEhTWHJhYmtsY000UVE1LzZUMDJlZUpTYVE9PVwifSJ9; Path=/; Max-Age=1800'\n",
    "After getting an authentication cookie, you can perform operations on Compute Classic objects.\n",
    "```\n",
    "\n"
   ]
  },
  {
   "cell_type": "markdown",
   "metadata": {},
   "source": [
    "#### How to Generate an Authentication Token in OCI Compute Classic\n",
    "\n",
    "[https://simplesassim.wordpress.com/2017/06/07/how-to-generate-an-authentication-token-in-oci-compute-classic/](https://simplesassim.wordpress.com/2017/06/07/how-to-generate-an-authentication-token-in-oci-compute-classic/)\n",
    "\n",
    "```\n",
    "import requests\n",
    " \n",
    "res = requests.post('https://host/authenticate/', json = { 'user': '/sampleService-sampleIdentityDomain/sampleUser', 'password': 'samplePassword' })\n",
    " \n",
    "if res.no_content:\n",
    "  print(res.headers['Set-Cookie'])![image.png](attachment:image.png)\n",
    "  \n",
    "  \n",
    "```  "
   ]
  },
  {
   "cell_type": "code",
   "execution_count": null,
   "metadata": {},
   "outputs": [],
   "source": [
    "import keyring\n",
    "import requests\n",
    "from requests import Session\n",
    "from requests.auth import HTTPBasicAuth\n",
    "from requests.auth import _basic_auth_str\n",
    "from secrets import opc_username, opc_password"
   ]
  },
  {
   "cell_type": "code",
   "execution_count": null,
   "metadata": {},
   "outputs": [],
   "source": [
    "idm_domain_name = 'gc30003'\n",
    "idm_service_instance_id = '587626604'\n",
    "iaas_rest_endpoint = r'https://compute.uscom-central-1.oraclecloud.com'\n",
    "iaas_auth_endpoint = f'{iaas_rest_endpoint}/authenticate/'\n",
    "\n",
    "### Username/pass setup\n",
    "traditional_iaas_username = f'/Compute-{idm_domain_name}/{opc_username}'\n",
    "\n",
    "idcs_iaas_username = f'/Compute-{idm_service_instance_id}/{opc_username}'\n",
    "username = traditional_iaas_username\n",
    "# username = idcs_iaas_username\n",
    "\n",
    "json_data={\"user\":username, \"password\":opc_password}\n",
    "basic_auth_cred = _basic_auth_str(username, opc_password)\n",
    "\n",
    "\n",
    "print(f'basic_auth_cred: {basic_auth_cred}')\n",
    "print(f'traditional_iaas_username: {traditional_iaas_username}\\n')\n",
    "print(f'idcs_iaas_username: {idcs_iaas_username}\\n')\n",
    "print(f'username: {username}\\n')\n",
    "\n",
    "### END Username/pass setup\n",
    "\n",
    "\n",
    "files = None\n",
    "params = None\n",
    "# headers = dict([('Authorization', basic_auth_cred), ('Content-Type', 'application/oracle-compute-v3+json'), ('X-ID-TENANT-NAME', 'gc30003'), ('X-PSM-CLI-REQUEST', 'cli'), ('X-PSM-CLI-VERSION', '1.1.20')])\n",
    "headers = dict([('Authorization', basic_auth_cred), ('Content-Type', 'application/oracle-compute-v3+json')])\n",
    "print(f'headers: {headers}')\n",
    "print(f'json_data: {json_data}')\n",
    "\n",
    "print(f'iaas_rest_endpoint: {iaas_rest_endpoint}')\n",
    "print(f'iaas_auth_endpoint: {iaas_auth_endpoint}')\n",
    "\n",
    "\n",
    "\n"
   ]
  },
  {
   "cell_type": "code",
   "execution_count": null,
   "metadata": {},
   "outputs": [],
   "source": [
    "session = Session()\n",
    "session.auth = (username, opc_password)\n",
    "session.headers.update(headers)\n",
    "session.cookies\n",
    "\n",
    "print(f'session.headers: {session.headers}\\n')\n",
    "print(f'session.auth: {session.auth}\\n')\n",
    "print(f'session.cookies: {session.cookies}\\n')\n"
   ]
  },
  {
   "cell_type": "code",
   "execution_count": null,
   "metadata": {
    "scrolled": false
   },
   "outputs": [],
   "source": [
    "response = session.post(url=iaas_auth_endpoint,\n",
    "                         json=json_data,\n",
    "                         files=files, \n",
    "                         params=params)\n",
    "print(f'Response OK: {response.ok}, Status Code: {response.status_code}, URL: {response.url}')\n",
    "if response.ok and 'Set-Cookie' in response.headers:\n",
    "    print(f\"Auth request succeess.\\n\")\n",
    "    ### The auth cookie is already placed in the session ... nothing else needs to be done.\n",
    "    print(f\"Session Cookies: {session.cookies}\")\n",
    "\n",
    "else:\n",
    "    print(f'Something failed! Response OK: {response.ok}, Status Code: {response.status_code}')"
   ]
  },
  {
   "cell_type": "code",
   "execution_count": null,
   "metadata": {
    "scrolled": true
   },
   "outputs": [],
   "source": [
    "print(f'session.headers: {session.headers}\\n')\n",
    "print(f'session.auth: {session.auth}\\n')\n",
    "print(f'session.cookies: {session.cookies}\\n')"
   ]
  },
  {
   "cell_type": "code",
   "execution_count": null,
   "metadata": {},
   "outputs": [],
   "source": [
    "session.cookies.get('nimbula')"
   ]
  },
  {
   "cell_type": "code",
   "execution_count": null,
   "metadata": {},
   "outputs": [],
   "source": [
    "# instances_endpoint = f'{iaas_rest_endpoint}/instance{traditional_iaas_username}'\n",
    "# instances_endpoint = f'{iaas_rest_endpoint}/instance{idcs_iaas_username}'\n",
    "instances_endpoint = f'{iaas_rest_endpoint}/instance/'\n",
    "\n",
    "container = f'{username}/'\n",
    "# headers = dict([('Authorization', basic_auth_cred), ('Content-Type', 'application/oracle-compute-v3+json'), ('X-ID-TENANT-NAME', 'gc30003'), ('X-PSM-CLI-REQUEST', 'cli'), ('X-PSM-CLI-VERSION', '1.1.20')])\n",
    "# headers = dict([('Authorization', basic_auth_cred), ('Content-Type', 'application/oracle-compute-v3+json')])\n",
    "# headers = dict([('Authorization', basic_auth_cred), \n",
    "#                 ('Content-Type', 'application/oracle-compute-v3+json'),\n",
    "#                 ('Cookie', f\"nimbula={session.cookies.get('nimbula')}\")])\n",
    "\n",
    "headers.update({'Cookie':f\"nimbula={session.cookies.get('nimbula')}\"})\n",
    "session.headers.update({'Cookie':f\"nimbula={session.cookies.get('nimbula')}\"})\n",
    "\n",
    "\n",
    "data={\"container\":username, \"password\":opc_password}\n",
    "json_data={\"container\":username, \"password\":opc_password}\n",
    "\n",
    "\n",
    "print(f'instances_endpoint: {instances_endpoint}')\n",
    "print(f'json_data: {json_data}')\n",
    "print(f'headers: {headers}\\n')\n",
    "print(f'session.cookies: {session.cookies}\\n')\n"
   ]
  },
  {
   "cell_type": "code",
   "execution_count": null,
   "metadata": {},
   "outputs": [],
   "source": [
    "instances_endpoint = f'{iaas_rest_endpoint}/instance/'\n",
    "\n",
    "response = session.get(url=instances_endpoint,\n",
    "                         json=json_data,\n",
    "                         files=files, \n",
    "                         headers=headers,\n",
    "                         params=params)\n",
    "print(f'Response OK: {response.ok}, Status Code: {response.status_code}, URL: {response.url}')\n",
    "if response.ok and 'Set-Cookie' in response.headers:\n",
    "    print(f\"Auth request succeess.\\n\")\n",
    "    ### The auth cookie is already placed in the session ... nothing else needs to be done.\n",
    "    print(f\"Session Cookies: {session.cookies}\")\n",
    "\n",
    "else:\n",
    "    print(f'Something failed! Response OK: {response.ok}, Status Code: {response.status_code}')"
   ]
  },
  {
   "cell_type": "code",
   "execution_count": null,
   "metadata": {},
   "outputs": [],
   "source": [
    "response.text"
   ]
  },
  {
   "cell_type": "code",
   "execution_count": null,
   "metadata": {},
   "outputs": [],
   "source": [
    "print(f'headers: {headers}\\n')\n",
    "print(f'session.cookies: {session.cookies}\\n')\n",
    "print(f'session.headers: {session.headers}\\n')\n"
   ]
  },
  {
   "cell_type": "markdown",
   "metadata": {},
   "source": [
    "### IaaS (Compute Classic) REST Calls, Fresh start\n",
    "\n",
    "\n",
    "\n",
    "\n",
    "\n"
   ]
  },
  {
   "cell_type": "code",
   "execution_count": null,
   "metadata": {},
   "outputs": [],
   "source": [
    "import keyring\n",
    "import requests\n",
    "from requests import Session\n",
    "from requests.auth import HTTPBasicAuth\n",
    "from requests.auth import _basic_auth_str\n",
    "from secrets import opc_username, opc_password"
   ]
  },
  {
   "cell_type": "code",
   "execution_count": null,
   "metadata": {},
   "outputs": [],
   "source": [
    "idm_domain_name = 'gc30003'\n",
    "idm_service_instance_id = '587626604'\n",
    "iaas_rest_endpoint = r'https://compute.uscom-central-1.oraclecloud.com'\n",
    "iaas_auth_endpoint = f'{iaas_rest_endpoint}/authenticate/'\n",
    "\n",
    "print(f'iaas_rest_endpoint: {iaas_rest_endpoint}')\n",
    "print(f'iaas_auth_endpoint: {iaas_auth_endpoint}\\n')\n",
    "\n",
    "\n",
    "\n",
    "### Username/pass setup\n",
    "traditional_iaas_username = f'/Compute-{idm_domain_name}/{opc_username}'\n",
    "idcs_iaas_username = f'/Compute-{idm_service_instance_id}/{opc_username}'\n",
    "# username = traditional_iaas_username\n",
    "username = idcs_iaas_username\n",
    "basic_auth_cred = _basic_auth_str(username, opc_password)\n",
    "\n",
    "print(f'traditional_iaas_username: {traditional_iaas_username}')\n",
    "print(f'idcs_iaas_username: {idcs_iaas_username}')\n",
    "print(f'username: {username}')\n",
    "print(f'basic_auth_cred: {basic_auth_cred}')\n",
    "\n",
    "### END Username/pass setup\n",
    "\n",
    "\n",
    "json_data={\"user\":username, \"password\":opc_password}\n",
    "print(f'\\njson_data: {json_data}')\n",
    "\n",
    "\n",
    "files = None\n",
    "params = None\n",
    "# headers = dict([('Authorization', basic_auth_cred), ('Content-Type', 'application/oracle-compute-v3+json'), ('X-ID-TENANT-NAME', 'gc30003'), ('X-PSM-CLI-REQUEST', 'cli'), ('X-PSM-CLI-VERSION', '1.1.20')])\n",
    "# headers = dict([('Authorization', basic_auth_cred), ('Content-Type', 'application/oracle-compute-v3+json')])\n",
    "headers = dict([('Content-Type', 'application/oracle-compute-v3+json')])\n",
    "\n",
    "print(f'headers: {headers}')\n"
   ]
  },
  {
   "cell_type": "code",
   "execution_count": null,
   "metadata": {},
   "outputs": [],
   "source": [
    "session = Session()\n",
    "session.auth = (username, opc_password)\n",
    "session.headers.update(headers)\n",
    "\n",
    "print(f'session.headers: {session.headers}\\n')\n",
    "print(f'session.auth: {session.auth}\\n')\n",
    "print(f'session.cookies: {session.cookies}\\n')"
   ]
  },
  {
   "cell_type": "code",
   "execution_count": null,
   "metadata": {
    "scrolled": true
   },
   "outputs": [],
   "source": [
    "response = session.post(url=iaas_auth_endpoint, json=json_data)\n",
    "\n",
    "print(f'Response OK: {response.ok}, Status Code: {response.status_code}, URL: {response.url}')\n",
    "if response.ok and 'Set-Cookie' in response.headers:\n",
    "    print(f\"Auth request succeess.\\n\")\n",
    "    ### The auth cookie is already placed in the session ... nothing else needs to be done.\n",
    "    print(f\"\\nSession Cookies: {session.cookies}\")\n",
    "    print(f\"\\nResponse Headers['Set-Cookie']: {response.headers['Set-Cookie']}\")\n",
    "\n",
    "else:\n",
    "    print(f'Something failed! Response OK: {response.ok}, Status Code: {response.status_code}')"
   ]
  },
  {
   "cell_type": "code",
   "execution_count": null,
   "metadata": {},
   "outputs": [],
   "source": [
    "print(f\"session.headers before update: {session.headers}\\n\")\n",
    "cookie_header = {'Cookie': response.headers['Set-Cookie']}\n",
    "print(f\"cookie_header: {cookie_header}\\n\")\n",
    "session.headers.update(cookie_header)\n",
    "print(f\"session.headers after update: {session.headers}\")\n"
   ]
  },
  {
   "cell_type": "markdown",
   "metadata": {},
   "source": [
    "##### Retrieve Names of Containers\n",
    "\n",
    "https://docs.oracle.com/en/cloud/iaas/compute-iaas-cloud/stcsa/op-instance--get.html"
   ]
  },
  {
   "cell_type": "code",
   "execution_count": null,
   "metadata": {
    "scrolled": false
   },
   "outputs": [],
   "source": [
    "\n",
    "\n",
    "print(f'session.headers: {session.headers}\\n')\n",
    "print(f'session.auth: {session.auth}\\n')\n",
    "print(f'session.cookies: {session.cookies}\\n')\n",
    "\n",
    "print(f'json_data: {json_data}')\n",
    "print(f'headers: {headers}')\n"
   ]
  },
  {
   "cell_type": "code",
   "execution_count": null,
   "metadata": {},
   "outputs": [],
   "source": [
    "rest_endpoint = f'{iaas_rest_endpoint}/instance/'\n",
    "print(f'rest_endpoint: {rest_endpoint}')\n",
    "\n",
    "response = session.get(url=rest_endpoint)\n",
    "print(f'Response OK: {response.ok}, Status Code: {response.status_code}, URL: {response.url}')\n",
    "if response.ok and 'Set-Cookie' in response.headers:\n",
    "    print(f\"Auth request succeess.\\n\")\n",
    "    ### The auth cookie is already placed in the session ... nothing else needs to be done.\n",
    "    print(f\"Session Cookies: {session.cookies}\")\n",
    "\n",
    "else:\n",
    "    print(f'Something failed! Response OK: {response.ok}, Status Code: {response.status_code}')\n",
    "    print(response.text)\n",
    "    pp(response.headers)"
   ]
  },
  {
   "cell_type": "code",
   "execution_count": null,
   "metadata": {},
   "outputs": [],
   "source": [
    "print(f'instances_endpoint: {instances_endpoint}\\n')\n",
    "\n",
    "print(f'session.headers: {session.headers}\\n')\n",
    "print(f'session.auth: {session.auth}\\n')\n",
    "print(f'session.cookies: {session.cookies}\\n')\n",
    "\n",
    "print(f'json_data: {json_data}')\n",
    "print(f'headers: {headers}')\n"
   ]
  },
  {
   "cell_type": "code",
   "execution_count": null,
   "metadata": {},
   "outputs": [],
   "source": [
    "session.headers.update(json_data)"
   ]
  },
  {
   "cell_type": "code",
   "execution_count": null,
   "metadata": {},
   "outputs": [],
   "source": [
    "print(f'session.headers: {session.headers}\\n')\n"
   ]
  },
  {
   "cell_type": "code",
   "execution_count": null,
   "metadata": {},
   "outputs": [],
   "source": [
    "response = session.get(url=instances_endpoint,\n",
    "                         files=files, \n",
    "                         params=params)\n",
    "print(f'Response OK: {response.ok}, Status Code: {response.status_code}, URL: {response.url}')\n",
    "if response.ok and 'Set-Cookie' in response.headers:\n",
    "    print(f\"Auth request succeess.\\n\")\n",
    "    ### The auth cookie is already placed in the session ... nothing else needs to be done.\n",
    "    print(f\"Session Cookies: {session.cookies}\")\n",
    "\n",
    "else:\n",
    "    print(f'Something failed! Response OK: {response.ok}, Status Code: {response.status_code}')"
   ]
  },
  {
   "cell_type": "code",
   "execution_count": null,
   "metadata": {},
   "outputs": [],
   "source": [
    "print(f'session.headers: {session.headers}\\n')\n",
    "print(f'session.cookies: {session.cookies}\\n')\n"
   ]
  },
  {
   "cell_type": "markdown",
   "metadata": {},
   "source": [
    "###  Final try for Compute Classic?"
   ]
  },
  {
   "cell_type": "code",
   "execution_count": 1,
   "metadata": {},
   "outputs": [],
   "source": [
    "import keyring\n",
    "import requests\n",
    "from json import load, loads, dump, dumps\n",
    "from requests import Session\n",
    "from secrets import opc_username, opc_password"
   ]
  },
  {
   "cell_type": "code",
   "execution_count": 2,
   "metadata": {},
   "outputs": [
    {
     "name": "stdout",
     "output_type": "stream",
     "text": [
      "iaas_rest_endpoint: https://compute.uscom-central-1.oraclecloud.com\n",
      "iaas_auth_endpoint: https://compute.uscom-central-1.oraclecloud.com/authenticate/\n",
      "\n"
     ]
    }
   ],
   "source": [
    "idm_domain_name = 'gc30003'\n",
    "idm_service_instance_id = '587626604'\n",
    "iaas_rest_endpoint = r'https://compute.uscom-central-1.oraclecloud.com'\n",
    "iaas_auth_endpoint = f'{iaas_rest_endpoint}/authenticate/'\n",
    "\n",
    "print(f'iaas_rest_endpoint: {iaas_rest_endpoint}')\n",
    "print(f'iaas_auth_endpoint: {iaas_auth_endpoint}\\n')\n",
    "\n"
   ]
  },
  {
   "cell_type": "code",
   "execution_count": 3,
   "metadata": {},
   "outputs": [
    {
     "name": "stdout",
     "output_type": "stream",
     "text": [
      "idm_domain_username: /Compute-gc30003/eric.harris@oracle.com\n",
      "idm_service_instance_username: /Compute-587626604/eric.harris@oracle.com\n",
      "username: /Compute-587626604/eric.harris@oracle.com\n",
      "\n",
      "json_data: {'user': '/Compute-587626604/eric.harris@oracle.com', 'password': 'P@ll4dium!'}\n",
      "headers: {'Content-Type': 'application/oracle-compute-v3+json', 'Accept': 'application/oracle-compute-v3+directory+json'}\n"
     ]
    }
   ],
   "source": [
    "### Username/pass setup\n",
    "idm_domain_username = f'/Compute-{idm_domain_name}/{opc_username}'\n",
    "idm_service_instance_username = f'/Compute-{idm_service_instance_id}/{opc_username}'\n",
    "# username = traditional_iaas_username\n",
    "username = idm_service_instance_username\n",
    "# basic_auth_cred = _basic_auth_str(username, opc_password)\n",
    "\n",
    "print(f'idm_domain_username: {idm_domain_username}')\n",
    "print(f'idm_service_instance_username: {idm_service_instance_username}')\n",
    "print(f'username: {username}')\n",
    "# print(f'basic_auth_cred: {basic_auth_cred}')\n",
    "\n",
    "### END Username/pass setup\n",
    "json_data={\"user\":username, \"password\":opc_password}\n",
    "print(f'\\njson_data: {json_data}')\n",
    "\n",
    "\n",
    "files = None\n",
    "params = None\n",
    "\n",
    "### https://docs.oracle.com/en/cloud/iaas/compute-iaas-cloud/stcsa/SendRequests.html\n",
    "### Supported Headers shown here\n",
    "# headers = dict([('Content-Type', 'application/oracle-compute-v3+json'),\n",
    "#                ('Accept', 'application/oracle-compute-v3+directory+json'),\n",
    "#                ('Accept-Encoding', 'gzip;q=1.0, identity; q=0.5'),\n",
    "#                ('Content-Encoding', 'deflate'),\n",
    "#                ('Cookie', '<Set from /authenticate>')\n",
    "#                ])\n",
    "\n",
    "\n",
    "headers = dict([('Content-Type', 'application/oracle-compute-v3+json'),\n",
    "               ('Accept', 'application/oracle-compute-v3+directory+json'),\n",
    "               ])\n",
    "\n",
    "print(f'headers: {headers}')\n"
   ]
  },
  {
   "cell_type": "code",
   "execution_count": 4,
   "metadata": {},
   "outputs": [],
   "source": [
    "session = Session()\n",
    "session.headers.update(headers)"
   ]
  },
  {
   "cell_type": "code",
   "execution_count": 5,
   "metadata": {},
   "outputs": [
    {
     "name": "stdout",
     "output_type": "stream",
     "text": [
      "Response OK: True, Status Code: 204, URL: https://compute.uscom-central-1.oraclecloud.com/authenticate/\n",
      "Auth request succeess.\n",
      "\n",
      "\n",
      "Session Cookies: <RequestsCookieJar[<Cookie nimbula=eyJpZGVudGl0eSI6ICJ7XCJyZWFsbVwiOiBcInVzY29tLWNlbnRyYWwtMVwiLCBcInZhbHVlXCI6IFwie1xcXCJjdXN0b21lclxcXCI6IFxcXCJDb21wdXRlLTU4NzYyNjYwNFxcXCIsIFxcXCJyZWFsbVxcXCI6IFxcXCJ1c2NvbS1jZW50cmFsLTFcXFwiLCBcXFwiZW50aXR5X3R5cGVcXFwiOiBcXFwidXNlclxcXCIsIFxcXCJzZXNzaW9uX2V4cGlyZXNcXFwiOiAxNTIzNTkzMDI1LjcyMjIzMzEsIFxcXCJleHBpcmVzXFxcIjogMTUyMzU4NDAyNS43MjIyNywgXFxcInVzZXJcXFwiOiBcXFwiL0NvbXB1dGUtNTg3NjI2NjA0L2VyaWMuaGFycmlzQG9yYWNsZS5jb21cXFwiLCBcXFwiZ3JvdXBzXFxcIjogW1xcXCIvQ29tcHV0ZS01ODc2MjY2MDQvQ29tcHV0ZS5Db21wdXRlX09wZXJhdGlvbnNcXFwiLCBcXFwiL0NvbXB1dGUtNTg3NjI2NjA0L0NvbXB1dGUuQ29tcHV0ZV9Nb25pdG9yXFxcIl19XCIsIFwic2lnbmF0dXJlXCI6IFwiVzNZUlBaL0YyRitDVGNnUTJmMFdrZk5PTnFBYkhKNnBIUHZ4K2V6a2RjQVp4RXVyQWJMb1VQdnVoUURRVC9CakMvekdmRTFKUkV3VlVoV0RzUXhjUjd6a1hURGpQK3dkR1UxK2NFejRmU1pZUU9OcHdFNmpsRS8rcU01dnIzZTFrTTlDUlk2czhmQjQvVFpDUWdLRjk0THpzTU5PNHFMRGFhNG40SkxJa2JVamNhZ2YwYy91Tk5WTlRWT3paUU5mNG5IS0Q5Y3lkaE1QNHU5L3l5MmMzanNQMk5kUnpFWUhNVkdReXZ4d2YxbDdyVVhxN3czWDQ0TytwM2d5UklKb2UwWEhSUWppSEo1VVBBcGxmUGtabWxKYTFDTzgvTmFZQUUzNExEYUl1Y1VDUktEdlNUK0xuR3FBaGoyd1ZwL2R4UkJ1U3JlWkkyVnhOTWNlL3h5cHlnPT1cIn0ifQ== for compute.uscom-central-1.oraclecloud.com/>]>\n",
      "\n",
      "Response Headers['Set-Cookie']: nimbula=eyJpZGVudGl0eSI6ICJ7XCJyZWFsbVwiOiBcInVzY29tLWNlbnRyYWwtMVwiLCBcInZhbHVlXCI6IFwie1xcXCJjdXN0b21lclxcXCI6IFxcXCJDb21wdXRlLTU4NzYyNjYwNFxcXCIsIFxcXCJyZWFsbVxcXCI6IFxcXCJ1c2NvbS1jZW50cmFsLTFcXFwiLCBcXFwiZW50aXR5X3R5cGVcXFwiOiBcXFwidXNlclxcXCIsIFxcXCJzZXNzaW9uX2V4cGlyZXNcXFwiOiAxNTIzNTkzMDI1LjcyMjIzMzEsIFxcXCJleHBpcmVzXFxcIjogMTUyMzU4NDAyNS43MjIyNywgXFxcInVzZXJcXFwiOiBcXFwiL0NvbXB1dGUtNTg3NjI2NjA0L2VyaWMuaGFycmlzQG9yYWNsZS5jb21cXFwiLCBcXFwiZ3JvdXBzXFxcIjogW1xcXCIvQ29tcHV0ZS01ODc2MjY2MDQvQ29tcHV0ZS5Db21wdXRlX09wZXJhdGlvbnNcXFwiLCBcXFwiL0NvbXB1dGUtNTg3NjI2NjA0L0NvbXB1dGUuQ29tcHV0ZV9Nb25pdG9yXFxcIl19XCIsIFwic2lnbmF0dXJlXCI6IFwiVzNZUlBaL0YyRitDVGNnUTJmMFdrZk5PTnFBYkhKNnBIUHZ4K2V6a2RjQVp4RXVyQWJMb1VQdnVoUURRVC9CakMvekdmRTFKUkV3VlVoV0RzUXhjUjd6a1hURGpQK3dkR1UxK2NFejRmU1pZUU9OcHdFNmpsRS8rcU01dnIzZTFrTTlDUlk2czhmQjQvVFpDUWdLRjk0THpzTU5PNHFMRGFhNG40SkxJa2JVamNhZ2YwYy91Tk5WTlRWT3paUU5mNG5IS0Q5Y3lkaE1QNHU5L3l5MmMzanNQMk5kUnpFWUhNVkdReXZ4d2YxbDdyVVhxN3czWDQ0TytwM2d5UklKb2UwWEhSUWppSEo1VVBBcGxmUGtabWxKYTFDTzgvTmFZQUUzNExEYUl1Y1VDUktEdlNUK0xuR3FBaGoyd1ZwL2R4UkJ1U3JlWkkyVnhOTWNlL3h5cHlnPT1cIn0ifQ==; Path=/; Max-Age=1800\n"
     ]
    }
   ],
   "source": [
    "response = session.post(url=iaas_auth_endpoint, json=json_data)\n",
    "\n",
    "print(f'Response OK: {response.ok}, Status Code: {response.status_code}, URL: {response.url}')\n",
    "if response.ok and 'Set-Cookie' in response.headers:\n",
    "    print(f\"Auth request succeess.\\n\")\n",
    "    ### The auth cookie is already placed in the session ... nothing else needs to be done.\n",
    "    print(f\"\\nSession Cookies: {session.cookies}\")\n",
    "    print(f\"\\nResponse Headers['Set-Cookie']: {response.headers['Set-Cookie']}\")\n",
    "\n",
    "else:\n",
    "    print(f'Something failed! Response OK: {response.ok}, Status Code: {response.status_code}')"
   ]
  },
  {
   "cell_type": "code",
   "execution_count": 6,
   "metadata": {
    "scrolled": true
   },
   "outputs": [
    {
     "name": "stdout",
     "output_type": "stream",
     "text": [
      "session.headers before update: {'User-Agent': 'python-requests/2.18.4', 'Accept-Encoding': 'gzip, deflate', 'Accept': 'application/oracle-compute-v3+directory+json', 'Connection': 'keep-alive', 'Content-Type': 'application/oracle-compute-v3+json'}\n",
      "\n",
      "cookie_header: {'Cookie': 'nimbula=eyJpZGVudGl0eSI6ICJ7XCJyZWFsbVwiOiBcInVzY29tLWNlbnRyYWwtMVwiLCBcInZhbHVlXCI6IFwie1xcXCJjdXN0b21lclxcXCI6IFxcXCJDb21wdXRlLTU4NzYyNjYwNFxcXCIsIFxcXCJyZWFsbVxcXCI6IFxcXCJ1c2NvbS1jZW50cmFsLTFcXFwiLCBcXFwiZW50aXR5X3R5cGVcXFwiOiBcXFwidXNlclxcXCIsIFxcXCJzZXNzaW9uX2V4cGlyZXNcXFwiOiAxNTIzNTkzMDI1LjcyMjIzMzEsIFxcXCJleHBpcmVzXFxcIjogMTUyMzU4NDAyNS43MjIyNywgXFxcInVzZXJcXFwiOiBcXFwiL0NvbXB1dGUtNTg3NjI2NjA0L2VyaWMuaGFycmlzQG9yYWNsZS5jb21cXFwiLCBcXFwiZ3JvdXBzXFxcIjogW1xcXCIvQ29tcHV0ZS01ODc2MjY2MDQvQ29tcHV0ZS5Db21wdXRlX09wZXJhdGlvbnNcXFwiLCBcXFwiL0NvbXB1dGUtNTg3NjI2NjA0L0NvbXB1dGUuQ29tcHV0ZV9Nb25pdG9yXFxcIl19XCIsIFwic2lnbmF0dXJlXCI6IFwiVzNZUlBaL0YyRitDVGNnUTJmMFdrZk5PTnFBYkhKNnBIUHZ4K2V6a2RjQVp4RXVyQWJMb1VQdnVoUURRVC9CakMvekdmRTFKUkV3VlVoV0RzUXhjUjd6a1hURGpQK3dkR1UxK2NFejRmU1pZUU9OcHdFNmpsRS8rcU01dnIzZTFrTTlDUlk2czhmQjQvVFpDUWdLRjk0THpzTU5PNHFMRGFhNG40SkxJa2JVamNhZ2YwYy91Tk5WTlRWT3paUU5mNG5IS0Q5Y3lkaE1QNHU5L3l5MmMzanNQMk5kUnpFWUhNVkdReXZ4d2YxbDdyVVhxN3czWDQ0TytwM2d5UklKb2UwWEhSUWppSEo1VVBBcGxmUGtabWxKYTFDTzgvTmFZQUUzNExEYUl1Y1VDUktEdlNUK0xuR3FBaGoyd1ZwL2R4UkJ1U3JlWkkyVnhOTWNlL3h5cHlnPT1cIn0ifQ==; Path=/; Max-Age=1800'}\n",
      "\n",
      "session.headers after update: {'User-Agent': 'python-requests/2.18.4', 'Accept-Encoding': 'gzip, deflate', 'Accept': 'application/oracle-compute-v3+directory+json', 'Connection': 'keep-alive', 'Content-Type': 'application/oracle-compute-v3+json', 'Cookie': 'nimbula=eyJpZGVudGl0eSI6ICJ7XCJyZWFsbVwiOiBcInVzY29tLWNlbnRyYWwtMVwiLCBcInZhbHVlXCI6IFwie1xcXCJjdXN0b21lclxcXCI6IFxcXCJDb21wdXRlLTU4NzYyNjYwNFxcXCIsIFxcXCJyZWFsbVxcXCI6IFxcXCJ1c2NvbS1jZW50cmFsLTFcXFwiLCBcXFwiZW50aXR5X3R5cGVcXFwiOiBcXFwidXNlclxcXCIsIFxcXCJzZXNzaW9uX2V4cGlyZXNcXFwiOiAxNTIzNTkzMDI1LjcyMjIzMzEsIFxcXCJleHBpcmVzXFxcIjogMTUyMzU4NDAyNS43MjIyNywgXFxcInVzZXJcXFwiOiBcXFwiL0NvbXB1dGUtNTg3NjI2NjA0L2VyaWMuaGFycmlzQG9yYWNsZS5jb21cXFwiLCBcXFwiZ3JvdXBzXFxcIjogW1xcXCIvQ29tcHV0ZS01ODc2MjY2MDQvQ29tcHV0ZS5Db21wdXRlX09wZXJhdGlvbnNcXFwiLCBcXFwiL0NvbXB1dGUtNTg3NjI2NjA0L0NvbXB1dGUuQ29tcHV0ZV9Nb25pdG9yXFxcIl19XCIsIFwic2lnbmF0dXJlXCI6IFwiVzNZUlBaL0YyRitDVGNnUTJmMFdrZk5PTnFBYkhKNnBIUHZ4K2V6a2RjQVp4RXVyQWJMb1VQdnVoUURRVC9CakMvekdmRTFKUkV3VlVoV0RzUXhjUjd6a1hURGpQK3dkR1UxK2NFejRmU1pZUU9OcHdFNmpsRS8rcU01dnIzZTFrTTlDUlk2czhmQjQvVFpDUWdLRjk0THpzTU5PNHFMRGFhNG40SkxJa2JVamNhZ2YwYy91Tk5WTlRWT3paUU5mNG5IS0Q5Y3lkaE1QNHU5L3l5MmMzanNQMk5kUnpFWUhNVkdReXZ4d2YxbDdyVVhxN3czWDQ0TytwM2d5UklKb2UwWEhSUWppSEo1VVBBcGxmUGtabWxKYTFDTzgvTmFZQUUzNExEYUl1Y1VDUktEdlNUK0xuR3FBaGoyd1ZwL2R4UkJ1U3JlWkkyVnhOTWNlL3h5cHlnPT1cIn0ifQ==; Path=/; Max-Age=1800'}\n"
     ]
    }
   ],
   "source": [
    "print(f\"session.headers before update: {session.headers}\\n\")\n",
    "cookie_header = {'Cookie': response.headers['Set-Cookie']}\n",
    "print(f\"cookie_header: {cookie_header}\\n\")\n",
    "session.headers.update(cookie_header)\n",
    "print(f\"session.headers after update: {session.headers}\")"
   ]
  },
  {
   "cell_type": "code",
   "execution_count": 7,
   "metadata": {},
   "outputs": [
    {
     "name": "stdout",
     "output_type": "stream",
     "text": [
      "rest_endpoint: https://compute.uscom-central-1.oraclecloud.com/instance/Compute-587626604/eric.harris@oracle.com/\n"
     ]
    }
   ],
   "source": [
    "rest_endpoint = f'{iaas_rest_endpoint}/instance{idm_service_instance_username}/'\n",
    "print(f'rest_endpoint: {rest_endpoint}')"
   ]
  },
  {
   "cell_type": "markdown",
   "metadata": {},
   "source": [
    "##### Retrieve Names of all Instances and Subcontainers in a Container\n",
    "\n",
    "[https://docs.oracle.com/en/cloud/iaas/compute-iaas-cloud/stcsa/op-instance-%7Bcontainer%7D-get.html#request](https://docs.oracle.com/en/cloud/iaas/compute-iaas-cloud/stcsa/op-instance-%7Bcontainer%7D-get.html#request)\n",
    "\n",
    "** /instance/{container} **\n",
    "\n",
    "Retrieves the names of objects and subcontainers that you can access in the specified container.\n",
    "\n",
    "\n"
   ]
  },
  {
   "cell_type": "code",
   "execution_count": null,
   "metadata": {},
   "outputs": [],
   "source": [
    "response = session.get(url=rest_endpoint)\n",
    "print(f'Response OK: {response.ok}, Status Code: {response.status_code}, URL: {response.url}')\n",
    "if response.ok and 'Set-Cookie' in response.headers:\n",
    "    print(f\"Auth request succeess.\\n\")\n",
    "    ### The auth cookie is already placed in the session ... nothing else needs to be done.\n",
    "    print(f\"Session Cookies: {session.cookies}\")\n",
    "    result = response.json()\n",
    "    print(f\"\\n{result}\")\n",
    "\n",
    "else:\n",
    "    print(f'Something failed! Response OK: {response.ok}, Status Code: {response.status_code}')\n",
    "    print(response.text)\n",
    "    pp(response.headers)"
   ]
  },
  {
   "cell_type": "markdown",
   "metadata": {},
   "source": [
    "##### Retrieve Details of an Instance\n",
    "\n",
    "[https://docs.oracle.com/en/cloud/iaas/compute-iaas-cloud/stcsa/op-instance-%7Bname%7D-get.html](https://docs.oracle.com/en/cloud/iaas/compute-iaas-cloud/stcsa/op-instance-%7Bname%7D-get.html)\n",
    "\n",
    "** /instance/{name} **\n",
    "\n",
    "Retrieves details of the specified instance.\n",
    "\n"
   ]
  },
  {
   "cell_type": "code",
   "execution_count": null,
   "metadata": {},
   "outputs": [],
   "source": [
    "rest_endpoint = f\"{iaas_rest_endpoint}/instance{result['result'][0]}\"\n",
    "print(f'rest_endpoint: {rest_endpoint}')"
   ]
  },
  {
   "cell_type": "code",
   "execution_count": null,
   "metadata": {},
   "outputs": [],
   "source": [
    "response = session.get(url=rest_endpoint)\n",
    "print(f'Response OK: {response.ok}, Status Code: {response.status_code}, URL: {response.url}')\n",
    "if response.ok and 'Set-Cookie' in response.headers:\n",
    "    print(f\"Auth request succeess.\\n\")\n",
    "    ### The auth cookie is already placed in the session ... nothing else needs to be done.\n",
    "    print(f\"Session Cookies: {session.cookies}\")\n",
    "    result = response.json()\n",
    "    print(f\"\\n{result}\")\n",
    "\n",
    "else:\n",
    "    print(f'Something failed! Response OK: {response.ok}, Status Code: {response.status_code}')\n",
    "    print(response.text)\n",
    "    pp(response.headers)"
   ]
  },
  {
   "cell_type": "code",
   "execution_count": null,
   "metadata": {},
   "outputs": [],
   "source": []
  }
 ],
 "metadata": {
  "kernelspec": {
   "display_name": "Python 3",
   "language": "python",
   "name": "python3"
  },
  "language_info": {
   "codemirror_mode": {
    "name": "ipython",
    "version": 3
   },
   "file_extension": ".py",
   "mimetype": "text/x-python",
   "name": "python",
   "nbconvert_exporter": "python",
   "pygments_lexer": "ipython3",
   "version": "3.6.4"
  }
 },
 "nbformat": 4,
 "nbformat_minor": 2
}
