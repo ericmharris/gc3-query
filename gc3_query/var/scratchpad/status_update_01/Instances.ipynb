{
 "cells": [
  {
   "cell_type": "markdown",
   "metadata": {},
   "source": [
    "## Oracle Cloud Instance POC\n"
   ]
  },
  {
   "cell_type": "code",
   "execution_count": 2,
   "metadata": {},
   "outputs": [],
   "source": [
    "import os\n",
    "import json\n",
    "from pathlib import Path\n",
    "from typing import Dict\n",
    "from dataclasses import dataclass\n",
    "\n",
    "import bravado\n",
    "from bravado.client import SwaggerClient, CallableOperation\n",
    "# from bravado.requests_client import RequestsClient\n",
    "from gc3_query.lib.bravado.requests_client import OCRequestsClient\n",
    "from bravado.requests_client import RequestsResponseAdapter\n",
    "from bravado.swagger_model import load_file\n",
    "from bravado_core.exception import MatchingResponseNotFound\n",
    "from bravado.exception import HTTPBadRequest\n",
    "from bravado.http_future import HttpFuture\n",
    "\n",
    "from tinydb import TinyDB, Query\n",
    "\n",
    "# from prettyprinter import pprint, pformat\n",
    "from pprint import pprint, pformat\n",
    "\n",
    "## https://medium.com/@betz.mark/validate-json-models-with-swagger-and-bravado-5fad6b21a825\n",
    "# Validate json models with swagger and bravado\n",
    "from bravado_core.spec import Spec\n",
    "\n",
    "\n",
    "from gc3_query.lib.gc3_config import GC3Config\n",
    "import keyring\n",
    "\n",
    "from gc3_query.lib import List, Optional, Any, Callable, Dict, Tuple, Union, Set, Generator"
   ]
  },
  {
   "cell_type": "code",
   "execution_count": 3,
   "metadata": {},
   "outputs": [],
   "source": [
    "gc3_cfg = GC3Config()"
   ]
  },
  {
   "cell_type": "code",
   "execution_count": 4,
   "metadata": {},
   "outputs": [
    {
     "name": "stdout",
     "output_type": "stream",
     "text": [
      "IDMCredential(idm_domain_name='gc30003', username='eric.harris@oracle.com', password='V@nadium123!', is_ucm=False, is_classic=True)\n"
     ]
    }
   ],
   "source": [
    "idm_cred = gc3_cfg.get_credential(idm_domain_name='gc30003')\n",
    "print(idm_cred)"
   ]
  },
  {
   "cell_type": "code",
   "execution_count": 5,
   "metadata": {},
   "outputs": [
    {
     "name": "stdout",
     "output_type": "stream",
     "text": [
      "opc_username=eric.harris@oracle.com, opc_password=V@nadium123!\n"
     ]
    }
   ],
   "source": [
    "# from secrets import opc_username, opc_password\n",
    "\n",
    "\n",
    "\n",
    "\n",
    "\n",
    "\n",
    "opc_username = idm_cred.username\n",
    "opc_password =  idm_cred.password\n",
    "print(f\"opc_username={opc_username}, opc_password={opc_password}\")"
   ]
  },
  {
   "cell_type": "code",
   "execution_count": 6,
   "metadata": {},
   "outputs": [
    {
     "name": "stdout",
     "output_type": "stream",
     "text": [
      "iaas_rest_endpoint: https://compute.uscom-central-1.oraclecloud.com\niaas_auth_endpoint: https://compute.uscom-central-1.oraclecloud.com/authenticate/\n\n"
     ]
    }
   ],
   "source": [
    "idm_domain_name = 'gc30003'\n",
    "idm_service_instance_id = '587626604'\n",
    "iaas_rest_endpoint = r'https://compute.uscom-central-1.oraclecloud.com'\n",
    "iaas_auth_endpoint = f'{iaas_rest_endpoint}/authenticate/'\n",
    "\n",
    "print(f'iaas_rest_endpoint: {iaas_rest_endpoint}')\n",
    "print(f'iaas_auth_endpoint: {iaas_auth_endpoint}\\n')\n",
    "\n",
    "\n",
    "### Username/pass setup\n",
    "idm_domain_username = f'/Compute-{idm_domain_name}/{opc_username}'\n",
    "idm_service_instance_username = f'/Compute-{idm_service_instance_id}/{opc_username}'\n",
    "# username = traditional_iaas_username\n",
    "username = idm_service_instance_username\n",
    "# basic_auth_cred = _basic_auth_str(username, opc_password)\n"
   ]
  },
  {
   "cell_type": "code",
   "execution_count": 7,
   "metadata": {},
   "outputs": [
    {
     "name": "stdout",
     "output_type": "stream",
     "text": [
      "idm_domain_username: /Compute-gc30003/eric.harris@oracle.com\nidm_service_instance_username: /Compute-587626604/eric.harris@oracle.com\nusername: /Compute-587626604/eric.harris@oracle.com\n"
     ]
    }
   ],
   "source": [
    "json_data = {\"user\": username, \"password\": opc_password}\n",
    "print(f'idm_domain_username: {idm_domain_username}')\n",
    "print(f'idm_service_instance_username: {idm_service_instance_username}')\n",
    "print(f'username: {username}')"
   ]
  },
  {
   "cell_type": "code",
   "execution_count": 8,
   "metadata": {},
   "outputs": [],
   "source": []
  },
  {
   "cell_type": "code",
   "execution_count": 8,
   "metadata": {},
   "outputs": [],
   "source": [
    "proxies = {\n",
    "  'http': 'http://www-proxy-ash7.us.oracle.com:80',\n",
    "  'https': 'https://www-proxy-ash7.us.oracle.com:80',\n",
    "}"
   ]
  },
  {
   "cell_type": "markdown",
   "metadata": {},
   "source": [
    "#### Create DB to store Instance data"
   ]
  },
  {
   "cell_type": "code",
   "execution_count": 9,
   "metadata": {},
   "outputs": [],
   "source": [
    "instances_db = TinyDB('instances.tdb.json')"
   ]
  },
  {
   "cell_type": "markdown",
   "metadata": {},
   "source": [
    "####  Authenticate and get header token\n"
   ]
  },
  {
   "cell_type": "code",
   "execution_count": 10,
   "metadata": {},
   "outputs": [
    {
     "name": "stdout",
     "output_type": "stream",
     "text": [
      "Response OK: True, Status Code: 204, URL: https://compute.uscom-central-1.oraclecloud.com/authenticate/\nAuth request succeess.\n\n"
     ]
    }
   ],
   "source": [
    "headers = dict([('Content-Type', 'application/oracle-compute-v3+json'),\n",
    "                ('Accept', 'application/oracle-compute-v3+directory+json'),\n",
    "                ])\n",
    "requests_client = OCRequestsClient()\n",
    "requests_client.session.headers.update(headers)\n",
    "# requests_client.session.proxies.update(proxies)\n",
    "\n",
    "\n",
    "# print(f\"requests_client.session.headers before update: {requests_client.session.headers}\\n\")\n",
    "requests_client.session.headers.update(headers)\n",
    "# print(f\"requests_client.session.headers after update: {requests_client.session.headers}\\n\")\n",
    "\n",
    "response = requests_client.session.post(url=iaas_auth_endpoint, json=json_data)\n",
    "print(f'Response OK: {response.ok}, Status Code: {response.status_code}, URL: {response.url}')\n",
    "if response.ok and 'Set-Cookie' in response.headers:\n",
    "    print(f\"Auth request succeess.\\n\")\n",
    "    ### The auth cookie is already placed in the session ... nothing else needs to be done.\n",
    "#     print(f\"\\nSession Cookies: {requests_client.session.cookies}\")\n",
    "#     print(f\"\\nResponse Headers['Set-Cookie']: {response.headers['Set-Cookie']}\")\n",
    "else:\n",
    "    print(f'Something failed! Response OK: {response.ok}, Status Code: {response.status_code}')\n",
    "\n",
    "# print(f\"requests_client.session.headers before update: {requests_client.session.headers}\\n\")\n",
    "cookie_header = {'Cookie': response.headers['Set-Cookie']}\n",
    "# print(f\"cookie_header: {cookie_header}\\n\")\n",
    "requests_client.session.headers.update(cookie_header)\n",
    "# print(f\"requests_client.session.headers after update: {requests_client.session.headers}\\n\")\n"
   ]
  },
  {
   "cell_type": "code",
   "execution_count": 11,
   "metadata": {
    "collapsed": true
   },
   "outputs": [
    {
     "name": "stdout",
     "output_type": "stream",
     "text": [
      "iaas_auth_endpoint=https://compute.uscom-central-1.oraclecloud.com/authenticate/\njson_data={'user': '/Compute-587626604/eric.harris@oracle.com', 'password': 'V@nadium123!'}\n"
     ]
    }
   ],
   "source": [
    "print(f\"iaas_auth_endpoint={iaas_auth_endpoint}\")\n",
    "print(f\"json_data={json_data}\")"
   ]
  },
  {
   "cell_type": "code",
   "execution_count": 12,
   "metadata": {},
   "outputs": [],
   "source": [
    "## Update the swagger spec to use https\n",
    "spec_file_path = Path().joinpath('open_api_definitions/iaas_instances.json').resolve()\n",
    "spec_dict = load_file(spec_file_path)\n",
    "spec_dict['schemes'] = ['https']\n"
   ]
  },
  {
   "cell_type": "code",
   "execution_count": 13,
   "metadata": {},
   "outputs": [],
   "source": [
    "headers = dict([('Content-Type', 'application/oracle-compute-v3+json'),\n",
    "                ('Accept', 'application/oracle-compute-v3+json, application/oracle-compute-v3+directory+json, json, text/html')\n",
    "                ])\n",
    "\n",
    "# headers = dict([('Content-Type', 'application/oracle-compute-v3+json'),\n",
    "#                 ('Accept', 'application/oracle-compute-v3+json, json, text/html')])"
   ]
  },
  {
   "cell_type": "code",
   "execution_count": 14,
   "metadata": {},
   "outputs": [
    {
     "name": "stdout",
     "output_type": "stream",
     "text": [
      "iaas_rest_endpoint=https://compute.uscom-central-1.oraclecloud.com\n"
     ]
    }
   ],
   "source": [
    "# print(f\"iaas_rest_endpoint={iaas_rest_endpoint}, \\nspec_dict={spec_dict}\")\n",
    "print(f\"iaas_rest_endpoint={iaas_rest_endpoint}\")"
   ]
  },
  {
   "cell_type": "code",
   "execution_count": 15,
   "metadata": {},
   "outputs": [],
   "source": [
    "requests_client = OCRequestsClient()\n",
    "requests_client.session.headers.update(headers)\n",
    "requests_client.session.proxies.update(proxies)\n",
    "requests_client.session.headers.update(cookie_header)\n",
    "swagger_client = SwaggerClient.from_spec(spec_dict=spec_dict,\n",
    "                                         origin_url=iaas_rest_endpoint,\n",
    "                                         http_client=requests_client,\n",
    "                                         config={'also_return_response': True,\n",
    "                                                 'validate_responses': True,\n",
    "                                                 'validate_requests': True,\n",
    "                                                 'validate_swagger_spec': True})\n",
    "                                         # config={'also_return_response': True,\n",
    "                                         #         'validate_responses': False,\n",
    "                                         #         'validate_requests': True,\n",
    "                                         #         'validate_swagger_spec': True})\n",
    "#                                          config={'also_return_response': True,\n",
    "#                                                  'validate_responses': False,\n",
    "#                                                  'validate_requests': False,\n",
    "#                                                  'validate_swagger_spec': False})\n",
    "instances_resource = swagger_client.Instances"
   ]
  },
  {
   "cell_type": "code",
   "execution_count": 16,
   "metadata": {},
   "outputs": [
    {
     "name": "stdout",
     "output_type": "stream",
     "text": [
      "deleteInstance\t\t http_method=delete\tpath=/instance/{name}\ndiscoverInstance\t\t http_method=get\tpath=/instance/{container}\ndiscoverRootInstance\t\t http_method=get\tpath=/instance/\ngetInstance\t\t http_method=get\tpath=/instance/{name}\nlistInstance\t\t http_method=get\tpath=/instance/{container}/\nupdateInstance\t\t http_method=put\tpath=/instance/{name}\n"
     ]
    }
   ],
   "source": [
    "for operation_name in dir(instances_resource):\n",
    "    callable_operation = getattr(instances_resource, operation_name)\n",
    "    print(f\"{callable_operation.operation.operation_id}\\t\\t http_method={callable_operation.operation.http_method}\\tpath={callable_operation.operation.path_name}\")\n",
    "    \n",
    "    "
   ]
  },
  {
   "cell_type": "code",
   "execution_count": 17,
   "metadata": {},
   "outputs": [
    {
     "data": {
      "text/plain": [
       "<bravado.client.CallableOperation at 0x1d1a73e73c8>"
      ]
     },
     "execution_count": 17,
     "metadata": {},
     "output_type": "execute_result"
    }
   ],
   "source": [
    "callable_operation"
   ]
  },
  {
   "cell_type": "markdown",
   "metadata": {},
   "source": [
    "### discoverRootInstance\n",
    "\n",
    "<pre>\n",
    "{\n",
    "  \"swagger\" : \"2.0\",\n",
    "  \"info\" : {\n",
    "    \"version\" : \"17.4.2-20171207.013930\",\n",
    "    \"description\" : \"A Compute Classic instance is a virtual machine running a specific operating system and with CPU and memory resources that you specify. See <a target=\\\"_blank\\\" href=\\\"http://www.oracle.com/pls/topic/lookup?ctx=stcomputecs&id=STCSG-GUID-F928F362-2DB6-4E45-843F-C269E0740A36\\\">About Instances</a> in <em>Using Oracle Cloud Infrastructure Compute Classic</em>.<p>You can view and delete instances using the HTTP requests listed below.\",\n",
    "    \"title\" : \"Instances\"\n",
    "  },\n",
    "  \"schemes\" : [ \"http\" ],\n",
    "  \"consumes\" : [ \"application/oracle-compute-v3+json\", \"application/oracle-compute-v3+directory+json\" ],\n",
    "  \"produces\" : [ \"application/oracle-compute-v3+json\", \"application/oracle-compute-v3+directory+json\" ],\n",
    " <b><font color=\"red\"> \"paths\" : { </font></b>\n",
    " <b>    \"/instance/\" : {</b>\n",
    " <b><font color=\"red\">     \"get\" </font></b> : {\n",
    "        \"tags\" : [ \"Instances\" ],\n",
    "        \"summary\" : \"Retrieve Names of Containers\",\n",
    "        \"description\" : \"Retrieves the names of containers that contain objects that you can access. You can use this information to construct the multipart name of an object.<p>Required Role:To complete this task, you must have the <code>Compute_Monitor</code> or <code>Compute_Operations</code> role. If this role isn't assigned to you or you're not sure, then ask your system administrator to ensure that the role is assigned to you in Oracle Cloud My Services. See <a target=\\\"_blank\\\" href=\\\"http://www.oracle.com/pls/topic/lookup?ctx=stcomputecs&id=MMOCS-GUID-54C2E747-7D5B-451C-A39C-77936178EBB6\\\">Modifying User Roles</a> in <em>Managing and Monitoring Oracle Cloud</em>.\",\n",
    "      \"operationId\" : \"<b><font color=\"red\">discoverRootInstance </font></b>\",\n",
    "    <b><font color=\"red\">   \"responses\"</font> : { </b>\n",
    "     <b>     \"200\" : { </b>\n",
    "            \"headers\" : {\n",
    "     <b>         \"set-cookie\" : { </b>\n",
    "     <b>           \"type\" : \"string\", </b>\n",
    "      <b>          \"description\" : \"The cookie value is returned if the session is extended\" </b>\n",
    "              }\n",
    "            },\n",
    "            \"description\" : \"OK. See <a class=\\\"xref\\\" href=\\\"Status%20Codes.html\\\">Status Codes</a> for information about other possible HTTP status codes.\",\n",
    "            \"schema\" : {\n",
    "              <b>\"$ref\" : \"#/definitions/Instance-discover-response\"</b>\n",
    "            }\n",
    "          }\n",
    "        },\n",
    "        \"consumes\" : [ \"application/oracle-compute-v3+json\" ],\n",
    "        \"produces\" : [ \"application/oracle-compute-v3+directory+json\" ],\n",
    "     <font color=\"red\">   \"parameters\" </font>: [ {\n",
    "         <b> \"name\" : \"Cookie\",</b>\n",
    "          \"in\" : \"header\",\n",
    "          \"type\" : \"string\",\n",
    "          \"description\" : \"The Cookie: header must be included with every request to the service. It must be set to the value of the set-cookie header in the response received to the POST /authenticate/ call.\"\n",
    "        } ]\n",
    "      }\n",
    "    },\n",
    ".\n",
    ".\n",
    ".\n",
    "<font color=\"red\">  \"definitions\" </font>: {\n",
    ".\n",
    ".\n",
    ".\n",
    "\n",
    "    \"Instance-discover-response\" : {\n",
    "      \"properties\" : {\n",
    "        \"result\" : {\n",
    "          \"items\" : {\n",
    "            \"type\" : \"string\"\n",
    "          },\n",
    "          \"type\" : \"array\"\n",
    "        }\n",
    "      }\n",
    "    },\n",
    "</pre>\n",
    "\n",
    "\n",
    "\n",
    "\n",
    "\n",
    "\n",
    "\n",
    "\n"
   ]
  },
  {
   "cell_type": "code",
   "execution_count": 20,
   "metadata": {},
   "outputs": [],
   "source": [
    "\n",
    "@dataclass\n",
    "class GetOpReturn:\n",
    "    operation_details: Dict[str, Any]\n",
    "    operation_response: RequestsResponseAdapter\n",
    "\n",
    "\n",
    "def get_op(operation_id: str, **wkargs) -> Tuple[Dict[str, Any], RequestsResponseAdapter]:\n",
    "    print(f\"Operation {operation_id} starting.\")\n",
    "    try:\n",
    "        operation_future = getattr(instances_resource, operation_id)(**wkargs)\n",
    "        url = operation_future.future.request.url\n",
    "        print(f\"REST url for {operation_id}: {url}\")\n",
    "        operation_result, operation_response = operation_future.result()\n",
    "    except HTTPBadRequest:\n",
    "        print(\"Request failed for {operation_id}! \")\n",
    "        print(f\"URL: {operation_future.future.request.url}\")\n",
    "        raise\n",
    "    operation_details = json.loads(operation_result)\n",
    "    return GetOpReturn(operation_details,operation_response )\n",
    "#     print(\"\\n{} operation_details:\\nHTTP method: {}\\nAPI url: {}:\\n {}\\n\".format(operation_id, operation_future.operation.http_method, url, pformat(operation_details)))\n",
    "#     print(f\"Operation {operation_id} finished.\\n\")\n"
   ]
  },
  {
   "cell_type": "code",
   "execution_count": 21,
   "metadata": {},
   "outputs": [
    {
     "ename": "TypeError",
     "evalue": "request() got an unexpected keyword argument 'request_config'",
     "traceback": [
      "\u001b[1;31m---------------------------------------------------------------------------\u001b[0m",
      "\u001b[1;31mTypeError\u001b[0m                                 Traceback (most recent call last)",
      "\u001b[1;32m<ipython-input-21-933ddd4b762d>\u001b[0m in \u001b[0;36m<module>\u001b[1;34m()\u001b[0m\n\u001b[0;32m      1\u001b[0m \u001b[0moperation_id\u001b[0m \u001b[1;33m=\u001b[0m \u001b[1;34m\"discoverRootInstance\"\u001b[0m\u001b[1;33m\u001b[0m\u001b[0m\n\u001b[1;32m----> 2\u001b[1;33m \u001b[0moperation_future\u001b[0m \u001b[1;33m=\u001b[0m \u001b[0mgetattr\u001b[0m\u001b[1;33m(\u001b[0m\u001b[0minstances_resource\u001b[0m\u001b[1;33m,\u001b[0m \u001b[0moperation_id\u001b[0m\u001b[1;33m)\u001b[0m\u001b[1;33m(\u001b[0m\u001b[1;33m)\u001b[0m\u001b[1;33m\u001b[0m\u001b[0m\n\u001b[0m",
      "\u001b[1;32mC:\\tools\\python_3.6\\lib\\site-packages\\bravado\\client.py\u001b[0m in \u001b[0;36m__call__\u001b[1;34m(self, **op_kwargs)\u001b[0m\n\u001b[0;32m    252\u001b[0m             \u001b[0mrequest_params\u001b[0m\u001b[1;33m,\u001b[0m\u001b[1;33m\u001b[0m\u001b[0m\n\u001b[0;32m    253\u001b[0m             \u001b[0moperation\u001b[0m\u001b[1;33m=\u001b[0m\u001b[0mself\u001b[0m\u001b[1;33m.\u001b[0m\u001b[0moperation\u001b[0m\u001b[1;33m,\u001b[0m\u001b[1;33m\u001b[0m\u001b[0m\n\u001b[1;32m--> 254\u001b[1;33m             \u001b[0mrequest_config\u001b[0m\u001b[1;33m=\u001b[0m\u001b[0mrequest_config\u001b[0m\u001b[1;33m,\u001b[0m\u001b[1;33m\u001b[0m\u001b[0m\n\u001b[0m\u001b[0;32m    255\u001b[0m         )\n\u001b[0;32m    256\u001b[0m \u001b[1;33m\u001b[0m\u001b[0m\n",
      "\u001b[1;31mTypeError\u001b[0m: request() got an unexpected keyword argument 'request_config'"
     ],
     "output_type": "error"
    }
   ],
   "source": [
    "operation_id = \"discoverRootInstance\"\n",
    "operation_future = getattr(instances_resource, operation_id)()"
   ]
  },
  {
   "cell_type": "code",
   "execution_count": 22,
   "metadata": {
    "collapsed": true
   },
   "outputs": [
    {
     "name": "stdout",
     "output_type": "stream",
     "text": [
      "Operation discoverRootInstance starting.\n"
     ]
    },
    {
     "ename": "TypeError",
     "evalue": "request() got an unexpected keyword argument 'request_config'",
     "traceback": [
      "\u001b[1;31m---------------------------------------------------------------------------\u001b[0m",
      "\u001b[1;31mTypeError\u001b[0m                                 Traceback (most recent call last)",
      "\u001b[1;32m<ipython-input-22-11131b26029d>\u001b[0m in \u001b[0;36m<module>\u001b[1;34m()\u001b[0m\n\u001b[0;32m      2\u001b[0m \u001b[0mprint\u001b[0m\u001b[1;33m(\u001b[0m\u001b[1;34mf\"Operation {operation_id} starting.\"\u001b[0m\u001b[1;33m)\u001b[0m\u001b[1;33m\u001b[0m\u001b[0m\n\u001b[0;32m      3\u001b[0m \u001b[1;32mtry\u001b[0m\u001b[1;33m:\u001b[0m\u001b[1;33m\u001b[0m\u001b[0m\n\u001b[1;32m----> 4\u001b[1;33m     \u001b[0moperation_future\u001b[0m \u001b[1;33m=\u001b[0m \u001b[0mgetattr\u001b[0m\u001b[1;33m(\u001b[0m\u001b[0minstances_resource\u001b[0m\u001b[1;33m,\u001b[0m \u001b[0moperation_id\u001b[0m\u001b[1;33m)\u001b[0m\u001b[1;33m(\u001b[0m\u001b[1;33m)\u001b[0m\u001b[1;33m\u001b[0m\u001b[0m\n\u001b[0m\u001b[0;32m      5\u001b[0m     \u001b[0murl\u001b[0m \u001b[1;33m=\u001b[0m \u001b[0moperation_future\u001b[0m\u001b[1;33m.\u001b[0m\u001b[0mfuture\u001b[0m\u001b[1;33m.\u001b[0m\u001b[0mrequest\u001b[0m\u001b[1;33m.\u001b[0m\u001b[0murl\u001b[0m\u001b[1;33m\u001b[0m\u001b[0m\n\u001b[0;32m      6\u001b[0m     \u001b[0mprint\u001b[0m\u001b[1;33m(\u001b[0m\u001b[1;34mf\"REST url for {operation_id}: {url}\"\u001b[0m\u001b[1;33m)\u001b[0m\u001b[1;33m\u001b[0m\u001b[0m\n",
      "\u001b[1;32mC:\\tools\\python_3.6\\lib\\site-packages\\bravado\\client.py\u001b[0m in \u001b[0;36m__call__\u001b[1;34m(self, **op_kwargs)\u001b[0m\n\u001b[0;32m    252\u001b[0m             \u001b[0mrequest_params\u001b[0m\u001b[1;33m,\u001b[0m\u001b[1;33m\u001b[0m\u001b[0m\n\u001b[0;32m    253\u001b[0m             \u001b[0moperation\u001b[0m\u001b[1;33m=\u001b[0m\u001b[0mself\u001b[0m\u001b[1;33m.\u001b[0m\u001b[0moperation\u001b[0m\u001b[1;33m,\u001b[0m\u001b[1;33m\u001b[0m\u001b[0m\n\u001b[1;32m--> 254\u001b[1;33m             \u001b[0mrequest_config\u001b[0m\u001b[1;33m=\u001b[0m\u001b[0mrequest_config\u001b[0m\u001b[1;33m,\u001b[0m\u001b[1;33m\u001b[0m\u001b[0m\n\u001b[0m\u001b[0;32m    255\u001b[0m         )\n\u001b[0;32m    256\u001b[0m \u001b[1;33m\u001b[0m\u001b[0m\n",
      "\u001b[1;31mTypeError\u001b[0m: request() got an unexpected keyword argument 'request_config'"
     ],
     "output_type": "error"
    }
   ],
   "source": [
    "operation_id = \"discoverRootInstance\"\n",
    "print(f\"Operation {operation_id} starting.\")\n",
    "try:\n",
    "    operation_future = getattr(instances_resource, operation_id)()\n",
    "    url = operation_future.future.request.url\n",
    "    print(f\"REST url for {operation_id}: {url}\")\n",
    "    operation_result, operation_response = operation_future.result()\n",
    "except HTTPBadRequest:\n",
    "    print(\"Request failed for {operation_id}! \")\n",
    "    print(f\"URL: {operation_future.future.request.url}\")\n",
    "    raise\n",
    "operation_details = json.loads(operation_result)\n",
    "print(\"\\n{} operation_details:\\nHTTP method: {}\\nAPI url: {}:\\n {}\\n\".format(operation_id, operation_future.operation.http_method, url, pformat(operation_details)))\n",
    "print(f\"Operation {operation_id} finished.\\n\")"
   ]
  },
  {
   "cell_type": "code",
   "execution_count": 27,
   "metadata": {
    "collapsed": false
   },
   "outputs": [
    {
     "name": "stdout",
     "output_type": "stream",
     "text": [
      "container: Compute-587626604/eric.harris@oracle.com/\n"
     ]
    }
   ],
   "source": [
    "# result_container = operation_details['result'][0].lstrip('/').rstrip('/')\n",
    "result_container = 'Compute-587626604'\n",
    "container = f\"{result_container}/{opc_username}/\"\n",
    "print(f\"container: {container}\")"
   ]
  },
  {
   "cell_type": "code",
   "execution_count": 21,
   "metadata": {},
   "outputs": [
    {
     "name": "stdout",
     "output_type": "stream",
     "text": [
      "Operation discoverInstance starting.\n"
     ]
    },
    {
     "ename": "NameError",
     "evalue": "name 'operation_details' is not defined",
     "traceback": [
      "\u001b[1;31m---------------------------------------------------------------------------\u001b[0m",
      "\u001b[1;31mNameError\u001b[0m                                 Traceback (most recent call last)",
      "\u001b[1;32m<ipython-input-21-bde3faceef18>\u001b[0m in \u001b[0;36m<module>\u001b[1;34m()\u001b[0m\n\u001b[0;32m      3\u001b[0m \u001b[1;32mtry\u001b[0m\u001b[1;33m:\u001b[0m\u001b[1;33m\u001b[0m\u001b[0m\n\u001b[0;32m      4\u001b[0m     \u001b[1;31m# API url: https://compute.uscom-central-1.oraclecloud.com/instance/Compute-587626604\u001b[0m\u001b[1;33m\u001b[0m\u001b[1;33m\u001b[0m\u001b[0m\n\u001b[1;32m----> 5\u001b[1;33m     \u001b[0mcontainer\u001b[0m \u001b[1;33m=\u001b[0m \u001b[0moperation_details\u001b[0m\u001b[1;33m[\u001b[0m\u001b[1;34m'result'\u001b[0m\u001b[1;33m]\u001b[0m\u001b[1;33m[\u001b[0m\u001b[1;36m0\u001b[0m\u001b[1;33m]\u001b[0m\u001b[1;33m.\u001b[0m\u001b[0mlstrip\u001b[0m\u001b[1;33m(\u001b[0m\u001b[1;34m'/'\u001b[0m\u001b[1;33m)\u001b[0m\u001b[1;33m.\u001b[0m\u001b[0mrstrip\u001b[0m\u001b[1;33m(\u001b[0m\u001b[1;34m'/'\u001b[0m\u001b[1;33m)\u001b[0m\u001b[1;33m\u001b[0m\u001b[0m\n\u001b[0m\u001b[0;32m      6\u001b[0m     \u001b[1;31m# # API url: https://compute.uscom-central-1.oraclecloud.com/instance/Compute-587626604/eric.harris@oracle.com\u001b[0m\u001b[1;33m\u001b[0m\u001b[1;33m\u001b[0m\u001b[0m\n\u001b[0;32m      7\u001b[0m     \u001b[1;31m# container = f\"{container}/{opc_username}\"\u001b[0m\u001b[1;33m\u001b[0m\u001b[1;33m\u001b[0m\u001b[0m\n",
      "\u001b[1;31mNameError\u001b[0m: name 'operation_details' is not defined"
     ],
     "output_type": "error"
    }
   ],
   "source": [
    "operation_id = \"discoverInstance\"\n",
    "print(f\"Operation {operation_id} starting.\")\n",
    "try:\n",
    "    # API url: https://compute.uscom-central-1.oraclecloud.com/instance/Compute-587626604\n",
    "    result_container = operation_details['result'][0].lstrip('/').rstrip('/')\n",
    "    # # API url: https://compute.uscom-central-1.oraclecloud.com/instance/Compute-587626604/eric.harris@oracle.com\n",
    "    # container = f\"{container}/{opc_username}\"\n",
    "    # # API url: https://compute.uscom-central-1.oraclecloud.com/instance/Compute-587626604/eric.harris@oracle.com/\n",
    "    container = f\"{result_container}/{opc_username}/\"\n",
    "    print(f\"container: {container}\")\n",
    "    operation_future = getattr(instances_resource, operation_id)(container=container)\n",
    "    url = operation_future.future.request.url\n",
    "    print(f\"REST url for {operation_id}: {url}\")\n",
    "    operation_result, operation_response = operation_future.result()\n",
    "except HTTPBadRequest:\n",
    "    print(\"Request failed for {operation_id}! \")\n",
    "    print(f\"URL: {operation_future.future.request.url}\")\n",
    "    raise\n",
    "operation_details = json.loads(operation_result)\n",
    "print(\"\\n{} operation_details:\\nHTTP method: {}\\nAPI url: {}:\\n {}\\n\".format(operation_id, operation_future.operation.http_method, url, pformat(operation_details)))\n",
    "print(f\"Operation {operation_id} finished.\\n\")"
   ]
  },
  {
   "cell_type": "code",
   "execution_count": 21,
   "metadata": {
    "scrolled": true
   },
   "outputs": [
    {
     "name": "stdout",
     "output_type": "stream",
     "text": [
      "Operation listInstance starting.\ncontainer: Compute-587626604/eric.harris@oracle.com/GC3NAAC-CDMT-LWS1\n"
     ]
    },
    {
     "ename": "TypeError",
     "evalue": "request() got an unexpected keyword argument 'request_config'",
     "traceback": [
      "\u001b[1;31m---------------------------------------------------------------------------\u001b[0m",
      "\u001b[1;31mTypeError\u001b[0m                                 Traceback (most recent call last)",
      "\u001b[1;32m<ipython-input-21-bc6f17c7eb87>\u001b[0m in \u001b[0;36m<module>\u001b[1;34m()\u001b[0m\n\u001b[0;32m      6\u001b[0m     \u001b[0mcontainer\u001b[0m \u001b[1;33m=\u001b[0m \u001b[1;34m'Compute-587626604/eric.harris@oracle.com/GC3NAAC-CDMT-LWS1'\u001b[0m\u001b[1;33m\u001b[0m\u001b[0m\n\u001b[0;32m      7\u001b[0m     \u001b[0mprint\u001b[0m\u001b[1;33m(\u001b[0m\u001b[1;34mf\"container: {container}\"\u001b[0m\u001b[1;33m)\u001b[0m\u001b[1;33m\u001b[0m\u001b[0m\n\u001b[1;32m----> 8\u001b[1;33m     \u001b[0moperation_future\u001b[0m \u001b[1;33m=\u001b[0m \u001b[0mgetattr\u001b[0m\u001b[1;33m(\u001b[0m\u001b[0minstances_resource\u001b[0m\u001b[1;33m,\u001b[0m \u001b[0moperation_id\u001b[0m\u001b[1;33m)\u001b[0m\u001b[1;33m(\u001b[0m\u001b[0mcontainer\u001b[0m\u001b[1;33m=\u001b[0m\u001b[0mcontainer\u001b[0m\u001b[1;33m)\u001b[0m\u001b[1;33m\u001b[0m\u001b[0m\n\u001b[0m\u001b[0;32m      9\u001b[0m     \u001b[0murl\u001b[0m \u001b[1;33m=\u001b[0m \u001b[0moperation_future\u001b[0m\u001b[1;33m.\u001b[0m\u001b[0mfuture\u001b[0m\u001b[1;33m.\u001b[0m\u001b[0mrequest\u001b[0m\u001b[1;33m.\u001b[0m\u001b[0murl\u001b[0m\u001b[1;33m\u001b[0m\u001b[0m\n\u001b[0;32m     10\u001b[0m     \u001b[0mprint\u001b[0m\u001b[1;33m(\u001b[0m\u001b[1;34mf\"REST url for {operation_id}: {url}\"\u001b[0m\u001b[1;33m)\u001b[0m\u001b[1;33m\u001b[0m\u001b[0m\n",
      "\u001b[1;32mC:\\tools\\python_3.6\\lib\\site-packages\\bravado\\client.py\u001b[0m in \u001b[0;36m__call__\u001b[1;34m(self, **op_kwargs)\u001b[0m\n\u001b[0;32m    252\u001b[0m             \u001b[0mrequest_params\u001b[0m\u001b[1;33m,\u001b[0m\u001b[1;33m\u001b[0m\u001b[0m\n\u001b[0;32m    253\u001b[0m             \u001b[0moperation\u001b[0m\u001b[1;33m=\u001b[0m\u001b[0mself\u001b[0m\u001b[1;33m.\u001b[0m\u001b[0moperation\u001b[0m\u001b[1;33m,\u001b[0m\u001b[1;33m\u001b[0m\u001b[0m\n\u001b[1;32m--> 254\u001b[1;33m             \u001b[0mrequest_config\u001b[0m\u001b[1;33m=\u001b[0m\u001b[0mrequest_config\u001b[0m\u001b[1;33m,\u001b[0m\u001b[1;33m\u001b[0m\u001b[0m\n\u001b[0m\u001b[0;32m    255\u001b[0m         )\n\u001b[0;32m    256\u001b[0m \u001b[1;33m\u001b[0m\u001b[0m\n",
      "\u001b[1;31mTypeError\u001b[0m: request() got an unexpected keyword argument 'request_config'"
     ],
     "output_type": "error"
    }
   ],
   "source": [
    "operation_id = \"listInstance\"\n",
    "print(f\"Operation {operation_id} starting.\")\n",
    "try:\n",
    "    # container = operation_details['result'][0].lstrip('/').rstrip('/')\n",
    "    # container = 'Compute-587626604/eric.harris@oracle.com'\n",
    "    container = 'Compute-587626604/eric.harris@oracle.com/GC3NAAC-CDMT-LWS1'\n",
    "    print(f\"container: {container}\")\n",
    "    operation_future = getattr(instances_resource, operation_id)(container=container)\n",
    "    url = operation_future.future.request.url\n",
    "    print(f\"REST url for {operation_id}: {url}\")\n",
    "    operation_result, operation_response = operation_future.result()\n",
    "except HTTPBadRequest:\n",
    "    print(\"Request failed for {operation_id}! \")\n",
    "    print(f\"URL: {operation_future.future.request.url}\")\n",
    "    raise\n",
    "operation_details = json.loads(operation_result)\n",
    "print(\"\\n{} operation_details:\\nHTTP method: {}\\nAPI url: {}:\\n {}\\n\".format(operation_id, operation_future.operation.http_method, url, pformat(operation_details)))\n",
    "print(f\"Operation {operation_id} finished.\")"
   ]
  },
  {
   "cell_type": "code",
   "execution_count": 22,
   "metadata": {},
   "outputs": [
    {
     "ename": "NameError",
     "evalue": "name 'operation_details' is not defined",
     "traceback": [
      "\u001b[1;31m---------------------------------------------------------------------------\u001b[0m",
      "\u001b[1;31mNameError\u001b[0m                                 Traceback (most recent call last)",
      "\u001b[1;32m<ipython-input-22-b797d0fdcc13>\u001b[0m in \u001b[0;36m<module>\u001b[1;34m()\u001b[0m\n\u001b[1;32m----> 1\u001b[1;33m \u001b[0moperation_details\u001b[0m\u001b[1;33m\u001b[0m\u001b[0m\n\u001b[0m",
      "\u001b[1;31mNameError\u001b[0m: name 'operation_details' is not defined"
     ],
     "output_type": "error"
    }
   ],
   "source": [
    "operation_details"
   ]
  },
  {
   "cell_type": "markdown",
   "metadata": {},
   "source": [
    "#### Back to our example\n",
    "\n",
    "<pre>\n",
    "(psmcli) [root@eharris-lnxobi-01 ~]#<b> opc -f json compute instance list -h </b>\n",
    "NAME:\n",
    "   compute instance list - <font color=\"red\">Retrieve Details of all Instances in a Container</font>\n",
    "\n",
    "USAGE:\n",
    "   compute instance list container [options...]\n",
    "\n",
    "DESCRIPTION:\n",
    "   Retrieve Details of all Instances in a Container\n",
    "\n",
    "REQUIRED ARGUMENTS:\n",
    "   container - /Compute-identity_domain/user or    /Compute-identity_domain\n",
    "\n",
    "OPTIONS:\n",
    "   --availability-domain value  The availability domain the instance is in\n",
    "   --tags value                 Strings used to tag the instance. When you specify tags, only instances tagged with the specified value are displayed.\n",
    "\n",
    "(psmcli) [root@eharris-lnxobi-01 ~]#\n",
    "\n",
    "\n",
    "<h4>Instances Swagger Definition</h4>\n",
    "\n",
    "\n",
    "{\n",
    "  \"swagger\" : \"2.0\",\n",
    "  \"info\" : {\n",
    "    \"version\" : \"17.4.2-20171207.013930\",\n",
    "    \"description\" : \"A Compute Classic instance is a virtual machine running a specific operating system and with CPU and memory resources that you specify. See <a target=\\\"_blank\\\" href=\\\"http://www.oracle.com/pls/topic/lookup?ctx=stcomputecs&id=STCSG-GUID-F928F362-2DB6-4E45-843F-C269E0740A36\\\">About Instances</a> in <em>Using Oracle Cloud Infrastructure Compute Classic</em>.<p>You can view and delete instances using the HTTP requests listed below.\",\n",
    "    \"title\" : \"Instances\"\n",
    "  },\n",
    "  \"schemes\" : [ \"https\" ],\n",
    "  \"consumes\" : [ \"application/oracle-compute-v3+json\", \"application/oracle-compute-v3+directory+json\" ],\n",
    "  \"produces\" : [ \"application/oracle-compute-v3+json\", \"application/oracle-compute-v3+directory+json\" ],\n",
    "  \"paths\" : {\n",
    "    .\n",
    "    .\n",
    "    .\n",
    "\n",
    "    \"/instance/{container}/\" : {\n",
    "      \"get\" : {\n",
    "        \"tags\" : [ \"Instances\" ],\n",
    "        \"summary\" : <font color=\"red\">\"Retrieve Details of all Instances in a Container\",</font>\n",
    "        \"description\" : \"Retrieves details of the instances that are in the specified container and match the specified query criteria. If you don't specify any query criteria, then details of all the instances in the container are displayed. To filter the search results, you can pass one or more of the following query parameters, by appending them to the URI in the following syntax:<p><code>?parameter1=value1&ampparameter2=value2&ampparameterN=valueN</code><p><b>Required Role: </b>To complete this task, you must have the <code>Compute_Monitor</code> or <code>Compute_Operations</code> role. If this role isn't assigned to you or you're not sure, then ask your system administrator to ensure that the role is assigned to you in Oracle Cloud My Services. See <a target=\\\"_blank\\\" href=\\\"http://www.oracle.com/pls/topic/lookup?ctx=stcomputecs&id=MMOCS-GUID-54C2E747-7D5B-451C-A39C-77936178EBB6\\\">Modifying User Roles</a> in <em>Managing and Monitoring Oracle Cloud</em>.\",\n",
    "        \"operationId\" : \"listInstance\",\n",
    "        \"responses\" : {\n",
    "          \"200\" : {\n",
    "            \"headers\" : {\n",
    "              \"set-cookie\" : {\n",
    "                \"type\" : \"string\",\n",
    "                \"description\" : \"The cookie value is returned if the session is extended\"\n",
    "              }\n",
    "            },\n",
    "            \"description\" : \"OK. See <a class=\\\"xref\\\" href=\\\"Status%20Codes.html\\\">Status Codes</a> for information about other possible HTTP status codes.\",\n",
    "            \"schema\" : {\n",
    "              \"$ref\" : \"#/definitions/Instance-list-response\"\n",
    "            }\n",
    "          }\n",
    "        },\n",
    "        \"consumes\" : [ \"application/oracle-compute-v3+json\" ],\n",
    "        \"produces\" : [ \"application/oracle-compute-v3+json\" ],\n",
    "        \"parameters\" : [ {\n",
    "          \"name\" : \"container\",\n",
    "          \"in\" : \"path\",\n",
    "          \"description\" : \"<code>/Compute-<em>identity_domain</em>/<em>user</em></code> or <p><code>/Compute-<em>identity_domain</em></code>\",\n",
    "          \"required\" : true,\n",
    "          \"type\" : \"string\"\n",
    "        }, {\n",
    "          \"name\" : \"availability_domain\",\n",
    "          \"in\" : \"query\",\n",
    "          \"description\" : \"The availability domain the instance is in\",\n",
    "          \"required\" : false,\n",
    "          \"type\" : \"string\"\n",
    "        }, {\n",
    "          \"name\" : \"tags\",\n",
    "          \"in\" : \"query\",\n",
    "          \"description\" : \"Strings used to tag the instance. When you specify tags, only instances tagged with the specified value are displayed.\",\n",
    "          \"required\" : false,\n",
    "          \"type\" : \"array\",\n",
    "          \"items\" : {\n",
    "            \"type\" : \"string\"\n",
    "          }\n",
    "        }, {\n",
    "          \"name\" : \"Cookie\",\n",
    "          \"in\" : \"header\",\n",
    "          \"type\" : \"string\",\n",
    "          \"description\" : \"The Cookie: header must be included with every request to the service. It must be set to the value of the set-cookie header in the response received to the POST /authenticate/ call.\"\n",
    "        } ]\n",
    "      }\n",
    "    },\n",
    "\n",
    "\n",
    "\n",
    "\n",
    "</pre>"
   ]
  },
  {
   "cell_type": "code",
   "execution_count": 19,
   "metadata": {},
   "outputs": [
    {
     "data": {
      "text/plain": [
       "['/Compute-587626604/eric.harris@oracle.com/GC3NAAC-CDMT-LWS1/c17bb7ea-724b-4e51-ab72-1bd8714f07b7']"
      ]
     },
     "execution_count": 19,
     "metadata": {},
     "output_type": "execute_result"
    }
   ],
   "source": [
    "operation_details['result']"
   ]
  },
  {
   "cell_type": "code",
   "execution_count": 20,
   "metadata": {},
   "outputs": [],
   "source": [
    "headers = dict([('Content-Type', 'application/oracle-compute-v3+json'),\n",
    "                ('Accept', 'application/oracle-compute-v3+json, json, text/html')])\n",
    "\n",
    "\n",
    "requests_client = OCRequestsClient()\n",
    "requests_client.session.headers.update(headers)\n",
    "requests_client.session.proxies.update(proxies)\n",
    "requests_client.session.headers.update(cookie_header)\n",
    "swagger_client = SwaggerClient.from_spec(spec_dict=spec_dict,\n",
    "                                         origin_url=iaas_rest_endpoint,\n",
    "                                         http_client=requests_client,\n",
    "                                         # config={'also_return_response': True,\n",
    "                                         #         'validate_responses': True,\n",
    "                                         #         'validate_requests': True,\n",
    "                                         #         'validate_swagger_spec': True})\n",
    "                                         # config={'also_return_response': True,\n",
    "                                         #         'validate_responses': False,\n",
    "                                         #         'validate_requests': True,\n",
    "                                         #         'validate_swagger_spec': True})\n",
    "                                         config={'also_return_response': True,\n",
    "                                                 'validate_responses': False,\n",
    "                                                 'validate_requests': False,\n",
    "                                                 'validate_swagger_spec': False})\n",
    "instances_resource = swagger_client.Instances"
   ]
  },
  {
   "cell_type": "markdown",
   "metadata": {},
   "source": [
    "\n",
    "\n",
    "<pre>\n",
    "    \"Instance-response\" : {\n",
    "      \"properties\" : {\n",
    "        \"account\" : {\n",
    "          \"type\" : \"string\",\n",
    "          \"description\" : \"Shows the default account for your identity domain.\"\n",
    "        },\n",
    "        \"attributes\" : {\n",
    "          \"additionalProperties\" : {\n",
    "            \"type\" : \"object\"\n",
    "          },\n",
    "          \"type\" : \"object\",\n",
    "          \"description\" : \"A dictionary of attributes to be made available to the instance. A value with the key \\\"userdata\\\" will be made available in an EC2-compatible manner.\"\n",
    "        },\n",
    "        \"availability_domain\" : {\n",
    "          \"type\" : \"string\",\n",
    "          \"description\" : \"The availability domain the instance is in\"\n",
    "        },\n",
    "        \"boot_order\" : {\n",
    "          \"items\" : {\n",
    "            \"type\" : \"integer\"\n",
    "          },\n",
    "          \"type\" : \"array\",\n",
    "          \"description\" : \"Boot order list.\"\n",
    "        },\n",
    "        \"desired_state\" : {\n",
    "          \"type\" : \"string\",\n",
    "          \"description\" : \"Desired state for the instance. The value can be <code>shutdown</code> or <code>running</code> to shutdown an instance or to restart a previously shutdown instance respectively.\"\n",
    "        },\n",
    "        \"disk_attach\" : {\n",
    "          \"type\" : \"string\",\n",
    "          \"description\" : \"A label assigned by the user to identify disks.\"\n",
    "        },\n",
    "        \"domain\" : {\n",
    "          \"type\" : \"string\",\n",
    "          \"description\" : \"The default domain to use for the hostname and for DNS lookups.\"\n",
    "        },\n",
    "        \"entry\" : {\n",
    "          \"type\" : \"integer\",\n",
    "          \"description\" : \"Optional imagelistentry number (default will be used if not specified).\"\n",
    "        },\n",
    "        \"error_reason\" : {\n",
    "          \"type\" : \"string\",\n",
    "          \"description\" : \"The reason for the instance going to error state, if available.\"\n",
    "        },\n",
    "        \"fingerprint\" : {\n",
    "          \"type\" : \"string\",\n",
    "          \"description\" : \"SSH server fingerprint presented by the instance.\"\n",
    "        },\n",
    "        \"hostname\" : {\n",
    "          \"type\" : \"string\",\n",
    "          \"description\" : \"The hostname for this instance.\"\n",
    "        },\n",
    "        \"hypervisor\" : {\n",
    "          \"additionalProperties\" : {\n",
    "            \"type\" : \"object\"\n",
    "          },\n",
    "          \"type\" : \"object\",\n",
    "          \"description\" : \"A dictionary of hypervisor-specific attributes.\"\n",
    "        },\n",
    "        \"image_format\" : {\n",
    "          \"type\" : \"string\",\n",
    "          \"description\" : \"The format of the image.\"\n",
    "        },\n",
    "        \"imagelist\" : {\n",
    "          \"type\" : \"string\",\n",
    "          \"description\" : \"Name of imagelist to be launched.\"\n",
    "        },\n",
    "        \"ip\" : {\n",
    "          \"type\" : \"string\",\n",
    "          \"description\" : \"IP address of the instance.\"\n",
    "        },\n",
    "        \"label\" : {\n",
    "          \"type\" : \"string\",\n",
    "          \"description\" : \"A label assigned by the user, specifically for defining inter-instance relationships.\"\n",
    "        },\n",
    "        \"name\" : {\n",
    "          \"type\" : \"string\",\n",
    "          \"description\" : \"Multipart name of the instance.\"\n",
    "        },\n",
    "        \"networking\" : {\n",
    "          \"additionalProperties\" : {\n",
    "            \"type\" : \"object\"\n",
    "          },\n",
    "          \"type\" : \"object\",\n",
    "          \"description\" : \"Mapping of <device name> to network specifiers for virtual NICs to be attached to this instance.\"\n",
    "        },\n",
    "        \"placement_requirements\" : {\n",
    "          \"items\" : {\n",
    "            \"type\" : \"string\"\n",
    "          },\n",
    "          \"type\" : \"array\",\n",
    "          \"description\" : \"A list of strings specifying arbitrary tags on nodes to be matched on placement.\"\n",
    "        },\n",
    "        \"platform\" : {\n",
    "          \"type\" : \"string\",\n",
    "          \"description\" : \"The OS platform for the instance.\"\n",
    "        },\n",
    "        \"priority\" : {\n",
    "          \"type\" : \"string\",\n",
    "          \"description\" : \"The priority at which this instance will be run.\"\n",
    "        },\n",
    "        \"quota\" : {\n",
    "          \"type\" : \"string\",\n",
    "          \"description\" : \"Not used\"\n",
    "        },\n",
    "        \"relationships\" : {\n",
    "          \"items\" : {\n",
    "            \"additionalProperties\" : {\n",
    "              \"type\" : \"object\"\n",
    "            },\n",
    "            \"type\" : \"object\"\n",
    "          },\n",
    "          \"type\" : \"array\",\n",
    "          \"description\" : \"A list of relationship specifications to be satisfied on this instance's placement\"\n",
    "        },\n",
    "        \"resolvers\" : {\n",
    "          \"items\" : {\n",
    "            \"type\" : \"string\"\n",
    "          },\n",
    "          \"type\" : \"array\",\n",
    "          \"description\" : \"Resolvers to use instead of the default resolvers.\"\n",
    "        },\n",
    "        \"reverse_dns\" : {\n",
    "          \"type\" : \"boolean\",\n",
    "          \"description\" : \"Add PTR records for the hostname.\"\n",
    "        },\n",
    "        \"shape\" : {\n",
    "          \"type\" : \"string\",\n",
    "          \"description\" : \"A shape is a resource profile that specifies the number of CPU threads and the amount of memory (in MB) to be allocated to an instance.\"\n",
    "        },\n",
    "        \"sshkeys\" : {\n",
    "          \"items\" : {\n",
    "            \"type\" : \"string\"\n",
    "          },\n",
    "          \"type\" : \"array\",\n",
    "          \"description\" : \"SSH keys that will be exposed to the instance.\"\n",
    "        },\n",
    "        \"start_time\" : {\n",
    "          \"type\" : \"string\",\n",
    "          \"description\" : \"Start time of the instance.\"\n",
    "        },\n",
    "        \"state\" : {\n",
    "          \"type\" : \"string\",\n",
    "          \"description\" : \"State of the instance.\"\n",
    "        },\n",
    "        \"storage_attachments\" : {\n",
    "          \"items\" : {\n",
    "            \"type\" : \"string\"\n",
    "          },\n",
    "          \"type\" : \"array\",\n",
    "          \"description\" : \"List of dictionaries containing storage attachment Information.\"\n",
    "        },\n",
    "        \"tags\" : {\n",
    "          \"items\" : {\n",
    "            \"type\" : \"string\"\n",
    "          },\n",
    "          \"type\" : \"array\",\n",
    "          \"description\" : \"Comma-separated list of strings used to tag the instance.\"\n",
    "        },\n",
    "        \"uri\" : {\n",
    "          \"type\" : \"string\",\n",
    "          \"description\" : \"Uniform Resource Identifier\"\n",
    "        },\n",
    "        \"vcable_id\" : {\n",
    "          \"type\" : \"string\",\n",
    "          \"description\" : \"vCable for this instance.\"\n",
    "        },\n",
    "        \"vnc\" : {\n",
    "          \"type\" : \"string\",\n",
    "          \"description\" : \"IP address and port of the VNC console for the instance.\"\n",
    "        }\n",
    "      }\n",
    "    },\n",
    "\n",
    "</pre>\n",
    "\n"
   ]
  },
  {
   "cell_type": "code",
   "execution_count": 21,
   "metadata": {},
   "outputs": [
    {
     "name": "stdout",
     "output_type": "stream",
     "text": [
      "\n",
      "Operation getInstance starting.\n",
      "name: Compute-587626604/eric.harris@oracle.com/GC3NAAC-CDMT-LWS1/c17bb7ea-724b-4e51-ab72-1bd8714f07b7\n",
      "[2018-05-16 15:12:53.993313] DEBUG: gc3_query.lib.bravado.requests_client: input request_params={'method': 'GET', 'url': 'https://compute.uscom-central-1.oraclecloud.com/instance/Compute-587626604%2Feric.harris%40oracle.com%2FGC3NAAC-CDMT-LWS1%2Fc17bb7ea-724b-4e51-ab72-1bd8714f07b7', 'params': {}, 'headers': {}}\n",
      "[2018-05-16 15:12:53.997345] DEBUG: gc3_query.lib.bravado.requests_client: url=https://compute.uscom-central-1.oraclecloud.com/instance/Compute-587626604%2Feric.harris%40oracle.com%2FGC3NAAC-CDMT-LWS1%2Fc17bb7ea-724b-4e51-ab72-1bd8714f07b7 parsed_url=ParseResult(scheme='https', netloc='compute.uscom-central-1.oraclecloud.com', path='/instance/Compute-587626604%2Feric.harris%40oracle.com%2FGC3NAAC-CDMT-LWS1%2Fc17bb7ea-724b-4e51-ab72-1bd8714f07b7', params='', query='', fragment=''), unqoted_path=/instance/Compute-587626604/eric.harris@oracle.com/GC3NAAC-CDMT-LWS1/c17bb7ea-724b-4e51-ab72-1bd8714f07b7, requoted_path=/instance/Compute-587626604/eric.harris%40oracle.com/GC3NAAC-CDMT-LWS1/c17bb7ea-724b-4e51-ab72-1bd8714f07b7, new_url=https://compute.uscom-central-1.oraclecloud.com/instance/Compute-587626604/eric.harris@oracle.com/GC3NAAC-CDMT-LWS1/c17bb7ea-724b-4e51-ab72-1bd8714f07b7\n",
      "[2018-05-16 15:12:53.999303] DEBUG: gc3_query.lib.bravado.requests_client: returned request_params={'method': 'GET', 'url': 'https://compute.uscom-central-1.oraclecloud.com/instance/Compute-587626604/eric.harris@oracle.com/GC3NAAC-CDMT-LWS1/c17bb7ea-724b-4e51-ab72-1bd8714f07b7', 'params': {}, 'headers': {}}\n",
      "REST url for getInstance: https://compute.uscom-central-1.oraclecloud.com/instance/Compute-587626604/eric.harris@oracle.com/GC3NAAC-CDMT-LWS1/c17bb7ea-724b-4e51-ab72-1bd8714f07b7\n",
      "Accept Header=[application/oracle-compute-v3+json, json, text/html], Content-Type Header=[application/oracle-compute-v3+json]\n",
      "\n",
      "getInstance operation_details:\n",
      "HTTP method: get\n",
      "API url: https://compute.uscom-central-1.oraclecloud.com/instance/Compute-587626604/eric.harris@oracle.com/GC3NAAC-CDMT-LWS1/c17bb7ea-724b-4e51-ab72-1bd8714f07b7:\n",
      " {'account': '/Compute-587626604/default',\n",
      " 'attributes': {'dns': {'domain': 'compute-587626604.oraclecloud.internal.',\n",
      "                        'hostname': 'gc3naac-cdmt-lws1.compute-587626604.oraclecloud.internal.',\n",
      "                        'nimbula_vcable-eth0': 'gc3naac-cdmt-lws1.compute-587626604.oraclecloud.internal.'},\n",
      "                'network': {'nimbula_vcable-eth0': {'address': ['c6:b0:6d:06:65:04',\n",
      "                                                                '10.19.0.246'],\n",
      "                                                    'dhcp_options': [],\n",
      "                                                    'id': '/Compute-587626604/eric.harris@oracle.com/2043e3fa-682b-48a5-8b21-e163a54e7611',\n",
      "                                                    'model': '',\n",
      "                                                    'vethernet': '/oracle/public/default',\n",
      "                                                    'vethernet_id': '0',\n",
      "                                                    'vethernet_type': 'vlan'}},\n",
      "                'nimbula_orchestration': '/Compute-587626604/eric.harris@oracle.com/GC3NAAC-CDMT-LWS1',\n",
      "                'oracle_metadata': {'v1': {'object': '/Compute-587626604/eric.harris@oracle.com/GC3NAAC-CDMT-LWS1/instance',\n",
      "                                           'orchestration': '/Compute-587626604/eric.harris@oracle.com/GC3NAAC-CDMT-LWS1'}},\n",
      "                'sshkeys': ['ssh-rsa '\n",
      "                            'AAAAB3NzaC1yc2EAAAADAQABAAABAQDkl16+TS1DB5jFwxr8tRMfztjLCHK2+wpfqy2eKeUzDJx8oGlasmBTAdwPX9cH3bfPRLJzru6SG2fJWsow4sU0d2clcwLRtqVdFMAdA3MSpIqayQMQJJ7NE5omkucF0pf0RG2p5cT3mBZDw/9IrSKnIAzaescUi72QOtcVSVgOiBcvJeQVn75GFQ0+JVKnVooh4pL2xDwTUj4EeSn5aLSA4ycqpBqvFFzrGsfDjDn55HiL0Dwwo9uM6VasAPHatqVIRA4EXGMu+QU6iw0m75e5n5CzEoL5ut4D2Og6MqrAVHTmtwf3WhPlDIzLu5OZbILydPq3/u58g6IVUHeB/wBd',\n",
      "                            'ssh-rsa '\n",
      "                            'AAAAB3NzaC1yc2EAAAADAQABAAACAQCq7YIWjLtijvvaNOpvIK8JcYToewxyX4Zvpdb1Dyqmr8Kvns7t4fDOucGV6M+YaD5mNYvwjEGGjdZjyX4ygW3f4rMoZMOLLKlb2ofZtdCWppIPIhT7DwhPitGK0nasi7hAXpdW9Xgdd/i6Uq7VoFezCya5i5cz1Z1PEgpi+Usm4wxSKrGCz/7ndBjgSwvxxKKy9sFmLo2+kh5K+K5/d6NtbniH02M/1v4C+wuCCcNTyk4D5oqx8CF59FIPw0PQwVibvNMdOA+G3FIhGIUuP66W9k8SPOMGfpJzupNgauBnvhq32PQqvUj44Nb5wWvx8YjYdfgb7FtUquxnDovJ1jKG7V+yk+gujoViZHD20glermEULUAkUIKELGsSRPLTPmGMUla4+6uWTyOKXof7X0gcIDjEoMbC/DBbxhApj+GZ2WfU9z0tNkllidXaJIBsXwJNHruGN+VWbsPBDxhjTgg+XCOGphaZkAUZ7ex1jnqQqVFDoxAJ6gcQ0rLZRHkpupt7MkarAu5hXDjyUrU3yV6DFhznUyIpHAvqgp2SfNMg3dTdzE7ZRGiqdKlB3VJSw/FanbzWVyij5f4YsOyCIbujAmzxMulH3SRvoOqIFwRMlk7qxwKu9cFUw4Lgd30/L7yEE0llbzedfSopxHU0jvdZKneFBXSPP0srU3VeEvQDUw==']},\n",
      " 'availability_domain': '/uscom-central-1a',\n",
      " 'boot_order': [1],\n",
      " 'desired_state': 'running',\n",
      " 'disk_attach': '',\n",
      " 'domain': 'compute-587626604.oraclecloud.internal.',\n",
      " 'entry': None,\n",
      " 'error_reason': '',\n",
      " 'fingerprint': '34:a7:bb:00:67:50:85:f4:09:ef:8d:81:90:e7:46:72',\n",
      " 'hostname': 'gc3naac-cdmt-lws1.compute-587626604.oraclecloud.internal.',\n",
      " 'hypervisor': {'mode': 'hvm'},\n",
      " 'image_format': 'raw',\n",
      " 'image_metadata_bag': '/oracle/machineimage_metadata/8921e067a70948379d279c9a372c9165',\n",
      " 'imagelist': None,\n",
      " 'ip': '10.19.0.246',\n",
      " 'label': 'GC3NAAC-CDMT-LWS1',\n",
      " 'name': '/Compute-587626604/eric.harris@oracle.com/GC3NAAC-CDMT-LWS1/c17bb7ea-724b-4e51-ab72-1bd8714f07b7',\n",
      " 'networking': {'eth0': {'dns': ['gc3naac-cdmt-lws1.compute-587626604.oraclecloud.internal.'],\n",
      "                         'model': '',\n",
      "                         'nat': 'ipreservation:/Compute-587626604/eric.harris@oracle.com/GC3NAAC-CDMT-LWS1',\n",
      "                         'seclists': ['/Compute-587626604/eric.harris@oracle.com/GC3NAACCDMT_PSFT'],\n",
      "                         'vethernet': '/oracle/public/default'}},\n",
      " 'placement_requirements': ['/system/compute/placement/default',\n",
      "                            '/oracle/compute/dedicated/fcbaed9f-242b-42ce-ac77-dd727f9710eb',\n",
      "                            '/system/compute/allow_instances'],\n",
      " 'platform': 'linux',\n",
      " 'priority': '/oracle/public/default',\n",
      " 'quota': '/Compute-587626604',\n",
      " 'quota_reservation': None,\n",
      " 'relationships': [],\n",
      " 'resolvers': None,\n",
      " 'reverse_dns': True,\n",
      " 'shape': 'oc4',\n",
      " 'site': '',\n",
      " 'sshkeys': ['/Compute-587626604/eric.harris@oracle.com/eric_harris-cloud-01',\n",
      "             '/Compute-587626604/eric.harris@oracle.com/naaccdmt'],\n",
      " 'start_time': '2017-11-29T18:06:06Z',\n",
      " 'state': 'running',\n",
      " 'storage_attachments': [{'index': 1,\n",
      "                          'name': '/Compute-587626604/eric.harris@oracle.com/GC3NAAC-CDMT-LWS1/c17bb7ea-724b-4e51-ab72-1bd8714f07b7/befe2a3b-bc58-4de3-ab6a-277e64b585b2',\n",
      "                          'storage_volume_name': '/Compute-587626604/eric.harris@oracle.com/GC3NAAC-CDMT-LWS1_storage'},\n",
      "                         {'index': 2,\n",
      "                          'name': '/Compute-587626604/eric.harris@oracle.com/GC3NAAC-CDMT-LWS1/c17bb7ea-724b-4e51-ab72-1bd8714f07b7/30683f98-4680-4738-b2bf-38e3539188fe',\n",
      "                          'storage_volume_name': '/Compute-587626604/eric.harris@oracle.com/GC3NAAC-CDMT-LWS1_application'}],\n",
      " 'tags': ['CDMT'],\n",
      " 'uri': 'https://compute.uscom-central-1.oraclecloud.com/instance/Compute-587626604/eric.harris%40oracle.com/GC3NAAC-CDMT-LWS1/c17bb7ea-724b-4e51-ab72-1bd8714f07b7',\n",
      " 'vcable_id': '/Compute-587626604/eric.harris@oracle.com/2043e3fa-682b-48a5-8b21-e163a54e7611',\n",
      " 'virtio': None,\n",
      " 'vnc': '10.19.0.245:5900'}\n",
      "\n",
      "Operation getInstance finished.\n"
     ]
    }
   ],
   "source": [
    "operation_id = \"getInstance\"\n",
    "print(f\"\\nOperation {operation_id} starting.\")\n",
    "try:\n",
    "    name = operation_details['result'][0].lstrip('/').rstrip('/')\n",
    "    print(f\"name: {name}\")\n",
    "    operation_future: HttpFuture = getattr(instances_resource, operation_id)(name=name)\n",
    "    url = operation_future.future.request.url\n",
    "    print(f\"REST url for {operation_id}: {url}\")\n",
    "    print(f\"Accept Header=[{operation_future.future.session.headers['Accept']}], Content-Type Header=[{operation_future.future.session.headers['Content-Type']}]\")\n",
    "    operation_result, operation_response = operation_future.result()\n",
    "except bravado.exception.HTTPBadRequest:\n",
    "    print(\"Request failed for {operation_id}! \")\n",
    "    print(f\"URL: {operation_future.future.request.url}\")\n",
    "    raise\n",
    "except bravado.exception.HTTPNotFound:\n",
    "    print(\"Request failed for {operation_id}! \")\n",
    "    print(f\"URL: {operation_future.future.request.url}\")\n",
    "    raise\n",
    "operation_details = json.loads(operation_result)\n",
    "print(\"\\n{} operation_details:\\nHTTP method: {}\\nAPI url: {}:\\n {}\\n\".format(operation_id, operation_future.operation.http_method, url, pformat(operation_details)))\n",
    "print(f\"Operation {operation_id} finished.\")"
   ]
  },
  {
   "cell_type": "code",
   "execution_count": 22,
   "metadata": {},
   "outputs": [
    {
     "data": {
      "text/plain": [
       "{'domain': 'compute-587626604.oraclecloud.internal.',\n",
       " 'placement_requirements': ['/system/compute/placement/default',\n",
       "  '/oracle/compute/dedicated/fcbaed9f-242b-42ce-ac77-dd727f9710eb',\n",
       "  '/system/compute/allow_instances'],\n",
       " 'ip': '10.19.0.246',\n",
       " 'fingerprint': '34:a7:bb:00:67:50:85:f4:09:ef:8d:81:90:e7:46:72',\n",
       " 'image_metadata_bag': '/oracle/machineimage_metadata/8921e067a70948379d279c9a372c9165',\n",
       " 'site': '',\n",
       " 'shape': 'oc4',\n",
       " 'imagelist': None,\n",
       " 'image_format': 'raw',\n",
       " 'relationships': [],\n",
       " 'availability_domain': '/uscom-central-1a',\n",
       " 'networking': {'eth0': {'model': '',\n",
       "   'seclists': ['/Compute-587626604/eric.harris@oracle.com/GC3NAACCDMT_PSFT'],\n",
       "   'dns': ['gc3naac-cdmt-lws1.compute-587626604.oraclecloud.internal.'],\n",
       "   'vethernet': '/oracle/public/default',\n",
       "   'nat': 'ipreservation:/Compute-587626604/eric.harris@oracle.com/GC3NAAC-CDMT-LWS1'}},\n",
       " 'storage_attachments': [{'index': 1,\n",
       "   'storage_volume_name': '/Compute-587626604/eric.harris@oracle.com/GC3NAAC-CDMT-LWS1_storage',\n",
       "   'name': '/Compute-587626604/eric.harris@oracle.com/GC3NAAC-CDMT-LWS1/c17bb7ea-724b-4e51-ab72-1bd8714f07b7/befe2a3b-bc58-4de3-ab6a-277e64b585b2'},\n",
       "  {'index': 2,\n",
       "   'storage_volume_name': '/Compute-587626604/eric.harris@oracle.com/GC3NAAC-CDMT-LWS1_application',\n",
       "   'name': '/Compute-587626604/eric.harris@oracle.com/GC3NAAC-CDMT-LWS1/c17bb7ea-724b-4e51-ab72-1bd8714f07b7/30683f98-4680-4738-b2bf-38e3539188fe'}],\n",
       " 'hostname': 'gc3naac-cdmt-lws1.compute-587626604.oraclecloud.internal.',\n",
       " 'quota_reservation': None,\n",
       " 'disk_attach': '',\n",
       " 'label': 'GC3NAAC-CDMT-LWS1',\n",
       " 'priority': '/oracle/public/default',\n",
       " 'platform': 'linux',\n",
       " 'state': 'running',\n",
       " 'virtio': None,\n",
       " 'vnc': '10.19.0.245:5900',\n",
       " 'desired_state': 'running',\n",
       " 'tags': ['CDMT'],\n",
       " 'start_time': '2017-11-29T18:06:06Z',\n",
       " 'quota': '/Compute-587626604',\n",
       " 'entry': None,\n",
       " 'error_reason': '',\n",
       " 'sshkeys': ['/Compute-587626604/eric.harris@oracle.com/eric_harris-cloud-01',\n",
       "  '/Compute-587626604/eric.harris@oracle.com/naaccdmt'],\n",
       " 'resolvers': None,\n",
       " 'account': '/Compute-587626604/default',\n",
       " 'name': '/Compute-587626604/eric.harris@oracle.com/GC3NAAC-CDMT-LWS1/c17bb7ea-724b-4e51-ab72-1bd8714f07b7',\n",
       " 'vcable_id': '/Compute-587626604/eric.harris@oracle.com/2043e3fa-682b-48a5-8b21-e163a54e7611',\n",
       " 'hypervisor': {'mode': 'hvm'},\n",
       " 'uri': 'https://compute.uscom-central-1.oraclecloud.com/instance/Compute-587626604/eric.harris%40oracle.com/GC3NAAC-CDMT-LWS1/c17bb7ea-724b-4e51-ab72-1bd8714f07b7',\n",
       " 'reverse_dns': True,\n",
       " 'attributes': {'sshkeys': ['ssh-rsa AAAAB3NzaC1yc2EAAAADAQABAAABAQDkl16+TS1DB5jFwxr8tRMfztjLCHK2+wpfqy2eKeUzDJx8oGlasmBTAdwPX9cH3bfPRLJzru6SG2fJWsow4sU0d2clcwLRtqVdFMAdA3MSpIqayQMQJJ7NE5omkucF0pf0RG2p5cT3mBZDw/9IrSKnIAzaescUi72QOtcVSVgOiBcvJeQVn75GFQ0+JVKnVooh4pL2xDwTUj4EeSn5aLSA4ycqpBqvFFzrGsfDjDn55HiL0Dwwo9uM6VasAPHatqVIRA4EXGMu+QU6iw0m75e5n5CzEoL5ut4D2Og6MqrAVHTmtwf3WhPlDIzLu5OZbILydPq3/u58g6IVUHeB/wBd',\n",
       "   'ssh-rsa AAAAB3NzaC1yc2EAAAADAQABAAACAQCq7YIWjLtijvvaNOpvIK8JcYToewxyX4Zvpdb1Dyqmr8Kvns7t4fDOucGV6M+YaD5mNYvwjEGGjdZjyX4ygW3f4rMoZMOLLKlb2ofZtdCWppIPIhT7DwhPitGK0nasi7hAXpdW9Xgdd/i6Uq7VoFezCya5i5cz1Z1PEgpi+Usm4wxSKrGCz/7ndBjgSwvxxKKy9sFmLo2+kh5K+K5/d6NtbniH02M/1v4C+wuCCcNTyk4D5oqx8CF59FIPw0PQwVibvNMdOA+G3FIhGIUuP66W9k8SPOMGfpJzupNgauBnvhq32PQqvUj44Nb5wWvx8YjYdfgb7FtUquxnDovJ1jKG7V+yk+gujoViZHD20glermEULUAkUIKELGsSRPLTPmGMUla4+6uWTyOKXof7X0gcIDjEoMbC/DBbxhApj+GZ2WfU9z0tNkllidXaJIBsXwJNHruGN+VWbsPBDxhjTgg+XCOGphaZkAUZ7ex1jnqQqVFDoxAJ6gcQ0rLZRHkpupt7MkarAu5hXDjyUrU3yV6DFhznUyIpHAvqgp2SfNMg3dTdzE7ZRGiqdKlB3VJSw/FanbzWVyij5f4YsOyCIbujAmzxMulH3SRvoOqIFwRMlk7qxwKu9cFUw4Lgd30/L7yEE0llbzedfSopxHU0jvdZKneFBXSPP0srU3VeEvQDUw=='],\n",
       "  'oracle_metadata': {'v1': {'object': '/Compute-587626604/eric.harris@oracle.com/GC3NAAC-CDMT-LWS1/instance',\n",
       "    'orchestration': '/Compute-587626604/eric.harris@oracle.com/GC3NAAC-CDMT-LWS1'}},\n",
       "  'network': {'nimbula_vcable-eth0': {'vethernet_id': '0',\n",
       "    'vethernet': '/oracle/public/default',\n",
       "    'address': ['c6:b0:6d:06:65:04', '10.19.0.246'],\n",
       "    'model': '',\n",
       "    'vethernet_type': 'vlan',\n",
       "    'id': '/Compute-587626604/eric.harris@oracle.com/2043e3fa-682b-48a5-8b21-e163a54e7611',\n",
       "    'dhcp_options': []}},\n",
       "  'dns': {'domain': 'compute-587626604.oraclecloud.internal.',\n",
       "   'hostname': 'gc3naac-cdmt-lws1.compute-587626604.oraclecloud.internal.',\n",
       "   'nimbula_vcable-eth0': 'gc3naac-cdmt-lws1.compute-587626604.oraclecloud.internal.'},\n",
       "  'nimbula_orchestration': '/Compute-587626604/eric.harris@oracle.com/GC3NAAC-CDMT-LWS1'},\n",
       " 'boot_order': [1]}"
      ]
     },
     "execution_count": 22,
     "metadata": {},
     "output_type": "execute_result"
    }
   ],
   "source": [
    "operation_details"
   ]
  },
  {
   "cell_type": "code",
   "execution_count": 23,
   "metadata": {},
   "outputs": [
    {
     "name": "stdout",
     "output_type": "stream",
     "text": [
      "\n",
      "Operation getInstance starting.\n"
     ]
    },
    {
     "ename": "KeyError",
     "evalue": "'result'",
     "traceback": [
      "\u001b[1;31m---------------------------------------------------------------------------\u001b[0m",
      "\u001b[1;31mKeyError\u001b[0m                                  Traceback (most recent call last)",
      "\u001b[1;32m<ipython-input-23-d520156efd6a>\u001b[0m in \u001b[0;36m<module>\u001b[1;34m()\u001b[0m\n\u001b[0;32m      2\u001b[0m \u001b[0mprint\u001b[0m\u001b[1;33m(\u001b[0m\u001b[1;34mf\"\\nOperation {operation_id} starting.\"\u001b[0m\u001b[1;33m)\u001b[0m\u001b[1;33m\u001b[0m\u001b[0m\n\u001b[0;32m      3\u001b[0m \u001b[1;32mtry\u001b[0m\u001b[1;33m:\u001b[0m\u001b[1;33m\u001b[0m\u001b[0m\n\u001b[1;32m----> 4\u001b[1;33m     \u001b[0mname\u001b[0m \u001b[1;33m=\u001b[0m \u001b[0moperation_details\u001b[0m\u001b[1;33m[\u001b[0m\u001b[1;34m'result'\u001b[0m\u001b[1;33m]\u001b[0m\u001b[1;33m[\u001b[0m\u001b[1;36m0\u001b[0m\u001b[1;33m]\u001b[0m\u001b[1;33m.\u001b[0m\u001b[0mlstrip\u001b[0m\u001b[1;33m(\u001b[0m\u001b[1;34m'/'\u001b[0m\u001b[1;33m)\u001b[0m\u001b[1;33m.\u001b[0m\u001b[0mrstrip\u001b[0m\u001b[1;33m(\u001b[0m\u001b[1;34m'/'\u001b[0m\u001b[1;33m)\u001b[0m\u001b[1;33m\u001b[0m\u001b[0m\n\u001b[0m\u001b[0;32m      5\u001b[0m     \u001b[0mprint\u001b[0m\u001b[1;33m(\u001b[0m\u001b[1;34mf\"name: {name}\"\u001b[0m\u001b[1;33m)\u001b[0m\u001b[1;33m\u001b[0m\u001b[0m\n\u001b[0;32m      6\u001b[0m     \u001b[0moperation_future\u001b[0m\u001b[1;33m:\u001b[0m \u001b[0mHttpFuture\u001b[0m \u001b[1;33m=\u001b[0m \u001b[0mgetattr\u001b[0m\u001b[1;33m(\u001b[0m\u001b[0minstances_resource\u001b[0m\u001b[1;33m,\u001b[0m \u001b[0moperation_id\u001b[0m\u001b[1;33m)\u001b[0m\u001b[1;33m(\u001b[0m\u001b[0mname\u001b[0m\u001b[1;33m=\u001b[0m\u001b[0mname\u001b[0m\u001b[1;33m)\u001b[0m\u001b[1;33m\u001b[0m\u001b[0m\n",
      "\u001b[1;31mKeyError\u001b[0m: 'result'"
     ],
     "output_type": "error"
    }
   ],
   "source": [
    "operation_id = \"getInstance\"\n",
    "print(f\"\\nOperation {operation_id} starting.\")\n",
    "try:\n",
    "    name = operation_details['result'][0].lstrip('/').rstrip('/')\n",
    "    print(f\"name: {name}\")\n",
    "    operation_future: HttpFuture = getattr(instances_resource, operation_id)(name=name)\n",
    "    url = operation_future.future.request.url\n",
    "    print(f\"REST url for {operation_id}: {url}\")\n",
    "    print(f\"Accept Header=[{operation_future.future.session.headers['Accept']}], Content-Type Header=[{operation_future.future.session.headers['Content-Type']}]\")\n",
    "    operation_result, operation_response = operation_future.result()\n",
    "except bravado.exception.HTTPBadRequest:\n",
    "    print(\"Request failed for {operation_id}! \")\n",
    "    print(f\"URL: {operation_future.future.request.url}\")\n",
    "    raise\n",
    "except bravado.exception.HTTPNotFound:\n",
    "    print(\"Request failed for {operation_id}! \")\n",
    "    print(f\"URL: {operation_future.future.request.url}\")\n",
    "    raise\n",
    "operation_details = json.loads(operation_result)\n",
    "# print(\"\\n{} operation_details:\\nHTTP method: {}\\nAPI url: {}:\\n {}\\n\".format(operation_id, operation_future.operation.http_method, url, pformat(operation_details)))\n",
    "print(f\"Operation {operation_id} finished.\")"
   ]
  },
  {
   "cell_type": "markdown",
   "metadata": {},
   "source": [
    "\n",
    "\n",
    "<pre>\n",
    "\n",
    "      \"get\" : {\n",
    "        \"tags\" : [ \"Instances\" ],\n",
    "        \"summary\" : \"Retrieve Details of an Instance\",\n",
    "        \"description\" : \"Retrieves details of the specified instance.<p><b>Required Role: </b>To complete this task, you must have the <code>Compute_Monitor</code> or <code>Compute_Operations</code> role. If this role isn't assigned to you or you're not sure, then ask your system administrator to ensure that the role is assigned to you in Oracle Cloud My Services. See <a target=\\\"_blank\\\" href=\\\"http://www.oracle.com/pls/topic/lookup?ctx=stcomputecs&id=MMOCS-GUID-54C2E747-7D5B-451C-A39C-77936178EBB6\\\">Modifying User Roles</a> in <em>Managing and Monitoring Oracle Cloud</em>.\",\n",
    "        \"operationId\" : \"getInstance\",\n",
    "        \"responses\" : {\n",
    "          \"200\" : {\n",
    "            \"headers\" : {\n",
    "              \"set-cookie\" : {\n",
    "                \"type\" : \"string\",\n",
    "                \"description\" : \"The cookie value is returned if the session is extended\"\n",
    "              }\n",
    "            },\n",
    "            \"description\" : \"OK. See <a class=\\\"xref\\\" href=\\\"Status%20Codes.html\\\">Status Codes</a> for information about other possible HTTP status codes.\",\n",
    "            \"schema\" : {\n",
    "              \"$ref\" : \"#/definitions/Instance-response\"\n",
    "            }\n",
    "          }\n",
    "        },\n",
    "        \"consumes\" : [ \"application/oracle-compute-v3+json\" ],\n",
    "        \"produces\" : [ \"application/oracle-compute-v3+json\" ],\n",
    "        \"parameters\" : [ {\n",
    "          \"name\" : \"name\",\n",
    "          \"in\" : \"path\",\n",
    "          \"description\" : \"<p>Multipart name of the object.\",\n",
    "          \"required\" : true,\n",
    "          \"type\" : \"string\"\n",
    "        }, {\n",
    "          \"name\" : \"Cookie\",\n",
    "          \"in\" : \"header\",\n",
    "          \"type\" : \"string\",\n",
    "          \"description\" : \"The Cookie: header must be included with every request to the service. It must be set to the value of the set-cookie header in the response received to the POST /authenticate/ call.\"\n",
    "        } ]\n",
    "      }\n",
    "    }\n",
    "  },\n",
    "  \n",
    "  .\n",
    "  .\n",
    "  .\n",
    "  \n",
    "\n",
    "\n",
    "\n",
    "    \"Instance-response\" : {\n",
    "      \"properties\" : {\n",
    "        \"account\" : {\n",
    "          \"type\" : \"string\",\n",
    "          \"description\" : \"Shows the default account for your identity domain.\"\n",
    "        },\n",
    "        \"attributes\" : {\n",
    "          \"additionalProperties\" : {\n",
    "            \"type\" : \"object\"\n",
    "          },\n",
    "          \"type\" : \"object\",\n",
    "          \"description\" : \"A dictionary of attributes to be made available to the instance. A value with the key \\\"userdata\\\" will be made available in an EC2-compatible manner.\"\n",
    "        },\n",
    "        \"availability_domain\" : {\n",
    "          \"type\" : \"string\",\n",
    "          \"description\" : \"The availability domain the instance is in\"\n",
    "        },\n",
    "        \"boot_order\" : {\n",
    "          \"items\" : {\n",
    "            \"type\" : \"integer\"\n",
    "          },\n",
    "          \"type\" : \"array\",\n",
    "          \"description\" : \"Boot order list.\"\n",
    "        },\n",
    "        \"desired_state\" : {\n",
    "          \"type\" : \"string\",\n",
    "          \"description\" : \"Desired state for the instance. The value can be <code>shutdown</code> or <code>running</code> to shutdown an instance or to restart a previously shutdown instance respectively.\"\n",
    "        },\n",
    "        \"disk_attach\" : {\n",
    "          \"type\" : \"string\",\n",
    "          \"description\" : \"A label assigned by the user to identify disks.\"\n",
    "        },\n",
    "        \"domain\" : {\n",
    "          \"type\" : \"string\",\n",
    "          \"description\" : \"The default domain to use for the hostname and for DNS lookups.\"\n",
    "        },\n",
    "        \"entry\" : {\n",
    "          \"type\" : \"integer\",\n",
    "          \"description\" : \"Optional imagelistentry number (default will be used if not specified).\"\n",
    "        },\n",
    "        \"error_reason\" : {\n",
    "          \"type\" : \"string\",\n",
    "          \"description\" : \"The reason for the instance going to error state, if available.\"\n",
    "        },\n",
    "        \"fingerprint\" : {\n",
    "          \"type\" : \"string\",\n",
    "          \"description\" : \"SSH server fingerprint presented by the instance.\"\n",
    "        },\n",
    "        \"hostname\" : {\n",
    "          \"type\" : \"string\",\n",
    "          \"description\" : \"The hostname for this instance.\"\n",
    "        },\n",
    "        \"hypervisor\" : {\n",
    "          \"additionalProperties\" : {\n",
    "            \"type\" : \"object\"\n",
    "          },\n",
    "          \"type\" : \"object\",\n",
    "          \"description\" : \"A dictionary of hypervisor-specific attributes.\"\n",
    "        },\n",
    "        \"image_format\" : {\n",
    "          \"type\" : \"string\",\n",
    "          \"description\" : \"The format of the image.\"\n",
    "        },\n",
    "        \"imagelist\" : {\n",
    "          \"type\" : \"string\",\n",
    "          \"description\" : \"Name of imagelist to be launched.\"\n",
    "        },\n",
    "        \"ip\" : {\n",
    "          \"type\" : \"string\",\n",
    "          \"description\" : \"IP address of the instance.\"\n",
    "        },\n",
    "        \"label\" : {\n",
    "          \"type\" : \"string\",\n",
    "          \"description\" : \"A label assigned by the user, specifically for defining inter-instance relationships.\"\n",
    "        },\n",
    "        \"name\" : {\n",
    "          \"type\" : \"string\",\n",
    "          \"description\" : \"Multipart name of the instance.\"\n",
    "        },\n",
    "        \"networking\" : {\n",
    "          \"additionalProperties\" : {\n",
    "            \"type\" : \"object\"\n",
    "          },\n",
    "          \"type\" : \"object\",\n",
    "          \"description\" : \"Mapping of <device name> to network specifiers for virtual NICs to be attached to this instance.\"\n",
    "        },\n",
    "        \"placement_requirements\" : {\n",
    "          \"items\" : {\n",
    "            \"type\" : \"string\"\n",
    "          },\n",
    "          \"type\" : \"array\",\n",
    "          \"description\" : \"A list of strings specifying arbitrary tags on nodes to be matched on placement.\"\n",
    "        },\n",
    "        \"platform\" : {\n",
    "          \"type\" : \"string\",\n",
    "          \"description\" : \"The OS platform for the instance.\"\n",
    "        },\n",
    "        \"priority\" : {\n",
    "          \"type\" : \"string\",\n",
    "          \"description\" : \"The priority at which this instance will be run.\"\n",
    "        },\n",
    "        \"quota\" : {\n",
    "          \"type\" : \"string\",\n",
    "          \"description\" : \"Not used\"\n",
    "        },\n",
    "        \"relationships\" : {\n",
    "          \"items\" : {\n",
    "            \"additionalProperties\" : {\n",
    "              \"type\" : \"object\"\n",
    "            },\n",
    "            \"type\" : \"object\"\n",
    "          },\n",
    "          \"type\" : \"array\",\n",
    "          \"description\" : \"A list of relationship specifications to be satisfied on this instance's placement\"\n",
    "        },\n",
    "        \"resolvers\" : {\n",
    "          \"items\" : {\n",
    "            \"type\" : \"string\"\n",
    "          },\n",
    "          \"type\" : \"array\",\n",
    "          \"description\" : \"Resolvers to use instead of the default resolvers.\"\n",
    "        },\n",
    "        \"reverse_dns\" : {\n",
    "          \"type\" : \"boolean\",\n",
    "          \"description\" : \"Add PTR records for the hostname.\"\n",
    "        },\n",
    "        \"shape\" : {\n",
    "          \"type\" : \"string\",\n",
    "          \"description\" : \"A shape is a resource profile that specifies the number of CPU threads and the amount of memory (in MB) to be allocated to an instance.\"\n",
    "        },\n",
    "        \"sshkeys\" : {\n",
    "          \"items\" : {\n",
    "            \"type\" : \"string\"\n",
    "          },\n",
    "          \"type\" : \"array\",\n",
    "          \"description\" : \"SSH keys that will be exposed to the instance.\"\n",
    "        },\n",
    "        \"start_time\" : {\n",
    "          \"type\" : \"string\",\n",
    "          \"description\" : \"Start time of the instance.\"\n",
    "        },\n",
    "        \"state\" : {\n",
    "          \"type\" : \"string\",\n",
    "          \"description\" : \"State of the instance.\"\n",
    "        },\n",
    "        \"storage_attachments\" : {\n",
    "          \"items\" : {\n",
    "            \"type\" : \"string\"\n",
    "          },\n",
    "          \"type\" : \"array\",\n",
    "          \"description\" : \"List of dictionaries containing storage attachment Information.\"\n",
    "        },\n",
    "        \"tags\" : {\n",
    "          \"items\" : {\n",
    "            \"type\" : \"string\"\n",
    "          },\n",
    "          \"type\" : \"array\",\n",
    "          \"description\" : \"Comma-separated list of strings used to tag the instance.\"\n",
    "        },\n",
    "        \"uri\" : {\n",
    "          \"type\" : \"string\",\n",
    "          \"description\" : \"Uniform Resource Identifier\"\n",
    "        },\n",
    "        \"vcable_id\" : {\n",
    "          \"type\" : \"string\",\n",
    "          \"description\" : \"vCable for this instance.\"\n",
    "        },\n",
    "        \"vnc\" : {\n",
    "          \"type\" : \"string\",\n",
    "          \"description\" : \"IP address and port of the VNC console for the instance.\"\n",
    "        }\n",
    "      }\n",
    "    },\n",
    "\n",
    "</pre>\n",
    "\n"
   ]
  },
  {
   "cell_type": "code",
   "execution_count": null,
   "metadata": {},
   "outputs": [],
   "source": [
    "type(operation_details)\n",
    "print(operation_details.keys())"
   ]
  },
  {
   "cell_type": "markdown",
   "metadata": {},
   "source": [
    "#### Insert results in to DB"
   ]
  },
  {
   "cell_type": "code",
   "execution_count": null,
   "metadata": {},
   "outputs": [],
   "source": [
    "instances_db.insert(operation_details)"
   ]
  },
  {
   "cell_type": "code",
   "execution_count": null,
   "metadata": {},
   "outputs": [],
   "source": [
    "instances_db.all()[-1]"
   ]
  },
  {
   "cell_type": "code",
   "execution_count": null,
   "metadata": {},
   "outputs": [],
   "source": []
  }
 ],
 "metadata": {
  "kernelspec": {
   "display_name": "Python 3",
   "language": "python",
   "name": "python3"
  },
  "language_info": {
   "codemirror_mode": {
    "name": "ipython",
    "version": 3
   },
   "file_extension": ".py",
   "mimetype": "text/x-python",
   "name": "python",
   "nbconvert_exporter": "python",
   "pygments_lexer": "ipython3",
   "version": "3.6.5"
  }
 },
 "nbformat": 4,
 "nbformat_minor": 2
}
