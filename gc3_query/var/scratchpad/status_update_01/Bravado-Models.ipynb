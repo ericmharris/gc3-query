{
 "cells": [
  {
   "cell_type": "markdown",
   "metadata": {},
   "source": [
    "## Testing after requests is working with Compute\n"
   ]
  },
  {
   "cell_type": "code",
   "execution_count": 1,
   "metadata": {},
   "outputs": [],
   "source": [
    "from IPython.core.display import display, HTML\n",
    "display(HTML(\"<style>.container { width:90% !important; }</style>\"))"
   ]
  },
  {
   "cell_type": "code",
   "execution_count": 2,
   "metadata": {},
   "outputs": [],
   "source": [
    "import os\n",
    "from pathlib import Path\n",
    "from bravado.client import SwaggerClient\n",
    "from bravado.client import SwaggerClient\n",
    "from bravado.swagger_model import load_file\n",
    "from bravado.requests_client import RequestsClient\n",
    "from bravado.swagger_model import load_file\n",
    "\n",
    "\n",
    "# from bravado.fido_client import FidoClient\n",
    "\n",
    "import json\n",
    "import keyring\n",
    "import requests\n",
    "import dataclasses\n",
    "from requests import Session\n",
    "from requests.auth import HTTPBasicAuth\n",
    "from requests.auth import _basic_auth_str\n"
   ]
  },
  {
   "cell_type": "code",
   "execution_count": 3,
   "metadata": {},
   "outputs": [],
   "source": [
    "import keyring\n",
    "import requests\n",
    "from json import load, loads, dump, dumps\n",
    "from requests import Session\n",
    "\n",
    "opc_username = \"eric.harris@oracle.com\"\n",
    "opc_password = keyring.get_password(\"OPC\", \"gc30003\")\n"
   ]
  },
  {
   "cell_type": "code",
   "execution_count": 4,
   "metadata": {},
   "outputs": [],
   "source": [
    "proxies = {\n",
    "  'http': 'http://www-proxy-ash7.us.oracle.com:80',\n",
    "  'https': 'https://www-proxy-ash7.us.oracle.com:80',\n",
    "}"
   ]
  },
  {
   "cell_type": "code",
   "execution_count": 5,
   "metadata": {},
   "outputs": [],
   "source": [
    "## https://medium.com/@betz.mark/validate-json-models-with-swagger-and-bravado-5fad6b21a825\n",
    "# Validate json models with swagger and bravado\n",
    "from bravado_core.spec import Spec\n",
    "from bravado_core.validate import validate_object\n",
    "from yaml import load, Loader, dump, Dumper"
   ]
  },
  {
   "cell_type": "code",
   "execution_count": 6,
   "metadata": {},
   "outputs": [
    {
     "name": "stdout",
     "output_type": "stream",
     "text": [
      "iaas_rest_endpoint: https://compute.uscom-central-1.oraclecloud.com\n",
      "iaas_auth_endpoint: https://compute.uscom-central-1.oraclecloud.com/authenticate/\n",
      "\n"
     ]
    }
   ],
   "source": [
    "idm_domain_name = 'gc30003'\n",
    "idm_service_instance_id = '587626604'\n",
    "iaas_rest_endpoint = r'https://compute.uscom-central-1.oraclecloud.com'\n",
    "iaas_auth_endpoint = f'{iaas_rest_endpoint}/authenticate/'\n",
    "\n",
    "print(f'iaas_rest_endpoint: {iaas_rest_endpoint}')\n",
    "print(f'iaas_auth_endpoint: {iaas_auth_endpoint}\\n')"
   ]
  },
  {
   "cell_type": "code",
   "execution_count": 7,
   "metadata": {},
   "outputs": [
    {
     "name": "stdout",
     "output_type": "stream",
     "text": [
      "idm_domain_username: /Compute-gc30003/eric.harris@oracle.com\n",
      "idm_service_instance_username: /Compute-587626604/eric.harris@oracle.com\n",
      "username: /Compute-587626604/eric.harris@oracle.com\n",
      "\n",
      "json_data: {'user': '/Compute-587626604/eric.harris@oracle.com', 'password': 'P@ll4dium!'}\n",
      "headers: {'Content-Type': 'application/oracle-compute-v3+json', 'Accept': 'application/oracle-compute-v3+directory+json'}\n"
     ]
    }
   ],
   "source": [
    "### Username/pass setup\n",
    "idm_domain_username = f'/Compute-{idm_domain_name}/{opc_username}'\n",
    "idm_service_instance_username = f'/Compute-{idm_service_instance_id}/{opc_username}'\n",
    "# username = traditional_iaas_username\n",
    "username = idm_service_instance_username\n",
    "# basic_auth_cred = _basic_auth_str(username, opc_password)\n",
    "\n",
    "print(f'idm_domain_username: {idm_domain_username}')\n",
    "print(f'idm_service_instance_username: {idm_service_instance_username}')\n",
    "print(f'username: {username}')\n",
    "# print(f'basic_auth_cred: {basic_auth_cred}')\n",
    "\n",
    "### END Username/pass setup\n",
    "json_data={\"user\":username, \"password\":opc_password}\n",
    "print(f'\\njson_data: {json_data}')\n",
    "\n",
    "\n",
    "files = None\n",
    "params = None\n",
    "\n",
    "### https://docs.oracle.com/en/cloud/iaas/compute-iaas-cloud/stcsa/SendRequests.html\n",
    "### Supported Headers shown here\n",
    "# headers = dict([('Content-Type', 'application/oracle-compute-v3+json'),\n",
    "#                ('Accept', 'application/oracle-compute-v3+directory+json'),\n",
    "#                ('Accept-Encoding', 'gzip;q=1.0, identity; q=0.5'),\n",
    "#                ('Content-Encoding', 'deflate'),\n",
    "#                ('Cookie', '<Set from /authenticate>')\n",
    "#                ])\n",
    "\n",
    "\n",
    "headers = dict([('Content-Type', 'application/oracle-compute-v3+json'),\n",
    "               ('Accept', 'application/oracle-compute-v3+directory+json'),\n",
    "               ])\n",
    "\n",
    "print(f'headers: {headers}')"
   ]
  },
  {
   "cell_type": "code",
   "execution_count": 8,
   "metadata": {},
   "outputs": [
    {
     "name": "stdout",
     "output_type": "stream",
     "text": [
      "requests_client.session.headers before update: {'User-Agent': 'python-requests/2.18.4', 'Accept-Encoding': 'gzip, deflate', 'Accept': 'application/oracle-compute-v3+directory+json', 'Connection': 'keep-alive', 'Content-Type': 'application/oracle-compute-v3+json'}\n",
      "\n",
      "requests_client.session.headers after update: {'User-Agent': 'python-requests/2.18.4', 'Accept-Encoding': 'gzip, deflate', 'Accept': 'application/oracle-compute-v3+directory+json', 'Connection': 'keep-alive', 'Content-Type': 'application/oracle-compute-v3+json'}\n",
      "\n"
     ]
    }
   ],
   "source": [
    "requests_client = RequestsClient()\n",
    "requests_client.session.headers.update(headers)\n",
    "requests_client.session.proxies.update(proxies)\n",
    "\n",
    "\n",
    "\n",
    "print(f\"requests_client.session.headers before update: {requests_client.session.headers}\\n\")\n",
    "requests_client.session.headers.update(headers)\n",
    "print(f\"requests_client.session.headers after update: {requests_client.session.headers}\\n\")\n"
   ]
  },
  {
   "cell_type": "code",
   "execution_count": 9,
   "metadata": {},
   "outputs": [
    {
     "name": "stdout",
     "output_type": "stream",
     "text": [
      "spec_file_path exists: True, spec_file_path: C:\\Users\\eharris\\devel\\gc3-query\\gc3_query\\var\\scratchpad\\status_update_01\\open_api_definitions\\iaas_instances.json\n",
      "spec_file_uri: C:\\Users\\eharris\\devel\\gc3-query\\gc3_query\\var\\scratchpad\\status_update_01\\open_api_definitions\\iaas_instances.json\n"
     ]
    }
   ],
   "source": [
    "cwd = os.getcwd()\n",
    "spec_file_path = Path().joinpath('open_api_definitions/iaas_instances.json').resolve()\n",
    "print(f'spec_file_path exists: {spec_file_path.exists()}, spec_file_path: {spec_file_path}')\n",
    "\n",
    "#### http://bravado.readthedocs.io/en/latest/advanced.html#loading-swagger-json-by-file-path\n",
    "## needed for: client = SwaggerClient.from_url('file:///some/path/swagger.json')\n",
    "spec_file_uri = f\"file:///{spec_file_path}\"\n",
    "print(f'spec_file_uri: {spec_file_path}')\n"
   ]
  },
  {
   "cell_type": "code",
   "execution_count": 10,
   "metadata": {},
   "outputs": [
    {
     "name": "stdout",
     "output_type": "stream",
     "text": [
      "Original spec: spec_dict['schemes']: ['https']\n",
      "Spec after scheme update: spec_dict['schemes']: ['https']\n"
     ]
    }
   ],
   "source": [
    "\n",
    "spec_dict = load_file(spec_file_path)\n",
    "spec_dict['schemes']\n",
    "print(f\"Original spec: spec_dict['schemes']: {spec_dict['schemes']}\")\n",
    "spec_dict['schemes'] = ['https']\n",
    "print(f\"Spec after scheme update: spec_dict['schemes']: {spec_dict['schemes']}\")\n"
   ]
  },
  {
   "cell_type": "code",
   "execution_count": 11,
   "metadata": {},
   "outputs": [
    {
     "name": "stderr",
     "output_type": "stream",
     "text": [
      "C:\\Apps\\python\\python_3.6\\envs\\psmcli\\lib\\site-packages\\bravado_core\\spec.py:146: Warning: config also_return_response is not a recognized config key\n",
      "  category=Warning,\n"
     ]
    }
   ],
   "source": [
    "swagger_spec = Spec.from_dict(spec_dict=spec_dict, \n",
    "                                         origin_url=iaas_rest_endpoint,\n",
    "                                         http_client=requests_client, \n",
    "                                         config={'also_return_response': True}\n",
    "        )"
   ]
  },
  {
   "cell_type": "code",
   "execution_count": 12,
   "metadata": {},
   "outputs": [
    {
     "data": {
      "text/plain": [
       "'https://compute.uscom-central-1.oraclecloud.com'"
      ]
     },
     "execution_count": 12,
     "metadata": {},
     "output_type": "execute_result"
    }
   ],
   "source": [
    "swagger_spec.api_url"
   ]
  },
  {
   "cell_type": "code",
   "execution_count": 13,
   "metadata": {},
   "outputs": [],
   "source": [
    "# swagger_client = SwaggerClient.from_spec(spec_dict=load_file(spec_file_path), \n",
    "#                                          origin_url=iaas_rest_endpoint,\n",
    "#                                          http_client=requests_client, \n",
    "#                                          config={'also_return_response': True})"
   ]
  },
  {
   "cell_type": "markdown",
   "metadata": {},
   "source": [
    "## Client Configuration\n",
    "[https://bravado.readthedocs.io/en/latest/configuration.html#client-configuration](https://bravado.readthedocs.io/en/latest/configuration.html#client-configuration)\n",
    "\n",
    "<pre>\n",
    "from bravado.client import SwaggerClient, SwaggerFormat\n",
    "\n",
    "my_super_duper_format = SwaggerFormat(...)\n",
    "\n",
    "config = {\n",
    "    # === bravado config ===\n",
    "\n",
    "    # Determines what is returned by the service call.\n",
    "    'also_return_response': False,\n",
    "\n",
    "    # === bravado-core config ====\n",
    "\n",
    "    #  validate incoming responses\n",
    "    'validate_responses': True,\n",
    "\n",
    "    # validate outgoing requests\n",
    "    'validate_requests': True,\n",
    "\n",
    "    # validate the swagger spec\n",
    "    'validate_swagger_spec': True,\n",
    "\n",
    "    # Use models (Python classes) instead of dicts for #/definitions/{models}\n",
    "    'use_models': True,\n",
    "\n",
    "    # List of user-defined formats\n",
    "    'formats': [my_super_duper_format],\n",
    "\n",
    "}\n",
    "\n",
    "client = SwaggerClient.from_url(..., config=config)\n",
    "\n",
    "</pre>\n",
    "\n"
   ]
  },
  {
   "cell_type": "code",
   "execution_count": 14,
   "metadata": {},
   "outputs": [],
   "source": [
    "swagger_client = SwaggerClient.from_spec(spec_dict=spec_dict, \n",
    "                                         origin_url=iaas_rest_endpoint,\n",
    "                                         http_client=requests_client, \n",
    "                                         config={'also_return_response': True,\n",
    "                                                'validate_responses': False,})"
   ]
  },
  {
   "cell_type": "code",
   "execution_count": 15,
   "metadata": {},
   "outputs": [
    {
     "data": {
      "text/plain": [
       "{'DailyWeeklyInterval': abc.DailyWeeklyInterval,\n",
       " 'HourlyInterval': abc.HourlyInterval,\n",
       " 'Interval': abc.Interval}"
      ]
     },
     "execution_count": 15,
     "metadata": {},
     "output_type": "execute_result"
    }
   ],
   "source": [
    "swagger_spec.definitions"
   ]
  },
  {
   "cell_type": "markdown",
   "metadata": {},
   "source": [
    "<pre>\n",
    "\n",
    "DailyWeeklyInterval?\n",
    "\n",
    "Init signature: DailyWeeklyInterval(**kwargs)\n",
    "Docstring:     \n",
    "Attributes:\n",
    "\n",
    "daysOfWeek: list of string - Days of the week to run a backup\n",
    "timeOfDay: string - Time of the day to run a backup\n",
    "userTimeZone: string - Any IANA time zone. e.g: America/Los_Angeles\n",
    "Init docstring:\n",
    "Initialize from property values in keyword arguments.\n",
    "\n",
    ":param \\**kwargs: Property values by name.\n",
    "File:           c:\\apps\\python\\python_3.6\\envs\\psmcli\\lib\\abc.py\n",
    "Type:           ModelMeta\n",
    "\n",
    "</pre>"
   ]
  },
  {
   "cell_type": "markdown",
   "metadata": {},
   "source": [
    "<pre>\n",
    "  \"definitions\" : {\n",
    "    \"DailyWeeklyInterval\" : {\n",
    "      \"allOf\" : [ {\n",
    "        \"$ref\" : \"#/definitions/Interval\"\n",
    "      }, {\n",
    "        \"type\" : \"object\",\n",
    "        \"properties\" : {\n",
    "          \"userTimeZone\" : {\n",
    "            \"type\" : \"string\",\n",
    "            \"description\" : \"Any IANA time zone. e.g: America/Los_Angeles\"\n",
    "          },\n",
    "          \"timeOfDay\" : {\n",
    "            \"pattern\" : \"([01]?[0-9]|2[0-3]):[0-5][0-9]\",\n",
    "            \"type\" : \"string\",\n",
    "            \"description\" : \"Time of the day to run a backup\"\n",
    "          },\n",
    "          \"daysOfWeek\" : {\n",
    "            \"items\" : {\n",
    "              \"enum\" : [ \"MONDAY\", \"TUESDAY\", \"WEDNESDAY\", \"THURSDAY\", \"FRIDAY\", \"SATURDAY\", \"SUNDAY\" ],\n",
    "              \"type\" : \"string\"\n",
    "            },\n",
    "            \"type\" : \"array\",\n",
    "            \"description\" : \"Days of the week to run a backup\"\n",
    "          }\n",
    "        },\n",
    "        \"description\" : \"Backup Interval running once a day on certain days of the week\"\n",
    "      } ]\n",
    "    },\n",
    "</pre>"
   ]
  },
  {
   "cell_type": "code",
   "execution_count": 16,
   "metadata": {},
   "outputs": [],
   "source": [
    "DailyWeeklyInterval = swagger_spec.definitions['DailyWeeklyInterval']\n",
    "DailyWeeklyInterval?"
   ]
  },
  {
   "cell_type": "code",
   "execution_count": 17,
   "metadata": {},
   "outputs": [
    {
     "name": "stdout",
     "output_type": "stream",
     "text": [
      "userTimeZone=America/Los_Angeles, daysOfWeek=['MONDAY', 'FRIDAY'], timeOfDay=11:00 \n"
     ]
    }
   ],
   "source": [
    "daily_weekly_interval = DailyWeeklyInterval(userTimeZone='America/Los_Angeles', \n",
    "                                            daysOfWeek=['MONDAY', 'FRIDAY'],\n",
    "                                            timeOfDay='11:00'\n",
    "                                           )\n",
    "dir(daily_weekly_interval)\n",
    "print(f\"userTimeZone={daily_weekly_interval.userTimeZone}, daysOfWeek={daily_weekly_interval.daysOfWeek}, timeOfDay={daily_weekly_interval.timeOfDay} \")"
   ]
  },
  {
   "cell_type": "code",
   "execution_count": 18,
   "metadata": {},
   "outputs": [
    {
     "data": {
      "text/plain": [
       "abc.DailyWeeklyInterval"
      ]
     },
     "execution_count": 18,
     "metadata": {},
     "output_type": "execute_result"
    }
   ],
   "source": [
    "daily_weekly_interval = swagger_client.get_model('DailyWeeklyInterval')\n",
    "daily_weekly_interval"
   ]
  },
  {
   "cell_type": "code",
   "execution_count": null,
   "metadata": {},
   "outputs": [],
   "source": []
  },
  {
   "cell_type": "code",
   "execution_count": 19,
   "metadata": {
    "scrolled": true
   },
   "outputs": [
    {
     "data": {
      "text/plain": [
       "{'discoverRootInstance': Operation(discoverRootInstance),\n",
       " 'discoverInstance': Operation(discoverInstance),\n",
       " 'listInstance': Operation(listInstance),\n",
       " 'updateInstance': Operation(updateInstance),\n",
       " 'deleteInstance': Operation(deleteInstance),\n",
       " 'getInstance': Operation(getInstance)}"
      ]
     },
     "execution_count": 19,
     "metadata": {},
     "output_type": "execute_result"
    }
   ],
   "source": [
    "swagger_client.Instances.resource.operations"
   ]
  },
  {
   "cell_type": "markdown",
   "metadata": {},
   "source": [
    "## discoverInstance \n",
    "\n",
    "** From swagger_client **\n",
    "<pre>\n",
    "Type:           Operation\n",
    "String form:    Operation(discoverInstance)\n",
    "File:           c:\\apps\\python\\python_3.6\\envs\\psmcli\\lib\\site-packages\\bravado_core\\operation.py\n",
    "Docstring:      <no docstring>\n",
    "Init docstring:\n",
    "Swagger operation defined by a unique (http_method, path_name) pair.\n",
    "\n",
    ":type swagger_spec: :class:`Spec`\n",
    ":param path_name: path of the operation. e.g. /pet/{petId}\n",
    ":param http_method: get/put/post/delete/etc\n",
    ":param op_spec: operation specification in dict form\n",
    "</pre>\n",
    "\n",
    "\n",
    "** From swagger.json instances_swagger_18.1.2.json **\n",
    "\n",
    "<pre>\n",
    "    \"/instance/{container}\" : {\n",
    "      \"get\" : {\n",
    "        \"tags\" : [ \"Instances\" ],\n",
    "        \"summary\" : \"Retrieve Names of all Instances and Subcontainers in a Container\",\n",
    "        \"description\" : \"Retrieves the names of objects and subcontainers that you can access in the specified container.<p><b>Required Role: </b>To complete this task, you must have the <code>Compute_Operations</code> role. If this role isn't assigned to you or you're not sure, then ask your system administrator to ensure that the role is assigned to you in Oracle Cloud My Services. See <a target=\\\"_blank\\\" href=\\\"http://www.oracle.com/pls/topic/lookup?ctx=stcomputecs&id=MMOCS-GUID-54C2E747-7D5B-451C-A39C-77936178EBB6\\\">Modifying User Roles</a> in <em>Managing and Monitoring Oracle Cloud</em>.\",\n",
    "      <b>  \"operationId\" : \"discoverInstance\", </b>\n",
    "        \"responses\" : {\n",
    "          \"200\" : {\n",
    "            \"headers\" : {\n",
    "              \"set-cookie\" : {\n",
    "                \"type\" : \"string\",\n",
    "                \"description\" : \"The cookie value is returned if the session is extended\"\n",
    "              }\n",
    "            },\n",
    "            \"description\" : \"OK. See <a class=\\\"xref\\\" href=\\\"Status%20Codes.html\\\">Status Codes</a> for information about other possible HTTP status codes.\",\n",
    "           <b> \"schema\" : {\n",
    "              \"$ref\" : \"#/definitions/Instance-discover-response\"\n",
    "            }</b>\n",
    "          }\n",
    "        },\n",
    "        \"consumes\" : [ \"application/oracle-compute-v3+json\" ],\n",
    "        \"produces\" : [ \"application/oracle-compute-v3+directory+json\" ],\n",
    "        \"parameters\" : [ {\n",
    "         <b> \"name\" : \"container\", </b>\n",
    "          \"in\" : \"path\",\n",
    "         <b> \"description\" : \"Specify <code>/Compute-<i>identityDomain</i>/<i>user</i>/</code> to retrieve the names of objects that you can access. Specify <code>/Compute-<i>identityDomain</i>/</code> to retrieve the names of containers that contain objects that you can access.\",</b>\n",
    "          \"required\" : true,\n",
    "          \"type\" : \"string\"\n",
    "        }, {\n",
    "          \"name\" : \"Cookie\",\n",
    "          \"in\" : \"header\",\n",
    "          \"type\" : \"string\",\n",
    "          \"description\" : \"The Cookie: header must be included with every request to the service. It must be set to the value of the set-cookie header in the response received to the POST /authenticate/ call.\"\n",
    "        } ]\n",
    "      }\n",
    "    },\n",
    "</pre>\n",
    "\n",
    "\n"
   ]
  },
  {
   "cell_type": "code",
   "execution_count": 20,
   "metadata": {},
   "outputs": [
    {
     "name": "stdout",
     "output_type": "stream",
     "text": [
      "discoverInstance Operation: Operation(discoverInstance), discoverInstance.api_url: https://compute.uscom-central-1.oraclecloud.com\n"
     ]
    }
   ],
   "source": [
    "op = swagger_client.Instances.resource.operations['discoverInstance']\n",
    "op_api_url = op.swagger_spec.api_url\n",
    "print(f\"discoverInstance Operation: {op}, discoverInstance.api_url: {op_api_url}\")\n"
   ]
  },
  {
   "cell_type": "code",
   "execution_count": 21,
   "metadata": {},
   "outputs": [],
   "source": [
    "instances = swagger_client.Instances\n"
   ]
  },
  {
   "cell_type": "markdown",
   "metadata": {},
   "source": [
    "```\n",
    "class SwaggerClient(object):\n",
    "    \"\"\"A client for accessing a Swagger-documented RESTful service.\n",
    "\n",
    "    :type swagger_spec: :class:`bravado_core.spec.Spec`\n",
    "    \"\"\"\n",
    "\n",
    "    def __init__(self, swagger_spec, also_return_response=False):\n",
    "        self.__also_return_response = also_return_response\n",
    "        self.swagger_spec = swagger_spec\n",
    "\n",
    "    @classmethod\n",
    "    def from_url(cls, spec_url, http_client=None, request_headers=None, config=None):\n",
    "        \"\"\"Build a :class:`SwaggerClient` from a url to the Swagger\n",
    "        specification for a RESTful API.\n",
    "\n",
    "        :param spec_url: url pointing at the swagger API specification\n",
    "        :type spec_url: str\n",
    "        :param http_client: an HTTP client used to perform requests\n",
    "        :type  http_client: :class:`bravado.http_client.HttpClient`\n",
    "        :param request_headers: Headers to pass with http requests\n",
    "        :type  request_headers: dict\n",
    "        :param config: Config dict for bravado and bravado_core.\n",
    "            See CONFIG_DEFAULTS in :module:`bravado_core.spec`.\n",
    "            See CONFIG_DEFAULTS in :module:`bravado.client`.\n",
    "\n",
    "        :rtype: :class:`bravado_core.spec.Spec`\n",
    "        \"\"\"\n",
    "        log.debug(u\"Loading from %s\", spec_url)\n",
    "        http_client = http_client or RequestsClient()\n",
    "        loader = Loader(http_client, request_headers=request_headers)\n",
    "        spec_dict = loader.load_spec(spec_url)\n",
    "\n",
    "        # RefResolver may have to download additional json files (remote refs)\n",
    "        # via http. Wrap http_client's request() so that request headers are\n",
    "        # passed along with the request transparently. Yeah, this is not ideal,\n",
    "        # but since RefResolver has new found responsibilities, it is\n",
    "        # functional.\n",
    "        if request_headers is not None:\n",
    "            http_client.request = inject_headers_for_remote_refs(\n",
    "                http_client.request, request_headers)\n",
    "\n",
    "        return cls.from_spec(spec_dict, spec_url, http_client, config)\n",
    "\n",
    "    @classmethod\n",
    "    def from_spec(cls, spec_dict, origin_url=None, http_client=None,\n",
    "                  config=None):\n",
    "        \"\"\"\n",
    "        Build a :class:`SwaggerClient` from a Swagger spec in dict form.\n",
    "\n",
    "        :param spec_dict: a dict with a Swagger spec in json-like form\n",
    "        :param origin_url: the url used to retrieve the spec_dict\n",
    "        :type  origin_url: str\n",
    "        :param config: Configuration dict - see spec.CONFIG_DEFAULTS\n",
    "\n",
    "        :rtype: :class:`bravado_core.spec.Spec`\n",
    "        \"\"\"\n",
    "        http_client = http_client or RequestsClient()\n",
    "\n",
    "        # Apply bravado config defaults\n",
    "        config = dict(CONFIG_DEFAULTS, **(config or {}))\n",
    "\n",
    "        also_return_response = config.pop('also_return_response', False)\n",
    "        swagger_spec = Spec.from_dict(\n",
    "            spec_dict, origin_url, http_client, config,\n",
    "        )\n",
    "        return cls(swagger_spec, also_return_response=also_return_response)\n",
    "```"
   ]
  },
  {
   "cell_type": "code",
   "execution_count": 22,
   "metadata": {},
   "outputs": [
    {
     "name": "stdout",
     "output_type": "stream",
     "text": [
      "instances: <bravado.client.ResourceDecorator object at 0x0000020349036F28>, idm_service_instance_username: /Compute-587626604/eric.harris@oracle.com\n"
     ]
    }
   ],
   "source": [
    "print(f\"instances: {instances}, idm_service_instance_username: {idm_service_instance_username}\")"
   ]
  },
  {
   "cell_type": "code",
   "execution_count": 23,
   "metadata": {},
   "outputs": [
    {
     "name": "stdout",
     "output_type": "stream",
     "text": [
      "container: /Compute-587626604/eric.harris@oracle.com/\n"
     ]
    }
   ],
   "source": [
    "container = f\"{idm_service_instance_username}/\"\n",
    "print(f\"container: {container}\")"
   ]
  },
  {
   "cell_type": "code",
   "execution_count": 24,
   "metadata": {},
   "outputs": [],
   "source": [
    "discover_instance = instances.discoverInstance(container=container)"
   ]
  },
  {
   "cell_type": "code",
   "execution_count": 25,
   "metadata": {},
   "outputs": [
    {
     "ename": "HTTPNotFound",
     "evalue": "404 Not Found: Response specification matching http status_code 404 not found for operation Operation(discoverInstance). Either add a response specification for the status_code or use a `default` response.",
     "output_type": "error",
     "traceback": [
      "\u001b[1;31m---------------------------------------------------------------------------\u001b[0m",
      "\u001b[1;31mMatchingResponseNotFound\u001b[0m                  Traceback (most recent call last)",
      "\u001b[1;32mC:\\Apps\\python\\python_3.6\\envs\\psmcli\\lib\\site-packages\\bravado\\http_future.py\u001b[0m in \u001b[0;36munmarshal_response\u001b[1;34m(incoming_response, operation, response_callbacks)\u001b[0m\n\u001b[0;32m    155\u001b[0m             \u001b[0mresponse\u001b[0m\u001b[1;33m=\u001b[0m\u001b[0mincoming_response\u001b[0m\u001b[1;33m,\u001b[0m\u001b[1;33m\u001b[0m\u001b[0m\n\u001b[1;32m--> 156\u001b[1;33m             \u001b[0mop\u001b[0m\u001b[1;33m=\u001b[0m\u001b[0moperation\u001b[0m\u001b[1;33m,\u001b[0m\u001b[1;33m\u001b[0m\u001b[0m\n\u001b[0m\u001b[0;32m    157\u001b[0m         )\n",
      "\u001b[1;32mC:\\Apps\\python\\python_3.6\\envs\\psmcli\\lib\\site-packages\\bravado\\http_future.py\u001b[0m in \u001b[0;36munmarshal_response_inner\u001b[1;34m(response, op)\u001b[0m\n\u001b[0;32m    184\u001b[0m     \u001b[0mderef\u001b[0m \u001b[1;33m=\u001b[0m \u001b[0mop\u001b[0m\u001b[1;33m.\u001b[0m\u001b[0mswagger_spec\u001b[0m\u001b[1;33m.\u001b[0m\u001b[0mderef\u001b[0m\u001b[1;33m\u001b[0m\u001b[0m\n\u001b[1;32m--> 185\u001b[1;33m     \u001b[0mresponse_spec\u001b[0m \u001b[1;33m=\u001b[0m \u001b[0mget_response_spec\u001b[0m\u001b[1;33m(\u001b[0m\u001b[0mstatus_code\u001b[0m\u001b[1;33m=\u001b[0m\u001b[0mresponse\u001b[0m\u001b[1;33m.\u001b[0m\u001b[0mstatus_code\u001b[0m\u001b[1;33m,\u001b[0m \u001b[0mop\u001b[0m\u001b[1;33m=\u001b[0m\u001b[0mop\u001b[0m\u001b[1;33m)\u001b[0m\u001b[1;33m\u001b[0m\u001b[0m\n\u001b[0m\u001b[0;32m    186\u001b[0m \u001b[1;33m\u001b[0m\u001b[0m\n",
      "\u001b[1;32mC:\\Apps\\python\\python_3.6\\envs\\psmcli\\lib\\site-packages\\bravado_core\\response.py\u001b[0m in \u001b[0;36mget_response_spec\u001b[1;34m(status_code, op)\u001b[0m\n\u001b[0;32m    156\u001b[0m             \u001b[1;34m\"for operation {1}. Either add a response specification for the \"\u001b[0m\u001b[1;33m\u001b[0m\u001b[0m\n\u001b[1;32m--> 157\u001b[1;33m             \"status_code or use a `default` response.\".format(status_code, op))\n\u001b[0m\u001b[0;32m    158\u001b[0m     \u001b[1;32mreturn\u001b[0m \u001b[0mresponse_spec\u001b[0m\u001b[1;33m\u001b[0m\u001b[0m\n",
      "\u001b[1;31mMatchingResponseNotFound\u001b[0m: Response specification matching http status_code 404 not found for operation Operation(discoverInstance). Either add a response specification for the status_code or use a `default` response.",
      "\nDuring handling of the above exception, another exception occurred:\n",
      "\u001b[1;31mHTTPNotFound\u001b[0m                              Traceback (most recent call last)",
      "\u001b[1;32m<ipython-input-25-8b172f29c6e9>\u001b[0m in \u001b[0;36m<module>\u001b[1;34m()\u001b[0m\n\u001b[1;32m----> 1\u001b[1;33m \u001b[0mdiscover_instance_result\u001b[0m \u001b[1;33m=\u001b[0m \u001b[0mdiscover_instance\u001b[0m\u001b[1;33m.\u001b[0m\u001b[0mresult\u001b[0m\u001b[1;33m(\u001b[0m\u001b[1;33m)\u001b[0m\u001b[1;33m\u001b[0m\u001b[0m\n\u001b[0m",
      "\u001b[1;32mC:\\Apps\\python\\python_3.6\\envs\\psmcli\\lib\\site-packages\\bravado\\http_future.py\u001b[0m in \u001b[0;36mwrapper\u001b[1;34m(self, *args, **kwargs)\u001b[0m\n\u001b[0;32m     60\u001b[0m         \u001b[1;32mif\u001b[0m \u001b[0mtimeout_errors\u001b[0m\u001b[1;33m:\u001b[0m\u001b[1;33m\u001b[0m\u001b[0m\n\u001b[0;32m     61\u001b[0m             \u001b[1;32mtry\u001b[0m\u001b[1;33m:\u001b[0m\u001b[1;33m\u001b[0m\u001b[0m\n\u001b[1;32m---> 62\u001b[1;33m                 \u001b[1;32mreturn\u001b[0m \u001b[0mfunc\u001b[0m\u001b[1;33m(\u001b[0m\u001b[0mself\u001b[0m\u001b[1;33m,\u001b[0m \u001b[1;33m*\u001b[0m\u001b[0margs\u001b[0m\u001b[1;33m,\u001b[0m \u001b[1;33m**\u001b[0m\u001b[0mkwargs\u001b[0m\u001b[1;33m)\u001b[0m\u001b[1;33m\u001b[0m\u001b[0m\n\u001b[0m\u001b[0;32m     63\u001b[0m             \u001b[1;32mexcept\u001b[0m \u001b[0mtimeout_errors\u001b[0m \u001b[1;32mas\u001b[0m \u001b[0mexception\u001b[0m\u001b[1;33m:\u001b[0m\u001b[1;33m\u001b[0m\u001b[0m\n\u001b[0;32m     64\u001b[0m                 six.reraise(\n",
      "\u001b[1;32mC:\\Apps\\python\\python_3.6\\envs\\psmcli\\lib\\site-packages\\bravado\\http_future.py\u001b[0m in \u001b[0;36mresult\u001b[1;34m(self, timeout)\u001b[0m\n\u001b[0;32m    119\u001b[0m                 \u001b[0mincoming_response\u001b[0m\u001b[1;33m,\u001b[0m\u001b[1;33m\u001b[0m\u001b[0m\n\u001b[0;32m    120\u001b[0m                 \u001b[0mself\u001b[0m\u001b[1;33m.\u001b[0m\u001b[0moperation\u001b[0m\u001b[1;33m,\u001b[0m\u001b[1;33m\u001b[0m\u001b[0m\n\u001b[1;32m--> 121\u001b[1;33m                 self.response_callbacks)\n\u001b[0m\u001b[0;32m    122\u001b[0m \u001b[1;33m\u001b[0m\u001b[0m\n\u001b[0;32m    123\u001b[0m             \u001b[0mswagger_result\u001b[0m \u001b[1;33m=\u001b[0m \u001b[0mincoming_response\u001b[0m\u001b[1;33m.\u001b[0m\u001b[0mswagger_result\u001b[0m\u001b[1;33m\u001b[0m\u001b[0m\n",
      "\u001b[1;32mC:\\Apps\\python\\python_3.6\\envs\\psmcli\\lib\\site-packages\\bravado\\http_future.py\u001b[0m in \u001b[0;36munmarshal_response\u001b[1;34m(incoming_response, operation, response_callbacks)\u001b[0m\n\u001b[0;32m    164\u001b[0m             \u001b[0mtype\u001b[0m\u001b[1;33m(\u001b[0m\u001b[0mexception\u001b[0m\u001b[1;33m)\u001b[0m\u001b[1;33m,\u001b[0m\u001b[1;33m\u001b[0m\u001b[0m\n\u001b[0;32m    165\u001b[0m             \u001b[0mexception\u001b[0m\u001b[1;33m,\u001b[0m\u001b[1;33m\u001b[0m\u001b[0m\n\u001b[1;32m--> 166\u001b[1;33m             sys.exc_info()[2])\n\u001b[0m\u001b[0;32m    167\u001b[0m     \u001b[1;32mfinally\u001b[0m\u001b[1;33m:\u001b[0m\u001b[1;33m\u001b[0m\u001b[0m\n\u001b[0;32m    168\u001b[0m         \u001b[1;31m# Always run the callbacks regardless of success/failure\u001b[0m\u001b[1;33m\u001b[0m\u001b[1;33m\u001b[0m\u001b[0m\n",
      "\u001b[1;32mC:\\Apps\\python\\python_3.6\\envs\\psmcli\\lib\\site-packages\\six.py\u001b[0m in \u001b[0;36mreraise\u001b[1;34m(tp, value, tb)\u001b[0m\n\u001b[0;32m    690\u001b[0m                 \u001b[0mvalue\u001b[0m \u001b[1;33m=\u001b[0m \u001b[0mtp\u001b[0m\u001b[1;33m(\u001b[0m\u001b[1;33m)\u001b[0m\u001b[1;33m\u001b[0m\u001b[0m\n\u001b[0;32m    691\u001b[0m             \u001b[1;32mif\u001b[0m \u001b[0mvalue\u001b[0m\u001b[1;33m.\u001b[0m\u001b[0m__traceback__\u001b[0m \u001b[1;32mis\u001b[0m \u001b[1;32mnot\u001b[0m \u001b[0mtb\u001b[0m\u001b[1;33m:\u001b[0m\u001b[1;33m\u001b[0m\u001b[0m\n\u001b[1;32m--> 692\u001b[1;33m                 \u001b[1;32mraise\u001b[0m \u001b[0mvalue\u001b[0m\u001b[1;33m.\u001b[0m\u001b[0mwith_traceback\u001b[0m\u001b[1;33m(\u001b[0m\u001b[0mtb\u001b[0m\u001b[1;33m)\u001b[0m\u001b[1;33m\u001b[0m\u001b[0m\n\u001b[0m\u001b[0;32m    693\u001b[0m             \u001b[1;32mraise\u001b[0m \u001b[0mvalue\u001b[0m\u001b[1;33m\u001b[0m\u001b[0m\n\u001b[0;32m    694\u001b[0m         \u001b[1;32mfinally\u001b[0m\u001b[1;33m:\u001b[0m\u001b[1;33m\u001b[0m\u001b[0m\n",
      "\u001b[1;32mC:\\Apps\\python\\python_3.6\\envs\\psmcli\\lib\\site-packages\\bravado\\http_future.py\u001b[0m in \u001b[0;36munmarshal_response\u001b[1;34m(incoming_response, operation, response_callbacks)\u001b[0m\n\u001b[0;32m    154\u001b[0m         incoming_response.swagger_result = unmarshal_response_inner(\n\u001b[0;32m    155\u001b[0m             \u001b[0mresponse\u001b[0m\u001b[1;33m=\u001b[0m\u001b[0mincoming_response\u001b[0m\u001b[1;33m,\u001b[0m\u001b[1;33m\u001b[0m\u001b[0m\n\u001b[1;32m--> 156\u001b[1;33m             \u001b[0mop\u001b[0m\u001b[1;33m=\u001b[0m\u001b[0moperation\u001b[0m\u001b[1;33m,\u001b[0m\u001b[1;33m\u001b[0m\u001b[0m\n\u001b[0m\u001b[0;32m    157\u001b[0m         )\n\u001b[0;32m    158\u001b[0m     \u001b[1;32mexcept\u001b[0m \u001b[0mMatchingResponseNotFound\u001b[0m \u001b[1;32mas\u001b[0m \u001b[0me\u001b[0m\u001b[1;33m:\u001b[0m\u001b[1;33m\u001b[0m\u001b[0m\n",
      "\u001b[1;32mC:\\Apps\\python\\python_3.6\\envs\\psmcli\\lib\\site-packages\\bravado\\http_future.py\u001b[0m in \u001b[0;36munmarshal_response_inner\u001b[1;34m(response, op)\u001b[0m\n\u001b[0;32m    183\u001b[0m     \"\"\"\n\u001b[0;32m    184\u001b[0m     \u001b[0mderef\u001b[0m \u001b[1;33m=\u001b[0m \u001b[0mop\u001b[0m\u001b[1;33m.\u001b[0m\u001b[0mswagger_spec\u001b[0m\u001b[1;33m.\u001b[0m\u001b[0mderef\u001b[0m\u001b[1;33m\u001b[0m\u001b[0m\n\u001b[1;32m--> 185\u001b[1;33m     \u001b[0mresponse_spec\u001b[0m \u001b[1;33m=\u001b[0m \u001b[0mget_response_spec\u001b[0m\u001b[1;33m(\u001b[0m\u001b[0mstatus_code\u001b[0m\u001b[1;33m=\u001b[0m\u001b[0mresponse\u001b[0m\u001b[1;33m.\u001b[0m\u001b[0mstatus_code\u001b[0m\u001b[1;33m,\u001b[0m \u001b[0mop\u001b[0m\u001b[1;33m=\u001b[0m\u001b[0mop\u001b[0m\u001b[1;33m)\u001b[0m\u001b[1;33m\u001b[0m\u001b[0m\n\u001b[0m\u001b[0;32m    186\u001b[0m \u001b[1;33m\u001b[0m\u001b[0m\n\u001b[0;32m    187\u001b[0m     \u001b[1;32mif\u001b[0m \u001b[1;34m'schema'\u001b[0m \u001b[1;32mnot\u001b[0m \u001b[1;32min\u001b[0m \u001b[0mresponse_spec\u001b[0m\u001b[1;33m:\u001b[0m\u001b[1;33m\u001b[0m\u001b[0m\n",
      "\u001b[1;32mC:\\Apps\\python\\python_3.6\\envs\\psmcli\\lib\\site-packages\\bravado_core\\response.py\u001b[0m in \u001b[0;36mget_response_spec\u001b[1;34m(status_code, op)\u001b[0m\n\u001b[0;32m    155\u001b[0m             \u001b[1;34m\"Response specification matching http status_code {0} not found \"\u001b[0m\u001b[1;33m\u001b[0m\u001b[0m\n\u001b[0;32m    156\u001b[0m             \u001b[1;34m\"for operation {1}. Either add a response specification for the \"\u001b[0m\u001b[1;33m\u001b[0m\u001b[0m\n\u001b[1;32m--> 157\u001b[1;33m             \"status_code or use a `default` response.\".format(status_code, op))\n\u001b[0m\u001b[0;32m    158\u001b[0m     \u001b[1;32mreturn\u001b[0m \u001b[0mresponse_spec\u001b[0m\u001b[1;33m\u001b[0m\u001b[0m\n\u001b[0;32m    159\u001b[0m \u001b[1;33m\u001b[0m\u001b[0m\n",
      "\u001b[1;31mHTTPNotFound\u001b[0m: 404 Not Found: Response specification matching http status_code 404 not found for operation Operation(discoverInstance). Either add a response specification for the status_code or use a `default` response."
     ]
    }
   ],
   "source": [
    "discover_instance_result = discover_instance.result()"
   ]
  },
  {
   "cell_type": "markdown",
   "metadata": {},
   "source": [
    "###### nope, discover_instance_result = discover_instance.result()\n",
    "\n",
    "We're now getting:\n",
    "\n",
    "```\n",
    "ConnectionError: HTTPSConnectionPool(host='compute.uscom-central-1.oraclecloud.com', port=443): Max retries exceeded with url: /instance/%2FCompute-587626604%2Feric.harris%40oracle.com%2F (Caused by NewConnectionError('<urllib3.connection.VerifiedHTTPSConnection object at 0x0000021B45D240B8>: Failed to establish a new connection: [WinError 10060] A connection attempt failed because the connected party did not properly respond after a period of time, or established connection failed because connected host has failed to respond',))\n",
    "\n",
    "```\n",
    "\n",
    "%2F is ASCII for '/'\n",
    "/instance/%2FCompute-587626604%2Feric.harris%40oracle.com%2F -> /instance//Compute-587626604/eric.harris%40oracle.com/\n",
    "\n",
    "<pre>\n",
    "        \"parameters\" : [ {\n",
    "         <b> \"name\" : \"container\", </b>\n",
    "          \"in\" : \"path\",\n",
    "         <b> \"description\" : \"Specify <code>/Compute-<i>identityDomain</i>/<i>user</i>/</code> to retrieve the names of objects that you can access. Specify <code>/Compute-<i>identityDomain</i>/</code> to retrieve the names of containers that contain objects that you can access.\",</b>\n",
    "          \"required\" : true,\n",
    "          \"type\" : \"string\"\n",
    "        }, {\n",
    "          \"name\" : \"Cookie\",\n",
    "          \"in\" : \"header\",\n",
    "          \"type\" : \"string\",\n",
    "          \"description\" : \"The Cookie: header must be included with every request to the service. It must be set to the value of the set-cookie header in the response received to the POST /authenticate/ call.\"\n",
    "        } ]\n",
    "      }\n",
    "    },\n",
    "</pre>\n"
   ]
  },
  {
   "cell_type": "code",
   "execution_count": null,
   "metadata": {},
   "outputs": [],
   "source": [
    "container = idm_service_instance_username[1:]\n",
    "print(f\"container: {container}\")"
   ]
  },
  {
   "cell_type": "code",
   "execution_count": null,
   "metadata": {},
   "outputs": [],
   "source": [
    "discover_instance = instances.discoverInstance(container=container)\n"
   ]
  },
  {
   "cell_type": "code",
   "execution_count": null,
   "metadata": {},
   "outputs": [],
   "source": [
    "discover_instance_result = discover_instance.result()"
   ]
  },
  {
   "cell_type": "code",
   "execution_count": null,
   "metadata": {},
   "outputs": [],
   "source": [
    "from bravado.swagger_model import Loader\n",
    "\n",
    "loader = Loader(requests_client, request_headers=None)\n",
    "spec_dict = loader.load_spec(spec_file_uri)\n",
    "spec_dict"
   ]
  },
  {
   "cell_type": "code",
   "execution_count": null,
   "metadata": {},
   "outputs": [],
   "source": []
  }
 ],
 "metadata": {
  "kernelspec": {
   "display_name": "Python 3",
   "language": "python",
   "name": "python3"
  },
  "language_info": {
   "codemirror_mode": {
    "name": "ipython",
    "version": 3
   },
   "file_extension": ".py",
   "mimetype": "text/x-python",
   "name": "python",
   "nbconvert_exporter": "python",
   "pygments_lexer": "ipython3",
   "version": "3.6.5"
  }
 },
 "nbformat": 4,
 "nbformat_minor": 2
}
