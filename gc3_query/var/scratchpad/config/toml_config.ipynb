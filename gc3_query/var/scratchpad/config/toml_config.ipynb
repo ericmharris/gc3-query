{
 "cells": [
  {
   "cell_type": "code",
   "execution_count": 359,
   "metadata": {},
   "outputs": [],
   "source": [
    "from pprint import pformat, pprint\n",
    "import jinja2\n",
    "from jinja2 import DictLoader\n",
    "from jinja2 import Environment, PackageLoader, select_autoescape\n",
    "\n",
    "import toml\n",
    "import flask\n",
    "\n",
    "from gc3_query.lib import gc3_cfg, BASE_DIR_FIX_ME\n",
    "\n",
    "\n"
   ]
  },
  {
   "cell_type": "code",
   "execution_count": 360,
   "metadata": {},
   "outputs": [
    {
     "name": "stdout",
     "output_type": "stream",
     "text": [
      "CONFIG_DIR=c:\\users\\emharris\\devel\\gc3-query\\gc3_query\\etc\\config, CONFIG_DIR.exists()=True\n"
     ]
    }
   ],
   "source": [
    "CONFIG_DIR = BASE_DIR.joinpath('etc/config')\n",
    "print(f\"CONFIG_DIR={CONFIG_DIR}, CONFIG_DIR.exists()={CONFIG_DIR.exists()}\")"
   ]
  },
  {
   "cell_type": "code",
   "execution_count": 361,
   "metadata": {},
   "outputs": [
    {
     "name": "stdout",
     "output_type": "stream",
     "text": [
      "[WindowsPath('c:/users/emharris/devel/gc3-query/gc3_query/etc/config/idm_domains.toml'), WindowsPath('c:/users/emharris/devel/gc3-query/gc3_query/etc/config/mongodb.toml'), WindowsPath('c:/users/emharris/devel/gc3-query/gc3_query/etc/config/user_info.toml'), WindowsPath('c:/users/emharris/devel/gc3-query/gc3_query/etc/config/__init__.toml')]\n",
      "[<_io.TextIOWrapper name='c:\\\\users\\\\emharris\\\\devel\\\\gc3-query\\\\gc3_query\\\\etc\\\\config\\\\idm_domains.toml' mode='r' encoding='cp1252'>, <_io.TextIOWrapper name='c:\\\\users\\\\emharris\\\\devel\\\\gc3-query\\\\gc3_query\\\\etc\\\\config\\\\mongodb.toml' mode='r' encoding='cp1252'>, <_io.TextIOWrapper name='c:\\\\users\\\\emharris\\\\devel\\\\gc3-query\\\\gc3_query\\\\etc\\\\config\\\\user_info.toml' mode='r' encoding='cp1252'>, <_io.TextIOWrapper name='c:\\\\users\\\\emharris\\\\devel\\\\gc3-query\\\\gc3_query\\\\etc\\\\config\\\\__init__.toml' mode='r' encoding='cp1252'>]\n",
      "['c:\\\\users\\\\emharris\\\\devel\\\\gc3-query\\\\gc3_query\\\\etc\\\\config\\\\idm_domains.toml', 'c:\\\\users\\\\emharris\\\\devel\\\\gc3-query\\\\gc3_query\\\\etc\\\\config\\\\mongodb.toml', 'c:\\\\users\\\\emharris\\\\devel\\\\gc3-query\\\\gc3_query\\\\etc\\\\config\\\\user_info.toml', 'c:\\\\users\\\\emharris\\\\devel\\\\gc3-query\\\\gc3_query\\\\etc\\\\config\\\\__init__.toml']\n"
     ]
    }
   ],
   "source": [
    "toml_files = [f for f in CONFIG_DIR.glob('*.toml')]\n",
    "print(toml_files)\n",
    "toml_fds = [fd.open() for fd in toml_files]\n",
    "print(toml_fds)\n",
    "toml_file_names = [str(f) for f in toml_files]\n",
    "print(toml_file_names)\n"
   ]
  },
  {
   "cell_type": "code",
   "execution_count": 362,
   "metadata": {},
   "outputs": [
    {
     "data": {
      "text/plain": [
       "{'title': '__init__',\n",
       " 'decription': 'GC3 Configuration Data',\n",
       " '__init__': {'project_name': 'gc3_query',\n",
       "  '_meta': {'title': '__init__',\n",
       "   'file': '__init__.toml',\n",
       "   'decription': 'GC3 Configuration Data',\n",
       "   'dependencies': '',\n",
       "   'default_type': 'str'}},\n",
       " 'gc3_query': {'gc3_query_home': '{{BASE_DIR}}',\n",
       "  'home': '{{BASE_DIR}}'}}"
      ]
     },
     "execution_count": 362,
     "metadata": {},
     "output_type": "execute_result"
    }
   ],
   "source": [
    "toml.load(toml_files[-1].open())"
   ]
  },
  {
   "cell_type": "code",
   "execution_count": 363,
   "metadata": {},
   "outputs": [
    {
     "name": "stdout",
     "output_type": "stream",
     "text": [
      "Loading toml_file=c:\\users\\emharris\\devel\\gc3-query\\gc3_query\\etc\\config\\idm_domains.toml\n",
      "Done loading toml_file=c:\\users\\emharris\\devel\\gc3-query\\gc3_query\\etc\\config\\idm_domains.toml\n",
      "Loading toml_file=c:\\users\\emharris\\devel\\gc3-query\\gc3_query\\etc\\config\\mongodb.toml\n",
      "Done loading toml_file=c:\\users\\emharris\\devel\\gc3-query\\gc3_query\\etc\\config\\mongodb.toml\n",
      "Loading toml_file=c:\\users\\emharris\\devel\\gc3-query\\gc3_query\\etc\\config\\user_info.toml\n",
      "Done loading toml_file=c:\\users\\emharris\\devel\\gc3-query\\gc3_query\\etc\\config\\user_info.toml\n",
      "Loading toml_file=c:\\users\\emharris\\devel\\gc3-query\\gc3_query\\etc\\config\\__init__.toml\n",
      "Done loading toml_file=c:\\users\\emharris\\devel\\gc3-query\\gc3_query\\etc\\config\\__init__.toml\n"
     ]
    }
   ],
   "source": [
    "for f in toml_files:\n",
    "    print(f\"Loading toml_file={f}\")\n",
    "    toml_file = toml.load(f.open())\n",
    "    print(f\"Done loading toml_file={f}\")\n"
   ]
  },
  {
   "cell_type": "code",
   "execution_count": 364,
   "metadata": {},
   "outputs": [],
   "source": [
    "idm_domains = toml_files[0]"
   ]
  },
  {
   "cell_type": "code",
   "execution_count": 365,
   "metadata": {},
   "outputs": [
    {
     "data": {
      "text/plain": [
       "\"[idm_domains]\\nfirst_name = 'Eric'\\nlast_name = 'Harris'\\nemail = 'eric.harris@oracle.com'\\ncloud_username = 'eric.harris@oracle.com'\\nos_username = 'eharris'\\nhome_directory = 'C:\\\\Users\\\\{{user.os_username}}'\\npassword_storage = 'keyring'\\ndefault_idm_domain = 'gc3pilot'\\n\\n\\n[idm_domains._meta]\\ntitle = 'IDM Domains'\\nfile = 'idm_domains.toml'\\ndecription = 'Oracle Cloud IDM domains used with the GC3 project.'\\ndependencies = ''\\ndefault_type = 'str'\\n\\n\\n[idm_domains.gc3pilot]\\nname = 'gc3pilot'\\nid = 'gc3pilot'\\nservice_instance_id = 575988287\\nsubscription_id = 1480019\\ncsi_number = 21204068\\nregion = 'us'\\ndata_center = 'usdc2'\\n'rest_url:url' = 'https://compute.uscom-central-1.oraclecloud.com/'\\n'sftp_url:url' = 'sftp://sftp.us2.cloud.oracle.com:22'\\nmultiple_sites = true\\n[idm_domains.gc3pilot.sites.uscom-central-1]\\nname = 'uscom-central-1'\\ndata_center ='usdc2'\\nrest_endpoint = 'https://compute.uscom-central-1.oraclecloud.com/'\\n[idm_domains.gc3pilot.sites.us006_z70]\\nname = 'us006_z70'\\ndata_center = 'usdc6'\\nrest_endpoint = 'https://api-z70.compute.us6.oraclecloud.com/'\\n\\n\\n\\n[idm_domains.gc30003]\\nname = 'gc30003'\\nid = 'gc30003'\\nservice_instance_id = 587626604\\nsubscription_id = 1586698\\ncsi_number = 21361344\\nregion = 'us'\\ndata_center = 'usdc2'\\nmultiple_sites = false\\n'rest_url:url' = 'https://compute.uscom-central-1.oraclecloud.com/'\\n'sftp_url:url' = 'sftp://sftp.us2.cloud.oracle.com:22'\\n[idm_domains.gc30003.sites.uscom-central-1]\\nname = 'uscom-central-1'\\ndata_center ='usdc2'\\nrest_endpoint = 'https://compute.uscom-central-1.oraclecloud.com/'\\n\""
      ]
     },
     "execution_count": 365,
     "metadata": {},
     "output_type": "execute_result"
    }
   ],
   "source": [
    "idm_domains.open().read()"
   ]
  },
  {
   "cell_type": "code",
   "execution_count": 366,
   "metadata": {},
   "outputs": [
    {
     "data": {
      "text/plain": [
       "{'idm_domains': {'first_name': 'Eric',\n",
       "  'last_name': 'Harris',\n",
       "  'email': 'eric.harris@oracle.com',\n",
       "  'cloud_username': 'eric.harris@oracle.com',\n",
       "  'os_username': 'eharris',\n",
       "  'home_directory': 'C:\\\\Users\\\\{{user.os_username}}',\n",
       "  'password_storage': 'keyring',\n",
       "  'default_idm_domain': 'gc3pilot',\n",
       "  '_meta': {'title': 'IDM Domains',\n",
       "   'file': 'idm_domains.toml',\n",
       "   'decription': 'Oracle Cloud IDM domains used with the GC3 project.',\n",
       "   'dependencies': '',\n",
       "   'default_type': 'str'},\n",
       "  'gc3pilot': {'name': 'gc3pilot',\n",
       "   'id': 'gc3pilot',\n",
       "   'service_instance_id': 575988287,\n",
       "   'subscription_id': 1480019,\n",
       "   'csi_number': 21204068,\n",
       "   'region': 'us',\n",
       "   'data_center': 'usdc2',\n",
       "   'rest_url:url': 'https://compute.uscom-central-1.oraclecloud.com/',\n",
       "   'sftp_url:url': 'sftp://sftp.us2.cloud.oracle.com:22',\n",
       "   'multiple_sites': True,\n",
       "   'sites': {'uscom-central-1': {'name': 'uscom-central-1',\n",
       "     'data_center': 'usdc2',\n",
       "     'rest_endpoint': 'https://compute.uscom-central-1.oraclecloud.com/'},\n",
       "    'us006_z70': {'name': 'us006_z70',\n",
       "     'data_center': 'usdc6',\n",
       "     'rest_endpoint': 'https://api-z70.compute.us6.oraclecloud.com/'}}},\n",
       "  'gc30003': {'name': 'gc30003',\n",
       "   'id': 'gc30003',\n",
       "   'service_instance_id': 587626604,\n",
       "   'subscription_id': 1586698,\n",
       "   'csi_number': 21361344,\n",
       "   'region': 'us',\n",
       "   'data_center': 'usdc2',\n",
       "   'multiple_sites': False,\n",
       "   'rest_url:url': 'https://compute.uscom-central-1.oraclecloud.com/',\n",
       "   'sftp_url:url': 'sftp://sftp.us2.cloud.oracle.com:22',\n",
       "   'sites': {'uscom-central-1': {'name': 'uscom-central-1',\n",
       "     'data_center': 'usdc2',\n",
       "     'rest_endpoint': 'https://compute.uscom-central-1.oraclecloud.com/'}}}}}"
      ]
     },
     "execution_count": 366,
     "metadata": {},
     "output_type": "execute_result"
    }
   ],
   "source": [
    "toml.loads(idm_domains.open().read())"
   ]
  },
  {
   "cell_type": "code",
   "execution_count": 367,
   "metadata": {},
   "outputs": [
    {
     "name": "stdout",
     "output_type": "stream",
     "text": [
      "{'__init__': {'_meta': {'decription': 'GC3 Configuration Data',\n",
      "                        'default_type': 'str',\n",
      "                        'dependencies': '',\n",
      "                        'file': '__init__.toml',\n",
      "                        'title': '__init__'},\n",
      "              'project_name': 'gc3_query'},\n",
      " 'decription': 'GC3 Configuration Data',\n",
      " 'gc3_query': {'gc3_query_home': '{{BASE_DIR}}',\n",
      "               'home': '{{BASE_DIR}}'},\n",
      " 'idm_domains': {'_meta': {'decription': 'Oracle Cloud IDM domains used with '\n",
      "                                         'the GC3 project.',\n",
      "                           'default_type': 'str',\n",
      "                           'dependencies': '',\n",
      "                           'file': 'idm_domains.toml',\n",
      "                           'title': 'IDM Domains'},\n",
      "                 'cloud_username': 'eric.harris@oracle.com',\n",
      "                 'default_idm_domain': 'gc3pilot',\n",
      "                 'email': 'eric.harris@oracle.com',\n",
      "                 'first_name': 'Eric',\n",
      "                 'gc30003': {'csi_number': 21361344,\n",
      "                             'data_center': 'usdc2',\n",
      "                             'id': 'gc30003',\n",
      "                             'multiple_sites': False,\n",
      "                             'name': 'gc30003',\n",
      "                             'region': 'us',\n",
      "                             'rest_url:url': 'https://compute.uscom-central-1.oraclecloud.com/',\n",
      "                             'service_instance_id': 587626604,\n",
      "                             'sftp_url:url': 'sftp://sftp.us2.cloud.oracle.com:22',\n",
      "                             'sites': {'uscom-central-1': {'data_center': 'usdc2',\n",
      "                                                           'name': 'uscom-central-1',\n",
      "                                                           'rest_endpoint': 'https://compute.uscom-central-1.oraclecloud.com/'}},\n",
      "                             'subscription_id': 1586698},\n",
      "                 'gc3pilot': {'csi_number': 21204068,\n",
      "                              'data_center': 'usdc2',\n",
      "                              'id': 'gc3pilot',\n",
      "                              'multiple_sites': True,\n",
      "                              'name': 'gc3pilot',\n",
      "                              'region': 'us',\n",
      "                              'rest_url:url': 'https://compute.uscom-central-1.oraclecloud.com/',\n",
      "                              'service_instance_id': 575988287,\n",
      "                              'sftp_url:url': 'sftp://sftp.us2.cloud.oracle.com:22',\n",
      "                              'sites': {'us006_z70': {'data_center': 'usdc6',\n",
      "                                                      'name': 'us006_z70',\n",
      "                                                      'rest_endpoint': 'https://api-z70.compute.us6.oraclecloud.com/'},\n",
      "                                        'uscom-central-1': {'data_center': 'usdc2',\n",
      "                                                            'name': 'uscom-central-1',\n",
      "                                                            'rest_endpoint': 'https://compute.uscom-central-1.oraclecloud.com/'}},\n",
      "                              'subscription_id': 1480019},\n",
      "                 'home_directory': 'C:\\\\Users\\\\{{user.os_username}}',\n",
      "                 'last_name': 'Harris',\n",
      "                 'os_username': 'eharris',\n",
      "                 'password_storage': 'keyring'},\n",
      " 'mongodb': {'_meta': {'decription': 'Oracle Cloud IDM domains used with the '\n",
      "                                     'GC3 project.',\n",
      "                       'default_type': 'str',\n",
      "                       'dependencies': '',\n",
      "                       'file': 'mongodb.toml',\n",
      "                       'title': 'IDM Domains'},\n",
      "             'net': {'listen_address': '127.0.0.1', 'listen_port': 7117},\n",
      "             'storage': {'db_path': '{{gc3_query.gc3_query_home}}\\\\var\\\\mongodb\\\\data',\n",
      "                         'directory_per_db': True,\n",
      "                         'journal': {'enabled': True}},\n",
      "             'system_log': {'destination': 'file',\n",
      "                            'log_append': True,\n",
      "                            'path': '{{gc3_query.gc3_query_home}}\\\\var\\\\mongodb\\\\logs\\\\mongo-service.log'}},\n",
      " 'title': '__init__',\n",
      " 'user': {'_meta': {'decription': 'Basic user information',\n",
      "                    'default_type': 'str',\n",
      "                    'dependencies': '',\n",
      "                    'file': 'user_info.toml',\n",
      "                    'title': 'User Information'},\n",
      "          'cloud_username': 'eric.harris@oracle.com',\n",
      "          'default_idm_domain': 'gc3pilot',\n",
      "          'email': 'eric.harris@oracle.com',\n",
      "          'first_name': 'Eric',\n",
      "          'home_directory': 'C:\\\\Users\\\\eharris',\n",
      "          'last_name': 'Harris',\n",
      "          'os_username': 'eharris',\n",
      "          'password_storage': 'keyring'}}\n"
     ]
    }
   ],
   "source": [
    "config_data = toml.load(toml_file_names)\n",
    "pprint(config_data)"
   ]
  },
  {
   "cell_type": "code",
   "execution_count": 368,
   "metadata": {},
   "outputs": [
    {
     "data": {
      "text/plain": [
       "dict"
      ]
     },
     "execution_count": 368,
     "metadata": {},
     "output_type": "execute_result"
    }
   ],
   "source": [
    "type(config_data)"
   ]
  },
  {
   "cell_type": "code",
   "execution_count": 369,
   "metadata": {},
   "outputs": [
    {
     "data": {
      "text/plain": [
       "dict_keys(['idm_domains', 'mongodb', 'user', 'title', 'decription', '__init__', 'gc3_query'])"
      ]
     },
     "execution_count": 369,
     "metadata": {},
     "output_type": "execute_result"
    }
   ],
   "source": [
    "config_data.keys()"
   ]
  },
  {
   "cell_type": "code",
   "execution_count": 370,
   "metadata": {},
   "outputs": [
    {
     "data": {
      "text/plain": [
       "'C:\\\\Users\\\\{{user.os_username}}'"
      ]
     },
     "execution_count": 370,
     "metadata": {},
     "output_type": "execute_result"
    }
   ],
   "source": [
    "config_data['idm_domains']['home_directory']"
   ]
  },
  {
   "cell_type": "code",
   "execution_count": 371,
   "metadata": {},
   "outputs": [],
   "source": [
    "# flask.render_template_string(config_data['idm_domains']['home_directory'], **config_data)"
   ]
  },
  {
   "cell_type": "markdown",
   "metadata": {},
   "source": [
    "### DictLoader\n",
    "\n",
    "[http://jinja.pocoo.org/docs/2.10/api/#jinja2.DictLoader]\n",
    "\n",
    "<pre>\n",
    "class jinja2.DictLoader(mapping)\n",
    "Loads a template from a python dict. It’s passed a dict of unicode strings bound to template names. This loader is useful for unittesting:\n",
    "\n",
    ">>> loader = DictLoader({'index.html': 'source here'})\n",
    "Because auto reloading is rarely useful this is disabled per default.\n",
    "\n",
    "</pre>"
   ]
  },
  {
   "cell_type": "code",
   "execution_count": 372,
   "metadata": {},
   "outputs": [],
   "source": [
    "loader = DictLoader(config_data['idm_domains'])\n",
    "env = Environment(loader=loader, autoescape=select_autoescape(['html', 'xml']))"
   ]
  },
  {
   "cell_type": "code",
   "execution_count": 373,
   "metadata": {},
   "outputs": [
    {
     "data": {
      "text/plain": [
       "['_meta',\n",
       " 'cloud_username',\n",
       " 'default_idm_domain',\n",
       " 'email',\n",
       " 'first_name',\n",
       " 'gc30003',\n",
       " 'gc3pilot',\n",
       " 'home_directory',\n",
       " 'last_name',\n",
       " 'os_username',\n",
       " 'password_storage']"
      ]
     },
     "execution_count": 373,
     "metadata": {},
     "output_type": "execute_result"
    }
   ],
   "source": [
    "loader.list_templates()"
   ]
  },
  {
   "cell_type": "code",
   "execution_count": 374,
   "metadata": {
    "scrolled": false
   },
   "outputs": [
    {
     "data": {
      "text/plain": [
       "<Template 'home_directory'>"
      ]
     },
     "execution_count": 374,
     "metadata": {},
     "output_type": "execute_result"
    }
   ],
   "source": [
    "env.get_template('home_directory')"
   ]
  },
  {
   "cell_type": "code",
   "execution_count": 375,
   "metadata": {},
   "outputs": [
    {
     "data": {
      "text/plain": [
       "'C:\\\\Users\\\\eharris'"
      ]
     },
     "execution_count": 375,
     "metadata": {},
     "output_type": "execute_result"
    }
   ],
   "source": [
    "env.get_template('home_directory').render(**config_data)"
   ]
  },
  {
   "cell_type": "code",
   "execution_count": 376,
   "metadata": {},
   "outputs": [
    {
     "data": {
      "text/plain": [
       "{'name': 'uscom-central-1',\n",
       " 'data_center': 'usdc2',\n",
       " 'rest_endpoint': 'https://compute.uscom-central-1.oraclecloud.com/'}"
      ]
     },
     "execution_count": 376,
     "metadata": {},
     "output_type": "execute_result"
    }
   ],
   "source": [
    "config_data['idm_domains']['gc3pilot']['sites']['uscom-central-1']"
   ]
  },
  {
   "cell_type": "code",
   "execution_count": 377,
   "metadata": {},
   "outputs": [
    {
     "data": {
      "text/plain": [
       "'uscom-central-1'"
      ]
     },
     "execution_count": 377,
     "metadata": {},
     "output_type": "execute_result"
    }
   ],
   "source": [
    "config_data['idm_domains']['gc3pilot']['sites']['uscom-central-1']['name']"
   ]
  },
  {
   "cell_type": "code",
   "execution_count": null,
   "metadata": {},
   "outputs": [],
   "source": []
  }
 ],
 "metadata": {
  "kernelspec": {
   "display_name": "Python 3",
   "language": "python",
   "name": "python3"
  },
  "language_info": {
   "codemirror_mode": {
    "name": "ipython",
    "version": 3
   },
   "file_extension": ".py",
   "mimetype": "text/x-python",
   "name": "python",
   "nbconvert_exporter": "python",
   "pygments_lexer": "ipython3",
   "version": "3.6.5"
  }
 },
 "nbformat": 4,
 "nbformat_minor": 2
}
