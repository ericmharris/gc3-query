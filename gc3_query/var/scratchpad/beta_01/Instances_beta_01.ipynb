{
 "cells": [
  {
   "cell_type": "markdown",
   "metadata": {},
   "source": [
    "## Oracle Cloud Instance POC\n"
   ]
  },
  {
   "cell_type": "code",
   "execution_count": null,
   "metadata": {},
   "outputs": [],
   "source": [
    "import os\n",
    "import json\n",
    "from pathlib import Path\n",
    "from typing import Dict\n",
    "from dataclasses import dataclass\n",
    "from copy import deepcopy\n",
    "\n",
    "import bravado\n",
    "from bravado.client import SwaggerClient, CallableOperation\n",
    "# from bravado.requests_client import RequestsClient\n",
    "from gc3_query.lib.gc3_bravado.requests_client import OCRequestsClient\n",
    "from bravado.requests_client import RequestsResponseAdapter\n",
    "from bravado.swagger_model import load_file\n",
    "from bravado_core.exception import MatchingResponseNotFound\n",
    "from bravado.exception import HTTPBadRequest\n",
    "from bravado.http_future import HttpFuture\n",
    "\n",
    "from tinydb import TinyDB, Query\n",
    "\n",
    "# from prettyprinter import pprint, pformat\n",
    "from pprint import pprint, pformat\n",
    "\n",
    "## https://medium.com/@betz.mark/validate-json-models-with-swagger-and-bravado-5fad6b21a825\n",
    "# Validate json models with swagger and bravado\n",
    "from bravado_core.spec import Spec"
   ]
  },
  {
   "cell_type": "code",
   "execution_count": null,
   "metadata": {},
   "outputs": [],
   "source": [
    "### B01\n",
    "import toml\n",
    "from pathlib import Path\n",
    "\n",
    "from gc3_query.lib import *\n",
    "from gc3_query.lib import BASE_DIR\n",
    "from gc3_query.lib import List, Optional, Any, Callable, Dict, Tuple, Union, Set, Generator, Path\n",
    "\n",
    "from gc3_query.lib.gc3_config import GC3Config, IDMCredential\n",
    "from gc3_query.lib.iaas_classic.iaas_requests_http_client import IaaSRequestsHTTPClient\n",
    "from gc3_query.lib.iaas_classic import IaaSServiceBase, API_SPECS_DIR, IaaSRequestsHTTPClient\n",
    "from gc3_query.lib.iaas_classic.instances import Instances\n",
    "\n"
   ]
  },
  {
   "cell_type": "code",
   "execution_count": null,
   "metadata": {},
   "outputs": [],
   "source": [
    "### B01\n",
    "ORACLE_VPN_CONNECTED=False\n",
    "ASDF='ASDF'"
   ]
  },
  {
   "cell_type": "code",
   "execution_count": null,
   "metadata": {},
   "outputs": [],
   "source": [
    "### B01\n",
    "service = 'Instances'\n",
    "idm_domain = 'gc30003'\n",
    "gc3_config = GC3Config()\n",
    "service_cfg = gc3_config.iaas_classic.services[service]\n",
    "idm_cfg = gc3_config.idm.domains[idm_domain]\n",
    "http_client: IaaSRequestsHTTPClient = IaaSRequestsHTTPClient(idm_cfg=idm_cfg)"
   ]
  },
  {
   "cell_type": "code",
   "execution_count": null,
   "metadata": {},
   "outputs": [],
   "source": [
    "# from secrets import opc_username, opc_password\n",
    "import keyring\n",
    "\n",
    "opc_username = \"eric.harris@oracle.com\"\n",
    "opc_password = keyring.get_password(\"gc3\", \"gc30003\")\n",
    "print(f\"opc_username={opc_username}, opc_password={opc_password}\")"
   ]
  },
  {
   "cell_type": "code",
   "execution_count": null,
   "metadata": {},
   "outputs": [],
   "source": [
    "### B01\n",
    "opc_password = keyring.get_password(service_name=\"gc3@gc30003\", username=\"eric.harris@oracle.com\")\n",
    "print(f\"opc_username={opc_username}, opc_password={opc_password}\")"
   ]
  },
  {
   "cell_type": "code",
   "execution_count": null,
   "metadata": {},
   "outputs": [],
   "source": [
    "idm_domain_name = 'gc30003'\n",
    "idm_service_instance_id = '587626604'\n",
    "iaas_rest_endpoint = r'https://compute.uscom-central-1.oraclecloud.com'\n",
    "iaas_auth_endpoint = f'{iaas_rest_endpoint}/authenticate/'\n",
    "\n",
    "print(f'iaas_rest_endpoint: {iaas_rest_endpoint}')\n",
    "print(f'iaas_auth_endpoint: {iaas_auth_endpoint}\\n')\n",
    "\n",
    "\n",
    "### Username/pass setup\n",
    "idm_domain_username = f'/Compute-{idm_domain_name}/{opc_username}'\n",
    "idm_service_instance_username = f'/Compute-{idm_service_instance_id}/{opc_username}'\n",
    "# username = traditional_iaas_username\n",
    "username = idm_service_instance_username\n",
    "# basic_auth_cred = _basic_auth_str(username, opc_password)\n"
   ]
  },
  {
   "cell_type": "code",
   "execution_count": null,
   "metadata": {},
   "outputs": [],
   "source": [
    "json_data = {\"user\": username, \"password\": opc_password}\n",
    "print(f'idm_domain_username: {idm_domain_username}')\n",
    "print(f'idm_service_instance_username: {idm_service_instance_username}')\n",
    "print(f'username: {username}')"
   ]
  },
  {
   "cell_type": "code",
   "execution_count": null,
   "metadata": {},
   "outputs": [],
   "source": [
    "proxies = {\n",
    "  'http': 'http://www-proxy-ash7.us.oracle.com:80',\n",
    "  'https': 'https://www-proxy-ash7.us.oracle.com:80',\n",
    "}"
   ]
  },
  {
   "cell_type": "markdown",
   "metadata": {},
   "source": [
    "#### Create DB to store Instance data"
   ]
  },
  {
   "cell_type": "code",
   "execution_count": null,
   "metadata": {},
   "outputs": [],
   "source": [
    "instances_db = TinyDB('instances.tdb.json')"
   ]
  },
  {
   "cell_type": "markdown",
   "metadata": {},
   "source": [
    "####  Authenticate and get header token\n"
   ]
  },
  {
   "cell_type": "code",
   "execution_count": null,
   "metadata": {},
   "outputs": [],
   "source": [
    "headers = dict([('Content-Type', 'application/oracle-compute-v3+json'),\n",
    "                ('Accept', 'application/oracle-compute-v3+directory+json'),\n",
    "                ])\n",
    "requests_client = OCRequestsClient()\n",
    "requests_client.session.headers.update(headers)\n",
    "if ORACLE_VPN_CONNECTED:\n",
    "    requests_client.session.proxies.update(proxies)\n",
    "\n",
    "\n",
    "# print(f\"requests_client.session.headers before update: {requests_client.session.headers}\\n\")\n",
    "requests_client.session.headers.update(headers)\n",
    "# print(f\"requests_client.session.headers after update: {requests_client.session.headers}\\n\")\n",
    "\n",
    "response = requests_client.session.post(url=iaas_auth_endpoint, json=json_data)\n",
    "print(f'Response OK: {response.ok}, Status Code: {response.status_code}, URL: {response.url}')\n",
    "if response.ok and 'Set-Cookie' in response.headers:\n",
    "    print(f\"Auth request succeess.\\n\")\n",
    "    ### The auth cookie is already placed in the session ... nothing else needs to be done.\n",
    "#     print(f\"\\nSession Cookies: {requests_client.session.cookies}\")\n",
    "#     print(f\"\\nResponse Headers['Set-Cookie']: {response.headers['Set-Cookie']}\")\n",
    "else:\n",
    "    print(f'Something failed! Response OK: {response.ok}, Status Code: {response.status_code}')\n",
    "\n",
    "# print(f\"requests_client.session.headers before update: {requests_client.session.headers}\\n\")\n",
    "cookie_header = {'Cookie': response.headers['Set-Cookie']}\n",
    "# print(f\"cookie_header: {cookie_header}\\n\")\n",
    "requests_client.session.headers.update(cookie_header)\n",
    "# print(f\"requests_client.session.headers after update: {requests_client.session.headers}\\n\")\n"
   ]
  },
  {
   "cell_type": "code",
   "execution_count": null,
   "metadata": {},
   "outputs": [],
   "source": [
    "## Update the swagger spec to use https\n",
    "spec_file_path = Path().joinpath('open_api_definitions/iaas_instances.json').resolve()\n",
    "spec_dict = load_file(spec_file_path)\n",
    "spec_dict['schemes'] = ['https']\n"
   ]
  },
  {
   "cell_type": "code",
   "execution_count": null,
   "metadata": {},
   "outputs": [],
   "source": [
    "headers = dict([('Content-Type', 'application/oracle-compute-v3+json'),\n",
    "                ('Accept', 'application/oracle-compute-v3+json, application/oracle-compute-v3+directory+json, json, text/html')\n",
    "                ])\n",
    "\n",
    "# headers = dict([('Content-Type', 'application/oracle-compute-v3+json'),\n",
    "#                 ('Accept', 'application/oracle-compute-v3+json, json, text/html')])"
   ]
  },
  {
   "cell_type": "code",
   "execution_count": null,
   "metadata": {},
   "outputs": [],
   "source": [
    "requests_client = OCRequestsClient()\n",
    "requests_client.session.headers.update(headers)\n",
    "if ORACLE_VPN_CONNECTED:\n",
    "    requests_client.session.proxies.update(proxies)\n",
    "# requests_client.session.proxies.update(proxies)\n",
    "requests_client.session.headers.update(cookie_header)\n",
    "swagger_client = SwaggerClient.from_spec(spec_dict=spec_dict,\n",
    "                                         origin_url=iaas_rest_endpoint,\n",
    "                                         http_client=requests_client,\n",
    "                                         config={'also_return_response': True,\n",
    "                                                 'validate_responses': True,\n",
    "                                                 'validate_requests': True,\n",
    "                                                 'validate_swagger_spec': True})\n",
    "                                         # config={'also_return_response': True,\n",
    "                                         #         'validate_responses': False,\n",
    "                                         #         'validate_requests': True,\n",
    "                                         #         'validate_swagger_spec': True})\n",
    "#                                          config={'also_return_response': True,\n",
    "#                                                  'validate_responses': False,\n",
    "#                                                  'validate_requests': False,\n",
    "#                                                  'validate_swagger_spec': False})\n",
    "instances_resource = swagger_client.Instances"
   ]
  },
  {
   "cell_type": "code",
   "execution_count": null,
   "metadata": {},
   "outputs": [],
   "source": [
    "for operation_name in dir(instances_resource):\n",
    "    callable_operation = getattr(instances_resource, operation_name)\n",
    "    print(f\"{callable_operation.operation.operation_id}\\t\\t http_method={callable_operation.operation.http_method}\\tpath={callable_operation.operation.path_name}\")\n",
    "    \n",
    "    "
   ]
  },
  {
   "cell_type": "code",
   "execution_count": null,
   "metadata": {},
   "outputs": [],
   "source": [
    "callable_operation"
   ]
  },
  {
   "cell_type": "code",
   "execution_count": null,
   "metadata": {},
   "outputs": [],
   "source": [
    "@dataclass\n",
    "class GetOpReturn:\n",
    "    operation_details: Dict[str, Any]\n",
    "    operation_response: RequestsResponseAdapter\n",
    "\n",
    "\n",
    "def get_op(operation_id: str, **wkargs) -> Tuple[Dict[str, Any], RequestsResponseAdapter]:\n",
    "    print(f\"Operation {operation_id} starting.\")\n",
    "    try:\n",
    "        operation_future = getattr(instances_resource, operation_id)(**wkargs)\n",
    "        url = operation_future.future.request.url\n",
    "        print(f\"REST url for {operation_id}: {url}\")\n",
    "        operation_result, operation_response = operation_future.result()\n",
    "    except HTTPBadRequest:\n",
    "        print(\"Request failed for {operation_id}! \")\n",
    "        print(f\"URL: {operation_future.future.request.url}\")\n",
    "        raise\n",
    "    operation_details = json.loads(operation_result)\n",
    "    return GetOpReturn(operation_details,operation_response )\n",
    "#     print(\"\\n{} operation_details:\\nHTTP method: {}\\nAPI url: {}:\\n {}\\n\".format(operation_id, operation_future.operation.http_method, url, pformat(operation_details)))\n",
    "#     print(f\"Operation {operation_id} finished.\\n\")\n"
   ]
  },
  {
   "cell_type": "code",
   "execution_count": null,
   "metadata": {},
   "outputs": [],
   "source": [
    "operation_id = \"discoverRootInstance\"\n",
    "print(f\"Operation {operation_id} starting.\")\n",
    "operation_future = getattr(instances_resource, operation_id)()\n",
    "url = operation_future.future.request.url\n",
    "print(f\"REST url for {operation_id}: {url}\")"
   ]
  },
  {
   "cell_type": "code",
   "execution_count": null,
   "metadata": {},
   "outputs": [],
   "source": [
    "operation_result, operation_response = operation_future.result()\n"
   ]
  },
  {
   "cell_type": "code",
   "execution_count": null,
   "metadata": {},
   "outputs": [],
   "source": [
    "operation_details = json.loads(operation_result)\n",
    "operation_result\n",
    "operation_response"
   ]
  },
  {
   "cell_type": "code",
   "execution_count": null,
   "metadata": {},
   "outputs": [],
   "source": [
    "operation_future.future.session.headers['Accept']"
   ]
  },
  {
   "cell_type": "code",
   "execution_count": null,
   "metadata": {},
   "outputs": [],
   "source": [
    "operation_id = \"discoverRootInstance\"\n",
    "print(f\"Operation {operation_id} starting.\")\n",
    "try:\n",
    "    operation_future = getattr(instances_resource, operation_id)()\n",
    "    url = operation_future.future.request.url\n",
    "    print(f\"REST url for {operation_id}: {url}\")\n",
    "    operation_result, operation_response = operation_future.result()\n",
    "except HTTPBadRequest:\n",
    "    print(\"Request failed for {operation_id}! \")\n",
    "    print(f\"URL: {operation_future.future.request.url}\")\n",
    "    raise\n",
    "operation_details = json.loads(operation_result)\n",
    "print(\"\\n{} operation_details:\\nHTTP method: {}\\nAPI url: {}:\\n {}\\n\".format(operation_id, operation_future.operation.http_method, url, pformat(operation_details)))\n",
    "print(f\"Operation {operation_id} finished.\\n\")"
   ]
  },
  {
   "cell_type": "code",
   "execution_count": null,
   "metadata": {},
   "outputs": [],
   "source": [
    "### B01\n",
    "\n",
    "instances = Instances(service_cfg=service_cfg, idm_cfg=idm_cfg, http_client=http_client)\n",
    "http_future = instances.bravado_service_operations.discoverRootInstance()\n",
    "request_url = http_future.future.request.url\n",
    "service_response = http_future.response()\n",
    "result = service_response.result\n",
    "http_response = service_response.incoming_response\n",
    "http_response_json = http_response.json()\n",
    "service_response_status_code = service_response.metadata.status_code\n",
    "\n",
    "\n",
    "\n"
   ]
  },
  {
   "cell_type": "code",
   "execution_count": null,
   "metadata": {},
   "outputs": [],
   "source": [
    "### B01\n",
    "service_response"
   ]
  },
  {
   "cell_type": "code",
   "execution_count": null,
   "metadata": {},
   "outputs": [],
   "source": [
    "### B01\n",
    "print(f\"operation_id={operation_id}\")\n",
    "print(f\"service_response_status_code={service_response_status_code}\")\n",
    "print(f\"http_response={http_response}\")\n",
    "print(f\"b01_result={result}\")\n",
    "print(f\"s01_operation_result={operation_result}\")\n",
    "is_same = result == operation_result\n",
    "print(f\"is_same={is_same}\")\n",
    "\n",
    "\n",
    "\n",
    "print(f\"ASDF={ASDF}\")\n",
    "print(f\"ASDF={ASDF}\")\n",
    "print(f\"ASDF={ASDF}\")\n",
    "\n",
    "\n",
    "\n",
    "\n",
    "\n",
    "\n",
    "\n"
   ]
  },
  {
   "cell_type": "code",
   "execution_count": null,
   "metadata": {},
   "outputs": [],
   "source": [
    "## discoverInstance\n",
    "## container=\"Compute-587626604/\"\n",
    "operation_id = \"discoverInstance\"\n",
    "\n",
    "print(f\"Operation {operation_id} starting.\")\n",
    "try:\n",
    "    # API url: https://compute.uscom-central-1.oraclecloud.com/instance/Compute-587626604\n",
    "    container = operation_details['result'][0].lstrip('/').rstrip('/')\n",
    "    # # API url: https://compute.uscom-central-1.oraclecloud.com/instance/Compute-587626604/eric.harris@oracle.com\n",
    "    # container = f\"{container}/{opc_username}\"\n",
    "    # # API url: https://compute.uscom-central-1.oraclecloud.com/instance/Compute-587626604/eric.harris@oracle.com/\n",
    "    container = f\"{container}/\"\n",
    "    container = \"Compute-587626604/\"\n",
    "    print(f\"container: {container}\")\n",
    "    operation_future = getattr(instances_resource, operation_id)(container=container)\n",
    "    url = operation_future.future.request.url\n",
    "    print(f\"REST url for {operation_id}: {url}\")\n",
    "    operation_result, operation_response = operation_future.result()\n",
    "except HTTPBadRequest:\n",
    "    print(\"Request failed for {operation_id}! \")\n",
    "    print(f\"URL: {operation_future.future.request.url}\")\n",
    "    raise\n",
    "operation_details = json.loads(operation_result)\n",
    "print(\"\\n{} operation_details:\\nHTTP method: {}\\nAPI url: {}:\\n {}\\n\".format(operation_id, operation_future.operation.http_method, url, pformat(operation_details)))\n",
    "print(f\"Operation {operation_id} finished.\\n\")"
   ]
  },
  {
   "cell_type": "code",
   "execution_count": null,
   "metadata": {},
   "outputs": [],
   "source": [
    "## discoverInstance\n",
    "## container=\"Compute-587626604/eric.harris@oracle.com/\"\n",
    "\n",
    "operation_id = \"discoverInstance\"\n",
    "print(f\"Operation {operation_id} starting.\")\n",
    "try:\n",
    "    # API url: https://compute.uscom-central-1.oraclecloud.com/instance/Compute-587626604\n",
    "#     container = operation_details['result'][0].lstrip('/').rstrip('/')\n",
    "    # # API url: https://compute.uscom-central-1.oraclecloud.com/instance/Compute-587626604/eric.harris@oracle.com\n",
    "    # container = f\"{container}/{opc_username}\"\n",
    "    # # API url: https://compute.uscom-central-1.oraclecloud.com/instance/Compute-587626604/eric.harris@oracle.com/\n",
    "    container = f\"{container}/{opc_username}/\"\n",
    "    container=\"Compute-587626604/eric.harris@oracle.com/\"\n",
    "    print(f\"container: {container}\")\n",
    "    operation_future = getattr(instances_resource, operation_id)(container=container)\n",
    "    url = operation_future.future.request.url\n",
    "    print(f\"REST url for {operation_id}: {url}\")\n",
    "    operation_result, operation_response = operation_future.result()\n",
    "except HTTPBadRequest:\n",
    "    print(\"Request failed for {operation_id}! \")\n",
    "    print(f\"URL: {operation_future.future.request.url}\")\n",
    "    raise\n",
    "operation_details = json.loads(operation_result)\n",
    "print(\"\\n{} operation_details:\\nHTTP method: {}\\nAPI url: {}:\\n {}\\n\".format(operation_id, operation_future.operation.http_method, url, pformat(operation_details)))\n",
    "print(f\"Operation {operation_id} finished.\\n\")"
   ]
  },
  {
   "cell_type": "code",
   "execution_count": null,
   "metadata": {},
   "outputs": [],
   "source": [
    "### B01\n",
    "## discoverInstance\n",
    "## container=\"Compute-587626604/eric.harris@oracle.com/\"\n",
    "\n",
    "instances = Instances(service_cfg=service_cfg, idm_cfg=idm_cfg, http_client=http_client)\n",
    "b01_container=instances.idm_user_container_name\n",
    "\n",
    "print(f\"b01_container={b01_container}\")\n",
    "print(f\"s01_container={container}\")\n",
    "is_same_container = b01_container==container\n",
    "\n",
    "print(f\"is_same_container={is_same_container}\")\n",
    "print(f\"ASDF={ASDF}\")\n",
    "print(f\"ASDF={ASDF}\")\n",
    "print(f\"ASDF={ASDF}\")"
   ]
  },
  {
   "cell_type": "code",
   "execution_count": null,
   "metadata": {},
   "outputs": [],
   "source": [
    "### B01\n",
    "\n",
    "http_future = instances.bravado_service_operations.discoverInstance(container=b01_container)\n",
    "request_url = http_future.future.request.url\n",
    "service_response = http_future.response()\n",
    "result = service_response.result\n",
    "http_response = service_response.incoming_response\n",
    "http_response_json = http_response.json()\n",
    "service_response_status_code = service_response.metadata.status_code"
   ]
  },
  {
   "cell_type": "code",
   "execution_count": null,
   "metadata": {},
   "outputs": [],
   "source": [
    "### B01\n",
    "print(f\"operation_id={operation_id}\")\n",
    "print(f\"service_response_status_code={service_response_status_code}\")\n",
    "print(f\"http_response={http_response}\")\n",
    "print(f\"b01_result={result}\")\n",
    "print(f\"s01_operation_result={operation_result}\")\n",
    "is_same = result == operation_result\n",
    "print(f\"is_same={is_same}\")\n",
    "\n",
    "\n",
    "\n",
    "print(f\"ASDF={ASDF}\")\n",
    "print(f\"ASDF={ASDF}\")\n",
    "print(f\"ASDF={ASDF}\")\n",
    "\n",
    "\n",
    "\n"
   ]
  },
  {
   "cell_type": "code",
   "execution_count": null,
   "metadata": {
    "scrolled": true
   },
   "outputs": [],
   "source": [
    "operation_id = \"listInstance\"\n",
    "print(f\"Operation {operation_id} starting.\")\n",
    "try:\n",
    "    # container = operation_details['result'][0].lstrip('/').rstrip('/')\n",
    "    # container = 'Compute-587626604/eric.harris@oracle.com'\n",
    "    container = 'Compute-587626604/eric.harris@oracle.com/GC3NAAC-CDMT-LWS1'\n",
    "    print(f\"container: {container}\")\n",
    "    operation_future = getattr(instances_resource, operation_id)(container=container)\n",
    "    url = operation_future.future.request.url\n",
    "    print(f\"REST url for {operation_id}: {url}\")\n",
    "    operation_result, operation_response = operation_future.result()\n",
    "except HTTPBadRequest:\n",
    "    print(\"Request failed for {operation_id}! \")\n",
    "    print(f\"URL: {operation_future.future.request.url}\")\n",
    "    raise\n",
    "operation_details = json.loads(operation_result)\n",
    "print(\"\\n{} operation_details:\\nHTTP method: {}\\nAPI url: {}:\\n {}\\n\".format(operation_id, operation_future.operation.http_method, url, pformat(operation_details)))\n",
    "print(f\"Operation {operation_id} finished.\")"
   ]
  },
  {
   "cell_type": "code",
   "execution_count": null,
   "metadata": {},
   "outputs": [],
   "source": [
    "operation_details"
   ]
  },
  {
   "cell_type": "code",
   "execution_count": null,
   "metadata": {},
   "outputs": [],
   "source": [
    "operation_details['result']"
   ]
  },
  {
   "cell_type": "code",
   "execution_count": null,
   "metadata": {},
   "outputs": [],
   "source": [
    "### B01\n",
    "## listInstance\n",
    "## container: \"Compute-587626604/eric.harris@oracle.com/GC3NAAC-CDMT-LWS1\"\n",
    "\n",
    "instances = Instances(service_cfg=service_cfg, idm_cfg=idm_cfg, http_client=http_client)\n",
    "b01_container=\"Compute-587626604/eric.harris@oracle.com/GC3NAAC-CDMT-LWS1\"\n",
    "\n",
    "print(f\"b01_container={b01_container}\")\n",
    "print(f\"s01_container={container}\")\n",
    "is_same_container = b01_container==container\n",
    "\n",
    "print(f\"is_same_container={is_same_container}\")\n",
    "print(f\"ASDF={ASDF}\")\n",
    "print(f\"ASDF={ASDF}\")\n",
    "print(f\"ASDF={ASDF}\")"
   ]
  },
  {
   "cell_type": "code",
   "execution_count": null,
   "metadata": {},
   "outputs": [],
   "source": [
    "### B01\n",
    "\n",
    "http_future = instances.bravado_service_operations.listInstance(container=b01_container)\n",
    "request_url = http_future.future.request.url\n",
    "service_response = http_future.response()\n",
    "result = service_response.result\n",
    "http_response = service_response.incoming_response\n",
    "http_response_json = http_response.json()\n",
    "service_response_status_code = service_response.metadata.status_code"
   ]
  },
  {
   "cell_type": "code",
   "execution_count": null,
   "metadata": {},
   "outputs": [],
   "source": [
    "### B01\n",
    "print(f\"operation_id={operation_id}\")\n",
    "print(f\"service_response_status_code={service_response_status_code}\")\n",
    "print(f\"http_response={http_response}\")\n",
    "print(f\"b01_result={result}\")\n",
    "print(f\"s01_operation_result={operation_result}\")\n",
    "is_same = result == operation_result\n",
    "print(f\"is_same={is_same}\")\n",
    "\n",
    "\n",
    "\n",
    "print(f\"ASDF={ASDF}\")\n",
    "print(f\"ASDF={ASDF}\")\n",
    "print(f\"ASDF={ASDF}\")\n",
    "\n"
   ]
  },
  {
   "cell_type": "code",
   "execution_count": null,
   "metadata": {},
   "outputs": [],
   "source": [
    "headers = dict([('Content-Type', 'application/oracle-compute-v3+json'),\n",
    "                ('Accept', 'application/oracle-compute-v3+json, json, text/html')])\n",
    "\n",
    "\n",
    "requests_client = OCRequestsClient()\n",
    "requests_client.session.headers.update(headers)\n",
    "if ORACLE_VPN_CONNECTED:\n",
    "    requests_client.session.proxies.update(proxies)\n",
    "# requests_client.session.proxies.update(proxies)\n",
    "requests_client.session.headers.update(cookie_header)\n",
    "swagger_client = SwaggerClient.from_spec(spec_dict=spec_dict,\n",
    "                                         origin_url=iaas_rest_endpoint,\n",
    "                                         http_client=requests_client,\n",
    "                                         # config={'also_return_response': True,\n",
    "                                         #         'validate_responses': True,\n",
    "                                         #         'validate_requests': True,\n",
    "                                         #         'validate_swagger_spec': True})\n",
    "                                         # config={'also_return_response': True,\n",
    "                                         #         'validate_responses': False,\n",
    "                                         #         'validate_requests': True,\n",
    "                                         #         'validate_swagger_spec': True})\n",
    "                                         config={'also_return_response': True,\n",
    "                                                 'validate_responses': False,\n",
    "                                                 'validate_requests': False,\n",
    "                                                 'validate_swagger_spec': False})\n",
    "instances_resource = swagger_client.Instances"
   ]
  },
  {
   "cell_type": "code",
   "execution_count": null,
   "metadata": {},
   "outputs": [],
   "source": [
    "operation_details_copy = deepcopy(operation_details)\n",
    "print(operation_details_copy)"
   ]
  },
  {
   "cell_type": "code",
   "execution_count": null,
   "metadata": {
    "scrolled": true
   },
   "outputs": [],
   "source": [
    "operation_id = \"getInstance\"\n",
    "print(f\"\\nOperation {operation_id} starting.\")\n",
    "try:\n",
    "    name = operation_details_copy['result'][0].lstrip('/').rstrip('/')\n",
    "    print(f\"name: {name}\")\n",
    "    operation_future: HttpFuture = getattr(instances_resource, operation_id)(name=name)\n",
    "    url = operation_future.future.request.url\n",
    "    print(f\"REST url for {operation_id}: {url}\")\n",
    "    print(f\"Accept Header=[{operation_future.future.session.headers['Accept']}], Content-Type Header=[{operation_future.future.session.headers['Content-Type']}]\")\n",
    "    operation_result, operation_response = operation_future.result()\n",
    "except bravado.exception.HTTPBadRequest:\n",
    "    print(\"Request failed for {operation_id}! \")\n",
    "    print(f\"URL: {operation_future.future.request.url}\")\n",
    "    raise\n",
    "except bravado.exception.HTTPNotFound:\n",
    "    print(\"Request failed for {operation_id}! \")\n",
    "    print(f\"URL: {operation_future.future.request.url}\")\n",
    "    raise\n",
    "operation_details = json.loads(operation_result)\n",
    "print(\"\\n{} operation_details:\\nHTTP method: {}\\nAPI url: {}:\\n {}\\n\".format(operation_id, operation_future.operation.http_method, url, pformat(operation_details)))\n",
    "print(f\"Operation {operation_id} finished.\")"
   ]
  },
  {
   "cell_type": "code",
   "execution_count": null,
   "metadata": {
    "scrolled": true
   },
   "outputs": [],
   "source": [
    "operation_details"
   ]
  },
  {
   "cell_type": "code",
   "execution_count": null,
   "metadata": {},
   "outputs": [],
   "source": [
    "### B01\n",
    "## getInstance\n",
    "## name: \"Compute-587626604/eric.harris@oracle.com/GC3NAAC-CDMT-LWS1/c17bb7ea-724b-4e51-ab72-1bd8714f07b7\"\n",
    "\n",
    "instances = Instances(service_cfg=service_cfg, idm_cfg=idm_cfg, http_client=http_client)\n",
    "b01_name=\"Compute-587626604/eric.harris@oracle.com/GC3NAAC-CDMT-LWS1/c17bb7ea-724b-4e51-ab72-1bd8714f07b7\"\n",
    "\n",
    "print(f\"b01_name={b01_name}\")\n",
    "print(f\"s01_name={name}\")\n",
    "is_same_name = b01_name==name\n",
    "\n",
    "print(f\"is_same_name={is_same_name}\")\n",
    "print(f\"ASDF={ASDF}\")\n",
    "print(f\"ASDF={ASDF}\")"
   ]
  },
  {
   "cell_type": "code",
   "execution_count": null,
   "metadata": {},
   "outputs": [],
   "source": [
    "### B01\n",
    "\n",
    "http_future = instances.bravado_service_operations.getInstance(name=b01_name)\n",
    "request_url = http_future.future.request.url\n",
    "print(f\"request_url={request_url}\")\n",
    "print(f\"s01_url    ={request_url}\")\n",
    "url_same = url==request_url\n",
    "print(f\"url_same={url_same}\")\n"
   ]
  },
  {
   "cell_type": "code",
   "execution_count": null,
   "metadata": {},
   "outputs": [],
   "source": [
    "### B01\n",
    "\n",
    "service_response = http_future.response()\n",
    "result = service_response.result\n",
    "http_response = service_response.incoming_response\n",
    "http_response_json = http_response.json()\n",
    "service_response_status_code = service_response.metadata.status_code"
   ]
  },
  {
   "cell_type": "code",
   "execution_count": null,
   "metadata": {},
   "outputs": [],
   "source": [
    "service_result = instances.bravado_service_operations.getInstance(name=b01_name).result()\n",
    "service_result"
   ]
  },
  {
   "cell_type": "markdown",
   "metadata": {},
   "source": [
    "```\n",
    "operation_id = \"getInstance\"\n",
    "print(f\"\\nOperation {operation_id} starting.\")\n",
    "try:\n",
    "    name = operation_details_copy['result'][0].lstrip('/').rstrip('/')\n",
    "    print(f\"name: {name}\")\n",
    "    operation_future: HttpFuture = getattr(instances_resource, operation_id)(name=name)\n",
    "    url = operation_future.future.request.url\n",
    "    print(f\"REST url for {operation_id}: {url}\")\n",
    "    print(f\"Accept Header=[{operation_future.future.session.headers['Accept']}], Content-Type Header=[{operation_future.future.session.headers['Content-Type']}]\")\n",
    "    operation_result, operation_response = operation_future.result()\n",
    "except bravado.exception.HTTPBadRequest:\n",
    "    print(\"Request failed for {operation_id}! \")\n",
    "    print(f\"URL: {operation_future.future.request.url}\")\n",
    "    raise\n",
    "except bravado.exception.HTTPNotFound:\n",
    "    print(\"Request failed for {operation_id}! \")\n",
    "    print(f\"URL: {operation_future.future.request.url}\")\n",
    "    raise\n",
    "operation_details = json.loads(operation_result)\n",
    "print(\"\\n{} operation_details:\\nHTTP method: {}\\nAPI url: {}:\\n {}\\n\".format(operation_id, operation_future.operation.http_method, url, pformat(operation_details)))\n",
    "print(f\"Operation {operation_id} finished.\")\n",
    ".\n",
    ".\n",
    ".\n",
    "Operation getInstance starting.\n",
    "name: Compute-587626604/eric.harris@oracle.com/GC3NAAC-CDMT-LWS1/c17bb7ea-724b-4e51-ab72-1bd8714f07b7\n",
    "REST url for getInstance: https://compute.uscom-central-1.oraclecloud.com/instance/Compute-587626604/eric.harris@oracle.com/GC3NAAC-CDMT-LWS1/c17bb7ea-724b-4e51-ab72-1bd8714f07b7\n",
    "Accept Header=[application/oracle-compute-v3+json, json, text/html], Content-Type Header=[application/oracle-compute-v3+json]\n",
    "\n",
    "getInstance operation_details:\n",
    "HTTP method: get\n",
    "API url: https://compute.uscom-central-1.oraclecloud.com/instance/Compute-587626604/eric.harris@oracle.com/GC3NAAC-CDMT-LWS1/c17bb7ea-724b-4e51-ab72-1bd8714f07b7:\n",
    " {'account': '/Compute-587626604/default',\n",
    " 'attributes': {'dns': {'domain': 'compute-587626604.oraclecloud.internal.',\n",
    "                        'hostname': 'gc3naac-cdmt-lws1.compute-587626604.oraclecloud.internal.',\n",
    "                        'nimbula_vcable-eth0': 'gc3naac-cdmt-lws1.compute-587626604.oraclecloud.internal.'},\n",
    "                'network': {'nimbula_vcable-eth0': {'address': ['c6:b0:6d:06:65:04',\n",
    "                                                                '10.19.0.246'],\n",
    "                                                    'dhcp_options': [],\n",
    "                                                   \n",
    "```\n",
    "   \n",
    "#### Accept Header=[application/oracle-compute-v3+json, json, text/html], Content-Type Header=[application/oracle-compute-v3+json]\n",
    "\n",
    "   "
   ]
  },
  {
   "cell_type": "code",
   "execution_count": null,
   "metadata": {},
   "outputs": [],
   "source": [
    "instances = Instances(service_cfg=service_cfg, idm_cfg=idm_cfg, http_client=http_client)\n",
    "b01_name=\"Compute-587626604/eric.harris@oracle.com/GC3NAAC-CDMT-LWS1/c17bb7ea-724b-4e51-ab72-1bd8714f07b7\"\n",
    "\n",
    "print(f\"b01_name={b01_name}\")\n",
    "print(f\"s01_name={name}\")\n",
    "is_same_name = b01_name==name\n",
    "\n",
    "print(f\"is_same_name={is_same_name}\")\n",
    "print(f\"ASDF={ASDF}\")\n",
    "print(f\"ASDF={ASDF}\")"
   ]
  },
  {
   "cell_type": "code",
   "execution_count": null,
   "metadata": {
    "scrolled": true
   },
   "outputs": [],
   "source": [
    "accept_headers = http_future.future.session.headers['Accept']\n",
    "content_type_headers = http_future.future.session.headers['Content-Type']\n",
    "print(f\"accept_headers={accept_headers}\")\n",
    "print(f\"content_type_headers={content_type_headers}\")"
   ]
  },
  {
   "cell_type": "code",
   "execution_count": null,
   "metadata": {},
   "outputs": [],
   "source": [
    "### B01\n",
    "## getInstance\n",
    "## name: \"Compute-587626604/eric.harris@oracle.com/GC3NAAC-CDMT-LWS1/c17bb7ea-724b-4e51-ab72-1bd8714f07b7\"\n",
    "\n",
    "instances = Instances(service_cfg=service_cfg, idm_cfg=idm_cfg, http_client=http_client)\n",
    "b01_name=\"Compute-587626604/eric.harris@oracle.com/GC3NAAC-CDMT-LWS1/c17bb7ea-724b-4e51-ab72-1bd8714f07b7\"\n",
    "\n",
    "print(f\"b01_name={b01_name}\")\n",
    "print(f\"s01_name={name}\")\n",
    "is_same_name = b01_name==name\n",
    "\n",
    "print(f\"is_same_name={is_same_name}\")\n",
    "print(f\"ASDF={ASDF}\")\n",
    "print(f\"ASDF={ASDF}\")"
   ]
  },
  {
   "cell_type": "code",
   "execution_count": null,
   "metadata": {},
   "outputs": [],
   "source": [
    "### B01\n",
    "headers = dict([('Content-Type', 'application/oracle-compute-v3+json'),\n",
    "                ('Accept', 'application/oracle-compute-v3+json, json, text/html')])\n",
    "\n",
    "\n",
    "http_future = instances.bravado_service_operations.getInstance(name=b01_name)\n",
    "http_future.future.session.headers.update(headers)\n",
    "\n",
    "request_url = http_future.future.request.url\n",
    "print(f\"request_url={request_url}\")\n",
    "print(f\"s01_url    ={request_url}\")\n",
    "url_same = url==request_url\n",
    "print(f\"url_same={url_same}\")\n"
   ]
  },
  {
   "cell_type": "code",
   "execution_count": null,
   "metadata": {},
   "outputs": [],
   "source": [
    "accept_headers = http_future.future.session.headers['Accept']\n",
    "content_type_headers = http_future.future.session.headers['Content-Type']\n",
    "print(f\"accept_headers={accept_headers}\")\n",
    "print(f\"content_type_headers={content_type_headers}\")"
   ]
  },
  {
   "cell_type": "code",
   "execution_count": null,
   "metadata": {},
   "outputs": [],
   "source": [
    "### B01\n",
    "\n",
    "service_response = http_future.response()\n",
    "result = service_response.result\n",
    "http_response = service_response.incoming_response\n",
    "http_response_json = http_response.json()\n",
    "service_response_status_code = service_response.metadata.status_code"
   ]
  },
  {
   "cell_type": "code",
   "execution_count": null,
   "metadata": {
    "scrolled": true
   },
   "outputs": [],
   "source": [
    "### B01\n",
    "print(f\"operation_id={operation_id}\")\n",
    "print(f\"service_response_status_code={service_response_status_code}\")\n",
    "print(f\"http_response={http_response}\")\n",
    "print(f\"b01_result={result}\")\n",
    "# print(f\"s01_operation_result={operation_result}\")\n",
    "is_same = result == operation_result\n",
    "print(f\"is_same={is_same}\")\n",
    "\n",
    "\n",
    "\n",
    "print(f\"ASDF={ASDF}\")\n",
    "print(f\"ASDF={ASDF}\")\n",
    "print(f\"ASDF={ASDF}\")\n"
   ]
  },
  {
   "cell_type": "code",
   "execution_count": null,
   "metadata": {},
   "outputs": [],
   "source": [
    "instances = Instances(service_cfg=service_cfg, idm_cfg=idm_cfg, http_client=http_client)\n",
    "headers = dict([('Content-Type', 'application/oracle-compute-v3+json'),\n",
    "                ('Accept', 'application/oracle-compute-v3+json, json, text/html')])\n",
    "http_future = instances.bravado_service_operations.getInstance(name=b01_name)\n",
    "http_future.future.session.headers.update(headers)\n",
    "service_result = instances.bravado_service_operations.getInstance(name=b01_name).result()\n",
    "service_result"
   ]
  },
  {
   "cell_type": "code",
   "execution_count": null,
   "metadata": {},
   "outputs": [],
   "source": [
    "http_client.session.headers['Accept']"
   ]
  },
  {
   "cell_type": "code",
   "execution_count": null,
   "metadata": {
    "scrolled": true
   },
   "outputs": [],
   "source": [
    "operation_details_copy = deepcopy(operation_details)\n",
    "operation_details_copy"
   ]
  },
  {
   "cell_type": "code",
   "execution_count": null,
   "metadata": {
    "scrolled": true
   },
   "outputs": [],
   "source": [
    "operation_id = \"getInstance\"\n",
    "print(f\"\\nOperation {operation_id} starting.\")\n",
    "try:\n",
    "    name = operation_details_copy['result'][0].lstrip('/').rstrip('/')\n",
    "    print(f\"name: {name}\")\n",
    "    operation_future: HttpFuture = getattr(instances_resource, operation_id)(name=name)\n",
    "    url = operation_future.future.request.url\n",
    "    print(f\"REST url for {operation_id}: {url}\")\n",
    "    print(f\"Accept Header=[{operation_future.future.session.headers['Accept']}], Content-Type Header=[{operation_future.future.session.headers['Content-Type']}]\")\n",
    "    operation_result, operation_response = operation_future.result()\n",
    "except bravado.exception.HTTPBadRequest:\n",
    "    print(\"Request failed for {operation_id}! \")\n",
    "    print(f\"URL: {operation_future.future.request.url}\")\n",
    "    raise\n",
    "except bravado.exception.HTTPNotFound:\n",
    "    print(\"Request failed for {operation_id}! \")\n",
    "    print(f\"URL: {operation_future.future.request.url}\")\n",
    "    raise\n",
    "operation_details = json.loads(operation_result)\n",
    "# print(\"\\n{} operation_details:\\nHTTP method: {}\\nAPI url: {}:\\n {}\\n\".format(operation_id, operation_future.operation.http_method, url, pformat(operation_details)))\n",
    "print(f\"Operation {operation_id} finished.\")"
   ]
  },
  {
   "cell_type": "code",
   "execution_count": null,
   "metadata": {},
   "outputs": [],
   "source": [
    "type(operation_details)\n",
    "print(operation_details.keys())"
   ]
  },
  {
   "cell_type": "markdown",
   "metadata": {},
   "source": [
    "#### Insert results in to DB"
   ]
  },
  {
   "cell_type": "code",
   "execution_count": null,
   "metadata": {},
   "outputs": [],
   "source": [
    "instances_db.insert(operation_details)"
   ]
  },
  {
   "cell_type": "code",
   "execution_count": null,
   "metadata": {},
   "outputs": [],
   "source": [
    "instances_db.all()[-1]"
   ]
  },
  {
   "cell_type": "markdown",
   "metadata": {},
   "source": [
    "### Using BasicAuth\n",
    "\n",
    "[https://porter.io/github.com/Yelp/bravado]\n"
   ]
  },
  {
   "cell_type": "markdown",
   "metadata": {},
   "source": [
    "from bravado.requests_client import RequestsClient\n",
    "from bravado.client import SwaggerClient\n",
    "\n",
    "http_client = RequestsClient()\n",
    "http_client.set_basic_auth(\n",
    "    'api.yourhost.com',\n",
    "    'username', 'password'\n",
    ")\n",
    "client = SwaggerClient.from_url(\n",
    "    'http://petstore.swagger.io/v2/swagger.json',\n",
    "    http_client=http_client,\n",
    ")\n",
    "pet = client.pet.getPetById(petId=42).response().result"
   ]
  },
  {
   "cell_type": "code",
   "execution_count": 19,
   "metadata": {},
   "outputs": [],
   "source": [
    "from bravado.requests_client import RequestsClient\n",
    "from bravado.client import SwaggerClient\n",
    "from requests.auth import HTTPBasicAuth\n",
    "import json\n"
   ]
  },
  {
   "cell_type": "code",
   "execution_count": 27,
   "metadata": {},
   "outputs": [
    {
     "name": "stdout",
     "output_type": "stream",
     "text": [
      "{'user': '/Compute-gc30003/eric.harris@oracle.com', 'password': 'V@nadium123!'}\n"
     ]
    }
   ],
   "source": [
    "auth_url = 'https://compute.uscom-central-1.oraclecloud.com/authenticate/'\n",
    "auth_host = 'compute.uscom-central-1.oraclecloud.com'\n",
    "\n",
    "opc_username='eric.harris@oracle.com'\n",
    "opc_username='/Compute-gc30003/eric.harris@oracle.com'\n",
    "opc_password='V@nadium123!'\n",
    "data={\"user\":opc_username, \"password\":opc_password}\n",
    "spec_url = 'https://apicatalog.oraclecloud.com/webapp/v1/orgs/oracle-public/apicollections/compute/18.1.2/apis/Instances/canonical'\n",
    "print(data)"
   ]
  },
  {
   "cell_type": "code",
   "execution_count": 28,
   "metadata": {},
   "outputs": [
    {
     "data": {
      "text/plain": [
       "<class 'bravado.requests_client.RequestsClient'>()"
      ]
     },
     "execution_count": 28,
     "metadata": {},
     "output_type": "execute_result"
    }
   ],
   "source": [
    "\n",
    "http_client = RequestsClient()\n",
    "http_client.set_basic_auth(\n",
    "    auth_host,\n",
    "    opc_username, opc_password\n",
    ")\n",
    "http_client\n",
    "# client = SwaggerClient.from_url(\n",
    "#     spec_url,\n",
    "#     http_client=http_client,\n",
    "# )\n"
   ]
  },
  {
   "cell_type": "code",
   "execution_count": 29,
   "metadata": {},
   "outputs": [],
   "source": [
    "r = http_client.session.post(url=auth_url, auth=HTTPBasicAuth(opc_username, opc_password))"
   ]
  },
  {
   "cell_type": "code",
   "execution_count": 30,
   "metadata": {},
   "outputs": [],
   "source": [
    "r = http_client.session.post(url=auth_url, data=data, params=data, auth=HTTPBasicAuth(opc_username, opc_password))"
   ]
  },
  {
   "cell_type": "code",
   "execution_count": 31,
   "metadata": {},
   "outputs": [
    {
     "data": {
      "text/plain": [
       "'{\"message\": \"Unsupported Media Type\"}'"
      ]
     },
     "execution_count": 31,
     "metadata": {},
     "output_type": "execute_result"
    }
   ],
   "source": [
    "r.text"
   ]
  },
  {
   "cell_type": "code",
   "execution_count": 14,
   "metadata": {},
   "outputs": [
    {
     "data": {
      "text/plain": [
       "<RequestsCookieJar[]>"
      ]
     },
     "execution_count": 14,
     "metadata": {},
     "output_type": "execute_result"
    }
   ],
   "source": [
    "r.cookies"
   ]
  },
  {
   "cell_type": "code",
   "execution_count": 6,
   "metadata": {},
   "outputs": [
    {
     "data": {
      "text/plain": [
       "[]"
      ]
     },
     "execution_count": 6,
     "metadata": {},
     "output_type": "execute_result"
    }
   ],
   "source": [
    "http_client.session.cookies.keys()"
   ]
  },
  {
   "cell_type": "code",
   "execution_count": 7,
   "metadata": {},
   "outputs": [
    {
     "data": {
      "text/plain": [
       "'{\"message\": {\"password\": \"Field is required\", \"user\": \"Field is required\"}}'"
      ]
     },
     "execution_count": 7,
     "metadata": {},
     "output_type": "execute_result"
    }
   ],
   "source": [
    "r.text"
   ]
  },
  {
   "cell_type": "code",
   "execution_count": null,
   "metadata": {},
   "outputs": [],
   "source": []
  }
 ],
 "metadata": {
  "kernelspec": {
   "display_name": "Python 3",
   "language": "python",
   "name": "python3"
  },
  "language_info": {
   "codemirror_mode": {
    "name": "ipython",
    "version": 3
   },
   "file_extension": ".py",
   "mimetype": "text/x-python",
   "name": "python",
   "nbconvert_exporter": "python",
   "pygments_lexer": "ipython3",
   "version": "3.6.6"
  }
 },
 "nbformat": 4,
 "nbformat_minor": 2
}
