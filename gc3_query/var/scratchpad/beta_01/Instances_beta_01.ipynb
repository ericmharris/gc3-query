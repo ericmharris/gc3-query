{
 "cells": [
  {
   "cell_type": "markdown",
   "metadata": {},
   "source": [
    "## Oracle Cloud Instance POC\n"
   ]
  },
  {
   "cell_type": "code",
   "execution_count": 3,
   "metadata": {},
   "outputs": [],
   "source": [
    "import os\n",
    "import json\n",
    "from pathlib import Path\n",
    "from typing import Dict\n",
    "from dataclasses import dataclass\n",
    "from copy import deepcopy\n",
    "\n",
    "import bravado\n",
    "from bravado.client import SwaggerClient, CallableOperation\n",
    "# from bravado.requests_client import RequestsClient\n",
    "from gc3_query.lib.gc3_bravado.requests_client import OCRequestsClient\n",
    "from bravado.requests_client import RequestsResponseAdapter\n",
    "from bravado.swagger_model import load_file\n",
    "from bravado_core.exception import MatchingResponseNotFound\n",
    "from bravado.exception import HTTPBadRequest\n",
    "from bravado.http_future import HttpFuture\n",
    "\n",
    "from tinydb import TinyDB, Query\n",
    "\n",
    "# from prettyprinter import pprint, pformat\n",
    "from pprint import pprint, pformat\n",
    "\n",
    "## https://medium.com/@betz.mark/validate-json-models-with-swagger-and-bravado-5fad6b21a825\n",
    "# Validate json models with swagger and bravado\n",
    "from bravado_core.spec import Spec"
   ]
  },
  {
   "cell_type": "code",
   "execution_count": 4,
   "metadata": {},
   "outputs": [],
   "source": [
    "### B01\n",
    "import toml\n",
    "from pathlib import Path\n",
    "\n",
    "from gc3_query.lib import *\n",
    "from gc3_query.lib import BASE_DIR\n",
    "from gc3_query.lib import List, Optional, Any, Callable, Dict, Tuple, Union, Set, Generator, Path\n",
    "\n",
    "from gc3_query.lib.gc3_config import GC3Config, IDMCredential\n",
    "from gc3_query.lib.iaas_classic.iaas_requests_http_client import IaaSRequestsHTTPClient\n",
    "from gc3_query.lib.iaas_classic import IaaSServiceBase, API_SPECS_DIR, IaaSRequestsHTTPClient\n",
    "from gc3_query.lib.iaas_classic.instances import Instances\n",
    "\n"
   ]
  },
  {
   "cell_type": "code",
   "execution_count": 5,
   "metadata": {},
   "outputs": [],
   "source": [
    "### B01\n",
    "ORACLE_VPN_CONNECTED=False\n",
    "ASDF='ASDF'"
   ]
  },
  {
   "cell_type": "code",
   "execution_count": 6,
   "metadata": {},
   "outputs": [],
   "source": [
    "### B01\n",
    "service = 'Instances'\n",
    "idm_domain = 'gc30003'\n",
    "gc3_config = GC3Config()\n",
    "service_cfg = gc3_config.iaas_classic.services[service]\n",
    "idm_cfg = gc3_config.idm.domains[idm_domain]\n",
    "http_client: IaaSRequestsHTTPClient = IaaSRequestsHTTPClient(idm_cfg=idm_cfg)"
   ]
  },
  {
   "cell_type": "code",
   "execution_count": 7,
   "metadata": {},
   "outputs": [
    {
     "name": "stdout",
     "output_type": "stream",
     "text": [
      "opc_username=eric.harris@oracle.com, opc_password=None\n"
     ]
    }
   ],
   "source": [
    "# from secrets import opc_username, opc_password\n",
    "import keyring\n",
    "\n",
    "opc_username = \"eric.harris@oracle.com\"\n",
    "opc_password = keyring.get_password(\"gc3\", \"gc30003\")\n",
    "print(f\"opc_username={opc_username}, opc_password={opc_password}\")"
   ]
  },
  {
   "cell_type": "code",
   "execution_count": 8,
   "metadata": {},
   "outputs": [
    {
     "name": "stdout",
     "output_type": "stream",
     "text": [
      "opc_username=eric.harris@oracle.com, opc_password=V@nadium123!\n"
     ]
    }
   ],
   "source": [
    "### B01\n",
    "opc_password = keyring.get_password(service_name=\"gc3@gc30003\", username=\"eric.harris@oracle.com\")\n",
    "print(f\"opc_username={opc_username}, opc_password={opc_password}\")"
   ]
  },
  {
   "cell_type": "code",
   "execution_count": 9,
   "metadata": {},
   "outputs": [
    {
     "name": "stdout",
     "output_type": "stream",
     "text": [
      "iaas_rest_endpoint: https://compute.uscom-central-1.oraclecloud.com\n",
      "iaas_auth_endpoint: https://compute.uscom-central-1.oraclecloud.com/authenticate/\n",
      "\n"
     ]
    }
   ],
   "source": [
    "idm_domain_name = 'gc30003'\n",
    "idm_service_instance_id = '587626604'\n",
    "iaas_rest_endpoint = r'https://compute.uscom-central-1.oraclecloud.com'\n",
    "iaas_auth_endpoint = f'{iaas_rest_endpoint}/authenticate/'\n",
    "\n",
    "print(f'iaas_rest_endpoint: {iaas_rest_endpoint}')\n",
    "print(f'iaas_auth_endpoint: {iaas_auth_endpoint}\\n')\n",
    "\n",
    "\n",
    "### Username/pass setup\n",
    "idm_domain_username = f'/Compute-{idm_domain_name}/{opc_username}'\n",
    "idm_service_instance_username = f'/Compute-{idm_service_instance_id}/{opc_username}'\n",
    "# username = traditional_iaas_username\n",
    "username = idm_service_instance_username\n",
    "# basic_auth_cred = _basic_auth_str(username, opc_password)\n"
   ]
  },
  {
   "cell_type": "code",
   "execution_count": 10,
   "metadata": {},
   "outputs": [
    {
     "name": "stdout",
     "output_type": "stream",
     "text": [
      "idm_domain_username: /Compute-gc30003/eric.harris@oracle.com\n",
      "idm_service_instance_username: /Compute-587626604/eric.harris@oracle.com\n",
      "username: /Compute-587626604/eric.harris@oracle.com\n"
     ]
    }
   ],
   "source": [
    "json_data = {\"user\": username, \"password\": opc_password}\n",
    "print(f'idm_domain_username: {idm_domain_username}')\n",
    "print(f'idm_service_instance_username: {idm_service_instance_username}')\n",
    "print(f'username: {username}')"
   ]
  },
  {
   "cell_type": "code",
   "execution_count": 11,
   "metadata": {},
   "outputs": [],
   "source": [
    "proxies = {\n",
    "  'http': 'http://www-proxy-ash7.us.oracle.com:80',\n",
    "  'https': 'https://www-proxy-ash7.us.oracle.com:80',\n",
    "}"
   ]
  },
  {
   "cell_type": "markdown",
   "metadata": {},
   "source": [
    "#### Create DB to store Instance data"
   ]
  },
  {
   "cell_type": "code",
   "execution_count": 12,
   "metadata": {},
   "outputs": [],
   "source": [
    "instances_db = TinyDB('instances.tdb.json')"
   ]
  },
  {
   "cell_type": "markdown",
   "metadata": {},
   "source": [
    "####  Authenticate and get header token\n"
   ]
  },
  {
   "cell_type": "code",
   "execution_count": 13,
   "metadata": {},
   "outputs": [
    {
     "name": "stdout",
     "output_type": "stream",
     "text": [
      "Response OK: True, Status Code: 204, URL: https://compute.uscom-central-1.oraclecloud.com/authenticate/\n",
      "Auth request succeess.\n",
      "\n"
     ]
    }
   ],
   "source": [
    "headers = dict([('Content-Type', 'application/oracle-compute-v3+json'),\n",
    "                ('Accept', 'application/oracle-compute-v3+directory+json'),\n",
    "                ])\n",
    "requests_client = OCRequestsClient()\n",
    "requests_client.session.headers.update(headers)\n",
    "if ORACLE_VPN_CONNECTED:\n",
    "    requests_client.session.proxies.update(proxies)\n",
    "\n",
    "\n",
    "# print(f\"requests_client.session.headers before update: {requests_client.session.headers}\\n\")\n",
    "requests_client.session.headers.update(headers)\n",
    "# print(f\"requests_client.session.headers after update: {requests_client.session.headers}\\n\")\n",
    "\n",
    "response = requests_client.session.post(url=iaas_auth_endpoint, json=json_data)\n",
    "print(f'Response OK: {response.ok}, Status Code: {response.status_code}, URL: {response.url}')\n",
    "if response.ok and 'Set-Cookie' in response.headers:\n",
    "    print(f\"Auth request succeess.\\n\")\n",
    "    ### The auth cookie is already placed in the session ... nothing else needs to be done.\n",
    "#     print(f\"\\nSession Cookies: {requests_client.session.cookies}\")\n",
    "#     print(f\"\\nResponse Headers['Set-Cookie']: {response.headers['Set-Cookie']}\")\n",
    "else:\n",
    "    print(f'Something failed! Response OK: {response.ok}, Status Code: {response.status_code}')\n",
    "\n",
    "# print(f\"requests_client.session.headers before update: {requests_client.session.headers}\\n\")\n",
    "cookie_header = {'Cookie': response.headers['Set-Cookie']}\n",
    "# print(f\"cookie_header: {cookie_header}\\n\")\n",
    "requests_client.session.headers.update(cookie_header)\n",
    "# print(f\"requests_client.session.headers after update: {requests_client.session.headers}\\n\")\n"
   ]
  },
  {
   "cell_type": "code",
   "execution_count": 14,
   "metadata": {},
   "outputs": [],
   "source": [
    "## Update the swagger spec to use https\n",
    "spec_file_path = Path().joinpath('open_api_definitions/iaas_instances.json').resolve()\n",
    "spec_dict = load_file(spec_file_path)\n",
    "spec_dict['schemes'] = ['https']\n"
   ]
  },
  {
   "cell_type": "code",
   "execution_count": 15,
   "metadata": {},
   "outputs": [],
   "source": [
    "headers = dict([('Content-Type', 'application/oracle-compute-v3+json'),\n",
    "                ('Accept', 'application/oracle-compute-v3+json, application/oracle-compute-v3+directory+json, json, text/html')\n",
    "                ])\n",
    "\n",
    "# headers = dict([('Content-Type', 'application/oracle-compute-v3+json'),\n",
    "#                 ('Accept', 'application/oracle-compute-v3+json, json, text/html')])"
   ]
  },
  {
   "cell_type": "code",
   "execution_count": 16,
   "metadata": {},
   "outputs": [],
   "source": [
    "requests_client = OCRequestsClient()\n",
    "requests_client.session.headers.update(headers)\n",
    "if ORACLE_VPN_CONNECTED:\n",
    "    requests_client.session.proxies.update(proxies)\n",
    "# requests_client.session.proxies.update(proxies)\n",
    "requests_client.session.headers.update(cookie_header)\n",
    "swagger_client = SwaggerClient.from_spec(spec_dict=spec_dict,\n",
    "                                         origin_url=iaas_rest_endpoint,\n",
    "                                         http_client=requests_client,\n",
    "                                         config={'also_return_response': True,\n",
    "                                                 'validate_responses': True,\n",
    "                                                 'validate_requests': True,\n",
    "                                                 'validate_swagger_spec': True})\n",
    "                                         # config={'also_return_response': True,\n",
    "                                         #         'validate_responses': False,\n",
    "                                         #         'validate_requests': True,\n",
    "                                         #         'validate_swagger_spec': True})\n",
    "#                                          config={'also_return_response': True,\n",
    "#                                                  'validate_responses': False,\n",
    "#                                                  'validate_requests': False,\n",
    "#                                                  'validate_swagger_spec': False})\n",
    "instances_resource = swagger_client.Instances"
   ]
  },
  {
   "cell_type": "code",
   "execution_count": 17,
   "metadata": {},
   "outputs": [
    {
     "name": "stdout",
     "output_type": "stream",
     "text": [
      "deleteInstance\t\t http_method=delete\tpath=/instance/{name}\n",
      "discoverInstance\t\t http_method=get\tpath=/instance/{container}\n",
      "discoverRootInstance\t\t http_method=get\tpath=/instance/\n",
      "getInstance\t\t http_method=get\tpath=/instance/{name}\n",
      "listInstance\t\t http_method=get\tpath=/instance/{container}/\n",
      "updateInstance\t\t http_method=put\tpath=/instance/{name}\n"
     ]
    }
   ],
   "source": [
    "for operation_name in dir(instances_resource):\n",
    "    callable_operation = getattr(instances_resource, operation_name)\n",
    "    print(f\"{callable_operation.operation.operation_id}\\t\\t http_method={callable_operation.operation.http_method}\\tpath={callable_operation.operation.path_name}\")\n",
    "    \n",
    "    "
   ]
  },
  {
   "cell_type": "code",
   "execution_count": 18,
   "metadata": {},
   "outputs": [
    {
     "data": {
      "text/plain": [
       "<bravado.client.CallableOperation at 0x2186b4db7b8>"
      ]
     },
     "execution_count": 18,
     "metadata": {},
     "output_type": "execute_result"
    }
   ],
   "source": [
    "callable_operation"
   ]
  },
  {
   "cell_type": "code",
   "execution_count": 19,
   "metadata": {},
   "outputs": [],
   "source": [
    "@dataclass\n",
    "class GetOpReturn:\n",
    "    operation_details: Dict[str, Any]\n",
    "    operation_response: RequestsResponseAdapter\n",
    "\n",
    "\n",
    "def get_op(operation_id: str, **wkargs) -> Tuple[Dict[str, Any], RequestsResponseAdapter]:\n",
    "    print(f\"Operation {operation_id} starting.\")\n",
    "    try:\n",
    "        operation_future = getattr(instances_resource, operation_id)(**wkargs)\n",
    "        url = operation_future.future.request.url\n",
    "        print(f\"REST url for {operation_id}: {url}\")\n",
    "        operation_result, operation_response = operation_future.result()\n",
    "    except HTTPBadRequest:\n",
    "        print(\"Request failed for {operation_id}! \")\n",
    "        print(f\"URL: {operation_future.future.request.url}\")\n",
    "        raise\n",
    "    operation_details = json.loads(operation_result)\n",
    "    return GetOpReturn(operation_details,operation_response )\n",
    "#     print(\"\\n{} operation_details:\\nHTTP method: {}\\nAPI url: {}:\\n {}\\n\".format(operation_id, operation_future.operation.http_method, url, pformat(operation_details)))\n",
    "#     print(f\"Operation {operation_id} finished.\\n\")\n"
   ]
  },
  {
   "cell_type": "code",
   "execution_count": 20,
   "metadata": {},
   "outputs": [
    {
     "name": "stdout",
     "output_type": "stream",
     "text": [
      "Operation discoverRootInstance starting.\n",
      "REST url for discoverRootInstance: https://compute.uscom-central-1.oraclecloud.com/instance/\n",
      "\n",
      "discoverRootInstance operation_details:\n",
      "HTTP method: get\n",
      "API url: https://compute.uscom-central-1.oraclecloud.com/instance/:\n",
      " {'result': ['/Compute-587626604/']}\n",
      "\n",
      "Operation discoverRootInstance finished.\n",
      "\n"
     ]
    }
   ],
   "source": [
    "operation_id = \"discoverRootInstance\"\n",
    "print(f\"Operation {operation_id} starting.\")\n",
    "try:\n",
    "    operation_future = getattr(instances_resource, operation_id)()\n",
    "    url = operation_future.future.request.url\n",
    "    print(f\"REST url for {operation_id}: {url}\")\n",
    "    operation_result, operation_response = operation_future.result()\n",
    "except HTTPBadRequest:\n",
    "    print(\"Request failed for {operation_id}! \")\n",
    "    print(f\"URL: {operation_future.future.request.url}\")\n",
    "    raise\n",
    "operation_details = json.loads(operation_result)\n",
    "print(\"\\n{} operation_details:\\nHTTP method: {}\\nAPI url: {}:\\n {}\\n\".format(operation_id, operation_future.operation.http_method, url, pformat(operation_details)))\n",
    "print(f\"Operation {operation_id} finished.\\n\")"
   ]
  },
  {
   "cell_type": "code",
   "execution_count": 21,
   "metadata": {},
   "outputs": [],
   "source": [
    "### B01\n",
    "\n",
    "instances = Instances(service_cfg=service_cfg, idm_cfg=idm_cfg, http_client=http_client)\n",
    "http_future = instances.bravado_service_operations.discoverRootInstance()\n",
    "request_url = http_future.future.request.url\n",
    "service_response = http_future.response()\n",
    "result = service_response.result\n",
    "http_response = service_response.incoming_response\n",
    "http_response_json = http_response.json()\n",
    "service_response_status_code = service_response.metadata.status_code\n",
    "\n",
    "\n",
    "\n"
   ]
  },
  {
   "cell_type": "code",
   "execution_count": 22,
   "metadata": {},
   "outputs": [
    {
     "data": {
      "text/plain": [
       "<bravado.response.BravadoResponse at 0x2186b6c77b8>"
      ]
     },
     "execution_count": 22,
     "metadata": {},
     "output_type": "execute_result"
    }
   ],
   "source": [
    "### B01\n",
    "service_response"
   ]
  },
  {
   "cell_type": "code",
   "execution_count": 23,
   "metadata": {},
   "outputs": [
    {
     "name": "stdout",
     "output_type": "stream",
     "text": [
      "operation_id=discoverRootInstance\n",
      "service_response_status_code=200\n",
      "http_response=200 OK\n",
      "b01_result={\"result\": [\"/Compute-587626604/\"]}\n",
      "s01_operation_result={\"result\": [\"/Compute-587626604/\"]}\n",
      "is_same=True\n",
      "ASDF=ASDF\n",
      "ASDF=ASDF\n",
      "ASDF=ASDF\n"
     ]
    }
   ],
   "source": [
    "### B01\n",
    "print(f\"operation_id={operation_id}\")\n",
    "print(f\"service_response_status_code={service_response_status_code}\")\n",
    "print(f\"http_response={http_response}\")\n",
    "print(f\"b01_result={result}\")\n",
    "print(f\"s01_operation_result={operation_result}\")\n",
    "is_same = result == operation_result\n",
    "print(f\"is_same={is_same}\")\n",
    "\n",
    "\n",
    "\n",
    "print(f\"ASDF={ASDF}\")\n",
    "print(f\"ASDF={ASDF}\")\n",
    "print(f\"ASDF={ASDF}\")\n",
    "\n",
    "\n",
    "\n",
    "\n",
    "\n",
    "\n",
    "\n"
   ]
  },
  {
   "cell_type": "code",
   "execution_count": 24,
   "metadata": {},
   "outputs": [
    {
     "name": "stdout",
     "output_type": "stream",
     "text": [
      "Operation discoverInstance starting.\n",
      "container: Compute-587626604/\n",
      "REST url for discoverInstance: https://compute.uscom-central-1.oraclecloud.com/instance/Compute-587626604/\n",
      "\n",
      "discoverInstance operation_details:\n",
      "HTTP method: get\n",
      "API url: https://compute.uscom-central-1.oraclecloud.com/instance/Compute-587626604/:\n",
      " {'result': ['/Compute-587626604/dhiru.vallabhbhai@oracle.com/',\n",
      "            '/Compute-587626604/eric.harris@oracle.com/',\n",
      "            '/Compute-587626604/manjunath.udupa@oracle.com/',\n",
      "            '/Compute-587626604/mayurnath.gokare@oracle.com/',\n",
      "            '/Compute-587626604/ramesh.dadhania@oracle.com/',\n",
      "            '/Compute-587626604/seetharaman.nandyal@oracle.com/',\n",
      "            '/Compute-587626604/siva.subramani@oracle.com/',\n",
      "            '/Compute-587626604/tarek.orfaly@oracle.com/']}\n",
      "\n",
      "Operation discoverInstance finished.\n",
      "\n"
     ]
    }
   ],
   "source": [
    "## discoverInstance\n",
    "## container=\"Compute-587626604/\"\n",
    "operation_id = \"discoverInstance\"\n",
    "\n",
    "print(f\"Operation {operation_id} starting.\")\n",
    "try:\n",
    "    # API url: https://compute.uscom-central-1.oraclecloud.com/instance/Compute-587626604\n",
    "    container = operation_details['result'][0].lstrip('/').rstrip('/')\n",
    "    # # API url: https://compute.uscom-central-1.oraclecloud.com/instance/Compute-587626604/eric.harris@oracle.com\n",
    "    # container = f\"{container}/{opc_username}\"\n",
    "    # # API url: https://compute.uscom-central-1.oraclecloud.com/instance/Compute-587626604/eric.harris@oracle.com/\n",
    "    container = f\"{container}/\"\n",
    "    container = \"Compute-587626604/\"\n",
    "    print(f\"container: {container}\")\n",
    "    operation_future = getattr(instances_resource, operation_id)(container=container)\n",
    "    url = operation_future.future.request.url\n",
    "    print(f\"REST url for {operation_id}: {url}\")\n",
    "    operation_result, operation_response = operation_future.result()\n",
    "except HTTPBadRequest:\n",
    "    print(\"Request failed for {operation_id}! \")\n",
    "    print(f\"URL: {operation_future.future.request.url}\")\n",
    "    raise\n",
    "operation_details = json.loads(operation_result)\n",
    "print(\"\\n{} operation_details:\\nHTTP method: {}\\nAPI url: {}:\\n {}\\n\".format(operation_id, operation_future.operation.http_method, url, pformat(operation_details)))\n",
    "print(f\"Operation {operation_id} finished.\\n\")"
   ]
  },
  {
   "cell_type": "code",
   "execution_count": 25,
   "metadata": {},
   "outputs": [
    {
     "name": "stdout",
     "output_type": "stream",
     "text": [
      "Operation discoverInstance starting.\n",
      "container: Compute-587626604/eric.harris@oracle.com/\n",
      "REST url for discoverInstance: https://compute.uscom-central-1.oraclecloud.com/instance/Compute-587626604/eric.harris@oracle.com/\n",
      "\n",
      "discoverInstance operation_details:\n",
      "HTTP method: get\n",
      "API url: https://compute.uscom-central-1.oraclecloud.com/instance/Compute-587626604/eric.harris@oracle.com/:\n",
      " {'result': ['/Compute-587626604/eric.harris@oracle.com/GC3NAAC-CDMT-LWS1/',\n",
      "            '/Compute-587626604/eric.harris@oracle.com/GC3NAAC-CDMT-PSFTHR92/',\n",
      "            '/Compute-587626604/eric.harris@oracle.com/dbaas/',\n",
      "            '/Compute-587626604/eric.harris@oracle.com/gc3-naac-cdmt-d07-lws/',\n",
      "            '/Compute-587626604/eric.harris@oracle.com/gc3-naac-soar-d03-lws/',\n",
      "            '/Compute-587626604/eric.harris@oracle.com/gc3-naac-soar-d04-02-essbase-bi/',\n",
      "            '/Compute-587626604/eric.harris@oracle.com/gc3-naac-soar-d04-essbase-bi/',\n",
      "            '/Compute-587626604/eric.harris@oracle.com/gc3-naac-soar-d05-lws/',\n",
      "            '/Compute-587626604/eric.harris@oracle.com/gc3_naac_soar_ebs1226_demo_01/',\n",
      "            '/Compute-587626604/eric.harris@oracle.com/paas/']}\n",
      "\n",
      "Operation discoverInstance finished.\n",
      "\n"
     ]
    }
   ],
   "source": [
    "## discoverInstance\n",
    "## container=\"Compute-587626604/eric.harris@oracle.com/\"\n",
    "\n",
    "operation_id = \"discoverInstance\"\n",
    "print(f\"Operation {operation_id} starting.\")\n",
    "try:\n",
    "    # API url: https://compute.uscom-central-1.oraclecloud.com/instance/Compute-587626604\n",
    "#     container = operation_details['result'][0].lstrip('/').rstrip('/')\n",
    "    # # API url: https://compute.uscom-central-1.oraclecloud.com/instance/Compute-587626604/eric.harris@oracle.com\n",
    "    # container = f\"{container}/{opc_username}\"\n",
    "    # # API url: https://compute.uscom-central-1.oraclecloud.com/instance/Compute-587626604/eric.harris@oracle.com/\n",
    "    container = f\"{container}/{opc_username}/\"\n",
    "    container=\"Compute-587626604/eric.harris@oracle.com/\"\n",
    "    print(f\"container: {container}\")\n",
    "    operation_future = getattr(instances_resource, operation_id)(container=container)\n",
    "    url = operation_future.future.request.url\n",
    "    print(f\"REST url for {operation_id}: {url}\")\n",
    "    operation_result, operation_response = operation_future.result()\n",
    "except HTTPBadRequest:\n",
    "    print(\"Request failed for {operation_id}! \")\n",
    "    print(f\"URL: {operation_future.future.request.url}\")\n",
    "    raise\n",
    "operation_details = json.loads(operation_result)\n",
    "print(\"\\n{} operation_details:\\nHTTP method: {}\\nAPI url: {}:\\n {}\\n\".format(operation_id, operation_future.operation.http_method, url, pformat(operation_details)))\n",
    "print(f\"Operation {operation_id} finished.\\n\")"
   ]
  },
  {
   "cell_type": "code",
   "execution_count": 26,
   "metadata": {},
   "outputs": [
    {
     "name": "stdout",
     "output_type": "stream",
     "text": [
      "b01_container=Compute-587626604/eric.harris@oracle.com/\n",
      "s01_container=Compute-587626604/eric.harris@oracle.com/\n",
      "is_same_container=True\n",
      "ASDF=ASDF\n",
      "ASDF=ASDF\n",
      "ASDF=ASDF\n"
     ]
    }
   ],
   "source": [
    "### B01\n",
    "## discoverInstance\n",
    "## container=\"Compute-587626604/eric.harris@oracle.com/\"\n",
    "\n",
    "instances = Instances(service_cfg=service_cfg, idm_cfg=idm_cfg, http_client=http_client)\n",
    "b01_container=instances.idm_user_container_name\n",
    "\n",
    "print(f\"b01_container={b01_container}\")\n",
    "print(f\"s01_container={container}\")\n",
    "is_same_container = b01_container==container\n",
    "\n",
    "print(f\"is_same_container={is_same_container}\")\n",
    "print(f\"ASDF={ASDF}\")\n",
    "print(f\"ASDF={ASDF}\")\n",
    "print(f\"ASDF={ASDF}\")"
   ]
  },
  {
   "cell_type": "code",
   "execution_count": 27,
   "metadata": {},
   "outputs": [],
   "source": [
    "### B01\n",
    "\n",
    "http_future = instances.bravado_service_operations.discoverInstance(container=b01_container)\n",
    "request_url = http_future.future.request.url\n",
    "service_response = http_future.response()\n",
    "result = service_response.result\n",
    "http_response = service_response.incoming_response\n",
    "http_response_json = http_response.json()\n",
    "service_response_status_code = service_response.metadata.status_code"
   ]
  },
  {
   "cell_type": "code",
   "execution_count": 28,
   "metadata": {},
   "outputs": [
    {
     "name": "stdout",
     "output_type": "stream",
     "text": [
      "operation_id=discoverInstance\n",
      "service_response_status_code=200\n",
      "http_response=200 OK\n",
      "b01_result={\"result\": [\"/Compute-587626604/eric.harris@oracle.com/GC3NAAC-CDMT-LWS1/\", \"/Compute-587626604/eric.harris@oracle.com/GC3NAAC-CDMT-PSFTHR92/\", \"/Compute-587626604/eric.harris@oracle.com/dbaas/\", \"/Compute-587626604/eric.harris@oracle.com/gc3-naac-cdmt-d07-lws/\", \"/Compute-587626604/eric.harris@oracle.com/gc3-naac-soar-d03-lws/\", \"/Compute-587626604/eric.harris@oracle.com/gc3-naac-soar-d04-02-essbase-bi/\", \"/Compute-587626604/eric.harris@oracle.com/gc3-naac-soar-d04-essbase-bi/\", \"/Compute-587626604/eric.harris@oracle.com/gc3-naac-soar-d05-lws/\", \"/Compute-587626604/eric.harris@oracle.com/gc3_naac_soar_ebs1226_demo_01/\", \"/Compute-587626604/eric.harris@oracle.com/paas/\"]}\n",
      "s01_operation_result={\"result\": [\"/Compute-587626604/eric.harris@oracle.com/GC3NAAC-CDMT-LWS1/\", \"/Compute-587626604/eric.harris@oracle.com/GC3NAAC-CDMT-PSFTHR92/\", \"/Compute-587626604/eric.harris@oracle.com/dbaas/\", \"/Compute-587626604/eric.harris@oracle.com/gc3-naac-cdmt-d07-lws/\", \"/Compute-587626604/eric.harris@oracle.com/gc3-naac-soar-d03-lws/\", \"/Compute-587626604/eric.harris@oracle.com/gc3-naac-soar-d04-02-essbase-bi/\", \"/Compute-587626604/eric.harris@oracle.com/gc3-naac-soar-d04-essbase-bi/\", \"/Compute-587626604/eric.harris@oracle.com/gc3-naac-soar-d05-lws/\", \"/Compute-587626604/eric.harris@oracle.com/gc3_naac_soar_ebs1226_demo_01/\", \"/Compute-587626604/eric.harris@oracle.com/paas/\"]}\n",
      "is_same=True\n",
      "ASDF=ASDF\n",
      "ASDF=ASDF\n",
      "ASDF=ASDF\n"
     ]
    }
   ],
   "source": [
    "### B01\n",
    "print(f\"operation_id={operation_id}\")\n",
    "print(f\"service_response_status_code={service_response_status_code}\")\n",
    "print(f\"http_response={http_response}\")\n",
    "print(f\"b01_result={result}\")\n",
    "print(f\"s01_operation_result={operation_result}\")\n",
    "is_same = result == operation_result\n",
    "print(f\"is_same={is_same}\")\n",
    "\n",
    "\n",
    "\n",
    "print(f\"ASDF={ASDF}\")\n",
    "print(f\"ASDF={ASDF}\")\n",
    "print(f\"ASDF={ASDF}\")\n",
    "\n",
    "\n",
    "\n"
   ]
  },
  {
   "cell_type": "code",
   "execution_count": 29,
   "metadata": {
    "scrolled": true
   },
   "outputs": [
    {
     "name": "stdout",
     "output_type": "stream",
     "text": [
      "Operation listInstance starting.\n",
      "container: Compute-587626604/eric.harris@oracle.com/GC3NAAC-CDMT-LWS1\n",
      "REST url for listInstance: https://compute.uscom-central-1.oraclecloud.com/instance/Compute-587626604/eric.harris@oracle.com/GC3NAAC-CDMT-LWS1/\n",
      "\n",
      "listInstance operation_details:\n",
      "HTTP method: get\n",
      "API url: https://compute.uscom-central-1.oraclecloud.com/instance/Compute-587626604/eric.harris@oracle.com/GC3NAAC-CDMT-LWS1/:\n",
      " {'result': ['/Compute-587626604/eric.harris@oracle.com/GC3NAAC-CDMT-LWS1/c17bb7ea-724b-4e51-ab72-1bd8714f07b7']}\n",
      "\n",
      "Operation listInstance finished.\n"
     ]
    }
   ],
   "source": [
    "operation_id = \"listInstance\"\n",
    "print(f\"Operation {operation_id} starting.\")\n",
    "try:\n",
    "    # container = operation_details['result'][0].lstrip('/').rstrip('/')\n",
    "    # container = 'Compute-587626604/eric.harris@oracle.com'\n",
    "    container = 'Compute-587626604/eric.harris@oracle.com/GC3NAAC-CDMT-LWS1'\n",
    "    print(f\"container: {container}\")\n",
    "    operation_future = getattr(instances_resource, operation_id)(container=container)\n",
    "    url = operation_future.future.request.url\n",
    "    print(f\"REST url for {operation_id}: {url}\")\n",
    "    operation_result, operation_response = operation_future.result()\n",
    "except HTTPBadRequest:\n",
    "    print(\"Request failed for {operation_id}! \")\n",
    "    print(f\"URL: {operation_future.future.request.url}\")\n",
    "    raise\n",
    "operation_details = json.loads(operation_result)\n",
    "print(\"\\n{} operation_details:\\nHTTP method: {}\\nAPI url: {}:\\n {}\\n\".format(operation_id, operation_future.operation.http_method, url, pformat(operation_details)))\n",
    "print(f\"Operation {operation_id} finished.\")"
   ]
  },
  {
   "cell_type": "code",
   "execution_count": 30,
   "metadata": {},
   "outputs": [
    {
     "data": {
      "text/plain": [
       "{'result': ['/Compute-587626604/eric.harris@oracle.com/GC3NAAC-CDMT-LWS1/c17bb7ea-724b-4e51-ab72-1bd8714f07b7']}"
      ]
     },
     "execution_count": 30,
     "metadata": {},
     "output_type": "execute_result"
    }
   ],
   "source": [
    "operation_details"
   ]
  },
  {
   "cell_type": "code",
   "execution_count": 31,
   "metadata": {},
   "outputs": [
    {
     "data": {
      "text/plain": [
       "['/Compute-587626604/eric.harris@oracle.com/GC3NAAC-CDMT-LWS1/c17bb7ea-724b-4e51-ab72-1bd8714f07b7']"
      ]
     },
     "execution_count": 31,
     "metadata": {},
     "output_type": "execute_result"
    }
   ],
   "source": [
    "operation_details['result']"
   ]
  },
  {
   "cell_type": "code",
   "execution_count": 32,
   "metadata": {},
   "outputs": [
    {
     "name": "stdout",
     "output_type": "stream",
     "text": [
      "b01_container=Compute-587626604/eric.harris@oracle.com/GC3NAAC-CDMT-LWS1\n",
      "s01_container=Compute-587626604/eric.harris@oracle.com/GC3NAAC-CDMT-LWS1\n",
      "is_same_container=True\n",
      "ASDF=ASDF\n",
      "ASDF=ASDF\n",
      "ASDF=ASDF\n"
     ]
    }
   ],
   "source": [
    "### B01\n",
    "## listInstance\n",
    "## container: \"Compute-587626604/eric.harris@oracle.com/GC3NAAC-CDMT-LWS1\"\n",
    "\n",
    "instances = Instances(service_cfg=service_cfg, idm_cfg=idm_cfg, http_client=http_client)\n",
    "b01_container=\"Compute-587626604/eric.harris@oracle.com/GC3NAAC-CDMT-LWS1\"\n",
    "\n",
    "print(f\"b01_container={b01_container}\")\n",
    "print(f\"s01_container={container}\")\n",
    "is_same_container = b01_container==container\n",
    "\n",
    "print(f\"is_same_container={is_same_container}\")\n",
    "print(f\"ASDF={ASDF}\")\n",
    "print(f\"ASDF={ASDF}\")\n",
    "print(f\"ASDF={ASDF}\")"
   ]
  },
  {
   "cell_type": "code",
   "execution_count": 33,
   "metadata": {},
   "outputs": [],
   "source": [
    "### B01\n",
    "\n",
    "http_future = instances.bravado_service_operations.listInstance(container=b01_container)\n",
    "request_url = http_future.future.request.url\n",
    "service_response = http_future.response()\n",
    "result = service_response.result\n",
    "http_response = service_response.incoming_response\n",
    "http_response_json = http_response.json()\n",
    "service_response_status_code = service_response.metadata.status_code"
   ]
  },
  {
   "cell_type": "code",
   "execution_count": 34,
   "metadata": {},
   "outputs": [
    {
     "name": "stdout",
     "output_type": "stream",
     "text": [
      "operation_id=listInstance\n",
      "service_response_status_code=200\n",
      "http_response=200 OK\n",
      "b01_result={\"result\": [\"/Compute-587626604/eric.harris@oracle.com/GC3NAAC-CDMT-LWS1/c17bb7ea-724b-4e51-ab72-1bd8714f07b7\"]}\n",
      "s01_operation_result={\"result\": [\"/Compute-587626604/eric.harris@oracle.com/GC3NAAC-CDMT-LWS1/c17bb7ea-724b-4e51-ab72-1bd8714f07b7\"]}\n",
      "is_same=True\n",
      "ASDF=ASDF\n",
      "ASDF=ASDF\n",
      "ASDF=ASDF\n"
     ]
    }
   ],
   "source": [
    "### B01\n",
    "print(f\"operation_id={operation_id}\")\n",
    "print(f\"service_response_status_code={service_response_status_code}\")\n",
    "print(f\"http_response={http_response}\")\n",
    "print(f\"b01_result={result}\")\n",
    "print(f\"s01_operation_result={operation_result}\")\n",
    "is_same = result == operation_result\n",
    "print(f\"is_same={is_same}\")\n",
    "\n",
    "\n",
    "\n",
    "print(f\"ASDF={ASDF}\")\n",
    "print(f\"ASDF={ASDF}\")\n",
    "print(f\"ASDF={ASDF}\")\n",
    "\n"
   ]
  },
  {
   "cell_type": "code",
   "execution_count": 35,
   "metadata": {},
   "outputs": [],
   "source": [
    "headers = dict([('Content-Type', 'application/oracle-compute-v3+json'),\n",
    "                ('Accept', 'application/oracle-compute-v3+json, json, text/html')])\n",
    "\n",
    "\n",
    "requests_client = OCRequestsClient()\n",
    "requests_client.session.headers.update(headers)\n",
    "if ORACLE_VPN_CONNECTED:\n",
    "    requests_client.session.proxies.update(proxies)\n",
    "# requests_client.session.proxies.update(proxies)\n",
    "requests_client.session.headers.update(cookie_header)\n",
    "swagger_client = SwaggerClient.from_spec(spec_dict=spec_dict,\n",
    "                                         origin_url=iaas_rest_endpoint,\n",
    "                                         http_client=requests_client,\n",
    "                                         # config={'also_return_response': True,\n",
    "                                         #         'validate_responses': True,\n",
    "                                         #         'validate_requests': True,\n",
    "                                         #         'validate_swagger_spec': True})\n",
    "                                         # config={'also_return_response': True,\n",
    "                                         #         'validate_responses': False,\n",
    "                                         #         'validate_requests': True,\n",
    "                                         #         'validate_swagger_spec': True})\n",
    "                                         config={'also_return_response': True,\n",
    "                                                 'validate_responses': False,\n",
    "                                                 'validate_requests': False,\n",
    "                                                 'validate_swagger_spec': False})\n",
    "instances_resource = swagger_client.Instances"
   ]
  },
  {
   "cell_type": "code",
   "execution_count": 36,
   "metadata": {},
   "outputs": [
    {
     "name": "stdout",
     "output_type": "stream",
     "text": [
      "{'result': ['/Compute-587626604/eric.harris@oracle.com/GC3NAAC-CDMT-LWS1/c17bb7ea-724b-4e51-ab72-1bd8714f07b7']}\n"
     ]
    }
   ],
   "source": [
    "operation_details_copy = deepcopy(operation_details)\n",
    "print(operation_details_copy)"
   ]
  },
  {
   "cell_type": "code",
   "execution_count": 37,
   "metadata": {
    "scrolled": true
   },
   "outputs": [
    {
     "name": "stdout",
     "output_type": "stream",
     "text": [
      "\n",
      "Operation getInstance starting.\n",
      "name: Compute-587626604/eric.harris@oracle.com/GC3NAAC-CDMT-LWS1/c17bb7ea-724b-4e51-ab72-1bd8714f07b7\n",
      "REST url for getInstance: https://compute.uscom-central-1.oraclecloud.com/instance/Compute-587626604/eric.harris@oracle.com/GC3NAAC-CDMT-LWS1/c17bb7ea-724b-4e51-ab72-1bd8714f07b7\n",
      "Accept Header=[application/oracle-compute-v3+json, json, text/html], Content-Type Header=[application/oracle-compute-v3+json]\n",
      "\n",
      "getInstance operation_details:\n",
      "HTTP method: get\n",
      "API url: https://compute.uscom-central-1.oraclecloud.com/instance/Compute-587626604/eric.harris@oracle.com/GC3NAAC-CDMT-LWS1/c17bb7ea-724b-4e51-ab72-1bd8714f07b7:\n",
      " {'account': '/Compute-587626604/default',\n",
      " 'attributes': {'dns': {'domain': 'compute-587626604.oraclecloud.internal.',\n",
      "                        'hostname': 'gc3naac-cdmt-lws1.compute-587626604.oraclecloud.internal.',\n",
      "                        'nimbula_vcable-eth0': 'gc3naac-cdmt-lws1.compute-587626604.oraclecloud.internal.'},\n",
      "                'network': {'nimbula_vcable-eth0': {'address': ['c6:b0:6d:06:65:04',\n",
      "                                                                '10.19.0.246'],\n",
      "                                                    'dhcp_options': [],\n",
      "                                                    'id': '/Compute-587626604/eric.harris@oracle.com/2043e3fa-682b-48a5-8b21-e163a54e7611',\n",
      "                                                    'model': '',\n",
      "                                                    'vethernet': '/oracle/public/default',\n",
      "                                                    'vethernet_id': '0',\n",
      "                                                    'vethernet_type': 'vlan'}},\n",
      "                'nimbula_orchestration': '/Compute-587626604/eric.harris@oracle.com/GC3NAAC-CDMT-LWS1',\n",
      "                'oracle_metadata': {'v1': {'object': '/Compute-587626604/eric.harris@oracle.com/GC3NAAC-CDMT-LWS1/instance',\n",
      "                                           'orchestration': '/Compute-587626604/eric.harris@oracle.com/GC3NAAC-CDMT-LWS1'}},\n",
      "                'sshkeys': ['ssh-rsa '\n",
      "                            'AAAAB3NzaC1yc2EAAAADAQABAAABAQDkl16+TS1DB5jFwxr8tRMfztjLCHK2+wpfqy2eKeUzDJx8oGlasmBTAdwPX9cH3bfPRLJzru6SG2fJWsow4sU0d2clcwLRtqVdFMAdA3MSpIqayQMQJJ7NE5omkucF0pf0RG2p5cT3mBZDw/9IrSKnIAzaescUi72QOtcVSVgOiBcvJeQVn75GFQ0+JVKnVooh4pL2xDwTUj4EeSn5aLSA4ycqpBqvFFzrGsfDjDn55HiL0Dwwo9uM6VasAPHatqVIRA4EXGMu+QU6iw0m75e5n5CzEoL5ut4D2Og6MqrAVHTmtwf3WhPlDIzLu5OZbILydPq3/u58g6IVUHeB/wBd',\n",
      "                            'ssh-rsa '\n",
      "                            'AAAAB3NzaC1yc2EAAAADAQABAAACAQCq7YIWjLtijvvaNOpvIK8JcYToewxyX4Zvpdb1Dyqmr8Kvns7t4fDOucGV6M+YaD5mNYvwjEGGjdZjyX4ygW3f4rMoZMOLLKlb2ofZtdCWppIPIhT7DwhPitGK0nasi7hAXpdW9Xgdd/i6Uq7VoFezCya5i5cz1Z1PEgpi+Usm4wxSKrGCz/7ndBjgSwvxxKKy9sFmLo2+kh5K+K5/d6NtbniH02M/1v4C+wuCCcNTyk4D5oqx8CF59FIPw0PQwVibvNMdOA+G3FIhGIUuP66W9k8SPOMGfpJzupNgauBnvhq32PQqvUj44Nb5wWvx8YjYdfgb7FtUquxnDovJ1jKG7V+yk+gujoViZHD20glermEULUAkUIKELGsSRPLTPmGMUla4+6uWTyOKXof7X0gcIDjEoMbC/DBbxhApj+GZ2WfU9z0tNkllidXaJIBsXwJNHruGN+VWbsPBDxhjTgg+XCOGphaZkAUZ7ex1jnqQqVFDoxAJ6gcQ0rLZRHkpupt7MkarAu5hXDjyUrU3yV6DFhznUyIpHAvqgp2SfNMg3dTdzE7ZRGiqdKlB3VJSw/FanbzWVyij5f4YsOyCIbujAmzxMulH3SRvoOqIFwRMlk7qxwKu9cFUw4Lgd30/L7yEE0llbzedfSopxHU0jvdZKneFBXSPP0srU3VeEvQDUw==']},\n",
      " 'availability_domain': '/uscom-central-1a',\n",
      " 'boot_order': [1],\n",
      " 'desired_state': 'running',\n",
      " 'disk_attach': '',\n",
      " 'domain': 'compute-587626604.oraclecloud.internal.',\n",
      " 'entry': None,\n",
      " 'error_reason': '',\n",
      " 'fingerprint': '34:a7:bb:00:67:50:85:f4:09:ef:8d:81:90:e7:46:72',\n",
      " 'hostname': 'gc3naac-cdmt-lws1.compute-587626604.oraclecloud.internal.',\n",
      " 'hypervisor': {'mode': 'hvm'},\n",
      " 'image_format': 'raw',\n",
      " 'image_metadata_bag': '/oracle/machineimage_metadata/8921e067a70948379d279c9a372c9165',\n",
      " 'imagelist': None,\n",
      " 'ip': '10.19.0.246',\n",
      " 'label': 'GC3NAAC-CDMT-LWS1',\n",
      " 'name': '/Compute-587626604/eric.harris@oracle.com/GC3NAAC-CDMT-LWS1/c17bb7ea-724b-4e51-ab72-1bd8714f07b7',\n",
      " 'networking': {'eth0': {'dns': ['gc3naac-cdmt-lws1.compute-587626604.oraclecloud.internal.'],\n",
      "                         'model': '',\n",
      "                         'nat': 'ipreservation:/Compute-587626604/eric.harris@oracle.com/GC3NAAC-CDMT-LWS1',\n",
      "                         'seclists': ['/Compute-587626604/eric.harris@oracle.com/GC3NAACCDMT_PSFT'],\n",
      "                         'vethernet': '/oracle/public/default'}},\n",
      " 'placement_requirements': ['/system/compute/placement/default',\n",
      "                            '/oracle/compute/dedicated/fcbaed9f-242b-42ce-ac77-dd727f9710eb',\n",
      "                            '/system/compute/allow_instances'],\n",
      " 'platform': 'linux',\n",
      " 'priority': '/oracle/public/default',\n",
      " 'quota': '/Compute-587626604',\n",
      " 'quota_reservation': None,\n",
      " 'relationships': [],\n",
      " 'resolvers': None,\n",
      " 'reverse_dns': True,\n",
      " 'shape': 'oc4',\n",
      " 'site': '',\n",
      " 'sshkeys': ['/Compute-587626604/eric.harris@oracle.com/eric_harris-cloud-01',\n",
      "             '/Compute-587626604/eric.harris@oracle.com/naaccdmt'],\n",
      " 'start_time': '2017-11-29T18:06:06Z',\n",
      " 'state': 'running',\n",
      " 'storage_attachments': [{'index': 1,\n",
      "                          'name': '/Compute-587626604/eric.harris@oracle.com/GC3NAAC-CDMT-LWS1/c17bb7ea-724b-4e51-ab72-1bd8714f07b7/befe2a3b-bc58-4de3-ab6a-277e64b585b2',\n",
      "                          'storage_volume_name': '/Compute-587626604/eric.harris@oracle.com/GC3NAAC-CDMT-LWS1_storage'},\n",
      "                         {'index': 2,\n",
      "                          'name': '/Compute-587626604/eric.harris@oracle.com/GC3NAAC-CDMT-LWS1/c17bb7ea-724b-4e51-ab72-1bd8714f07b7/30683f98-4680-4738-b2bf-38e3539188fe',\n",
      "                          'storage_volume_name': '/Compute-587626604/eric.harris@oracle.com/GC3NAAC-CDMT-LWS1_application'}],\n",
      " 'tags': ['CDMT'],\n",
      " 'uri': 'https://compute.uscom-central-1.oraclecloud.com/instance/Compute-587626604/eric.harris%40oracle.com/GC3NAAC-CDMT-LWS1/c17bb7ea-724b-4e51-ab72-1bd8714f07b7',\n",
      " 'vcable_id': '/Compute-587626604/eric.harris@oracle.com/2043e3fa-682b-48a5-8b21-e163a54e7611',\n",
      " 'virtio': None,\n",
      " 'vnc': '10.19.0.245:5900'}\n",
      "\n",
      "Operation getInstance finished.\n"
     ]
    }
   ],
   "source": [
    "operation_id = \"getInstance\"\n",
    "print(f\"\\nOperation {operation_id} starting.\")\n",
    "try:\n",
    "    name = operation_details_copy['result'][0].lstrip('/').rstrip('/')\n",
    "    print(f\"name: {name}\")\n",
    "    operation_future: HttpFuture = getattr(instances_resource, operation_id)(name=name)\n",
    "    url = operation_future.future.request.url\n",
    "    print(f\"REST url for {operation_id}: {url}\")\n",
    "    print(f\"Accept Header=[{operation_future.future.session.headers['Accept']}], Content-Type Header=[{operation_future.future.session.headers['Content-Type']}]\")\n",
    "    operation_result, operation_response = operation_future.result()\n",
    "except bravado.exception.HTTPBadRequest:\n",
    "    print(\"Request failed for {operation_id}! \")\n",
    "    print(f\"URL: {operation_future.future.request.url}\")\n",
    "    raise\n",
    "except bravado.exception.HTTPNotFound:\n",
    "    print(\"Request failed for {operation_id}! \")\n",
    "    print(f\"URL: {operation_future.future.request.url}\")\n",
    "    raise\n",
    "operation_details = json.loads(operation_result)\n",
    "print(\"\\n{} operation_details:\\nHTTP method: {}\\nAPI url: {}:\\n {}\\n\".format(operation_id, operation_future.operation.http_method, url, pformat(operation_details)))\n",
    "print(f\"Operation {operation_id} finished.\")"
   ]
  },
  {
   "cell_type": "code",
   "execution_count": 38,
   "metadata": {
    "scrolled": true
   },
   "outputs": [
    {
     "data": {
      "text/plain": [
       "{'domain': 'compute-587626604.oraclecloud.internal.',\n",
       " 'placement_requirements': ['/system/compute/placement/default',\n",
       "  '/oracle/compute/dedicated/fcbaed9f-242b-42ce-ac77-dd727f9710eb',\n",
       "  '/system/compute/allow_instances'],\n",
       " 'ip': '10.19.0.246',\n",
       " 'fingerprint': '34:a7:bb:00:67:50:85:f4:09:ef:8d:81:90:e7:46:72',\n",
       " 'image_metadata_bag': '/oracle/machineimage_metadata/8921e067a70948379d279c9a372c9165',\n",
       " 'site': '',\n",
       " 'shape': 'oc4',\n",
       " 'imagelist': None,\n",
       " 'image_format': 'raw',\n",
       " 'relationships': [],\n",
       " 'availability_domain': '/uscom-central-1a',\n",
       " 'networking': {'eth0': {'model': '',\n",
       "   'seclists': ['/Compute-587626604/eric.harris@oracle.com/GC3NAACCDMT_PSFT'],\n",
       "   'dns': ['gc3naac-cdmt-lws1.compute-587626604.oraclecloud.internal.'],\n",
       "   'vethernet': '/oracle/public/default',\n",
       "   'nat': 'ipreservation:/Compute-587626604/eric.harris@oracle.com/GC3NAAC-CDMT-LWS1'}},\n",
       " 'storage_attachments': [{'index': 1,\n",
       "   'storage_volume_name': '/Compute-587626604/eric.harris@oracle.com/GC3NAAC-CDMT-LWS1_storage',\n",
       "   'name': '/Compute-587626604/eric.harris@oracle.com/GC3NAAC-CDMT-LWS1/c17bb7ea-724b-4e51-ab72-1bd8714f07b7/befe2a3b-bc58-4de3-ab6a-277e64b585b2'},\n",
       "  {'index': 2,\n",
       "   'storage_volume_name': '/Compute-587626604/eric.harris@oracle.com/GC3NAAC-CDMT-LWS1_application',\n",
       "   'name': '/Compute-587626604/eric.harris@oracle.com/GC3NAAC-CDMT-LWS1/c17bb7ea-724b-4e51-ab72-1bd8714f07b7/30683f98-4680-4738-b2bf-38e3539188fe'}],\n",
       " 'hostname': 'gc3naac-cdmt-lws1.compute-587626604.oraclecloud.internal.',\n",
       " 'quota_reservation': None,\n",
       " 'disk_attach': '',\n",
       " 'label': 'GC3NAAC-CDMT-LWS1',\n",
       " 'priority': '/oracle/public/default',\n",
       " 'platform': 'linux',\n",
       " 'state': 'running',\n",
       " 'virtio': None,\n",
       " 'vnc': '10.19.0.245:5900',\n",
       " 'desired_state': 'running',\n",
       " 'tags': ['CDMT'],\n",
       " 'start_time': '2017-11-29T18:06:06Z',\n",
       " 'quota': '/Compute-587626604',\n",
       " 'entry': None,\n",
       " 'error_reason': '',\n",
       " 'sshkeys': ['/Compute-587626604/eric.harris@oracle.com/eric_harris-cloud-01',\n",
       "  '/Compute-587626604/eric.harris@oracle.com/naaccdmt'],\n",
       " 'resolvers': None,\n",
       " 'account': '/Compute-587626604/default',\n",
       " 'name': '/Compute-587626604/eric.harris@oracle.com/GC3NAAC-CDMT-LWS1/c17bb7ea-724b-4e51-ab72-1bd8714f07b7',\n",
       " 'vcable_id': '/Compute-587626604/eric.harris@oracle.com/2043e3fa-682b-48a5-8b21-e163a54e7611',\n",
       " 'hypervisor': {'mode': 'hvm'},\n",
       " 'uri': 'https://compute.uscom-central-1.oraclecloud.com/instance/Compute-587626604/eric.harris%40oracle.com/GC3NAAC-CDMT-LWS1/c17bb7ea-724b-4e51-ab72-1bd8714f07b7',\n",
       " 'reverse_dns': True,\n",
       " 'attributes': {'sshkeys': ['ssh-rsa AAAAB3NzaC1yc2EAAAADAQABAAABAQDkl16+TS1DB5jFwxr8tRMfztjLCHK2+wpfqy2eKeUzDJx8oGlasmBTAdwPX9cH3bfPRLJzru6SG2fJWsow4sU0d2clcwLRtqVdFMAdA3MSpIqayQMQJJ7NE5omkucF0pf0RG2p5cT3mBZDw/9IrSKnIAzaescUi72QOtcVSVgOiBcvJeQVn75GFQ0+JVKnVooh4pL2xDwTUj4EeSn5aLSA4ycqpBqvFFzrGsfDjDn55HiL0Dwwo9uM6VasAPHatqVIRA4EXGMu+QU6iw0m75e5n5CzEoL5ut4D2Og6MqrAVHTmtwf3WhPlDIzLu5OZbILydPq3/u58g6IVUHeB/wBd',\n",
       "   'ssh-rsa AAAAB3NzaC1yc2EAAAADAQABAAACAQCq7YIWjLtijvvaNOpvIK8JcYToewxyX4Zvpdb1Dyqmr8Kvns7t4fDOucGV6M+YaD5mNYvwjEGGjdZjyX4ygW3f4rMoZMOLLKlb2ofZtdCWppIPIhT7DwhPitGK0nasi7hAXpdW9Xgdd/i6Uq7VoFezCya5i5cz1Z1PEgpi+Usm4wxSKrGCz/7ndBjgSwvxxKKy9sFmLo2+kh5K+K5/d6NtbniH02M/1v4C+wuCCcNTyk4D5oqx8CF59FIPw0PQwVibvNMdOA+G3FIhGIUuP66W9k8SPOMGfpJzupNgauBnvhq32PQqvUj44Nb5wWvx8YjYdfgb7FtUquxnDovJ1jKG7V+yk+gujoViZHD20glermEULUAkUIKELGsSRPLTPmGMUla4+6uWTyOKXof7X0gcIDjEoMbC/DBbxhApj+GZ2WfU9z0tNkllidXaJIBsXwJNHruGN+VWbsPBDxhjTgg+XCOGphaZkAUZ7ex1jnqQqVFDoxAJ6gcQ0rLZRHkpupt7MkarAu5hXDjyUrU3yV6DFhznUyIpHAvqgp2SfNMg3dTdzE7ZRGiqdKlB3VJSw/FanbzWVyij5f4YsOyCIbujAmzxMulH3SRvoOqIFwRMlk7qxwKu9cFUw4Lgd30/L7yEE0llbzedfSopxHU0jvdZKneFBXSPP0srU3VeEvQDUw=='],\n",
       "  'oracle_metadata': {'v1': {'object': '/Compute-587626604/eric.harris@oracle.com/GC3NAAC-CDMT-LWS1/instance',\n",
       "    'orchestration': '/Compute-587626604/eric.harris@oracle.com/GC3NAAC-CDMT-LWS1'}},\n",
       "  'network': {'nimbula_vcable-eth0': {'vethernet_id': '0',\n",
       "    'vethernet': '/oracle/public/default',\n",
       "    'address': ['c6:b0:6d:06:65:04', '10.19.0.246'],\n",
       "    'model': '',\n",
       "    'vethernet_type': 'vlan',\n",
       "    'id': '/Compute-587626604/eric.harris@oracle.com/2043e3fa-682b-48a5-8b21-e163a54e7611',\n",
       "    'dhcp_options': []}},\n",
       "  'dns': {'domain': 'compute-587626604.oraclecloud.internal.',\n",
       "   'hostname': 'gc3naac-cdmt-lws1.compute-587626604.oraclecloud.internal.',\n",
       "   'nimbula_vcable-eth0': 'gc3naac-cdmt-lws1.compute-587626604.oraclecloud.internal.'},\n",
       "  'nimbula_orchestration': '/Compute-587626604/eric.harris@oracle.com/GC3NAAC-CDMT-LWS1'},\n",
       " 'boot_order': [1]}"
      ]
     },
     "execution_count": 38,
     "metadata": {},
     "output_type": "execute_result"
    }
   ],
   "source": [
    "operation_details"
   ]
  },
  {
   "cell_type": "code",
   "execution_count": 39,
   "metadata": {},
   "outputs": [
    {
     "name": "stdout",
     "output_type": "stream",
     "text": [
      "b01_name=Compute-587626604/eric.harris@oracle.com/GC3NAAC-CDMT-LWS1/c17bb7ea-724b-4e51-ab72-1bd8714f07b7\n",
      "s01_name=Compute-587626604/eric.harris@oracle.com/GC3NAAC-CDMT-LWS1/c17bb7ea-724b-4e51-ab72-1bd8714f07b7\n",
      "is_same_name=True\n",
      "ASDF=ASDF\n",
      "ASDF=ASDF\n"
     ]
    }
   ],
   "source": [
    "### B01\n",
    "## getInstance\n",
    "## name: \"Compute-587626604/eric.harris@oracle.com/GC3NAAC-CDMT-LWS1/c17bb7ea-724b-4e51-ab72-1bd8714f07b7\"\n",
    "\n",
    "instances = Instances(service_cfg=service_cfg, idm_cfg=idm_cfg, http_client=http_client)\n",
    "b01_name=\"Compute-587626604/eric.harris@oracle.com/GC3NAAC-CDMT-LWS1/c17bb7ea-724b-4e51-ab72-1bd8714f07b7\"\n",
    "\n",
    "print(f\"b01_name={b01_name}\")\n",
    "print(f\"s01_name={name}\")\n",
    "is_same_name = b01_name==name\n",
    "\n",
    "print(f\"is_same_name={is_same_name}\")\n",
    "print(f\"ASDF={ASDF}\")\n",
    "print(f\"ASDF={ASDF}\")"
   ]
  },
  {
   "cell_type": "code",
   "execution_count": 40,
   "metadata": {},
   "outputs": [
    {
     "name": "stdout",
     "output_type": "stream",
     "text": [
      "request_url=https://compute.uscom-central-1.oraclecloud.com/instance/Compute-587626604/eric.harris@oracle.com/GC3NAAC-CDMT-LWS1/c17bb7ea-724b-4e51-ab72-1bd8714f07b7\n",
      "s01_url    =https://compute.uscom-central-1.oraclecloud.com/instance/Compute-587626604/eric.harris@oracle.com/GC3NAAC-CDMT-LWS1/c17bb7ea-724b-4e51-ab72-1bd8714f07b7\n",
      "url_same=True\n"
     ]
    }
   ],
   "source": [
    "### B01\n",
    "\n",
    "http_future = instances.bravado_service_operations.getInstance(name=b01_name)\n",
    "request_url = http_future.future.request.url\n",
    "print(f\"request_url={request_url}\")\n",
    "print(f\"s01_url    ={request_url}\")\n",
    "url_same = url==request_url\n",
    "print(f\"url_same={url_same}\")\n"
   ]
  },
  {
   "cell_type": "code",
   "execution_count": 41,
   "metadata": {},
   "outputs": [],
   "source": [
    "### B01\n",
    "\n",
    "service_response = http_future.response()\n",
    "result = service_response.result\n",
    "http_response = service_response.incoming_response\n",
    "http_response_json = http_response.json()\n",
    "service_response_status_code = service_response.metadata.status_code"
   ]
  },
  {
   "cell_type": "code",
   "execution_count": 42,
   "metadata": {},
   "outputs": [
    {
     "data": {
      "text/plain": [
       "('{\"result\": []}',\n",
       " <bravado.requests_client.RequestsResponseAdapter at 0x2186b5a54a8>)"
      ]
     },
     "execution_count": 42,
     "metadata": {},
     "output_type": "execute_result"
    }
   ],
   "source": [
    "service_result = instances.bravado_service_operations.getInstance(name=b01_name).result()\n",
    "service_result"
   ]
  },
  {
   "cell_type": "markdown",
   "metadata": {},
   "source": [
    "```\n",
    "operation_id = \"getInstance\"\n",
    "print(f\"\\nOperation {operation_id} starting.\")\n",
    "try:\n",
    "    name = operation_details_copy['result'][0].lstrip('/').rstrip('/')\n",
    "    print(f\"name: {name}\")\n",
    "    operation_future: HttpFuture = getattr(instances_resource, operation_id)(name=name)\n",
    "    url = operation_future.future.request.url\n",
    "    print(f\"REST url for {operation_id}: {url}\")\n",
    "    print(f\"Accept Header=[{operation_future.future.session.headers['Accept']}], Content-Type Header=[{operation_future.future.session.headers['Content-Type']}]\")\n",
    "    operation_result, operation_response = operation_future.result()\n",
    "except bravado.exception.HTTPBadRequest:\n",
    "    print(\"Request failed for {operation_id}! \")\n",
    "    print(f\"URL: {operation_future.future.request.url}\")\n",
    "    raise\n",
    "except bravado.exception.HTTPNotFound:\n",
    "    print(\"Request failed for {operation_id}! \")\n",
    "    print(f\"URL: {operation_future.future.request.url}\")\n",
    "    raise\n",
    "operation_details = json.loads(operation_result)\n",
    "print(\"\\n{} operation_details:\\nHTTP method: {}\\nAPI url: {}:\\n {}\\n\".format(operation_id, operation_future.operation.http_method, url, pformat(operation_details)))\n",
    "print(f\"Operation {operation_id} finished.\")\n",
    ".\n",
    ".\n",
    ".\n",
    "Operation getInstance starting.\n",
    "name: Compute-587626604/eric.harris@oracle.com/GC3NAAC-CDMT-LWS1/c17bb7ea-724b-4e51-ab72-1bd8714f07b7\n",
    "REST url for getInstance: https://compute.uscom-central-1.oraclecloud.com/instance/Compute-587626604/eric.harris@oracle.com/GC3NAAC-CDMT-LWS1/c17bb7ea-724b-4e51-ab72-1bd8714f07b7\n",
    "Accept Header=[application/oracle-compute-v3+json, json, text/html], Content-Type Header=[application/oracle-compute-v3+json]\n",
    "\n",
    "getInstance operation_details:\n",
    "HTTP method: get\n",
    "API url: https://compute.uscom-central-1.oraclecloud.com/instance/Compute-587626604/eric.harris@oracle.com/GC3NAAC-CDMT-LWS1/c17bb7ea-724b-4e51-ab72-1bd8714f07b7:\n",
    " {'account': '/Compute-587626604/default',\n",
    " 'attributes': {'dns': {'domain': 'compute-587626604.oraclecloud.internal.',\n",
    "                        'hostname': 'gc3naac-cdmt-lws1.compute-587626604.oraclecloud.internal.',\n",
    "                        'nimbula_vcable-eth0': 'gc3naac-cdmt-lws1.compute-587626604.oraclecloud.internal.'},\n",
    "                'network': {'nimbula_vcable-eth0': {'address': ['c6:b0:6d:06:65:04',\n",
    "                                                                '10.19.0.246'],\n",
    "                                                    'dhcp_options': [],\n",
    "                                                   \n",
    "```\n",
    "   \n",
    "#### Accept Header=[application/oracle-compute-v3+json, json, text/html], Content-Type Header=[application/oracle-compute-v3+json]\n",
    "\n",
    "   "
   ]
  },
  {
   "cell_type": "code",
   "execution_count": 43,
   "metadata": {},
   "outputs": [
    {
     "name": "stdout",
     "output_type": "stream",
     "text": [
      "b01_name=Compute-587626604/eric.harris@oracle.com/GC3NAAC-CDMT-LWS1/c17bb7ea-724b-4e51-ab72-1bd8714f07b7\n",
      "s01_name=Compute-587626604/eric.harris@oracle.com/GC3NAAC-CDMT-LWS1/c17bb7ea-724b-4e51-ab72-1bd8714f07b7\n",
      "is_same_name=True\n",
      "ASDF=ASDF\n",
      "ASDF=ASDF\n"
     ]
    }
   ],
   "source": [
    "instances = Instances(service_cfg=service_cfg, idm_cfg=idm_cfg, http_client=http_client)\n",
    "b01_name=\"Compute-587626604/eric.harris@oracle.com/GC3NAAC-CDMT-LWS1/c17bb7ea-724b-4e51-ab72-1bd8714f07b7\"\n",
    "\n",
    "print(f\"b01_name={b01_name}\")\n",
    "print(f\"s01_name={name}\")\n",
    "is_same_name = b01_name==name\n",
    "\n",
    "print(f\"is_same_name={is_same_name}\")\n",
    "print(f\"ASDF={ASDF}\")\n",
    "print(f\"ASDF={ASDF}\")"
   ]
  },
  {
   "cell_type": "code",
   "execution_count": 44,
   "metadata": {
    "scrolled": true
   },
   "outputs": [
    {
     "name": "stdout",
     "output_type": "stream",
     "text": [
      "accept_headers=application/oracle-compute-v3+directory+json\n",
      "content_type_headers=application/oracle-compute-v3+json\n"
     ]
    }
   ],
   "source": [
    "accept_headers = http_future.future.session.headers['Accept']\n",
    "content_type_headers = http_future.future.session.headers['Content-Type']\n",
    "print(f\"accept_headers={accept_headers}\")\n",
    "print(f\"content_type_headers={content_type_headers}\")"
   ]
  },
  {
   "cell_type": "code",
   "execution_count": 45,
   "metadata": {},
   "outputs": [
    {
     "name": "stdout",
     "output_type": "stream",
     "text": [
      "b01_name=Compute-587626604/eric.harris@oracle.com/GC3NAAC-CDMT-LWS1/c17bb7ea-724b-4e51-ab72-1bd8714f07b7\n",
      "s01_name=Compute-587626604/eric.harris@oracle.com/GC3NAAC-CDMT-LWS1/c17bb7ea-724b-4e51-ab72-1bd8714f07b7\n",
      "is_same_name=True\n",
      "ASDF=ASDF\n",
      "ASDF=ASDF\n"
     ]
    }
   ],
   "source": [
    "### B01\n",
    "## getInstance\n",
    "## name: \"Compute-587626604/eric.harris@oracle.com/GC3NAAC-CDMT-LWS1/c17bb7ea-724b-4e51-ab72-1bd8714f07b7\"\n",
    "\n",
    "instances = Instances(service_cfg=service_cfg, idm_cfg=idm_cfg, http_client=http_client)\n",
    "b01_name=\"Compute-587626604/eric.harris@oracle.com/GC3NAAC-CDMT-LWS1/c17bb7ea-724b-4e51-ab72-1bd8714f07b7\"\n",
    "\n",
    "print(f\"b01_name={b01_name}\")\n",
    "print(f\"s01_name={name}\")\n",
    "is_same_name = b01_name==name\n",
    "\n",
    "print(f\"is_same_name={is_same_name}\")\n",
    "print(f\"ASDF={ASDF}\")\n",
    "print(f\"ASDF={ASDF}\")"
   ]
  },
  {
   "cell_type": "code",
   "execution_count": 46,
   "metadata": {},
   "outputs": [
    {
     "name": "stdout",
     "output_type": "stream",
     "text": [
      "request_url=https://compute.uscom-central-1.oraclecloud.com/instance/Compute-587626604/eric.harris@oracle.com/GC3NAAC-CDMT-LWS1/c17bb7ea-724b-4e51-ab72-1bd8714f07b7\n",
      "s01_url    =https://compute.uscom-central-1.oraclecloud.com/instance/Compute-587626604/eric.harris@oracle.com/GC3NAAC-CDMT-LWS1/c17bb7ea-724b-4e51-ab72-1bd8714f07b7\n",
      "url_same=True\n"
     ]
    }
   ],
   "source": [
    "### B01\n",
    "headers = dict([('Content-Type', 'application/oracle-compute-v3+json'),\n",
    "                ('Accept', 'application/oracle-compute-v3+json, json, text/html')])\n",
    "\n",
    "\n",
    "http_future = instances.bravado_service_operations.getInstance(name=b01_name)\n",
    "http_future.future.session.headers.update(headers)\n",
    "\n",
    "request_url = http_future.future.request.url\n",
    "print(f\"request_url={request_url}\")\n",
    "print(f\"s01_url    ={request_url}\")\n",
    "url_same = url==request_url\n",
    "print(f\"url_same={url_same}\")\n"
   ]
  },
  {
   "cell_type": "code",
   "execution_count": 47,
   "metadata": {},
   "outputs": [
    {
     "name": "stdout",
     "output_type": "stream",
     "text": [
      "accept_headers=application/oracle-compute-v3+json, json, text/html\n",
      "content_type_headers=application/oracle-compute-v3+json\n"
     ]
    }
   ],
   "source": [
    "accept_headers = http_future.future.session.headers['Accept']\n",
    "content_type_headers = http_future.future.session.headers['Content-Type']\n",
    "print(f\"accept_headers={accept_headers}\")\n",
    "print(f\"content_type_headers={content_type_headers}\")"
   ]
  },
  {
   "cell_type": "code",
   "execution_count": 48,
   "metadata": {},
   "outputs": [],
   "source": [
    "### B01\n",
    "\n",
    "service_response = http_future.response()\n",
    "result = service_response.result\n",
    "http_response = service_response.incoming_response\n",
    "http_response_json = http_response.json()\n",
    "service_response_status_code = service_response.metadata.status_code"
   ]
  },
  {
   "cell_type": "code",
   "execution_count": 49,
   "metadata": {
    "scrolled": true
   },
   "outputs": [
    {
     "name": "stdout",
     "output_type": "stream",
     "text": [
      "operation_id=getInstance\n",
      "service_response_status_code=200\n",
      "http_response=200 OK\n",
      "b01_result={\"domain\": \"compute-587626604.oraclecloud.internal.\", \"placement_requirements\": [\"/system/compute/placement/default\", \"/oracle/compute/dedicated/fcbaed9f-242b-42ce-ac77-dd727f9710eb\", \"/system/compute/allow_instances\"], \"ip\": \"10.19.0.246\", \"fingerprint\": \"34:a7:bb:00:67:50:85:f4:09:ef:8d:81:90:e7:46:72\", \"image_metadata_bag\": \"/oracle/machineimage_metadata/8921e067a70948379d279c9a372c9165\", \"site\": \"\", \"shape\": \"oc4\", \"imagelist\": null, \"image_format\": \"raw\", \"relationships\": [], \"availability_domain\": \"/uscom-central-1a\", \"networking\": {\"eth0\": {\"model\": \"\", \"seclists\": [\"/Compute-587626604/eric.harris@oracle.com/GC3NAACCDMT_PSFT\"], \"dns\": [\"gc3naac-cdmt-lws1.compute-587626604.oraclecloud.internal.\"], \"vethernet\": \"/oracle/public/default\", \"nat\": \"ipreservation:/Compute-587626604/eric.harris@oracle.com/GC3NAAC-CDMT-LWS1\"}}, \"storage_attachments\": [{\"index\": 1, \"storage_volume_name\": \"/Compute-587626604/eric.harris@oracle.com/GC3NAAC-CDMT-LWS1_storage\", \"name\": \"/Compute-587626604/eric.harris@oracle.com/GC3NAAC-CDMT-LWS1/c17bb7ea-724b-4e51-ab72-1bd8714f07b7/befe2a3b-bc58-4de3-ab6a-277e64b585b2\"}, {\"index\": 2, \"storage_volume_name\": \"/Compute-587626604/eric.harris@oracle.com/GC3NAAC-CDMT-LWS1_application\", \"name\": \"/Compute-587626604/eric.harris@oracle.com/GC3NAAC-CDMT-LWS1/c17bb7ea-724b-4e51-ab72-1bd8714f07b7/30683f98-4680-4738-b2bf-38e3539188fe\"}], \"hostname\": \"gc3naac-cdmt-lws1.compute-587626604.oraclecloud.internal.\", \"quota_reservation\": null, \"disk_attach\": \"\", \"label\": \"GC3NAAC-CDMT-LWS1\", \"priority\": \"/oracle/public/default\", \"platform\": \"linux\", \"state\": \"running\", \"virtio\": null, \"vnc\": \"10.19.0.245:5900\", \"desired_state\": \"running\", \"tags\": [\"CDMT\"], \"start_time\": \"2017-11-29T18:06:06Z\", \"quota\": \"/Compute-587626604\", \"entry\": null, \"error_reason\": \"\", \"sshkeys\": [\"/Compute-587626604/eric.harris@oracle.com/eric_harris-cloud-01\", \"/Compute-587626604/eric.harris@oracle.com/naaccdmt\"], \"resolvers\": null, \"account\": \"/Compute-587626604/default\", \"name\": \"/Compute-587626604/eric.harris@oracle.com/GC3NAAC-CDMT-LWS1/c17bb7ea-724b-4e51-ab72-1bd8714f07b7\", \"vcable_id\": \"/Compute-587626604/eric.harris@oracle.com/2043e3fa-682b-48a5-8b21-e163a54e7611\", \"hypervisor\": {\"mode\": \"hvm\"}, \"uri\": \"https://compute.uscom-central-1.oraclecloud.com/instance/Compute-587626604/eric.harris%40oracle.com/GC3NAAC-CDMT-LWS1/c17bb7ea-724b-4e51-ab72-1bd8714f07b7\", \"reverse_dns\": true, \"attributes\": {\"sshkeys\": [\"ssh-rsa AAAAB3NzaC1yc2EAAAADAQABAAABAQDkl16+TS1DB5jFwxr8tRMfztjLCHK2+wpfqy2eKeUzDJx8oGlasmBTAdwPX9cH3bfPRLJzru6SG2fJWsow4sU0d2clcwLRtqVdFMAdA3MSpIqayQMQJJ7NE5omkucF0pf0RG2p5cT3mBZDw/9IrSKnIAzaescUi72QOtcVSVgOiBcvJeQVn75GFQ0+JVKnVooh4pL2xDwTUj4EeSn5aLSA4ycqpBqvFFzrGsfDjDn55HiL0Dwwo9uM6VasAPHatqVIRA4EXGMu+QU6iw0m75e5n5CzEoL5ut4D2Og6MqrAVHTmtwf3WhPlDIzLu5OZbILydPq3/u58g6IVUHeB/wBd\", \"ssh-rsa AAAAB3NzaC1yc2EAAAADAQABAAACAQCq7YIWjLtijvvaNOpvIK8JcYToewxyX4Zvpdb1Dyqmr8Kvns7t4fDOucGV6M+YaD5mNYvwjEGGjdZjyX4ygW3f4rMoZMOLLKlb2ofZtdCWppIPIhT7DwhPitGK0nasi7hAXpdW9Xgdd/i6Uq7VoFezCya5i5cz1Z1PEgpi+Usm4wxSKrGCz/7ndBjgSwvxxKKy9sFmLo2+kh5K+K5/d6NtbniH02M/1v4C+wuCCcNTyk4D5oqx8CF59FIPw0PQwVibvNMdOA+G3FIhGIUuP66W9k8SPOMGfpJzupNgauBnvhq32PQqvUj44Nb5wWvx8YjYdfgb7FtUquxnDovJ1jKG7V+yk+gujoViZHD20glermEULUAkUIKELGsSRPLTPmGMUla4+6uWTyOKXof7X0gcIDjEoMbC/DBbxhApj+GZ2WfU9z0tNkllidXaJIBsXwJNHruGN+VWbsPBDxhjTgg+XCOGphaZkAUZ7ex1jnqQqVFDoxAJ6gcQ0rLZRHkpupt7MkarAu5hXDjyUrU3yV6DFhznUyIpHAvqgp2SfNMg3dTdzE7ZRGiqdKlB3VJSw/FanbzWVyij5f4YsOyCIbujAmzxMulH3SRvoOqIFwRMlk7qxwKu9cFUw4Lgd30/L7yEE0llbzedfSopxHU0jvdZKneFBXSPP0srU3VeEvQDUw==\"], \"oracle_metadata\": {\"v1\": {\"object\": \"/Compute-587626604/eric.harris@oracle.com/GC3NAAC-CDMT-LWS1/instance\", \"orchestration\": \"/Compute-587626604/eric.harris@oracle.com/GC3NAAC-CDMT-LWS1\"}}, \"network\": {\"nimbula_vcable-eth0\": {\"vethernet_id\": \"0\", \"vethernet\": \"/oracle/public/default\", \"address\": [\"c6:b0:6d:06:65:04\", \"10.19.0.246\"], \"model\": \"\", \"vethernet_type\": \"vlan\", \"id\": \"/Compute-587626604/eric.harris@oracle.com/2043e3fa-682b-48a5-8b21-e163a54e7611\", \"dhcp_options\": []}}, \"dns\": {\"domain\": \"compute-587626604.oraclecloud.internal.\", \"hostname\": \"gc3naac-cdmt-lws1.compute-587626604.oraclecloud.internal.\", \"nimbula_vcable-eth0\": \"gc3naac-cdmt-lws1.compute-587626604.oraclecloud.internal.\"}, \"nimbula_orchestration\": \"/Compute-587626604/eric.harris@oracle.com/GC3NAAC-CDMT-LWS1\"}, \"boot_order\": [1]}\n",
      "is_same=True\n",
      "ASDF=ASDF\n",
      "ASDF=ASDF\n",
      "ASDF=ASDF\n"
     ]
    }
   ],
   "source": [
    "### B01\n",
    "print(f\"operation_id={operation_id}\")\n",
    "print(f\"service_response_status_code={service_response_status_code}\")\n",
    "print(f\"http_response={http_response}\")\n",
    "print(f\"b01_result={result}\")\n",
    "# print(f\"s01_operation_result={operation_result}\")\n",
    "is_same = result == operation_result\n",
    "print(f\"is_same={is_same}\")\n",
    "\n",
    "\n",
    "\n",
    "print(f\"ASDF={ASDF}\")\n",
    "print(f\"ASDF={ASDF}\")\n",
    "print(f\"ASDF={ASDF}\")\n"
   ]
  },
  {
   "cell_type": "code",
   "execution_count": 50,
   "metadata": {},
   "outputs": [
    {
     "data": {
      "text/plain": [
       "('{\"domain\": \"compute-587626604.oraclecloud.internal.\", \"placement_requirements\": [\"/system/compute/placement/default\", \"/oracle/compute/dedicated/fcbaed9f-242b-42ce-ac77-dd727f9710eb\", \"/system/compute/allow_instances\"], \"ip\": \"10.19.0.246\", \"fingerprint\": \"34:a7:bb:00:67:50:85:f4:09:ef:8d:81:90:e7:46:72\", \"image_metadata_bag\": \"/oracle/machineimage_metadata/8921e067a70948379d279c9a372c9165\", \"site\": \"\", \"shape\": \"oc4\", \"imagelist\": null, \"image_format\": \"raw\", \"relationships\": [], \"availability_domain\": \"/uscom-central-1a\", \"networking\": {\"eth0\": {\"model\": \"\", \"seclists\": [\"/Compute-587626604/eric.harris@oracle.com/GC3NAACCDMT_PSFT\"], \"dns\": [\"gc3naac-cdmt-lws1.compute-587626604.oraclecloud.internal.\"], \"vethernet\": \"/oracle/public/default\", \"nat\": \"ipreservation:/Compute-587626604/eric.harris@oracle.com/GC3NAAC-CDMT-LWS1\"}}, \"storage_attachments\": [{\"index\": 1, \"storage_volume_name\": \"/Compute-587626604/eric.harris@oracle.com/GC3NAAC-CDMT-LWS1_storage\", \"name\": \"/Compute-587626604/eric.harris@oracle.com/GC3NAAC-CDMT-LWS1/c17bb7ea-724b-4e51-ab72-1bd8714f07b7/befe2a3b-bc58-4de3-ab6a-277e64b585b2\"}, {\"index\": 2, \"storage_volume_name\": \"/Compute-587626604/eric.harris@oracle.com/GC3NAAC-CDMT-LWS1_application\", \"name\": \"/Compute-587626604/eric.harris@oracle.com/GC3NAAC-CDMT-LWS1/c17bb7ea-724b-4e51-ab72-1bd8714f07b7/30683f98-4680-4738-b2bf-38e3539188fe\"}], \"hostname\": \"gc3naac-cdmt-lws1.compute-587626604.oraclecloud.internal.\", \"quota_reservation\": null, \"disk_attach\": \"\", \"label\": \"GC3NAAC-CDMT-LWS1\", \"priority\": \"/oracle/public/default\", \"platform\": \"linux\", \"state\": \"running\", \"virtio\": null, \"vnc\": \"10.19.0.245:5900\", \"desired_state\": \"running\", \"tags\": [\"CDMT\"], \"start_time\": \"2017-11-29T18:06:06Z\", \"quota\": \"/Compute-587626604\", \"entry\": null, \"error_reason\": \"\", \"sshkeys\": [\"/Compute-587626604/eric.harris@oracle.com/eric_harris-cloud-01\", \"/Compute-587626604/eric.harris@oracle.com/naaccdmt\"], \"resolvers\": null, \"account\": \"/Compute-587626604/default\", \"name\": \"/Compute-587626604/eric.harris@oracle.com/GC3NAAC-CDMT-LWS1/c17bb7ea-724b-4e51-ab72-1bd8714f07b7\", \"vcable_id\": \"/Compute-587626604/eric.harris@oracle.com/2043e3fa-682b-48a5-8b21-e163a54e7611\", \"hypervisor\": {\"mode\": \"hvm\"}, \"uri\": \"https://compute.uscom-central-1.oraclecloud.com/instance/Compute-587626604/eric.harris%40oracle.com/GC3NAAC-CDMT-LWS1/c17bb7ea-724b-4e51-ab72-1bd8714f07b7\", \"reverse_dns\": true, \"attributes\": {\"sshkeys\": [\"ssh-rsa AAAAB3NzaC1yc2EAAAADAQABAAABAQDkl16+TS1DB5jFwxr8tRMfztjLCHK2+wpfqy2eKeUzDJx8oGlasmBTAdwPX9cH3bfPRLJzru6SG2fJWsow4sU0d2clcwLRtqVdFMAdA3MSpIqayQMQJJ7NE5omkucF0pf0RG2p5cT3mBZDw/9IrSKnIAzaescUi72QOtcVSVgOiBcvJeQVn75GFQ0+JVKnVooh4pL2xDwTUj4EeSn5aLSA4ycqpBqvFFzrGsfDjDn55HiL0Dwwo9uM6VasAPHatqVIRA4EXGMu+QU6iw0m75e5n5CzEoL5ut4D2Og6MqrAVHTmtwf3WhPlDIzLu5OZbILydPq3/u58g6IVUHeB/wBd\", \"ssh-rsa AAAAB3NzaC1yc2EAAAADAQABAAACAQCq7YIWjLtijvvaNOpvIK8JcYToewxyX4Zvpdb1Dyqmr8Kvns7t4fDOucGV6M+YaD5mNYvwjEGGjdZjyX4ygW3f4rMoZMOLLKlb2ofZtdCWppIPIhT7DwhPitGK0nasi7hAXpdW9Xgdd/i6Uq7VoFezCya5i5cz1Z1PEgpi+Usm4wxSKrGCz/7ndBjgSwvxxKKy9sFmLo2+kh5K+K5/d6NtbniH02M/1v4C+wuCCcNTyk4D5oqx8CF59FIPw0PQwVibvNMdOA+G3FIhGIUuP66W9k8SPOMGfpJzupNgauBnvhq32PQqvUj44Nb5wWvx8YjYdfgb7FtUquxnDovJ1jKG7V+yk+gujoViZHD20glermEULUAkUIKELGsSRPLTPmGMUla4+6uWTyOKXof7X0gcIDjEoMbC/DBbxhApj+GZ2WfU9z0tNkllidXaJIBsXwJNHruGN+VWbsPBDxhjTgg+XCOGphaZkAUZ7ex1jnqQqVFDoxAJ6gcQ0rLZRHkpupt7MkarAu5hXDjyUrU3yV6DFhznUyIpHAvqgp2SfNMg3dTdzE7ZRGiqdKlB3VJSw/FanbzWVyij5f4YsOyCIbujAmzxMulH3SRvoOqIFwRMlk7qxwKu9cFUw4Lgd30/L7yEE0llbzedfSopxHU0jvdZKneFBXSPP0srU3VeEvQDUw==\"], \"oracle_metadata\": {\"v1\": {\"object\": \"/Compute-587626604/eric.harris@oracle.com/GC3NAAC-CDMT-LWS1/instance\", \"orchestration\": \"/Compute-587626604/eric.harris@oracle.com/GC3NAAC-CDMT-LWS1\"}}, \"network\": {\"nimbula_vcable-eth0\": {\"vethernet_id\": \"0\", \"vethernet\": \"/oracle/public/default\", \"address\": [\"c6:b0:6d:06:65:04\", \"10.19.0.246\"], \"model\": \"\", \"vethernet_type\": \"vlan\", \"id\": \"/Compute-587626604/eric.harris@oracle.com/2043e3fa-682b-48a5-8b21-e163a54e7611\", \"dhcp_options\": []}}, \"dns\": {\"domain\": \"compute-587626604.oraclecloud.internal.\", \"hostname\": \"gc3naac-cdmt-lws1.compute-587626604.oraclecloud.internal.\", \"nimbula_vcable-eth0\": \"gc3naac-cdmt-lws1.compute-587626604.oraclecloud.internal.\"}, \"nimbula_orchestration\": \"/Compute-587626604/eric.harris@oracle.com/GC3NAAC-CDMT-LWS1\"}, \"boot_order\": [1]}',\n",
       " <bravado.requests_client.RequestsResponseAdapter at 0x2186b5a48d0>)"
      ]
     },
     "execution_count": 50,
     "metadata": {},
     "output_type": "execute_result"
    }
   ],
   "source": [
    "instances = Instances(service_cfg=service_cfg, idm_cfg=idm_cfg, http_client=http_client)\n",
    "headers = dict([('Content-Type', 'application/oracle-compute-v3+json'),\n",
    "                ('Accept', 'application/oracle-compute-v3+json, json, text/html')])\n",
    "http_future = instances.bravado_service_operations.getInstance(name=b01_name)\n",
    "http_future.future.session.headers.update(headers)\n",
    "service_result = instances.bravado_service_operations.getInstance(name=b01_name).result()\n",
    "service_result"
   ]
  },
  {
   "cell_type": "code",
   "execution_count": 51,
   "metadata": {},
   "outputs": [
    {
     "data": {
      "text/plain": [
       "'application/oracle-compute-v3+json, json, text/html'"
      ]
     },
     "execution_count": 51,
     "metadata": {},
     "output_type": "execute_result"
    }
   ],
   "source": [
    "http_client.session.headers['Accept']"
   ]
  },
  {
   "cell_type": "code",
   "execution_count": 52,
   "metadata": {
    "scrolled": true
   },
   "outputs": [
    {
     "data": {
      "text/plain": [
       "{'domain': 'compute-587626604.oraclecloud.internal.',\n",
       " 'placement_requirements': ['/system/compute/placement/default',\n",
       "  '/oracle/compute/dedicated/fcbaed9f-242b-42ce-ac77-dd727f9710eb',\n",
       "  '/system/compute/allow_instances'],\n",
       " 'ip': '10.19.0.246',\n",
       " 'fingerprint': '34:a7:bb:00:67:50:85:f4:09:ef:8d:81:90:e7:46:72',\n",
       " 'image_metadata_bag': '/oracle/machineimage_metadata/8921e067a70948379d279c9a372c9165',\n",
       " 'site': '',\n",
       " 'shape': 'oc4',\n",
       " 'imagelist': None,\n",
       " 'image_format': 'raw',\n",
       " 'relationships': [],\n",
       " 'availability_domain': '/uscom-central-1a',\n",
       " 'networking': {'eth0': {'model': '',\n",
       "   'seclists': ['/Compute-587626604/eric.harris@oracle.com/GC3NAACCDMT_PSFT'],\n",
       "   'dns': ['gc3naac-cdmt-lws1.compute-587626604.oraclecloud.internal.'],\n",
       "   'vethernet': '/oracle/public/default',\n",
       "   'nat': 'ipreservation:/Compute-587626604/eric.harris@oracle.com/GC3NAAC-CDMT-LWS1'}},\n",
       " 'storage_attachments': [{'index': 1,\n",
       "   'storage_volume_name': '/Compute-587626604/eric.harris@oracle.com/GC3NAAC-CDMT-LWS1_storage',\n",
       "   'name': '/Compute-587626604/eric.harris@oracle.com/GC3NAAC-CDMT-LWS1/c17bb7ea-724b-4e51-ab72-1bd8714f07b7/befe2a3b-bc58-4de3-ab6a-277e64b585b2'},\n",
       "  {'index': 2,\n",
       "   'storage_volume_name': '/Compute-587626604/eric.harris@oracle.com/GC3NAAC-CDMT-LWS1_application',\n",
       "   'name': '/Compute-587626604/eric.harris@oracle.com/GC3NAAC-CDMT-LWS1/c17bb7ea-724b-4e51-ab72-1bd8714f07b7/30683f98-4680-4738-b2bf-38e3539188fe'}],\n",
       " 'hostname': 'gc3naac-cdmt-lws1.compute-587626604.oraclecloud.internal.',\n",
       " 'quota_reservation': None,\n",
       " 'disk_attach': '',\n",
       " 'label': 'GC3NAAC-CDMT-LWS1',\n",
       " 'priority': '/oracle/public/default',\n",
       " 'platform': 'linux',\n",
       " 'state': 'running',\n",
       " 'virtio': None,\n",
       " 'vnc': '10.19.0.245:5900',\n",
       " 'desired_state': 'running',\n",
       " 'tags': ['CDMT'],\n",
       " 'start_time': '2017-11-29T18:06:06Z',\n",
       " 'quota': '/Compute-587626604',\n",
       " 'entry': None,\n",
       " 'error_reason': '',\n",
       " 'sshkeys': ['/Compute-587626604/eric.harris@oracle.com/eric_harris-cloud-01',\n",
       "  '/Compute-587626604/eric.harris@oracle.com/naaccdmt'],\n",
       " 'resolvers': None,\n",
       " 'account': '/Compute-587626604/default',\n",
       " 'name': '/Compute-587626604/eric.harris@oracle.com/GC3NAAC-CDMT-LWS1/c17bb7ea-724b-4e51-ab72-1bd8714f07b7',\n",
       " 'vcable_id': '/Compute-587626604/eric.harris@oracle.com/2043e3fa-682b-48a5-8b21-e163a54e7611',\n",
       " 'hypervisor': {'mode': 'hvm'},\n",
       " 'uri': 'https://compute.uscom-central-1.oraclecloud.com/instance/Compute-587626604/eric.harris%40oracle.com/GC3NAAC-CDMT-LWS1/c17bb7ea-724b-4e51-ab72-1bd8714f07b7',\n",
       " 'reverse_dns': True,\n",
       " 'attributes': {'sshkeys': ['ssh-rsa AAAAB3NzaC1yc2EAAAADAQABAAABAQDkl16+TS1DB5jFwxr8tRMfztjLCHK2+wpfqy2eKeUzDJx8oGlasmBTAdwPX9cH3bfPRLJzru6SG2fJWsow4sU0d2clcwLRtqVdFMAdA3MSpIqayQMQJJ7NE5omkucF0pf0RG2p5cT3mBZDw/9IrSKnIAzaescUi72QOtcVSVgOiBcvJeQVn75GFQ0+JVKnVooh4pL2xDwTUj4EeSn5aLSA4ycqpBqvFFzrGsfDjDn55HiL0Dwwo9uM6VasAPHatqVIRA4EXGMu+QU6iw0m75e5n5CzEoL5ut4D2Og6MqrAVHTmtwf3WhPlDIzLu5OZbILydPq3/u58g6IVUHeB/wBd',\n",
       "   'ssh-rsa AAAAB3NzaC1yc2EAAAADAQABAAACAQCq7YIWjLtijvvaNOpvIK8JcYToewxyX4Zvpdb1Dyqmr8Kvns7t4fDOucGV6M+YaD5mNYvwjEGGjdZjyX4ygW3f4rMoZMOLLKlb2ofZtdCWppIPIhT7DwhPitGK0nasi7hAXpdW9Xgdd/i6Uq7VoFezCya5i5cz1Z1PEgpi+Usm4wxSKrGCz/7ndBjgSwvxxKKy9sFmLo2+kh5K+K5/d6NtbniH02M/1v4C+wuCCcNTyk4D5oqx8CF59FIPw0PQwVibvNMdOA+G3FIhGIUuP66W9k8SPOMGfpJzupNgauBnvhq32PQqvUj44Nb5wWvx8YjYdfgb7FtUquxnDovJ1jKG7V+yk+gujoViZHD20glermEULUAkUIKELGsSRPLTPmGMUla4+6uWTyOKXof7X0gcIDjEoMbC/DBbxhApj+GZ2WfU9z0tNkllidXaJIBsXwJNHruGN+VWbsPBDxhjTgg+XCOGphaZkAUZ7ex1jnqQqVFDoxAJ6gcQ0rLZRHkpupt7MkarAu5hXDjyUrU3yV6DFhznUyIpHAvqgp2SfNMg3dTdzE7ZRGiqdKlB3VJSw/FanbzWVyij5f4YsOyCIbujAmzxMulH3SRvoOqIFwRMlk7qxwKu9cFUw4Lgd30/L7yEE0llbzedfSopxHU0jvdZKneFBXSPP0srU3VeEvQDUw=='],\n",
       "  'oracle_metadata': {'v1': {'object': '/Compute-587626604/eric.harris@oracle.com/GC3NAAC-CDMT-LWS1/instance',\n",
       "    'orchestration': '/Compute-587626604/eric.harris@oracle.com/GC3NAAC-CDMT-LWS1'}},\n",
       "  'network': {'nimbula_vcable-eth0': {'vethernet_id': '0',\n",
       "    'vethernet': '/oracle/public/default',\n",
       "    'address': ['c6:b0:6d:06:65:04', '10.19.0.246'],\n",
       "    'model': '',\n",
       "    'vethernet_type': 'vlan',\n",
       "    'id': '/Compute-587626604/eric.harris@oracle.com/2043e3fa-682b-48a5-8b21-e163a54e7611',\n",
       "    'dhcp_options': []}},\n",
       "  'dns': {'domain': 'compute-587626604.oraclecloud.internal.',\n",
       "   'hostname': 'gc3naac-cdmt-lws1.compute-587626604.oraclecloud.internal.',\n",
       "   'nimbula_vcable-eth0': 'gc3naac-cdmt-lws1.compute-587626604.oraclecloud.internal.'},\n",
       "  'nimbula_orchestration': '/Compute-587626604/eric.harris@oracle.com/GC3NAAC-CDMT-LWS1'},\n",
       " 'boot_order': [1]}"
      ]
     },
     "execution_count": 52,
     "metadata": {},
     "output_type": "execute_result"
    }
   ],
   "source": [
    "operation_details_copy = deepcopy(operation_details)\n",
    "operation_details_copy"
   ]
  },
  {
   "cell_type": "code",
   "execution_count": 53,
   "metadata": {
    "scrolled": true
   },
   "outputs": [
    {
     "name": "stdout",
     "output_type": "stream",
     "text": [
      "\n",
      "Operation getInstance starting.\n"
     ]
    },
    {
     "ename": "KeyError",
     "evalue": "'result'",
     "output_type": "error",
     "traceback": [
      "\u001b[1;31m---------------------------------------------------------------------------\u001b[0m",
      "\u001b[1;31mKeyError\u001b[0m                                  Traceback (most recent call last)",
      "\u001b[1;32m<ipython-input-53-4fda362f7e20>\u001b[0m in \u001b[0;36m<module>\u001b[1;34m()\u001b[0m\n\u001b[0;32m      2\u001b[0m \u001b[0mprint\u001b[0m\u001b[1;33m(\u001b[0m\u001b[1;34mf\"\\nOperation {operation_id} starting.\"\u001b[0m\u001b[1;33m)\u001b[0m\u001b[1;33m\u001b[0m\u001b[0m\n\u001b[0;32m      3\u001b[0m \u001b[1;32mtry\u001b[0m\u001b[1;33m:\u001b[0m\u001b[1;33m\u001b[0m\u001b[0m\n\u001b[1;32m----> 4\u001b[1;33m     \u001b[0mname\u001b[0m \u001b[1;33m=\u001b[0m \u001b[0moperation_details_copy\u001b[0m\u001b[1;33m[\u001b[0m\u001b[1;34m'result'\u001b[0m\u001b[1;33m]\u001b[0m\u001b[1;33m[\u001b[0m\u001b[1;36m0\u001b[0m\u001b[1;33m]\u001b[0m\u001b[1;33m.\u001b[0m\u001b[0mlstrip\u001b[0m\u001b[1;33m(\u001b[0m\u001b[1;34m'/'\u001b[0m\u001b[1;33m)\u001b[0m\u001b[1;33m.\u001b[0m\u001b[0mrstrip\u001b[0m\u001b[1;33m(\u001b[0m\u001b[1;34m'/'\u001b[0m\u001b[1;33m)\u001b[0m\u001b[1;33m\u001b[0m\u001b[0m\n\u001b[0m\u001b[0;32m      5\u001b[0m     \u001b[0mprint\u001b[0m\u001b[1;33m(\u001b[0m\u001b[1;34mf\"name: {name}\"\u001b[0m\u001b[1;33m)\u001b[0m\u001b[1;33m\u001b[0m\u001b[0m\n\u001b[0;32m      6\u001b[0m     \u001b[0moperation_future\u001b[0m\u001b[1;33m:\u001b[0m \u001b[0mHttpFuture\u001b[0m \u001b[1;33m=\u001b[0m \u001b[0mgetattr\u001b[0m\u001b[1;33m(\u001b[0m\u001b[0minstances_resource\u001b[0m\u001b[1;33m,\u001b[0m \u001b[0moperation_id\u001b[0m\u001b[1;33m)\u001b[0m\u001b[1;33m(\u001b[0m\u001b[0mname\u001b[0m\u001b[1;33m=\u001b[0m\u001b[0mname\u001b[0m\u001b[1;33m)\u001b[0m\u001b[1;33m\u001b[0m\u001b[0m\n",
      "\u001b[1;31mKeyError\u001b[0m: 'result'"
     ]
    }
   ],
   "source": [
    "operation_id = \"getInstance\"\n",
    "print(f\"\\nOperation {operation_id} starting.\")\n",
    "try:\n",
    "    name = operation_details_copy['result'][0].lstrip('/').rstrip('/')\n",
    "    print(f\"name: {name}\")\n",
    "    operation_future: HttpFuture = getattr(instances_resource, operation_id)(name=name)\n",
    "    url = operation_future.future.request.url\n",
    "    print(f\"REST url for {operation_id}: {url}\")\n",
    "    print(f\"Accept Header=[{operation_future.future.session.headers['Accept']}], Content-Type Header=[{operation_future.future.session.headers['Content-Type']}]\")\n",
    "    operation_result, operation_response = operation_future.result()\n",
    "except bravado.exception.HTTPBadRequest:\n",
    "    print(\"Request failed for {operation_id}! \")\n",
    "    print(f\"URL: {operation_future.future.request.url}\")\n",
    "    raise\n",
    "except bravado.exception.HTTPNotFound:\n",
    "    print(\"Request failed for {operation_id}! \")\n",
    "    print(f\"URL: {operation_future.future.request.url}\")\n",
    "    raise\n",
    "operation_details = json.loads(operation_result)\n",
    "# print(\"\\n{} operation_details:\\nHTTP method: {}\\nAPI url: {}:\\n {}\\n\".format(operation_id, operation_future.operation.http_method, url, pformat(operation_details)))\n",
    "print(f\"Operation {operation_id} finished.\")"
   ]
  },
  {
   "cell_type": "code",
   "execution_count": null,
   "metadata": {},
   "outputs": [],
   "source": [
    "type(operation_details)\n",
    "print(operation_details.keys())"
   ]
  },
  {
   "cell_type": "markdown",
   "metadata": {},
   "source": [
    "#### Insert results in to DB"
   ]
  },
  {
   "cell_type": "code",
   "execution_count": null,
   "metadata": {},
   "outputs": [],
   "source": [
    "instances_db.insert(operation_details)"
   ]
  },
  {
   "cell_type": "code",
   "execution_count": null,
   "metadata": {},
   "outputs": [],
   "source": [
    "instances_db.all()[-1]"
   ]
  },
  {
   "cell_type": "code",
   "execution_count": null,
   "metadata": {},
   "outputs": [],
   "source": []
  }
 ],
 "metadata": {
  "kernelspec": {
   "display_name": "Python 3",
   "language": "python",
   "name": "python3"
  },
  "language_info": {
   "codemirror_mode": {
    "name": "ipython",
    "version": 3
   },
   "file_extension": ".py",
   "mimetype": "text/x-python",
   "name": "python",
   "nbconvert_exporter": "python",
   "pygments_lexer": "ipython3",
   "version": "3.6.5"
  }
 },
 "nbformat": 4,
 "nbformat_minor": 2
}
