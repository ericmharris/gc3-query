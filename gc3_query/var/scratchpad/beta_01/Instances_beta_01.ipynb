{
 "cells": [
  {
   "cell_type": "markdown",
   "metadata": {},
   "source": [
    "## Oracle Cloud Instance POC\n"
   ]
  },
  {
   "cell_type": "code",
   "execution_count": 1,
   "metadata": {},
   "outputs": [],
   "source": [
    "import os\n",
    "import json\n",
    "from pathlib import Path\n",
    "from typing import Dict\n",
    "from dataclasses import dataclass\n",
    "\n",
    "import bravado\n",
    "from bravado.client import SwaggerClient, CallableOperation\n",
    "# from bravado.requests_client import RequestsClient\n",
    "from gc3_query.lib.gc3_bravado.requests_client import OCRequestsClient\n",
    "from bravado.requests_client import RequestsResponseAdapter\n",
    "from bravado.swagger_model import load_file\n",
    "from bravado_core.exception import MatchingResponseNotFound\n",
    "from bravado.exception import HTTPBadRequest\n",
    "from bravado.http_future import HttpFuture\n",
    "\n",
    "from tinydb import TinyDB, Query\n",
    "\n",
    "# from prettyprinter import pprint, pformat\n",
    "from pprint import pprint, pformat\n",
    "\n",
    "## https://medium.com/@betz.mark/validate-json-models-with-swagger-and-bravado-5fad6b21a825\n",
    "# Validate json models with swagger and bravado\n",
    "from bravado_core.spec import Spec"
   ]
  },
  {
   "cell_type": "code",
   "execution_count": 2,
   "metadata": {},
   "outputs": [],
   "source": [
    "### B01\n",
    "import toml\n",
    "from pathlib import Path\n",
    "\n",
    "from gc3_query.lib import *\n",
    "from gc3_query.lib import BASE_DIR\n",
    "from gc3_query.lib import List, Optional, Any, Callable, Dict, Tuple, Union, Set, Generator, Path\n",
    "\n",
    "from gc3_query.lib.gc3_config import GC3Config, IDMCredential\n",
    "from gc3_query.lib.iaas_classic.iaas_requests_http_client import IaaSRequestsHTTPClient\n",
    "from gc3_query.lib.iaas_classic import IaaSServiceBase, API_SPEC_DIR, IaaSRequestsHTTPClient\n",
    "from gc3_query.lib.iaas_classic.instances import Instances\n",
    "\n"
   ]
  },
  {
   "cell_type": "code",
   "execution_count": 3,
   "metadata": {},
   "outputs": [],
   "source": [
    "### B01\n",
    "ORACLE_VPN_CONNECTED=False\n",
    "ASDF='ASDF'"
   ]
  },
  {
   "cell_type": "code",
   "execution_count": 4,
   "metadata": {},
   "outputs": [],
   "source": [
    "### B01\n",
    "service = 'Instances'\n",
    "idm_domain = 'gc30003'\n",
    "gc3_config = GC3Config()\n",
    "service_cfg = gc3_config.iaas_classic.services[service]\n",
    "idm_cfg = gc3_config.idm.domains[idm_domain]\n",
    "http_client: IaaSRequestsHTTPClient = IaaSRequestsHTTPClient(idm_cfg=idm_cfg)"
   ]
  },
  {
   "cell_type": "code",
   "execution_count": 5,
   "metadata": {},
   "outputs": [
    {
     "name": "stdout",
     "output_type": "stream",
     "text": [
      "opc_username=eric.harris@oracle.com, opc_password=None\n"
     ]
    }
   ],
   "source": [
    "# from secrets import opc_username, opc_password\n",
    "import keyring\n",
    "\n",
    "opc_username = \"eric.harris@oracle.com\"\n",
    "opc_password = keyring.get_password(\"gc3\", \"gc30003\")\n",
    "print(f\"opc_username={opc_username}, opc_password={opc_password}\")"
   ]
  },
  {
   "cell_type": "code",
   "execution_count": 6,
   "metadata": {},
   "outputs": [
    {
     "name": "stdout",
     "output_type": "stream",
     "text": [
      "opc_username=eric.harris@oracle.com, opc_password=V@nadium123!\n"
     ]
    }
   ],
   "source": [
    "### B01\n",
    "opc_password = keyring.get_password(service_name=\"gc3@gc30003\", username=\"eric.harris@oracle.com\")\n",
    "print(f\"opc_username={opc_username}, opc_password={opc_password}\")"
   ]
  },
  {
   "cell_type": "code",
   "execution_count": 7,
   "metadata": {},
   "outputs": [
    {
     "name": "stdout",
     "output_type": "stream",
     "text": [
      "iaas_rest_endpoint: https://compute.uscom-central-1.oraclecloud.com\n",
      "iaas_auth_endpoint: https://compute.uscom-central-1.oraclecloud.com/authenticate/\n",
      "\n"
     ]
    }
   ],
   "source": [
    "idm_domain_name = 'gc30003'\n",
    "idm_service_instance_id = '587626604'\n",
    "iaas_rest_endpoint = r'https://compute.uscom-central-1.oraclecloud.com'\n",
    "iaas_auth_endpoint = f'{iaas_rest_endpoint}/authenticate/'\n",
    "\n",
    "print(f'iaas_rest_endpoint: {iaas_rest_endpoint}')\n",
    "print(f'iaas_auth_endpoint: {iaas_auth_endpoint}\\n')\n",
    "\n",
    "\n",
    "### Username/pass setup\n",
    "idm_domain_username = f'/Compute-{idm_domain_name}/{opc_username}'\n",
    "idm_service_instance_username = f'/Compute-{idm_service_instance_id}/{opc_username}'\n",
    "# username = traditional_iaas_username\n",
    "username = idm_service_instance_username\n",
    "# basic_auth_cred = _basic_auth_str(username, opc_password)\n"
   ]
  },
  {
   "cell_type": "code",
   "execution_count": 8,
   "metadata": {},
   "outputs": [
    {
     "name": "stdout",
     "output_type": "stream",
     "text": [
      "idm_domain_username: /Compute-gc30003/eric.harris@oracle.com\n",
      "idm_service_instance_username: /Compute-587626604/eric.harris@oracle.com\n",
      "username: /Compute-587626604/eric.harris@oracle.com\n"
     ]
    }
   ],
   "source": [
    "json_data = {\"user\": username, \"password\": opc_password}\n",
    "print(f'idm_domain_username: {idm_domain_username}')\n",
    "print(f'idm_service_instance_username: {idm_service_instance_username}')\n",
    "print(f'username: {username}')"
   ]
  },
  {
   "cell_type": "code",
   "execution_count": 9,
   "metadata": {},
   "outputs": [],
   "source": [
    "proxies = {\n",
    "  'http': 'http://www-proxy-ash7.us.oracle.com:80',\n",
    "  'https': 'https://www-proxy-ash7.us.oracle.com:80',\n",
    "}"
   ]
  },
  {
   "cell_type": "markdown",
   "metadata": {},
   "source": [
    "#### Create DB to store Instance data"
   ]
  },
  {
   "cell_type": "code",
   "execution_count": 10,
   "metadata": {},
   "outputs": [],
   "source": [
    "instances_db = TinyDB('instances.tdb.json')"
   ]
  },
  {
   "cell_type": "markdown",
   "metadata": {},
   "source": [
    "####  Authenticate and get header token\n"
   ]
  },
  {
   "cell_type": "code",
   "execution_count": 11,
   "metadata": {},
   "outputs": [
    {
     "name": "stdout",
     "output_type": "stream",
     "text": [
      "Response OK: True, Status Code: 204, URL: https://compute.uscom-central-1.oraclecloud.com/authenticate/\n",
      "Auth request succeess.\n",
      "\n"
     ]
    }
   ],
   "source": [
    "headers = dict([('Content-Type', 'application/oracle-compute-v3+json'),\n",
    "                ('Accept', 'application/oracle-compute-v3+directory+json'),\n",
    "                ])\n",
    "requests_client = OCRequestsClient()\n",
    "requests_client.session.headers.update(headers)\n",
    "if ORACLE_VPN_CONNECTED:\n",
    "    requests_client.session.proxies.update(proxies)\n",
    "\n",
    "\n",
    "# print(f\"requests_client.session.headers before update: {requests_client.session.headers}\\n\")\n",
    "requests_client.session.headers.update(headers)\n",
    "# print(f\"requests_client.session.headers after update: {requests_client.session.headers}\\n\")\n",
    "\n",
    "response = requests_client.session.post(url=iaas_auth_endpoint, json=json_data)\n",
    "print(f'Response OK: {response.ok}, Status Code: {response.status_code}, URL: {response.url}')\n",
    "if response.ok and 'Set-Cookie' in response.headers:\n",
    "    print(f\"Auth request succeess.\\n\")\n",
    "    ### The auth cookie is already placed in the session ... nothing else needs to be done.\n",
    "#     print(f\"\\nSession Cookies: {requests_client.session.cookies}\")\n",
    "#     print(f\"\\nResponse Headers['Set-Cookie']: {response.headers['Set-Cookie']}\")\n",
    "else:\n",
    "    print(f'Something failed! Response OK: {response.ok}, Status Code: {response.status_code}')\n",
    "\n",
    "# print(f\"requests_client.session.headers before update: {requests_client.session.headers}\\n\")\n",
    "cookie_header = {'Cookie': response.headers['Set-Cookie']}\n",
    "# print(f\"cookie_header: {cookie_header}\\n\")\n",
    "requests_client.session.headers.update(cookie_header)\n",
    "# print(f\"requests_client.session.headers after update: {requests_client.session.headers}\\n\")\n"
   ]
  },
  {
   "cell_type": "code",
   "execution_count": 12,
   "metadata": {},
   "outputs": [],
   "source": [
    "## Update the swagger spec to use https\n",
    "spec_file_path = Path().joinpath('open_api_definitions/iaas_instances.json').resolve()\n",
    "spec_dict = load_file(spec_file_path)\n",
    "spec_dict['schemes'] = ['https']\n"
   ]
  },
  {
   "cell_type": "code",
   "execution_count": 13,
   "metadata": {},
   "outputs": [],
   "source": [
    "headers = dict([('Content-Type', 'application/oracle-compute-v3+json'),\n",
    "                ('Accept', 'application/oracle-compute-v3+json, application/oracle-compute-v3+directory+json, json, text/html')\n",
    "                ])\n",
    "\n",
    "# headers = dict([('Content-Type', 'application/oracle-compute-v3+json'),\n",
    "#                 ('Accept', 'application/oracle-compute-v3+json, json, text/html')])"
   ]
  },
  {
   "cell_type": "code",
   "execution_count": 14,
   "metadata": {},
   "outputs": [],
   "source": [
    "requests_client = OCRequestsClient()\n",
    "requests_client.session.headers.update(headers)\n",
    "if ORACLE_VPN_CONNECTED:\n",
    "    requests_client.session.proxies.update(proxies)\n",
    "# requests_client.session.proxies.update(proxies)\n",
    "requests_client.session.headers.update(cookie_header)\n",
    "swagger_client = SwaggerClient.from_spec(spec_dict=spec_dict,\n",
    "                                         origin_url=iaas_rest_endpoint,\n",
    "                                         http_client=requests_client,\n",
    "                                         config={'also_return_response': True,\n",
    "                                                 'validate_responses': True,\n",
    "                                                 'validate_requests': True,\n",
    "                                                 'validate_swagger_spec': True})\n",
    "                                         # config={'also_return_response': True,\n",
    "                                         #         'validate_responses': False,\n",
    "                                         #         'validate_requests': True,\n",
    "                                         #         'validate_swagger_spec': True})\n",
    "#                                          config={'also_return_response': True,\n",
    "#                                                  'validate_responses': False,\n",
    "#                                                  'validate_requests': False,\n",
    "#                                                  'validate_swagger_spec': False})\n",
    "instances_resource = swagger_client.Instances"
   ]
  },
  {
   "cell_type": "code",
   "execution_count": 15,
   "metadata": {},
   "outputs": [
    {
     "name": "stdout",
     "output_type": "stream",
     "text": [
      "deleteInstance\t\t http_method=delete\tpath=/instance/{name}\n",
      "discoverInstance\t\t http_method=get\tpath=/instance/{container}\n",
      "discoverRootInstance\t\t http_method=get\tpath=/instance/\n",
      "getInstance\t\t http_method=get\tpath=/instance/{name}\n",
      "listInstance\t\t http_method=get\tpath=/instance/{container}/\n",
      "updateInstance\t\t http_method=put\tpath=/instance/{name}\n"
     ]
    }
   ],
   "source": [
    "for operation_name in dir(instances_resource):\n",
    "    callable_operation = getattr(instances_resource, operation_name)\n",
    "    print(f\"{callable_operation.operation.operation_id}\\t\\t http_method={callable_operation.operation.http_method}\\tpath={callable_operation.operation.path_name}\")\n",
    "    \n",
    "    "
   ]
  },
  {
   "cell_type": "code",
   "execution_count": 16,
   "metadata": {},
   "outputs": [
    {
     "data": {
      "text/plain": [
       "<bravado.client.CallableOperation at 0x1b8a66ed6a0>"
      ]
     },
     "execution_count": 16,
     "metadata": {},
     "output_type": "execute_result"
    }
   ],
   "source": [
    "callable_operation"
   ]
  },
  {
   "cell_type": "code",
   "execution_count": 17,
   "metadata": {},
   "outputs": [],
   "source": [
    "@dataclass\n",
    "class GetOpReturn:\n",
    "    operation_details: Dict[str, Any]\n",
    "    operation_response: RequestsResponseAdapter\n",
    "\n",
    "\n",
    "def get_op(operation_id: str, **wkargs) -> Tuple[Dict[str, Any], RequestsResponseAdapter]:\n",
    "    print(f\"Operation {operation_id} starting.\")\n",
    "    try:\n",
    "        operation_future = getattr(instances_resource, operation_id)(**wkargs)\n",
    "        url = operation_future.future.request.url\n",
    "        print(f\"REST url for {operation_id}: {url}\")\n",
    "        operation_result, operation_response = operation_future.result()\n",
    "    except HTTPBadRequest:\n",
    "        print(\"Request failed for {operation_id}! \")\n",
    "        print(f\"URL: {operation_future.future.request.url}\")\n",
    "        raise\n",
    "    operation_details = json.loads(operation_result)\n",
    "    return GetOpReturn(operation_details,operation_response )\n",
    "#     print(\"\\n{} operation_details:\\nHTTP method: {}\\nAPI url: {}:\\n {}\\n\".format(operation_id, operation_future.operation.http_method, url, pformat(operation_details)))\n",
    "#     print(f\"Operation {operation_id} finished.\\n\")\n"
   ]
  },
  {
   "cell_type": "code",
   "execution_count": 18,
   "metadata": {},
   "outputs": [
    {
     "name": "stdout",
     "output_type": "stream",
     "text": [
      "Operation discoverRootInstance starting.\n",
      "REST url for discoverRootInstance: https://compute.uscom-central-1.oraclecloud.com/instance/\n",
      "\n",
      "discoverRootInstance operation_details:\n",
      "HTTP method: get\n",
      "API url: https://compute.uscom-central-1.oraclecloud.com/instance/:\n",
      " {'result': ['/Compute-587626604/']}\n",
      "\n",
      "Operation discoverRootInstance finished.\n",
      "\n"
     ]
    }
   ],
   "source": [
    "operation_id = \"discoverRootInstance\"\n",
    "print(f\"Operation {operation_id} starting.\")\n",
    "try:\n",
    "    operation_future = getattr(instances_resource, operation_id)()\n",
    "    url = operation_future.future.request.url\n",
    "    print(f\"REST url for {operation_id}: {url}\")\n",
    "    operation_result, operation_response = operation_future.result()\n",
    "except HTTPBadRequest:\n",
    "    print(\"Request failed for {operation_id}! \")\n",
    "    print(f\"URL: {operation_future.future.request.url}\")\n",
    "    raise\n",
    "operation_details = json.loads(operation_result)\n",
    "print(\"\\n{} operation_details:\\nHTTP method: {}\\nAPI url: {}:\\n {}\\n\".format(operation_id, operation_future.operation.http_method, url, pformat(operation_details)))\n",
    "print(f\"Operation {operation_id} finished.\\n\")"
   ]
  },
  {
   "cell_type": "code",
   "execution_count": 19,
   "metadata": {},
   "outputs": [],
   "source": [
    "### B01\n",
    "\n",
    "instances = Instances(service_cfg=service_cfg, idm_cfg=idm_cfg, http_client=http_client)\n",
    "http_future = instances.bravado_service_operations.discoverRootInstance()\n",
    "request_url = http_future.future.request.url\n",
    "service_response = http_future.response()\n",
    "result = service_response.result\n",
    "http_response = service_response.incoming_response\n",
    "http_response_json = http_response.json()\n",
    "service_response_status_code = service_response.metadata.status_code\n",
    "\n",
    "\n",
    "\n"
   ]
  },
  {
   "cell_type": "code",
   "execution_count": 20,
   "metadata": {},
   "outputs": [
    {
     "data": {
      "text/plain": [
       "<bravado.response.BravadoResponse at 0x1b8a690a7f0>"
      ]
     },
     "execution_count": 20,
     "metadata": {},
     "output_type": "execute_result"
    }
   ],
   "source": [
    "### B01\n",
    "service_response"
   ]
  },
  {
   "cell_type": "code",
   "execution_count": 21,
   "metadata": {},
   "outputs": [
    {
     "name": "stdout",
     "output_type": "stream",
     "text": [
      "operation_id=discoverRootInstance\n",
      "service_response_status_code=200\n",
      "http_response=200 OK\n",
      "b01_result={\"result\": [\"/Compute-587626604/\"]}\n",
      "s01_operation_result={\"result\": [\"/Compute-587626604/\"]}\n",
      "is_same=True\n",
      "ASDF=ASDF\n",
      "ASDF=ASDF\n",
      "ASDF=ASDF\n"
     ]
    }
   ],
   "source": [
    "### B01\n",
    "print(f\"operation_id={operation_id}\")\n",
    "print(f\"service_response_status_code={service_response_status_code}\")\n",
    "print(f\"http_response={http_response}\")\n",
    "print(f\"b01_result={result}\")\n",
    "print(f\"s01_operation_result={operation_result}\")\n",
    "is_same = result == operation_result\n",
    "print(f\"is_same={is_same}\")\n",
    "\n",
    "\n",
    "\n",
    "print(f\"ASDF={ASDF}\")\n",
    "print(f\"ASDF={ASDF}\")\n",
    "print(f\"ASDF={ASDF}\")\n",
    "\n",
    "\n",
    "\n",
    "\n",
    "\n",
    "\n",
    "\n"
   ]
  },
  {
   "cell_type": "code",
   "execution_count": 22,
   "metadata": {},
   "outputs": [
    {
     "name": "stdout",
     "output_type": "stream",
     "text": [
      "Operation discoverInstance starting.\n",
      "container: Compute-587626604/\n",
      "REST url for discoverInstance: https://compute.uscom-central-1.oraclecloud.com/instance/Compute-587626604/\n",
      "\n",
      "discoverInstance operation_details:\n",
      "HTTP method: get\n",
      "API url: https://compute.uscom-central-1.oraclecloud.com/instance/Compute-587626604/:\n",
      " {'result': ['/Compute-587626604/dhiru.vallabhbhai@oracle.com/',\n",
      "            '/Compute-587626604/eric.harris@oracle.com/',\n",
      "            '/Compute-587626604/manjunath.udupa@oracle.com/',\n",
      "            '/Compute-587626604/mayurnath.gokare@oracle.com/',\n",
      "            '/Compute-587626604/ramesh.dadhania@oracle.com/',\n",
      "            '/Compute-587626604/seetharaman.nandyal@oracle.com/',\n",
      "            '/Compute-587626604/siva.subramani@oracle.com/',\n",
      "            '/Compute-587626604/tarek.orfaly@oracle.com/']}\n",
      "\n",
      "Operation discoverInstance finished.\n",
      "\n"
     ]
    }
   ],
   "source": [
    "## discoverInstance\n",
    "## container=\"Compute-587626604/\"\n",
    "operation_id = \"discoverInstance\"\n",
    "\n",
    "print(f\"Operation {operation_id} starting.\")\n",
    "try:\n",
    "    # API url: https://compute.uscom-central-1.oraclecloud.com/instance/Compute-587626604\n",
    "    container = operation_details['result'][0].lstrip('/').rstrip('/')\n",
    "    # # API url: https://compute.uscom-central-1.oraclecloud.com/instance/Compute-587626604/eric.harris@oracle.com\n",
    "    # container = f\"{container}/{opc_username}\"\n",
    "    # # API url: https://compute.uscom-central-1.oraclecloud.com/instance/Compute-587626604/eric.harris@oracle.com/\n",
    "    container = f\"{container}/\"\n",
    "    container = \"Compute-587626604/\"\n",
    "    print(f\"container: {container}\")\n",
    "    operation_future = getattr(instances_resource, operation_id)(container=container)\n",
    "    url = operation_future.future.request.url\n",
    "    print(f\"REST url for {operation_id}: {url}\")\n",
    "    operation_result, operation_response = operation_future.result()\n",
    "except HTTPBadRequest:\n",
    "    print(\"Request failed for {operation_id}! \")\n",
    "    print(f\"URL: {operation_future.future.request.url}\")\n",
    "    raise\n",
    "operation_details = json.loads(operation_result)\n",
    "print(\"\\n{} operation_details:\\nHTTP method: {}\\nAPI url: {}:\\n {}\\n\".format(operation_id, operation_future.operation.http_method, url, pformat(operation_details)))\n",
    "print(f\"Operation {operation_id} finished.\\n\")"
   ]
  },
  {
   "cell_type": "code",
   "execution_count": 23,
   "metadata": {},
   "outputs": [
    {
     "name": "stdout",
     "output_type": "stream",
     "text": [
      "Operation discoverInstance starting.\n",
      "container: Compute-587626604/eric.harris@oracle.com/\n",
      "REST url for discoverInstance: https://compute.uscom-central-1.oraclecloud.com/instance/Compute-587626604/eric.harris@oracle.com/\n",
      "\n",
      "discoverInstance operation_details:\n",
      "HTTP method: get\n",
      "API url: https://compute.uscom-central-1.oraclecloud.com/instance/Compute-587626604/eric.harris@oracle.com/:\n",
      " {'result': ['/Compute-587626604/eric.harris@oracle.com/GC3NAAC-CDMT-LWS1/',\n",
      "            '/Compute-587626604/eric.harris@oracle.com/GC3NAAC-CDMT-PSFTHR92/',\n",
      "            '/Compute-587626604/eric.harris@oracle.com/dbaas/',\n",
      "            '/Compute-587626604/eric.harris@oracle.com/gc3-naac-cdmt-d07-lws/',\n",
      "            '/Compute-587626604/eric.harris@oracle.com/gc3-naac-soar-d03-lws/',\n",
      "            '/Compute-587626604/eric.harris@oracle.com/gc3-naac-soar-d04-02-essbase-bi/',\n",
      "            '/Compute-587626604/eric.harris@oracle.com/gc3-naac-soar-d04-essbase-bi/',\n",
      "            '/Compute-587626604/eric.harris@oracle.com/gc3-naac-soar-d05-lws/',\n",
      "            '/Compute-587626604/eric.harris@oracle.com/gc3_naac_soar_ebs1226_demo_01/',\n",
      "            '/Compute-587626604/eric.harris@oracle.com/paas/']}\n",
      "\n",
      "Operation discoverInstance finished.\n",
      "\n"
     ]
    }
   ],
   "source": [
    "## discoverInstance\n",
    "## container=\"Compute-587626604/eric.harris@oracle.com/\"\n",
    "\n",
    "operation_id = \"discoverInstance\"\n",
    "print(f\"Operation {operation_id} starting.\")\n",
    "try:\n",
    "    # API url: https://compute.uscom-central-1.oraclecloud.com/instance/Compute-587626604\n",
    "#     container = operation_details['result'][0].lstrip('/').rstrip('/')\n",
    "    # # API url: https://compute.uscom-central-1.oraclecloud.com/instance/Compute-587626604/eric.harris@oracle.com\n",
    "    # container = f\"{container}/{opc_username}\"\n",
    "    # # API url: https://compute.uscom-central-1.oraclecloud.com/instance/Compute-587626604/eric.harris@oracle.com/\n",
    "    container = f\"{container}/{opc_username}/\"\n",
    "    container=\"Compute-587626604/eric.harris@oracle.com/\"\n",
    "    print(f\"container: {container}\")\n",
    "    operation_future = getattr(instances_resource, operation_id)(container=container)\n",
    "    url = operation_future.future.request.url\n",
    "    print(f\"REST url for {operation_id}: {url}\")\n",
    "    operation_result, operation_response = operation_future.result()\n",
    "except HTTPBadRequest:\n",
    "    print(\"Request failed for {operation_id}! \")\n",
    "    print(f\"URL: {operation_future.future.request.url}\")\n",
    "    raise\n",
    "operation_details = json.loads(operation_result)\n",
    "print(\"\\n{} operation_details:\\nHTTP method: {}\\nAPI url: {}:\\n {}\\n\".format(operation_id, operation_future.operation.http_method, url, pformat(operation_details)))\n",
    "print(f\"Operation {operation_id} finished.\\n\")"
   ]
  },
  {
   "cell_type": "code",
   "execution_count": 24,
   "metadata": {},
   "outputs": [
    {
     "name": "stdout",
     "output_type": "stream",
     "text": [
      "b01_container=Compute-587626604/eric.harris@oracle.com/\n",
      "s01_container=Compute-587626604/eric.harris@oracle.com/\n",
      "is_same_container=True\n",
      "ASDF=ASDF\n",
      "ASDF=ASDF\n",
      "ASDF=ASDF\n"
     ]
    }
   ],
   "source": [
    "### B01\n",
    "## discoverInstance\n",
    "## container=\"Compute-587626604/eric.harris@oracle.com/\"\n",
    "\n",
    "instances = Instances(service_cfg=service_cfg, idm_cfg=idm_cfg, http_client=http_client)\n",
    "b01_container=instances.idm_user_container_name\n",
    "\n",
    "print(f\"b01_container={b01_container}\")\n",
    "print(f\"s01_container={container}\")\n",
    "is_same_container = b01_container==container\n",
    "\n",
    "print(f\"is_same_container={is_same_container}\")\n",
    "print(f\"ASDF={ASDF}\")\n",
    "print(f\"ASDF={ASDF}\")\n",
    "print(f\"ASDF={ASDF}\")"
   ]
  },
  {
   "cell_type": "code",
   "execution_count": 25,
   "metadata": {},
   "outputs": [],
   "source": [
    "### B01\n",
    "\n",
    "http_future = instances.bravado_service_operations.discoverInstance(container=b01_container)\n",
    "request_url = http_future.future.request.url\n",
    "service_response = http_future.response()\n",
    "result = service_response.result\n",
    "http_response = service_response.incoming_response\n",
    "http_response_json = http_response.json()\n",
    "service_response_status_code = service_response.metadata.status_code"
   ]
  },
  {
   "cell_type": "code",
   "execution_count": 26,
   "metadata": {},
   "outputs": [
    {
     "name": "stdout",
     "output_type": "stream",
     "text": [
      "operation_id=discoverInstance\n",
      "service_response_status_code=200\n",
      "http_response=200 OK\n",
      "b01_result={\"result\": [\"/Compute-587626604/eric.harris@oracle.com/GC3NAAC-CDMT-LWS1/\", \"/Compute-587626604/eric.harris@oracle.com/GC3NAAC-CDMT-PSFTHR92/\", \"/Compute-587626604/eric.harris@oracle.com/dbaas/\", \"/Compute-587626604/eric.harris@oracle.com/gc3-naac-cdmt-d07-lws/\", \"/Compute-587626604/eric.harris@oracle.com/gc3-naac-soar-d03-lws/\", \"/Compute-587626604/eric.harris@oracle.com/gc3-naac-soar-d04-02-essbase-bi/\", \"/Compute-587626604/eric.harris@oracle.com/gc3-naac-soar-d04-essbase-bi/\", \"/Compute-587626604/eric.harris@oracle.com/gc3-naac-soar-d05-lws/\", \"/Compute-587626604/eric.harris@oracle.com/gc3_naac_soar_ebs1226_demo_01/\", \"/Compute-587626604/eric.harris@oracle.com/paas/\"]}\n",
      "s01_operation_result={\"result\": [\"/Compute-587626604/eric.harris@oracle.com/GC3NAAC-CDMT-LWS1/\", \"/Compute-587626604/eric.harris@oracle.com/GC3NAAC-CDMT-PSFTHR92/\", \"/Compute-587626604/eric.harris@oracle.com/dbaas/\", \"/Compute-587626604/eric.harris@oracle.com/gc3-naac-cdmt-d07-lws/\", \"/Compute-587626604/eric.harris@oracle.com/gc3-naac-soar-d03-lws/\", \"/Compute-587626604/eric.harris@oracle.com/gc3-naac-soar-d04-02-essbase-bi/\", \"/Compute-587626604/eric.harris@oracle.com/gc3-naac-soar-d04-essbase-bi/\", \"/Compute-587626604/eric.harris@oracle.com/gc3-naac-soar-d05-lws/\", \"/Compute-587626604/eric.harris@oracle.com/gc3_naac_soar_ebs1226_demo_01/\", \"/Compute-587626604/eric.harris@oracle.com/paas/\"]}\n",
      "is_same=True\n",
      "ASDF=ASDF\n",
      "ASDF=ASDF\n",
      "ASDF=ASDF\n"
     ]
    }
   ],
   "source": [
    "### B01\n",
    "print(f\"operation_id={operation_id}\")\n",
    "print(f\"service_response_status_code={service_response_status_code}\")\n",
    "print(f\"http_response={http_response}\")\n",
    "print(f\"b01_result={result}\")\n",
    "print(f\"s01_operation_result={operation_result}\")\n",
    "is_same = result == operation_result\n",
    "print(f\"is_same={is_same}\")\n",
    "\n",
    "\n",
    "\n",
    "print(f\"ASDF={ASDF}\")\n",
    "print(f\"ASDF={ASDF}\")\n",
    "print(f\"ASDF={ASDF}\")\n",
    "\n",
    "\n",
    "\n"
   ]
  },
  {
   "cell_type": "code",
   "execution_count": 27,
   "metadata": {
    "scrolled": true
   },
   "outputs": [
    {
     "name": "stdout",
     "output_type": "stream",
     "text": [
      "Operation listInstance starting.\n",
      "container: Compute-587626604/eric.harris@oracle.com/GC3NAAC-CDMT-LWS1\n",
      "REST url for listInstance: https://compute.uscom-central-1.oraclecloud.com/instance/Compute-587626604/eric.harris@oracle.com/GC3NAAC-CDMT-LWS1/\n",
      "\n",
      "listInstance operation_details:\n",
      "HTTP method: get\n",
      "API url: https://compute.uscom-central-1.oraclecloud.com/instance/Compute-587626604/eric.harris@oracle.com/GC3NAAC-CDMT-LWS1/:\n",
      " {'result': ['/Compute-587626604/eric.harris@oracle.com/GC3NAAC-CDMT-LWS1/c17bb7ea-724b-4e51-ab72-1bd8714f07b7']}\n",
      "\n",
      "Operation listInstance finished.\n"
     ]
    }
   ],
   "source": [
    "operation_id = \"listInstance\"\n",
    "print(f\"Operation {operation_id} starting.\")\n",
    "try:\n",
    "    # container = operation_details['result'][0].lstrip('/').rstrip('/')\n",
    "    # container = 'Compute-587626604/eric.harris@oracle.com'\n",
    "    container = 'Compute-587626604/eric.harris@oracle.com/GC3NAAC-CDMT-LWS1'\n",
    "    print(f\"container: {container}\")\n",
    "    operation_future = getattr(instances_resource, operation_id)(container=container)\n",
    "    url = operation_future.future.request.url\n",
    "    print(f\"REST url for {operation_id}: {url}\")\n",
    "    operation_result, operation_response = operation_future.result()\n",
    "except HTTPBadRequest:\n",
    "    print(\"Request failed for {operation_id}! \")\n",
    "    print(f\"URL: {operation_future.future.request.url}\")\n",
    "    raise\n",
    "operation_details = json.loads(operation_result)\n",
    "print(\"\\n{} operation_details:\\nHTTP method: {}\\nAPI url: {}:\\n {}\\n\".format(operation_id, operation_future.operation.http_method, url, pformat(operation_details)))\n",
    "print(f\"Operation {operation_id} finished.\")"
   ]
  },
  {
   "cell_type": "code",
   "execution_count": 28,
   "metadata": {},
   "outputs": [
    {
     "data": {
      "text/plain": [
       "{'result': ['/Compute-587626604/eric.harris@oracle.com/GC3NAAC-CDMT-LWS1/c17bb7ea-724b-4e51-ab72-1bd8714f07b7']}"
      ]
     },
     "execution_count": 28,
     "metadata": {},
     "output_type": "execute_result"
    }
   ],
   "source": [
    "operation_details"
   ]
  },
  {
   "cell_type": "code",
   "execution_count": 29,
   "metadata": {},
   "outputs": [
    {
     "data": {
      "text/plain": [
       "['/Compute-587626604/eric.harris@oracle.com/GC3NAAC-CDMT-LWS1/c17bb7ea-724b-4e51-ab72-1bd8714f07b7']"
      ]
     },
     "execution_count": 29,
     "metadata": {},
     "output_type": "execute_result"
    }
   ],
   "source": [
    "operation_details['result']"
   ]
  },
  {
   "cell_type": "code",
   "execution_count": 30,
   "metadata": {},
   "outputs": [
    {
     "name": "stdout",
     "output_type": "stream",
     "text": [
      "b01_container=Compute-587626604/eric.harris@oracle.com/GC3NAAC-CDMT-LWS1\n",
      "s01_container=Compute-587626604/eric.harris@oracle.com/GC3NAAC-CDMT-LWS1\n",
      "is_same_container=True\n",
      "ASDF=ASDF\n",
      "ASDF=ASDF\n",
      "ASDF=ASDF\n"
     ]
    }
   ],
   "source": [
    "### B01\n",
    "## listInstance\n",
    "## container: \"Compute-587626604/eric.harris@oracle.com/GC3NAAC-CDMT-LWS1\"\n",
    "\n",
    "instances = Instances(service_cfg=service_cfg, idm_cfg=idm_cfg, http_client=http_client)\n",
    "b01_container=\"Compute-587626604/eric.harris@oracle.com/GC3NAAC-CDMT-LWS1\"\n",
    "\n",
    "print(f\"b01_container={b01_container}\")\n",
    "print(f\"s01_container={container}\")\n",
    "is_same_container = b01_container==container\n",
    "\n",
    "print(f\"is_same_container={is_same_container}\")\n",
    "print(f\"ASDF={ASDF}\")\n",
    "print(f\"ASDF={ASDF}\")\n",
    "print(f\"ASDF={ASDF}\")"
   ]
  },
  {
   "cell_type": "code",
   "execution_count": 32,
   "metadata": {},
   "outputs": [],
   "source": [
    "### B01\n",
    "\n",
    "http_future = instances.bravado_service_operations.listInstance(container=b01_container)\n",
    "request_url = http_future.future.request.url\n",
    "service_response = http_future.response()\n",
    "result = service_response.result\n",
    "http_response = service_response.incoming_response\n",
    "http_response_json = http_response.json()\n",
    "service_response_status_code = service_response.metadata.status_code"
   ]
  },
  {
   "cell_type": "code",
   "execution_count": 33,
   "metadata": {},
   "outputs": [
    {
     "name": "stdout",
     "output_type": "stream",
     "text": [
      "operation_id=listInstance\n",
      "service_response_status_code=200\n",
      "http_response=200 OK\n",
      "b01_result={\"result\": [\"/Compute-587626604/eric.harris@oracle.com/GC3NAAC-CDMT-LWS1/c17bb7ea-724b-4e51-ab72-1bd8714f07b7\"]}\n",
      "s01_operation_result={\"result\": [\"/Compute-587626604/eric.harris@oracle.com/GC3NAAC-CDMT-LWS1/c17bb7ea-724b-4e51-ab72-1bd8714f07b7\"]}\n",
      "is_same=True\n",
      "ASDF=ASDF\n",
      "ASDF=ASDF\n",
      "ASDF=ASDF\n"
     ]
    }
   ],
   "source": [
    "### B01\n",
    "print(f\"operation_id={operation_id}\")\n",
    "print(f\"service_response_status_code={service_response_status_code}\")\n",
    "print(f\"http_response={http_response}\")\n",
    "print(f\"b01_result={result}\")\n",
    "print(f\"s01_operation_result={operation_result}\")\n",
    "is_same = result == operation_result\n",
    "print(f\"is_same={is_same}\")\n",
    "\n",
    "\n",
    "\n",
    "print(f\"ASDF={ASDF}\")\n",
    "print(f\"ASDF={ASDF}\")\n",
    "print(f\"ASDF={ASDF}\")\n",
    "\n"
   ]
  },
  {
   "cell_type": "code",
   "execution_count": null,
   "metadata": {},
   "outputs": [],
   "source": [
    "headers = dict([('Content-Type', 'application/oracle-compute-v3+json'),\n",
    "                ('Accept', 'application/oracle-compute-v3+json, json, text/html')])\n",
    "\n",
    "\n",
    "requests_client = OCRequestsClient()\n",
    "requests_client.session.headers.update(headers)\n",
    "if ORACLE_VPN_CONNECTED:\n",
    "    requests_client.session.proxies.update(proxies)\n",
    "# requests_client.session.proxies.update(proxies)\n",
    "requests_client.session.headers.update(cookie_header)\n",
    "swagger_client = SwaggerClient.from_spec(spec_dict=spec_dict,\n",
    "                                         origin_url=iaas_rest_endpoint,\n",
    "                                         http_client=requests_client,\n",
    "                                         # config={'also_return_response': True,\n",
    "                                         #         'validate_responses': True,\n",
    "                                         #         'validate_requests': True,\n",
    "                                         #         'validate_swagger_spec': True})\n",
    "                                         # config={'also_return_response': True,\n",
    "                                         #         'validate_responses': False,\n",
    "                                         #         'validate_requests': True,\n",
    "                                         #         'validate_swagger_spec': True})\n",
    "                                         config={'also_return_response': True,\n",
    "                                                 'validate_responses': False,\n",
    "                                                 'validate_requests': False,\n",
    "                                                 'validate_swagger_spec': False})\n",
    "instances_resource = swagger_client.Instances"
   ]
  },
  {
   "cell_type": "code",
   "execution_count": null,
   "metadata": {},
   "outputs": [],
   "source": [
    "operation_id = \"getInstance\"\n",
    "print(f\"\\nOperation {operation_id} starting.\")\n",
    "try:\n",
    "    name = operation_details['result'][0].lstrip('/').rstrip('/')\n",
    "    print(f\"name: {name}\")\n",
    "    operation_future: HttpFuture = getattr(instances_resource, operation_id)(name=name)\n",
    "    url = operation_future.future.request.url\n",
    "    print(f\"REST url for {operation_id}: {url}\")\n",
    "    print(f\"Accept Header=[{operation_future.future.session.headers['Accept']}], Content-Type Header=[{operation_future.future.session.headers['Content-Type']}]\")\n",
    "    operation_result, operation_response = operation_future.result()\n",
    "except bravado.exception.HTTPBadRequest:\n",
    "    print(\"Request failed for {operation_id}! \")\n",
    "    print(f\"URL: {operation_future.future.request.url}\")\n",
    "    raise\n",
    "except bravado.exception.HTTPNotFound:\n",
    "    print(\"Request failed for {operation_id}! \")\n",
    "    print(f\"URL: {operation_future.future.request.url}\")\n",
    "    raise\n",
    "operation_details = json.loads(operation_result)\n",
    "print(\"\\n{} operation_details:\\nHTTP method: {}\\nAPI url: {}:\\n {}\\n\".format(operation_id, operation_future.operation.http_method, url, pformat(operation_details)))\n",
    "print(f\"Operation {operation_id} finished.\")"
   ]
  },
  {
   "cell_type": "code",
   "execution_count": null,
   "metadata": {},
   "outputs": [],
   "source": [
    "operation_details"
   ]
  },
  {
   "cell_type": "code",
   "execution_count": null,
   "metadata": {},
   "outputs": [],
   "source": [
    "operation_id = \"getInstance\"\n",
    "print(f\"\\nOperation {operation_id} starting.\")\n",
    "try:\n",
    "    name = operation_details['result'][0].lstrip('/').rstrip('/')\n",
    "    print(f\"name: {name}\")\n",
    "    operation_future: HttpFuture = getattr(instances_resource, operation_id)(name=name)\n",
    "    url = operation_future.future.request.url\n",
    "    print(f\"REST url for {operation_id}: {url}\")\n",
    "    print(f\"Accept Header=[{operation_future.future.session.headers['Accept']}], Content-Type Header=[{operation_future.future.session.headers['Content-Type']}]\")\n",
    "    operation_result, operation_response = operation_future.result()\n",
    "except bravado.exception.HTTPBadRequest:\n",
    "    print(\"Request failed for {operation_id}! \")\n",
    "    print(f\"URL: {operation_future.future.request.url}\")\n",
    "    raise\n",
    "except bravado.exception.HTTPNotFound:\n",
    "    print(\"Request failed for {operation_id}! \")\n",
    "    print(f\"URL: {operation_future.future.request.url}\")\n",
    "    raise\n",
    "operation_details = json.loads(operation_result)\n",
    "# print(\"\\n{} operation_details:\\nHTTP method: {}\\nAPI url: {}:\\n {}\\n\".format(operation_id, operation_future.operation.http_method, url, pformat(operation_details)))\n",
    "print(f\"Operation {operation_id} finished.\")"
   ]
  },
  {
   "cell_type": "markdown",
   "metadata": {},
   "source": [
    "\n",
    "\n",
    "<pre>\n",
    "\n",
    "      \"get\" : {\n",
    "        \"tags\" : [ \"Instances\" ],\n",
    "        \"summary\" : \"Retrieve Details of an Instance\",\n",
    "        \"description\" : \"Retrieves details of the specified instance.<p><b>Required Role: </b>To complete this task, you must have the <code>Compute_Monitor</code> or <code>Compute_Operations</code> role. If this role isn't assigned to you or you're not sure, then ask your system administrator to ensure that the role is assigned to you in Oracle Cloud My Services. See <a target=\\\"_blank\\\" href=\\\"http://www.oracle.com/pls/topic/lookup?ctx=stcomputecs&id=MMOCS-GUID-54C2E747-7D5B-451C-A39C-77936178EBB6\\\">Modifying User Roles</a> in <em>Managing and Monitoring Oracle Cloud</em>.\",\n",
    "        \"operationId\" : \"getInstance\",\n",
    "        \"responses\" : {\n",
    "          \"200\" : {\n",
    "            \"headers\" : {\n",
    "              \"set-cookie\" : {\n",
    "                \"type\" : \"string\",\n",
    "                \"description\" : \"The cookie value is returned if the session is extended\"\n",
    "              }\n",
    "            },\n",
    "            \"description\" : \"OK. See <a class=\\\"xref\\\" href=\\\"Status%20Codes.html\\\">Status Codes</a> for information about other possible HTTP status codes.\",\n",
    "            \"schema\" : {\n",
    "              \"$ref\" : \"#/definitions/Instance-response\"\n",
    "            }\n",
    "          }\n",
    "        },\n",
    "        \"consumes\" : [ \"application/oracle-compute-v3+json\" ],\n",
    "        \"produces\" : [ \"application/oracle-compute-v3+json\" ],\n",
    "        \"parameters\" : [ {\n",
    "          \"name\" : \"name\",\n",
    "          \"in\" : \"path\",\n",
    "          \"description\" : \"<p>Multipart name of the object.\",\n",
    "          \"required\" : true,\n",
    "          \"type\" : \"string\"\n",
    "        }, {\n",
    "          \"name\" : \"Cookie\",\n",
    "          \"in\" : \"header\",\n",
    "          \"type\" : \"string\",\n",
    "          \"description\" : \"The Cookie: header must be included with every request to the service. It must be set to the value of the set-cookie header in the response received to the POST /authenticate/ call.\"\n",
    "        } ]\n",
    "      }\n",
    "    }\n",
    "  },\n",
    "  \n",
    "  .\n",
    "  .\n",
    "  .\n",
    "  \n",
    "\n",
    "\n",
    "\n",
    "    \"Instance-response\" : {\n",
    "      \"properties\" : {\n",
    "        \"account\" : {\n",
    "          \"type\" : \"string\",\n",
    "          \"description\" : \"Shows the default account for your identity domain.\"\n",
    "        },\n",
    "        \"attributes\" : {\n",
    "          \"additionalProperties\" : {\n",
    "            \"type\" : \"object\"\n",
    "          },\n",
    "          \"type\" : \"object\",\n",
    "          \"description\" : \"A dictionary of attributes to be made available to the instance. A value with the key \\\"userdata\\\" will be made available in an EC2-compatible manner.\"\n",
    "        },\n",
    "        \"availability_domain\" : {\n",
    "          \"type\" : \"string\",\n",
    "          \"description\" : \"The availability domain the instance is in\"\n",
    "        },\n",
    "        \"boot_order\" : {\n",
    "          \"items\" : {\n",
    "            \"type\" : \"integer\"\n",
    "          },\n",
    "          \"type\" : \"array\",\n",
    "          \"description\" : \"Boot order list.\"\n",
    "        },\n",
    "        \"desired_state\" : {\n",
    "          \"type\" : \"string\",\n",
    "          \"description\" : \"Desired state for the instance. The value can be <code>shutdown</code> or <code>running</code> to shutdown an instance or to restart a previously shutdown instance respectively.\"\n",
    "        },\n",
    "        \"disk_attach\" : {\n",
    "          \"type\" : \"string\",\n",
    "          \"description\" : \"A label assigned by the user to identify disks.\"\n",
    "        },\n",
    "        \"domain\" : {\n",
    "          \"type\" : \"string\",\n",
    "          \"description\" : \"The default domain to use for the hostname and for DNS lookups.\"\n",
    "        },\n",
    "        \"entry\" : {\n",
    "          \"type\" : \"integer\",\n",
    "          \"description\" : \"Optional imagelistentry number (default will be used if not specified).\"\n",
    "        },\n",
    "        \"error_reason\" : {\n",
    "          \"type\" : \"string\",\n",
    "          \"description\" : \"The reason for the instance going to error state, if available.\"\n",
    "        },\n",
    "        \"fingerprint\" : {\n",
    "          \"type\" : \"string\",\n",
    "          \"description\" : \"SSH server fingerprint presented by the instance.\"\n",
    "        },\n",
    "        \"hostname\" : {\n",
    "          \"type\" : \"string\",\n",
    "          \"description\" : \"The hostname for this instance.\"\n",
    "        },\n",
    "        \"hypervisor\" : {\n",
    "          \"additionalProperties\" : {\n",
    "            \"type\" : \"object\"\n",
    "          },\n",
    "          \"type\" : \"object\",\n",
    "          \"description\" : \"A dictionary of hypervisor-specific attributes.\"\n",
    "        },\n",
    "        \"image_format\" : {\n",
    "          \"type\" : \"string\",\n",
    "          \"description\" : \"The format of the image.\"\n",
    "        },\n",
    "        \"imagelist\" : {\n",
    "          \"type\" : \"string\",\n",
    "          \"description\" : \"Name of imagelist to be launched.\"\n",
    "        },\n",
    "        \"ip\" : {\n",
    "          \"type\" : \"string\",\n",
    "          \"description\" : \"IP address of the instance.\"\n",
    "        },\n",
    "        \"label\" : {\n",
    "          \"type\" : \"string\",\n",
    "          \"description\" : \"A label assigned by the user, specifically for defining inter-instance relationships.\"\n",
    "        },\n",
    "        \"name\" : {\n",
    "          \"type\" : \"string\",\n",
    "          \"description\" : \"Multipart name of the instance.\"\n",
    "        },\n",
    "        \"networking\" : {\n",
    "          \"additionalProperties\" : {\n",
    "            \"type\" : \"object\"\n",
    "          },\n",
    "          \"type\" : \"object\",\n",
    "          \"description\" : \"Mapping of <device name> to network specifiers for virtual NICs to be attached to this instance.\"\n",
    "        },\n",
    "        \"placement_requirements\" : {\n",
    "          \"items\" : {\n",
    "            \"type\" : \"string\"\n",
    "          },\n",
    "          \"type\" : \"array\",\n",
    "          \"description\" : \"A list of strings specifying arbitrary tags on nodes to be matched on placement.\"\n",
    "        },\n",
    "        \"platform\" : {\n",
    "          \"type\" : \"string\",\n",
    "          \"description\" : \"The OS platform for the instance.\"\n",
    "        },\n",
    "        \"priority\" : {\n",
    "          \"type\" : \"string\",\n",
    "          \"description\" : \"The priority at which this instance will be run.\"\n",
    "        },\n",
    "        \"quota\" : {\n",
    "          \"type\" : \"string\",\n",
    "          \"description\" : \"Not used\"\n",
    "        },\n",
    "        \"relationships\" : {\n",
    "          \"items\" : {\n",
    "            \"additionalProperties\" : {\n",
    "              \"type\" : \"object\"\n",
    "            },\n",
    "            \"type\" : \"object\"\n",
    "          },\n",
    "          \"type\" : \"array\",\n",
    "          \"description\" : \"A list of relationship specifications to be satisfied on this instance's placement\"\n",
    "        },\n",
    "        \"resolvers\" : {\n",
    "          \"items\" : {\n",
    "            \"type\" : \"string\"\n",
    "          },\n",
    "          \"type\" : \"array\",\n",
    "          \"description\" : \"Resolvers to use instead of the default resolvers.\"\n",
    "        },\n",
    "        \"reverse_dns\" : {\n",
    "          \"type\" : \"boolean\",\n",
    "          \"description\" : \"Add PTR records for the hostname.\"\n",
    "        },\n",
    "        \"shape\" : {\n",
    "          \"type\" : \"string\",\n",
    "          \"description\" : \"A shape is a resource profile that specifies the number of CPU threads and the amount of memory (in MB) to be allocated to an instance.\"\n",
    "        },\n",
    "        \"sshkeys\" : {\n",
    "          \"items\" : {\n",
    "            \"type\" : \"string\"\n",
    "          },\n",
    "          \"type\" : \"array\",\n",
    "          \"description\" : \"SSH keys that will be exposed to the instance.\"\n",
    "        },\n",
    "        \"start_time\" : {\n",
    "          \"type\" : \"string\",\n",
    "          \"description\" : \"Start time of the instance.\"\n",
    "        },\n",
    "        \"state\" : {\n",
    "          \"type\" : \"string\",\n",
    "          \"description\" : \"State of the instance.\"\n",
    "        },\n",
    "        \"storage_attachments\" : {\n",
    "          \"items\" : {\n",
    "            \"type\" : \"string\"\n",
    "          },\n",
    "          \"type\" : \"array\",\n",
    "          \"description\" : \"List of dictionaries containing storage attachment Information.\"\n",
    "        },\n",
    "        \"tags\" : {\n",
    "          \"items\" : {\n",
    "            \"type\" : \"string\"\n",
    "          },\n",
    "          \"type\" : \"array\",\n",
    "          \"description\" : \"Comma-separated list of strings used to tag the instance.\"\n",
    "        },\n",
    "        \"uri\" : {\n",
    "          \"type\" : \"string\",\n",
    "          \"description\" : \"Uniform Resource Identifier\"\n",
    "        },\n",
    "        \"vcable_id\" : {\n",
    "          \"type\" : \"string\",\n",
    "          \"description\" : \"vCable for this instance.\"\n",
    "        },\n",
    "        \"vnc\" : {\n",
    "          \"type\" : \"string\",\n",
    "          \"description\" : \"IP address and port of the VNC console for the instance.\"\n",
    "        }\n",
    "      }\n",
    "    },\n",
    "\n",
    "</pre>\n",
    "\n"
   ]
  },
  {
   "cell_type": "code",
   "execution_count": null,
   "metadata": {},
   "outputs": [],
   "source": [
    "type(operation_details)\n",
    "print(operation_details.keys())"
   ]
  },
  {
   "cell_type": "markdown",
   "metadata": {},
   "source": [
    "#### Insert results in to DB"
   ]
  },
  {
   "cell_type": "code",
   "execution_count": null,
   "metadata": {},
   "outputs": [],
   "source": [
    "instances_db.insert(operation_details)"
   ]
  },
  {
   "cell_type": "code",
   "execution_count": null,
   "metadata": {},
   "outputs": [],
   "source": [
    "instances_db.all()[-1]"
   ]
  },
  {
   "cell_type": "code",
   "execution_count": null,
   "metadata": {},
   "outputs": [],
   "source": []
  }
 ],
 "metadata": {
  "kernelspec": {
   "display_name": "Python 3",
   "language": "python",
   "name": "python3"
  },
  "language_info": {
   "codemirror_mode": {
    "name": "ipython",
    "version": 3
   },
   "file_extension": ".py",
   "mimetype": "text/x-python",
   "name": "python",
   "nbconvert_exporter": "python",
   "pygments_lexer": "ipython3",
   "version": "3.6.5"
  }
 },
 "nbformat": 4,
 "nbformat_minor": 2
}
