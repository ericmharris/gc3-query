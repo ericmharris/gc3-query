{
 "cells": [
  {
   "cell_type": "markdown",
   "metadata": {},
   "source": [
    "## Oracle Cloud Instance POC\n"
   ]
  },
  {
   "cell_type": "code",
   "execution_count": null,
   "metadata": {},
   "outputs": [],
   "source": [
    "import os\n",
    "import json\n",
    "from pathlib import Path\n",
    "from typing import Dict\n",
    "from dataclasses import dataclass\n",
    "from copy import deepcopy\n",
    "\n",
    "import bravado\n",
    "from bravado.client import SwaggerClient, CallableOperation\n",
    "# from bravado.requests_client import RequestsClient\n",
    "from gc3_query.lib.gc3_bravado.requests_client import OCRequestsClient\n",
    "from bravado.requests_client import RequestsResponseAdapter\n",
    "from bravado.swagger_model import load_file\n",
    "from bravado_core.exception import MatchingResponseNotFound\n",
    "from bravado.exception import HTTPBadRequest\n",
    "from bravado.http_future import HttpFuture\n",
    "\n",
    "from tinydb import TinyDB, Query\n",
    "\n",
    "# from prettyprinter import pprint, pformat\n",
    "from pprint import pprint, pformat\n",
    "\n",
    "## https://medium.com/@betz.mark/validate-json-models-with-swagger-and-bravado-5fad6b21a825\n",
    "# Validate json models with swagger and bravado\n",
    "from bravado_core.spec import Spec"
   ]
  },
  {
   "cell_type": "code",
   "execution_count": null,
   "metadata": {},
   "outputs": [],
   "source": [
    "### B01\n",
    "import toml\n",
    "from pathlib import Path\n",
    "\n",
    "from gc3_query.lib import *\n",
    "from gc3_query.lib import gc3_cfg
from gc3_query import BASE_DIR\n",
    "from gc3_query.lib import List, Optional, Any, Callable, Dict, Tuple, Union, Set, Generator, Path\n",
    "\n",
    "from gc3_query.lib.gc3_config import GC3Config, IDMCredential\n",
    "from gc3_query.lib.iaas_classic.iaas_requests_http_client import IaaSRequestsHTTPClient\n",
    "from gc3_query.lib.iaas_classic import IaaSServiceBase, API_SPECS_DIR, IaaSRequestsHTTPClient\n",
    "from gc3_query.lib.iaas_classic.instances import Instances\n",
    "\n"
   ]
  },
  {
   "cell_type": "code",
   "execution_count": null,
   "metadata": {},
   "outputs": [],
   "source": [
    "### B01\n",
    "ORACLE_VPN_CONNECTED=False\n",
    "ASDF='ASDF'"
   ]
  },
  {
   "cell_type": "code",
   "execution_count": null,
   "metadata": {},
   "outputs": [],
   "source": [
    "### B01\n",
    "service = 'Instances'\n",
    "idm_domain = 'gc30003'\n",
    "gc3_config = GC3Config()\n",
    "service_cfg = gc3_config.iaas_classic.services[service]\n",
    "idm_cfg = gc3_config.idm.domains[idm_domain]\n",
    "http_client: IaaSRequestsHTTPClient = IaaSRequestsHTTPClient(idm_cfg=idm_cfg)"
   ]
  },
  {
   "cell_type": "code",
   "execution_count": null,
   "metadata": {},
   "outputs": [],
   "source": [
    "# from secrets import opc_username, opc_password\n",
    "import keyring\n",
    "\n",
    "opc_username = \"eric.harris@oracle.com\"\n",
    "opc_password = keyring.get_password(\"gc3\", \"gc30003\")\n",
    "print(f\"opc_username={opc_username}, opc_password={opc_password}\")"
   ]
  },
  {
   "cell_type": "code",
   "execution_count": null,
   "metadata": {},
   "outputs": [],
   "source": [
    "### B01\n",
    "opc_password = keyring.get_password(service_name=\"gc3@gc30003\", username=\"eric.harris@oracle.com\")\n",
    "print(f\"opc_username={opc_username}, opc_password={opc_password}\")"
   ]
  },
  {
   "cell_type": "code",
   "execution_count": null,
   "metadata": {},
   "outputs": [],
   "source": [
    "idm_domain_name = 'gc30003'\n",
    "idm_service_instance_id = '587626604'\n",
    "iaas_rest_endpoint = r'https://compute.uscom-central-1.oraclecloud.com'\n",
    "iaas_auth_endpoint = f'{iaas_rest_endpoint}/authenticate/'\n",
    "\n",
    "print(f'iaas_rest_endpoint: {iaas_rest_endpoint}')\n",
    "print(f'iaas_auth_endpoint: {iaas_auth_endpoint}\\n')\n",
    "\n",
    "\n",
    "### Username/pass setup\n",
    "idm_domain_username = f'/Compute-{idm_domain_name}/{opc_username}'\n",
    "idm_service_instance_username = f'/Compute-{idm_service_instance_id}/{opc_username}'\n",
    "# username = traditional_iaas_username\n",
    "username = idm_service_instance_username\n",
    "# basic_auth_cred = _basic_auth_str(username, opc_password)\n"
   ]
  },
  {
   "cell_type": "code",
   "execution_count": null,
   "metadata": {},
   "outputs": [],
   "source": [
    "json_data = {\"user\": username, \"password\": opc_password}\n",
    "print(f'idm_domain_username: {idm_domain_username}')\n",
    "print(f'idm_service_instance_username: {idm_service_instance_username}')\n",
    "print(f'username: {username}')"
   ]
  },
  {
   "cell_type": "code",
   "execution_count": null,
   "metadata": {},
   "outputs": [],
   "source": [
    "proxies = {\n",
    "  'http': 'http://www-proxy-ash7.us.oracle.com:80',\n",
    "  'https': 'https://www-proxy-ash7.us.oracle.com:80',\n",
    "}"
   ]
  },
  {
   "cell_type": "code",
   "execution_count": null,
   "metadata": {},
   "outputs": [],
   "source": [
    "\n",
    "formats = []\n",
    "\n",
    "\n",
    "def NO_OP(x):\n",
    "    return x\n",
    "\n",
    "\n",
    "\n",
    "\n",
    "DEFAULT_FORMATS = {\n",
    "    'byte': SwaggerFormat(\n",
    "        format='byte',\n",
    "        to_wire=lambda b: b if isinstance(b, str) else str(b),\n",
    "        to_python=lambda s: s if isinstance(s, str) else str(s),\n",
    "        validate=NO_OP,  # jsonschema validates string\n",
    "        description='Converts [wire]string:byte <=> python byte'),\n",
    "    'date': SwaggerFormat(\n",
    "        format='date',\n",
    "        to_wire=lambda d: d.isoformat(),\n",
    "        to_python=lambda d: dateutil.parser.parse(d).date(),\n",
    "        validate=NO_OP,  # jsonschema validates date\n",
    "        description='Converts [wire]string:date <=> python datetime.date'),\n",
    "    # Python has no double. float is C's double in CPython\n",
    "    'double': SwaggerFormat(\n",
    "        format='double',\n",
    "        to_wire=lambda d: d if isinstance(d, float) else float(d),\n",
    "        to_python=lambda d: d if isinstance(d, float) else float(d),\n",
    "        validate=NO_OP,  # jsonschema validates number\n",
    "        description='Converts [wire]number:double <=> python float'),\n",
    "    'date-time': SwaggerFormat(\n",
    "        format='date-time',\n",
    "        to_wire=lambda dt: (dt if dt.tzinfo else pytz.utc.localize(dt)).isoformat(),\n",
    "        to_python=lambda dt: dateutil.parser.parse(dt),\n",
    "        validate=NO_OP,  # jsonschema validates date-time\n",
    "        description=(\n",
    "            'Converts string:date-time <=> python datetime.datetime')),\n",
    "    'float': SwaggerFormat(\n",
    "        format='float',\n",
    "        to_wire=lambda f: f if isinstance(f, float) else float(f),\n",
    "        to_python=lambda f: f if isinstance(f, float) else float(f),\n",
    "        validate=NO_OP,  # jsonschema validates number\n",
    "        description='Converts [wire]number:float <=> python float'),\n",
    "    'int32': SwaggerFormat(\n",
    "        format='int32',\n",
    "        to_wire=lambda i: i if isinstance(i, int) else int(i),\n",
    "        to_python=lambda i: i if isinstance(i, int) else int(i),\n",
    "        validate=NO_OP,  # jsonschema validates integer\n",
    "        description='Converts [wire]integer:int32 <=> python int'),\n",
    "    'int64': SwaggerFormat(\n",
    "        format='int64',\n",
    "        to_wire=lambda i: i if isinstance(i, long) else long(i),\n",
    "        to_python=lambda i: i if isinstance(i, long) else long(i),\n",
    "        validate=NO_OP,  # jsonschema validates integer\n",
    "        description='Converts [wire]integer:int64 <=> python long'),\n",
    "}\n",
    "\n"
   ]
  },
  {
   "cell_type": "code",
   "execution_count": null,
   "metadata": {},
   "outputs": [],
   "source": [
    "integer_format = SwaggerFormat(\n",
    "        format='integer',\n",
    "        to_wire=lambda i: i if isinstance(i, int) else int(i),\n",
    "        to_python=lambda i: i if isinstance(i, int) else int(i),\n",
    "        validate=NO_OP,  # jsonschema validates integer\n",
    "        description='Converts [wire]integer:int32 <=> python int')\n",
    "\n",
    "\n",
    "int64_format = SwaggerFormat(\n",
    "    format='int64',\n",
    "    to_wire=lambda i: i if isinstance(i, long) else long(i),\n",
    "    to_python=lambda i: i if isinstance(i, long) else long(i),\n",
    "    validate=NO_OP,  # jsonschema validates integer\n",
    "    description='Converts [wire]integer:int64 <=> python long')\n",
    "\n",
    "\n",
    "is_decimal = re.compile(r'^\\d+(?:\\.\\d+)?$')\n",
    "\n",
    "def validate_decimaltype(x):\n",
    "  \"\"\"Validate input is a str in valid decimal format\"\"\"\n",
    "  if not (isinstance(x, str) and is_decimal.match(x)):\n",
    "      raise SwaggerValidationError()\n",
    "\n",
    "mydouble = SwaggerFormat(\n",
    "  format='double',\n",
    "  to_wire=lambda x: str(x) if isinstance(x, Decimal) else str(Decimal(x)),\n",
    "  to_python=lambda x: x if isinstance(x, Decimal) else Decimal(x),\n",
    "  validate=validate_decimaltype,\n",
    "  description=\"model format double internally as Decimal()\"\n",
    ")\n",
    "\n",
    "formats.append(integer_format)\n",
    "\n",
    "\n"
   ]
  },
  {
   "cell_type": "code",
   "execution_count": null,
   "metadata": {},
   "outputs": [],
   "source": [
    "class BooleanString:\n",
    "    str_to_bool: Dict[str, bool] = dict(true=True, false=False)\n",
    "\n",
    "    def __init__(self, from_wire: str):\n",
    "        self.from_wire= from_wire\n",
    "        self._as_boolean = self.str_to_bool[from_wire.lower()]\n",
    "        _debug(f'created')\n",
    "        # if self.validate(boolish):\n",
    "        #     self.as_boolean = self.boolean_string_values[boolish]\n",
    "        # if self.boolish_literal != self.boolish:\n",
    "        #     _warning(f\"case sensitive data passed, self.boolish_literal={self.boolish_literal}\")\n",
    "\n",
    "    @classmethod\n",
    "    def validate(cls, from_wire: str) -> bool:\n",
    "        _debug(f\"from_wire={from_wire}\")\n",
    "        try:\n",
    "            as_boolean = cls.str_to_bool[from_wire.lower()]\n",
    "        except KeyError:\n",
    "            raise SwaggerValidationError(f\"Value={from_wire} not recognized as BooleanString\")\n",
    "        return isinstance(as_boolean, bool)\n",
    "\n",
    "    def __bool__(self):\n",
    "        return self.as_boolean\n",
    "\n",
    "    @property\n",
    "    def as_boolean(self):\n",
    "        as_boolean = self.str_to_bool[self.from_wire.lower()]\n",
    "        return as_boolean\n",
    "\n",
    "    @property\n",
    "    def as_wire(self):\n",
    "        return self.from_wire\n",
    "\n",
    "    @classmethod\n",
    "    def bool_to_wire(cls, b):\n",
    "        _bool_to_wire = 'true' if b else 'false'\n",
    "        return _bool_to_wire\n",
    "\n",
    "    @classmethod\n",
    "    def str_to_python(cls, s):\n",
    "        _str_to_python = cls.str_to_bool.get(s, False)\n",
    "        return _str_to_python\n",
    "\n",
    "\n",
    "boolean_string_format = SwaggerFormat(\n",
    "    # name of the format as used in the Swagger spec\n",
    "    format='boolean_string',\n",
    "\n",
    "    # Callable to convert a python object to_wire representations\n",
    "    to_wire=lambda boolean_string_instance: boolean_string_instance.as_wire,\n",
    "\n",
    "    # Callable to convert a from_wire to a python object\n",
    "    to_python=lambda s: BooleanString(s),\n",
    "\n",
    "    # Callable to validate the cidr in string form\n",
    "    validate=BooleanString.validate,\n",
    "    description='Converts \"true\" and \"false\" to/from equivalent booleans.'\n",
    ")\n",
    "\n",
    "\n",
    "formats.append(boolean_string_format)\n",
    "\n"
   ]
  },
  {
   "cell_type": "code",
   "execution_count": null,
   "metadata": {},
   "outputs": [],
   "source": [
    "print(formats)"
   ]
  },
  {
   "cell_type": "markdown",
   "metadata": {},
   "source": [
    "[https://porter.io/github.com/Yelp/bravado]\n",
    "\n",
    "## Example with Basic Authentication\n",
    "\n",
    "\n",
    "```\n",
    "from bravado.requests_client import RequestsClient\n",
    "from bravado.client import SwaggerClient\n",
    "\n",
    "http_client = RequestsClient()\n",
    "http_client.set_basic_auth(\n",
    "    'api.yourhost.com',\n",
    "    'username', 'password'\n",
    ")\n",
    "client = SwaggerClient.from_url(\n",
    "    'http://petstore.swagger.io/v2/swagger.json',\n",
    "    http_client=http_client,\n",
    ")\n",
    "pet = client.pet.getPetById(petId=42).response().result\n",
    "\n",
    "```\n",
    "\n",
    "## IaaS Compute Authentication\n",
    "\n",
    "API calls to Compute Classic require basic authentication (user name and password). **You can pass your username and password with every API call or you can pass a valid authentication token**. To get a valid authentication token, send an HTTP request to authenticate the user credentials. If the authentication request succeeds, the server returns a cookie containing an authentication token that is valid for 30 minutes. The client making the API calls must include this cookie in the API calls.\n",
    "\n",
    "To request for an authentication token and store the authentication token in an environment variable:\n"
   ]
  },
  {
   "cell_type": "code",
   "execution_count": 1,
   "metadata": {},
   "outputs": [],
   "source": [
    "import json"
   ]
  },
  {
   "cell_type": "code",
   "execution_count": 2,
   "metadata": {},
   "outputs": [],
   "source": [
    "from bravado_core.formatter import SwaggerFormat  # noqa\n",
    "from bravado_core.param import marshal_param\n",
    "from bravado_core.spec import Spec"
   ]
  },
  {
   "cell_type": "code",
   "execution_count": 3,
   "metadata": {},
   "outputs": [],
   "source": [
    "from bravado.requests_client import RequestsClient\n",
    "from bravado.client import SwaggerClient\n",
    "from bravado.swagger_model import load_file\n",
    "\n",
    "\n"
   ]
  },
  {
   "cell_type": "code",
   "execution_count": 4,
   "metadata": {},
   "outputs": [
    {
     "name": "stdout",
     "output_type": "stream",
     "text": [
      "opc_username=eric.harris@oracle.com, opc_password=V@nadium123!\n"
     ]
    }
   ],
   "source": [
    "# from secrets import opc_username, opc_password\n",
    "import keyring\n",
    "\n",
    "opc_username = \"eric.harris@oracle.com\"\n",
    "opc_password = keyring.get_password(service_name=\"gc3@gc30003\", username=\"eric.harris@oracle.com\")\n",
    "print(f\"opc_username={opc_username}, opc_password={opc_password}\")"
   ]
  },
  {
   "cell_type": "code",
   "execution_count": 5,
   "metadata": {},
   "outputs": [],
   "source": [
    "################################################################################\n",
    "## Standard Library Imports\n",
    "import sys, os\n",
    "from decimal import Decimal\n",
    "import re\n",
    "\n",
    "################################################################################\n",
    "## Third-Party Imports\n",
    "import dateutil\n",
    "import pytz\n",
    "# from bson.int64 import long\n",
    "from dataclasses import dataclass, field\n",
    "from bravado_core.formatter import SwaggerFormat\n",
    "from bravado_core.exception import SwaggerValidationError\n",
    "\n",
    "################################################################################\n",
    "## Project Imports\n",
    "from numpy import long\n",
    "\n",
    "from gc3_query.lib import *\n",
    "#from gc3_query.lib.gc3logging import get_logging\n",
    "_debug, _info, _warning, _error, _critical = get_logging(name=__name__)"
   ]
  },
  {
   "cell_type": "code",
   "execution_count": 6,
   "metadata": {},
   "outputs": [],
   "source": [
    "\n",
    "formats = []\n",
    "\n",
    "\n",
    "def NO_OP(x):\n",
    "    return x\n",
    "\n",
    "\n",
    "\n",
    "\n",
    "DEFAULT_FORMATS = {\n",
    "    'byte': SwaggerFormat(\n",
    "        format='byte',\n",
    "        to_wire=lambda b: b if isinstance(b, str) else str(b),\n",
    "        to_python=lambda s: s if isinstance(s, str) else str(s),\n",
    "        validate=NO_OP,  # jsonschema validates string\n",
    "        description='Converts [wire]string:byte <=> python byte'),\n",
    "    'date': SwaggerFormat(\n",
    "        format='date',\n",
    "        to_wire=lambda d: d.isoformat(),\n",
    "        to_python=lambda d: dateutil.parser.parse(d).date(),\n",
    "        validate=NO_OP,  # jsonschema validates date\n",
    "        description='Converts [wire]string:date <=> python datetime.date'),\n",
    "    # Python has no double. float is C's double in CPython\n",
    "    'double': SwaggerFormat(\n",
    "        format='double',\n",
    "        to_wire=lambda d: d if isinstance(d, float) else float(d),\n",
    "        to_python=lambda d: d if isinstance(d, float) else float(d),\n",
    "        validate=NO_OP,  # jsonschema validates number\n",
    "        description='Converts [wire]number:double <=> python float'),\n",
    "    'date-time': SwaggerFormat(\n",
    "        format='date-time',\n",
    "        to_wire=lambda dt: (dt if dt.tzinfo else pytz.utc.localize(dt)).isoformat(),\n",
    "        to_python=lambda dt: dateutil.parser.parse(dt),\n",
    "        validate=NO_OP,  # jsonschema validates date-time\n",
    "        description=(\n",
    "            'Converts string:date-time <=> python datetime.datetime')),\n",
    "    'float': SwaggerFormat(\n",
    "        format='float',\n",
    "        to_wire=lambda f: f if isinstance(f, float) else float(f),\n",
    "        to_python=lambda f: f if isinstance(f, float) else float(f),\n",
    "        validate=NO_OP,  # jsonschema validates number\n",
    "        description='Converts [wire]number:float <=> python float'),\n",
    "    'int32': SwaggerFormat(\n",
    "        format='int32',\n",
    "        to_wire=lambda i: i if isinstance(i, int) else int(i),\n",
    "        to_python=lambda i: i if isinstance(i, int) else int(i),\n",
    "        validate=NO_OP,  # jsonschema validates integer\n",
    "        description='Converts [wire]integer:int32 <=> python int'),\n",
    "    'int64': SwaggerFormat(\n",
    "        format='int64',\n",
    "        to_wire=lambda i: i if isinstance(i, long) else long(i),\n",
    "        to_python=lambda i: i if isinstance(i, long) else long(i),\n",
    "        validate=NO_OP,  # jsonschema validates integer\n",
    "        description='Converts [wire]integer:int64 <=> python long'),\n",
    "}\n",
    "\n"
   ]
  },
  {
   "cell_type": "code",
   "execution_count": 7,
   "metadata": {},
   "outputs": [],
   "source": [
    "class BooleanString:\n",
    "    str_to_bool: Dict[str, bool] = dict(true=True, false=False)\n",
    "\n",
    "    def __init__(self, from_wire: str):\n",
    "        self.from_wire= from_wire\n",
    "        self._as_boolean = self.str_to_bool[from_wire.lower()]\n",
    "        _debug(f'created')\n",
    "        # if self.validate(boolish):\n",
    "        #     self.as_boolean = self.boolean_string_values[boolish]\n",
    "        # if self.boolish_literal != self.boolish:\n",
    "        #     _warning(f\"case sensitive data passed, self.boolish_literal={self.boolish_literal}\")\n",
    "\n",
    "    @classmethod\n",
    "    def validate(cls, from_wire: str) -> bool:\n",
    "        _debug(f\"from_wire={from_wire}\")\n",
    "        try:\n",
    "            as_boolean = cls.str_to_bool[from_wire.lower()]\n",
    "        except KeyError:\n",
    "            raise SwaggerValidationError(f\"Value={from_wire} not recognized as BooleanString\")\n",
    "        return isinstance(as_boolean, bool)\n",
    "\n",
    "    def __bool__(self):\n",
    "        return self.as_boolean\n",
    "\n",
    "    @property\n",
    "    def as_boolean(self):\n",
    "        as_boolean = self.str_to_bool[self.from_wire.lower()]\n",
    "        return as_boolean\n",
    "\n",
    "    @property\n",
    "    def as_wire(self):\n",
    "        return self.from_wire\n",
    "\n",
    "    @classmethod\n",
    "    def bool_to_wire(cls, b):\n",
    "        _bool_to_wire = 'true' if b else 'false'\n",
    "        return _bool_to_wire\n",
    "\n",
    "    @classmethod\n",
    "    def str_to_python(cls, s):\n",
    "        _str_to_python = cls.str_to_bool.get(s, False)\n",
    "        return _str_to_python\n",
    "\n",
    "\n",
    "boolean_string_format = SwaggerFormat(\n",
    "    # name of the format as used in the Swagger spec\n",
    "    format='boolean_string',\n",
    "\n",
    "    # Callable to convert a python object to_wire representations\n",
    "    to_wire=lambda boolean_string_instance: boolean_string_instance.as_wire,\n",
    "\n",
    "    # Callable to convert a from_wire to a python object\n",
    "    to_python=lambda s: BooleanString(s),\n",
    "\n",
    "    # Callable to validate the cidr in string form\n",
    "    validate=BooleanString.validate,\n",
    "    description='Converts \"true\" and \"false\" to/from equivalent booleans.'\n",
    ")\n",
    "\n",
    "\n",
    "formats.append(boolean_string_format)\n",
    "\n"
   ]
  },
  {
   "cell_type": "code",
   "execution_count": 8,
   "metadata": {},
   "outputs": [],
   "source": [
    "rest_endpoint = 'https://compute.uscom-central-1.oraclecloud.com'\n",
    "swagger_file = 'SecRules.json'\n",
    "auth_swagger_file = 'Authenticate.json'\n",
    "\n",
    "\n",
    "config = {'validate_responses': True, \n",
    "          'validate_requests': True, \n",
    "          'validate_swagger_spec': True, \n",
    "          'use_models': True, \n",
    "          'include_missing_properties': True,\n",
    "          'default_type_to_object': True, \n",
    "          'internally_dereference_refs': False, \n",
    "          'formats': [boolean_string_format]}\n",
    "\n",
    "\n",
    "\n"
   ]
  },
  {
   "cell_type": "code",
   "execution_count": 9,
   "metadata": {},
   "outputs": [],
   "source": [
    "from melddict import MeldDict\n",
    "secrule_spec_dict = json.loads(open(swagger_file, 'r').read())\n",
    "auth_spec_dict = json.loads(open(auth_swagger_file, 'r').read())\n"
   ]
  },
  {
   "cell_type": "code",
   "execution_count": 10,
   "metadata": {},
   "outputs": [],
   "source": [
    "# Spec.from_dict(cls, spec_dict, origin_url=None, http_client=None, config=None):\n",
    "secrule_swagger_spec = Spec.from_dict(spec_dict=secrule_spec_dict, origin_url=rest_endpoint , config=config)"
   ]
  },
  {
   "cell_type": "code",
   "execution_count": 11,
   "metadata": {},
   "outputs": [],
   "source": [
    "# Spec.from_dict(cls, spec_dict, origin_url=None, http_client=None, config=None):\n",
    "auth_swagger_spec = Spec.from_dict(spec_dict=auth_spec_dict, origin_url=rest_endpoint , config=config)"
   ]
  },
  {
   "cell_type": "code",
   "execution_count": 12,
   "metadata": {},
   "outputs": [
    {
     "name": "stdout",
     "output_type": "stream",
     "text": [
      "user_defined_formats=[{'boolean_string': SwaggerFormat(format='boolean_string', to_python=<function <lambda> at 0x0000026009877A60>, to_wire=<function <lambda> at 0x0000026009877620>, validate=<bound method BooleanString.validate of <class '__main__.BooleanString'>>, description='Converts \"true\" and \"false\" to/from equivalent booleans.')}]\n",
      "https://compute.uscom-central-1.oraclecloud.com\n",
      "https://compute.uscom-central-1.oraclecloud.com\n"
     ]
    }
   ],
   "source": [
    "print(f\"user_defined_formats=[{secrule_swagger_spec.user_defined_formats}]\")\n",
    "print(secrule_swagger_spec.origin_url)\n",
    "print(secrule_swagger_spec.api_url)"
   ]
  },
  {
   "cell_type": "code",
   "execution_count": 13,
   "metadata": {},
   "outputs": [
    {
     "name": "stdout",
     "output_type": "stream",
     "text": [
      "user_defined_formats=[{'boolean_string': SwaggerFormat(format='boolean_string', to_python=<function <lambda> at 0x0000026009877A60>, to_wire=<function <lambda> at 0x0000026009877620>, validate=<bound method BooleanString.validate of <class '__main__.BooleanString'>>, description='Converts \"true\" and \"false\" to/from equivalent booleans.')}]\n",
      "https://compute.uscom-central-1.oraclecloud.com\n",
      "https://compute.uscom-central-1.oraclecloud.com/api\n"
     ]
    }
   ],
   "source": [
    "print(f\"user_defined_formats=[{auth_swagger_spec.user_defined_formats}]\")\n",
    "print(auth_swagger_spec.origin_url)\n",
    "print(auth_swagger_spec.api_url)"
   ]
  },
  {
   "cell_type": "code",
   "execution_count": 16,
   "metadata": {},
   "outputs": [
    {
     "name": "stdout",
     "output_type": "stream",
     "text": [
      "{'validate_responses': True, 'validate_requests': True, 'validate_swagger_spec': True, 'use_models': True, 'formats': [SwaggerFormat(format='boolean_string', to_python=<function <lambda> at 0x0000026009877A60>, to_wire=<function <lambda> at 0x0000026009877620>, validate=<bound method BooleanString.validate of <class '__main__.BooleanString'>>, description='Converts \"true\" and \"false\" to/from equivalent booleans.')], 'include_missing_properties': True, 'default_type_to_object': True, 'internally_dereference_refs': False}\n"
     ]
    }
   ],
   "source": [
    "print(secrule_swagger_spec.config)\n"
   ]
  },
  {
   "cell_type": "code",
   "execution_count": 17,
   "metadata": {},
   "outputs": [
    {
     "name": "stdout",
     "output_type": "stream",
     "text": [
      "{'validate_responses': True, 'validate_requests': True, 'validate_swagger_spec': True, 'use_models': True, 'formats': [SwaggerFormat(format='boolean_string', to_python=<function <lambda> at 0x0000026009877A60>, to_wire=<function <lambda> at 0x0000026009877620>, validate=<bound method BooleanString.validate of <class '__main__.BooleanString'>>, description='Converts \"true\" and \"false\" to/from equivalent booleans.')], 'include_missing_properties': True, 'default_type_to_object': True, 'internally_dereference_refs': False}\n"
     ]
    }
   ],
   "source": [
    "print(auth_swagger_spec.config)\n"
   ]
  },
  {
   "cell_type": "code",
   "execution_count": 18,
   "metadata": {},
   "outputs": [],
   "source": [
    "http_client = RequestsClient()\n",
    "http_client.set_basic_auth(rest_endpoint, opc_username, opc_password)\n"
   ]
  },
  {
   "cell_type": "code",
   "execution_count": null,
   "metadata": {},
   "outputs": [],
   "source": []
  },
  {
   "cell_type": "code",
   "execution_count": 19,
   "metadata": {},
   "outputs": [],
   "source": [
    "# SwaggerClient.from_spec(spec_dict, origin_url=None, http_client=None, config=None)"
   ]
  },
  {
   "cell_type": "code",
   "execution_count": 20,
   "metadata": {},
   "outputs": [],
   "source": [
    "# client = SwaggerClient.from_url(\n",
    "#     'http://petstore.swagger.io/v2/swagger.json',\n",
    "#     http_client=http_client,\n",
    "# )\n",
    "# pet = client.pet.getPetById(petId=42).response().result\n"
   ]
  },
  {
   "cell_type": "code",
   "execution_count": null,
   "metadata": {},
   "outputs": [],
   "source": []
  },
  {
   "cell_type": "code",
   "execution_count": 21,
   "metadata": {
    "scrolled": true
   },
   "outputs": [],
   "source": [
    "auth_client = SwaggerClient.from_spec(spec_dict=auth_spec_dict, origin_url=rest_endpoint, http_client=http_client, config=config)"
   ]
  },
  {
   "cell_type": "code",
   "execution_count": 22,
   "metadata": {},
   "outputs": [
    {
     "name": "stdout",
     "output_type": "stream",
     "text": [
      "user_defined_formats=[{'boolean_string': SwaggerFormat(format='boolean_string', to_python=<function <lambda> at 0x0000026009877A60>, to_wire=<function <lambda> at 0x0000026009877620>, validate=<bound method BooleanString.validate of <class '__main__.BooleanString'>>, description='Converts \"true\" and \"false\" to/from equivalent booleans.')}]\n",
      "https://compute.uscom-central-1.oraclecloud.com\n",
      "https://compute.uscom-central-1.oraclecloud.com/api\n",
      "bravado_config=[BravadoConfig(also_return_response=False, disable_fallback_results=False, response_metadata_class=<class 'bravado.response.BravadoResponseMetadata'>)]\n",
      "schemes=[['https']]\n"
     ]
    }
   ],
   "source": [
    "print(f\"user_defined_formats=[{auth_client.swagger_spec.user_defined_formats}]\")\n",
    "print(auth_client.swagger_spec.origin_url)\n",
    "print(auth_client.swagger_spec.api_url)\n",
    "print(f\"bravado_config=[{auth_client.swagger_spec.config['bravado']}]\")\n",
    "print(f\"schemes=[{auth_client.swagger_spec.client_spec_dict['schemes']}]\")"
   ]
  },
  {
   "cell_type": "code",
   "execution_count": 23,
   "metadata": {},
   "outputs": [
    {
     "name": "stdout",
     "output_type": "stream",
     "text": [
      "{'validate_responses': True, 'validate_requests': True, 'validate_swagger_spec': True, 'use_models': True, 'formats': [SwaggerFormat(format='boolean_string', to_python=<function <lambda> at 0x0000026009877A60>, to_wire=<function <lambda> at 0x0000026009877620>, validate=<bound method BooleanString.validate of <class '__main__.BooleanString'>>, description='Converts \"true\" and \"false\" to/from equivalent booleans.')], 'include_missing_properties': True, 'default_type_to_object': True, 'internally_dereference_refs': False, 'bravado': BravadoConfig(also_return_response=False, disable_fallback_results=False, response_metadata_class=<class 'bravado.response.BravadoResponseMetadata'>)}\n"
     ]
    }
   ],
   "source": [
    "print(auth_client.swagger_spec.config)"
   ]
  },
  {
   "cell_type": "code",
   "execution_count": 24,
   "metadata": {},
   "outputs": [
    {
     "data": {
      "text/plain": [
       "['Authenticate']"
      ]
     },
     "execution_count": 24,
     "metadata": {},
     "output_type": "execute_result"
    }
   ],
   "source": [
    "dir(auth_client)"
   ]
  },
  {
   "cell_type": "code",
   "execution_count": 25,
   "metadata": {},
   "outputs": [],
   "source": [
    "auth_client.Authenticate.POST_auth?"
   ]
  },
  {
   "cell_type": "code",
   "execution_count": 36,
   "metadata": {},
   "outputs": [
    {
     "name": "stdout",
     "output_type": "stream",
     "text": [
      "{\"username\": \"eric.harris@oracle.com\", \"password\": \"V@nadium123!\"}\n"
     ]
    }
   ],
   "source": [
    "body = f'{{\"username\": \"{opc_username}\", \"password\": \"{opc_password}\"}}'\n",
    "print(body)"
   ]
  },
  {
   "cell_type": "code",
   "execution_count": 43,
   "metadata": {},
   "outputs": [],
   "source": [
    "auth_http_future = auth_client.Authenticate.POST_auth(Body=dict(username=\"eric.harris@oracle.com\", password=\"V@nadium123!\"))"
   ]
  },
  {
   "cell_type": "code",
   "execution_count": 46,
   "metadata": {},
   "outputs": [
    {
     "data": {
      "text/plain": [
       "'https://compute.uscom-central-1.oraclecloud.com/api/auth'"
      ]
     },
     "execution_count": 46,
     "metadata": {},
     "output_type": "execute_result"
    }
   ],
   "source": [
    "auth_http_future.future.request.url"
   ]
  },
  {
   "cell_type": "code",
   "execution_count": 44,
   "metadata": {},
   "outputs": [
    {
     "ename": "HTTPForbidden",
     "evalue": "403 Forbidden: <!DOCTYPE HTML PUBLIC \"-//IETF//DTD HTML 2.0//EN\">\n<html><head>\n<title>403 Forbidden</title>\n</head><body>\n<h1>Forbidden</h1>\n<p>You don't have permission to access /api/auth\non this server.</p>\n</body></html>\n",
     "output_type": "error",
     "traceback": [
      "\u001b[1;31m---------------------------------------------------------------------------\u001b[0m",
      "\u001b[1;31mHTTPForbidden\u001b[0m                             Traceback (most recent call last)",
      "\u001b[1;32m<ipython-input-44-ef6ccb83f1dd>\u001b[0m in \u001b[0;36m<module>\u001b[1;34m()\u001b[0m\n\u001b[1;32m----> 1\u001b[1;33m \u001b[0mauth_response\u001b[0m \u001b[1;33m=\u001b[0m \u001b[0mauth_http_future\u001b[0m\u001b[1;33m.\u001b[0m\u001b[0mresponse\u001b[0m\u001b[1;33m(\u001b[0m\u001b[1;33m)\u001b[0m\u001b[1;33m\u001b[0m\u001b[0m\n\u001b[0m",
      "\u001b[1;32mC:\\tools\\python_3.6\\lib\\site-packages\\bravado\\http_future.py\u001b[0m in \u001b[0;36mresponse\u001b[1;34m(self, timeout, fallback_result, exceptions_to_catch)\u001b[0m\n\u001b[0;32m    152\u001b[0m             \u001b[0mrequest_end_time\u001b[0m \u001b[1;33m=\u001b[0m \u001b[0mmonotonic\u001b[0m\u001b[1;33m.\u001b[0m\u001b[0mmonotonic\u001b[0m\u001b[1;33m(\u001b[0m\u001b[1;33m)\u001b[0m\u001b[1;33m\u001b[0m\u001b[0m\n\u001b[0;32m    153\u001b[0m \u001b[1;33m\u001b[0m\u001b[0m\n\u001b[1;32m--> 154\u001b[1;33m             \u001b[0mswagger_result\u001b[0m \u001b[1;33m=\u001b[0m \u001b[0mself\u001b[0m\u001b[1;33m.\u001b[0m\u001b[0m_get_swagger_result\u001b[0m\u001b[1;33m(\u001b[0m\u001b[0mincoming_response\u001b[0m\u001b[1;33m)\u001b[0m\u001b[1;33m\u001b[0m\u001b[0m\n\u001b[0m\u001b[0;32m    155\u001b[0m \u001b[1;33m\u001b[0m\u001b[0m\n\u001b[0;32m    156\u001b[0m             \u001b[1;32mif\u001b[0m \u001b[0mself\u001b[0m\u001b[1;33m.\u001b[0m\u001b[0moperation\u001b[0m \u001b[1;32mis\u001b[0m \u001b[1;32mNone\u001b[0m \u001b[1;32mand\u001b[0m \u001b[0mincoming_response\u001b[0m\u001b[1;33m.\u001b[0m\u001b[0mstatus_code\u001b[0m \u001b[1;33m>=\u001b[0m \u001b[1;36m300\u001b[0m\u001b[1;33m:\u001b[0m\u001b[1;33m\u001b[0m\u001b[0m\n",
      "\u001b[1;32mC:\\tools\\python_3.6\\lib\\site-packages\\bravado\\http_future.py\u001b[0m in \u001b[0;36m_get_swagger_result\u001b[1;34m(self, incoming_response)\u001b[0m\n\u001b[0;32m    235\u001b[0m                 \u001b[0mincoming_response\u001b[0m\u001b[1;33m,\u001b[0m\u001b[1;33m\u001b[0m\u001b[0m\n\u001b[0;32m    236\u001b[0m                 \u001b[0mself\u001b[0m\u001b[1;33m.\u001b[0m\u001b[0moperation\u001b[0m\u001b[1;33m,\u001b[0m\u001b[1;33m\u001b[0m\u001b[0m\n\u001b[1;32m--> 237\u001b[1;33m                 \u001b[0mself\u001b[0m\u001b[1;33m.\u001b[0m\u001b[0mrequest_config\u001b[0m\u001b[1;33m.\u001b[0m\u001b[0mresponse_callbacks\u001b[0m\u001b[1;33m,\u001b[0m\u001b[1;33m\u001b[0m\u001b[0m\n\u001b[0m\u001b[0;32m    238\u001b[0m             )\n\u001b[0;32m    239\u001b[0m             \u001b[0mswagger_result\u001b[0m \u001b[1;33m=\u001b[0m \u001b[0mincoming_response\u001b[0m\u001b[1;33m.\u001b[0m\u001b[0mswagger_result\u001b[0m\u001b[1;33m\u001b[0m\u001b[0m\n",
      "\u001b[1;32mC:\\tools\\python_3.6\\lib\\site-packages\\bravado\\http_future.py\u001b[0m in \u001b[0;36munmarshal_response\u001b[1;34m(incoming_response, operation, response_callbacks)\u001b[0m\n\u001b[0;32m    280\u001b[0m             \u001b[0mresponse_callback\u001b[0m\u001b[1;33m(\u001b[0m\u001b[0mincoming_response\u001b[0m\u001b[1;33m,\u001b[0m \u001b[0moperation\u001b[0m\u001b[1;33m)\u001b[0m\u001b[1;33m\u001b[0m\u001b[0m\n\u001b[0;32m    281\u001b[0m \u001b[1;33m\u001b[0m\u001b[0m\n\u001b[1;32m--> 282\u001b[1;33m     \u001b[0mraise_on_expected\u001b[0m\u001b[1;33m(\u001b[0m\u001b[0mincoming_response\u001b[0m\u001b[1;33m)\u001b[0m\u001b[1;33m\u001b[0m\u001b[0m\n\u001b[0m\u001b[0;32m    283\u001b[0m \u001b[1;33m\u001b[0m\u001b[0m\n\u001b[0;32m    284\u001b[0m \u001b[1;33m\u001b[0m\u001b[0m\n",
      "\u001b[1;32mC:\\tools\\python_3.6\\lib\\site-packages\\bravado\\http_future.py\u001b[0m in \u001b[0;36mraise_on_expected\u001b[1;34m(http_response)\u001b[0m\n\u001b[0;32m    340\u001b[0m         raise make_http_exception(\n\u001b[0;32m    341\u001b[0m             \u001b[0mresponse\u001b[0m\u001b[1;33m=\u001b[0m\u001b[0mhttp_response\u001b[0m\u001b[1;33m,\u001b[0m\u001b[1;33m\u001b[0m\u001b[0m\n\u001b[1;32m--> 342\u001b[1;33m             swagger_result=http_response.swagger_result)\n\u001b[0m",
      "\u001b[1;31mHTTPForbidden\u001b[0m: 403 Forbidden: <!DOCTYPE HTML PUBLIC \"-//IETF//DTD HTML 2.0//EN\">\n<html><head>\n<title>403 Forbidden</title>\n</head><body>\n<h1>Forbidden</h1>\n<p>You don't have permission to access /api/auth\non this server.</p>\n</body></html>\n"
     ]
    }
   ],
   "source": [
    "auth_response = auth_http_future.response()"
   ]
  },
  {
   "cell_type": "code",
   "execution_count": null,
   "metadata": {},
   "outputs": [],
   "source": [
    "secrule_client = SwaggerClient.from_spec(spec_dict=spec_dict, origin_url=rest_endpoint, http_client=http_client, config=config)"
   ]
  },
  {
   "cell_type": "code",
   "execution_count": null,
   "metadata": {},
   "outputs": [],
   "source": [
    "print(f\"user_defined_formats=[{client.swagger_spec.user_defined_formats}]\")\n",
    "print(client.swagger_spec.origin_url)\n",
    "print(client.swagger_spec.api_url)\n",
    "print(f\"bravado_config=[{client.swagger_spec.config['bravado']}]\")\n",
    "print(f\"schemes=[{client.swagger_spec.client_spec_dict['schemes']}]\")\n",
    "\n"
   ]
  },
  {
   "cell_type": "code",
   "execution_count": null,
   "metadata": {},
   "outputs": [],
   "source": [
    "print(client.swagger_spec.config)"
   ]
  },
  {
   "cell_type": "code",
   "execution_count": null,
   "metadata": {},
   "outputs": [],
   "source": [
    "dir(client.SecRules)"
   ]
  },
  {
   "cell_type": "code",
   "execution_count": null,
   "metadata": {},
   "outputs": [],
   "source": [
    "config.keys()"
   ]
  },
  {
   "cell_type": "markdown",
   "metadata": {},
   "source": [
    "```\n",
    "service_operations = <bravado.client.ResourceDecorator object at 0x000001969CDF3BE0>\n",
    "service_operation_name = 'getSecRule'\n",
    "service_operation = getattr(service_operations, service_operation_name)\n",
    "operation_headers={'Accept': 'application/oracle-compute-v3+json', 'Content-Type': 'application/oracle-compute-v3+json'}\n",
    "partial_service_operation = partial(service_operation, _request_options={\"headers\": operation_headers})\n",
    "p = functools.partial(<bravado.client.CallableOperation object at 0x000001969CDDAB00>, _request_options={'headers': {'Accept': 'application/oracle-compute-v3+json', 'Content-Type': 'application/oracle-compute-v3+json'}})\n",
    "\n",
    "```\n"
   ]
  },
  {
   "cell_type": "markdown",
   "metadata": {},
   "source": [
    "```\n",
    "self.idm_root_container_name\n",
    "Out[2]: 'Compute-587626604'\n",
    "http_future = self.bravado_service_operations.listSecRule(container=self.idm_root_container_name)\n",
    "\n",
    "\n",
    "\n",
    "\n",
    "self.idm_root_container_name\n",
    "Out[2]: 'Compute-587626604'\n",
    "request_url\n",
    "Out[3]: 'https://compute.uscom-central-1.oraclecloud.com/secrule/Compute-587626604/'\n",
    "\n",
    "\n",
    "```"
   ]
  },
  {
   "cell_type": "code",
   "execution_count": null,
   "metadata": {},
   "outputs": [],
   "source": [
    "client.SecRules.listSecRule?"
   ]
  },
  {
   "cell_type": "code",
   "execution_count": null,
   "metadata": {},
   "outputs": [],
   "source": [
    "http_future = client.SecRules.listSecRule(container='Compute-587626604', _request_options={'headers': {'Accept': 'application/oracle-compute-v3+json', 'Content-Type': 'application/oracle-compute-v3+json'}})"
   ]
  },
  {
   "cell_type": "code",
   "execution_count": null,
   "metadata": {},
   "outputs": [],
   "source": [
    "request_url = http_future.future.request.url\n",
    "print(request_url)"
   ]
  },
  {
   "cell_type": "code",
   "execution_count": null,
   "metadata": {},
   "outputs": [],
   "source": [
    "service_response = http_future.response()"
   ]
  },
  {
   "cell_type": "code",
   "execution_count": null,
   "metadata": {},
   "outputs": [],
   "source": [
    "http_client.authenticator"
   ]
  },
  {
   "cell_type": "code",
   "execution_count": null,
   "metadata": {},
   "outputs": [],
   "source": []
  }
 ],
 "metadata": {
  "kernelspec": {
   "display_name": "Python 3",
   "language": "python",
   "name": "python3"
  },
  "language_info": {
   "codemirror_mode": {
    "name": "ipython",
    "version": 3
   },
   "file_extension": ".py",
   "mimetype": "text/x-python",
   "name": "python",
   "nbconvert_exporter": "python",
   "pygments_lexer": "ipython3",
   "version": "3.6.6"
  }
 },
 "nbformat": 4,
 "nbformat_minor": 2
}
