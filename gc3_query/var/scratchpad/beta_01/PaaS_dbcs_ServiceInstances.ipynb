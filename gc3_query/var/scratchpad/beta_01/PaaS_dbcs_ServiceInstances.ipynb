{
 "cells": [
  {
   "cell_type": "markdown",
   "metadata": {},
   "source": [
    "## Oracle Cloud Instance POC\n"
   ]
  },
  {
   "cell_type": "markdown",
   "metadata": {},
   "source": [
    "[https://porter.io/github.com/Yelp/bravado]\n",
    "\n",
    "## Example with Basic Authentication\n",
    "\n",
    "\n",
    "```\n",
    "from bravado.requests_client import RequestsClient\n",
    "from bravado.client import SwaggerClient\n",
    "\n",
    "http_client = RequestsClient()\n",
    "http_client.set_basic_auth(\n",
    "    'api.yourhost.com',\n",
    "    'username', 'password'\n",
    ")\n",
    "client = SwaggerClient.from_url(\n",
    "    'http://petstore.swagger.io/v2/swagger.json',\n",
    "    http_client=http_client,\n",
    ")\n",
    "pet = client.pet.getPetById(petId=42).response().result\n",
    "\n",
    "```\n",
    "\n",
    "## IaaS Compute Authentication\n",
    "\n",
    "API calls to Compute Classic require basic authentication (user name and password). **You can pass your username and password with every API call or you can pass a valid authentication token**. To get a valid authentication token, send an HTTP request to authenticate the user credentials. If the authentication request succeeds, the server returns a cookie containing an authentication token that is valid for 30 minutes. The client making the API calls must include this cookie in the API calls.\n",
    "\n",
    "To request for an authentication token and store the authentication token in an environment variable:\n"
   ]
  },
  {
   "cell_type": "code",
   "execution_count": 1,
   "metadata": {},
   "outputs": [],
   "source": [
    "import json"
   ]
  },
  {
   "cell_type": "code",
   "execution_count": 2,
   "metadata": {},
   "outputs": [],
   "source": [
    "from bravado_core.formatter import SwaggerFormat  # noqa\n",
    "from bravado_core.param import marshal_param\n",
    "from bravado_core.spec import Spec"
   ]
  },
  {
   "cell_type": "code",
   "execution_count": 3,
   "metadata": {},
   "outputs": [],
   "source": [
    "from bravado.requests_client import RequestsClient\n",
    "from bravado.client import SwaggerClient\n",
    "from bravado.swagger_model import load_file\n",
    "\n",
    "\n"
   ]
  },
  {
   "cell_type": "code",
   "execution_count": 4,
   "metadata": {},
   "outputs": [
    {
     "name": "stdout",
     "output_type": "stream",
     "text": [
      "opc_username=eric.harris@oracle.com, opc_password=V@nadium123!\n"
     ]
    }
   ],
   "source": [
    "# from secrets import opc_username, opc_password\n",
    "import keyring\n",
    "\n",
    "opc_username = \"eric.harris@oracle.com\"\n",
    "opc_password = keyring.get_password(service_name=\"gc3@gc30003\", username=\"eric.harris@oracle.com\")\n",
    "print(f\"opc_username={opc_username}, opc_password={opc_password}\")\n",
    "rest_endpoint = \"https://dbaas.oraclecloud.com/\""
   ]
  },
  {
   "cell_type": "code",
   "execution_count": 5,
   "metadata": {},
   "outputs": [],
   "source": [
    "################################################################################\n",
    "## Standard Library Imports\n",
    "import sys, os\n",
    "from decimal import Decimal\n",
    "import re\n",
    "\n",
    "################################################################################\n",
    "## Third-Party Imports\n",
    "import dateutil\n",
    "import pytz\n",
    "# from bson.int64 import long\n",
    "from dataclasses import dataclass, field\n",
    "from bravado_core.formatter import SwaggerFormat\n",
    "from bravado_core.exception import SwaggerValidationError\n",
    "\n",
    "################################################################################\n",
    "## Project Imports\n",
    "from numpy import long\n",
    "\n",
    "from gc3_query.lib import *\n",
    "from gc3_query.lib.gc3logging import get_logging\n",
    "_debug, _info, _warning, _error, _critical = get_logging(name=__name__)"
   ]
  },
  {
   "cell_type": "code",
   "execution_count": 6,
   "metadata": {},
   "outputs": [],
   "source": [
    "\n",
    "formats = []\n",
    "\n",
    "\n",
    "def NO_OP(x):\n",
    "    return x\n",
    "\n",
    "\n",
    "\n",
    "\n",
    "DEFAULT_FORMATS = {\n",
    "    'byte': SwaggerFormat(\n",
    "        format='byte',\n",
    "        to_wire=lambda b: b if isinstance(b, str) else str(b),\n",
    "        to_python=lambda s: s if isinstance(s, str) else str(s),\n",
    "        validate=NO_OP,  # jsonschema validates string\n",
    "        description='Converts [wire]string:byte <=> python byte'),\n",
    "    'date': SwaggerFormat(\n",
    "        format='date',\n",
    "        to_wire=lambda d: d.isoformat(),\n",
    "        to_python=lambda d: dateutil.parser.parse(d).date(),\n",
    "        validate=NO_OP,  # jsonschema validates date\n",
    "        description='Converts [wire]string:date <=> python datetime.date'),\n",
    "    # Python has no double. float is C's double in CPython\n",
    "    'double': SwaggerFormat(\n",
    "        format='double',\n",
    "        to_wire=lambda d: d if isinstance(d, float) else float(d),\n",
    "        to_python=lambda d: d if isinstance(d, float) else float(d),\n",
    "        validate=NO_OP,  # jsonschema validates number\n",
    "        description='Converts [wire]number:double <=> python float'),\n",
    "    'date-time': SwaggerFormat(\n",
    "        format='date-time',\n",
    "        to_wire=lambda dt: (dt if dt.tzinfo else pytz.utc.localize(dt)).isoformat(),\n",
    "        to_python=lambda dt: dateutil.parser.parse(dt),\n",
    "        validate=NO_OP,  # jsonschema validates date-time\n",
    "        description=(\n",
    "            'Converts string:date-time <=> python datetime.datetime')),\n",
    "    'float': SwaggerFormat(\n",
    "        format='float',\n",
    "        to_wire=lambda f: f if isinstance(f, float) else float(f),\n",
    "        to_python=lambda f: f if isinstance(f, float) else float(f),\n",
    "        validate=NO_OP,  # jsonschema validates number\n",
    "        description='Converts [wire]number:float <=> python float'),\n",
    "    'int32': SwaggerFormat(\n",
    "        format='int32',\n",
    "        to_wire=lambda i: i if isinstance(i, int) else int(i),\n",
    "        to_python=lambda i: i if isinstance(i, int) else int(i),\n",
    "        validate=NO_OP,  # jsonschema validates integer\n",
    "        description='Converts [wire]integer:int32 <=> python int'),\n",
    "    'int64': SwaggerFormat(\n",
    "        format='int64',\n",
    "        to_wire=lambda i: i if isinstance(i, long) else long(i),\n",
    "        to_python=lambda i: i if isinstance(i, long) else long(i),\n",
    "        validate=NO_OP,  # jsonschema validates integer\n",
    "        description='Converts [wire]integer:int64 <=> python long'),\n",
    "}\n",
    "\n"
   ]
  },
  {
   "cell_type": "code",
   "execution_count": 7,
   "metadata": {},
   "outputs": [],
   "source": [
    "class BooleanString:\n",
    "    str_to_bool: Dict[str, bool] = dict(true=True, false=False)\n",
    "\n",
    "    def __init__(self, from_wire: str):\n",
    "        self.from_wire= from_wire\n",
    "        self._as_boolean = self.str_to_bool[from_wire.lower()]\n",
    "        _debug(f'created')\n",
    "        # if self.validate(boolish):\n",
    "        #     self.as_boolean = self.boolean_string_values[boolish]\n",
    "        # if self.boolish_literal != self.boolish:\n",
    "        #     _warning(f\"case sensitive data passed, self.boolish_literal={self.boolish_literal}\")\n",
    "\n",
    "    @classmethod\n",
    "    def validate(cls, from_wire: str) -> bool:\n",
    "        _debug(f\"from_wire={from_wire}\")\n",
    "        try:\n",
    "            as_boolean = cls.str_to_bool[from_wire.lower()]\n",
    "        except KeyError:\n",
    "            raise SwaggerValidationError(f\"Value={from_wire} not recognized as BooleanString\")\n",
    "        return isinstance(as_boolean, bool)\n",
    "\n",
    "    def __bool__(self):\n",
    "        return self.as_boolean\n",
    "\n",
    "    @property\n",
    "    def as_boolean(self):\n",
    "        as_boolean = self.str_to_bool[self.from_wire.lower()]\n",
    "        return as_boolean\n",
    "\n",
    "    @property\n",
    "    def as_wire(self):\n",
    "        return self.from_wire\n",
    "\n",
    "    @classmethod\n",
    "    def bool_to_wire(cls, b):\n",
    "        _bool_to_wire = 'true' if b else 'false'\n",
    "        return _bool_to_wire\n",
    "\n",
    "    @classmethod\n",
    "    def str_to_python(cls, s):\n",
    "        _str_to_python = cls.str_to_bool.get(s, False)\n",
    "        return _str_to_python\n",
    "\n",
    "\n",
    "boolean_string_format = SwaggerFormat(\n",
    "    # name of the format as used in the Swagger spec\n",
    "    format='boolean_string',\n",
    "\n",
    "    # Callable to convert a python object to_wire representations\n",
    "    to_wire=lambda boolean_string_instance: boolean_string_instance.as_wire,\n",
    "\n",
    "    # Callable to convert a from_wire to a python object\n",
    "    to_python=lambda s: BooleanString(s),\n",
    "\n",
    "    # Callable to validate the cidr in string form\n",
    "    validate=BooleanString.validate,\n",
    "    description='Converts \"true\" and \"false\" to/from equivalent booleans.'\n",
    ")\n",
    "\n",
    "\n",
    "formats.append(boolean_string_format)\n",
    "\n"
   ]
  },
  {
   "cell_type": "code",
   "execution_count": 8,
   "metadata": {},
   "outputs": [],
   "source": [
    "rest_endpoint = 'https://dbaas.oraclecloud.com/'\n",
    "swagger_file = 'dbcsServiceInstances.json'\n",
    "\n",
    "config = {'validate_responses': True, \n",
    "          'validate_requests': True, \n",
    "#          'validate_swagger_spec': True, \n",
    "          'validate_swagger_spec': False, \n",
    "          'use_models': True, \n",
    "          'include_missing_properties': True,\n",
    "          'default_type_to_object': True, \n",
    "          'internally_dereference_refs': False, \n",
    "          'formats': [boolean_string_format]}\n"
   ]
  },
  {
   "cell_type": "code",
   "execution_count": 9,
   "metadata": {},
   "outputs": [
    {
     "data": {
      "text/plain": [
       "dict_keys(['swagger', 'info', 'schemes', 'paths', 'definitions'])"
      ]
     },
     "execution_count": 9,
     "metadata": {},
     "output_type": "execute_result"
    }
   ],
   "source": [
    "from melddict import MeldDict\n",
    "dbcs_spec_dict = json.loads(open(swagger_file, 'r').read())\n",
    "dbcs_spec_dict.keys()\n"
   ]
  },
  {
   "cell_type": "code",
   "execution_count": 10,
   "metadata": {},
   "outputs": [
    {
     "ename": "ValueError",
     "evalue": "Duplicate \"Request Body\" model found at \"https://dbaas.oraclecloud.com/#/definitions/create-instance\". Original \"Request Body\" model at \"https://dbaas.oraclecloud.com/#/definitions/change-role-postrequest\"",
     "output_type": "error",
     "traceback": [
      "\u001b[1;31m---------------------------------------------------------------------------\u001b[0m",
      "\u001b[1;31mValueError\u001b[0m                                Traceback (most recent call last)",
      "\u001b[1;32m<ipython-input-10-69420eaa18af>\u001b[0m in \u001b[0;36m<module>\u001b[1;34m()\u001b[0m\n\u001b[0;32m      1\u001b[0m \u001b[1;31m# Spec.from_dict(cls, spec_dict, origin_url=None, http_client=None, config=None):\u001b[0m\u001b[1;33m\u001b[0m\u001b[1;33m\u001b[0m\u001b[0m\n\u001b[1;32m----> 2\u001b[1;33m \u001b[0mdbcs_swagger_spec\u001b[0m \u001b[1;33m=\u001b[0m \u001b[0mSpec\u001b[0m\u001b[1;33m.\u001b[0m\u001b[0mfrom_dict\u001b[0m\u001b[1;33m(\u001b[0m\u001b[0mspec_dict\u001b[0m\u001b[1;33m=\u001b[0m\u001b[0mdbcs_spec_dict\u001b[0m\u001b[1;33m,\u001b[0m \u001b[0morigin_url\u001b[0m\u001b[1;33m=\u001b[0m\u001b[0mrest_endpoint\u001b[0m \u001b[1;33m,\u001b[0m \u001b[0mconfig\u001b[0m\u001b[1;33m=\u001b[0m\u001b[0mconfig\u001b[0m\u001b[1;33m)\u001b[0m\u001b[1;33m\u001b[0m\u001b[0m\n\u001b[0m",
      "\u001b[1;32mC:\\tools\\python_3.6\\lib\\site-packages\\bravado_core\\spec.py\u001b[0m in \u001b[0;36mfrom_dict\u001b[1;34m(cls, spec_dict, origin_url, http_client, config)\u001b[0m\n\u001b[0;32m    172\u001b[0m         \"\"\"\n\u001b[0;32m    173\u001b[0m         \u001b[0mspec\u001b[0m \u001b[1;33m=\u001b[0m \u001b[0mcls\u001b[0m\u001b[1;33m(\u001b[0m\u001b[0mspec_dict\u001b[0m\u001b[1;33m,\u001b[0m \u001b[0morigin_url\u001b[0m\u001b[1;33m,\u001b[0m \u001b[0mhttp_client\u001b[0m\u001b[1;33m,\u001b[0m \u001b[0mconfig\u001b[0m\u001b[1;33m)\u001b[0m\u001b[1;33m\u001b[0m\u001b[0m\n\u001b[1;32m--> 174\u001b[1;33m         \u001b[0mspec\u001b[0m\u001b[1;33m.\u001b[0m\u001b[0mbuild\u001b[0m\u001b[1;33m(\u001b[0m\u001b[1;33m)\u001b[0m\u001b[1;33m\u001b[0m\u001b[0m\n\u001b[0m\u001b[0;32m    175\u001b[0m         \u001b[1;32mreturn\u001b[0m \u001b[0mspec\u001b[0m\u001b[1;33m\u001b[0m\u001b[0m\n\u001b[0;32m    176\u001b[0m \u001b[1;33m\u001b[0m\u001b[0m\n",
      "\u001b[1;32mC:\\tools\\python_3.6\\lib\\site-packages\\bravado_core\\spec.py\u001b[0m in \u001b[0;36mbuild\u001b[1;34m(self)\u001b[0m\n\u001b[0;32m    186\u001b[0m         \u001b[0mself\u001b[0m\u001b[1;33m.\u001b[0m\u001b[0m_validate_spec\u001b[0m\u001b[1;33m(\u001b[0m\u001b[1;33m)\u001b[0m\u001b[1;33m\u001b[0m\u001b[0m\n\u001b[0;32m    187\u001b[0m \u001b[1;33m\u001b[0m\u001b[0m\n\u001b[1;32m--> 188\u001b[1;33m         \u001b[0mmodel_discovery\u001b[0m\u001b[1;33m(\u001b[0m\u001b[0mself\u001b[0m\u001b[1;33m)\u001b[0m\u001b[1;33m\u001b[0m\u001b[0m\n\u001b[0m\u001b[0;32m    189\u001b[0m \u001b[1;33m\u001b[0m\u001b[0m\n\u001b[0;32m    190\u001b[0m         \u001b[1;32mif\u001b[0m \u001b[0mself\u001b[0m\u001b[1;33m.\u001b[0m\u001b[0mconfig\u001b[0m\u001b[1;33m[\u001b[0m\u001b[1;34m'internally_dereference_refs'\u001b[0m\u001b[1;33m]\u001b[0m\u001b[1;33m:\u001b[0m\u001b[1;33m\u001b[0m\u001b[0m\n",
      "\u001b[1;32mC:\\tools\\python_3.6\\lib\\site-packages\\bravado_core\\model.py\u001b[0m in \u001b[0;36mmodel_discovery\u001b[1;34m(swagger_spec)\u001b[0m\n\u001b[0;32m    838\u001b[0m     \u001b[1;31m# deref_flattened_spec depends on flattened_spec which assumes that model\u001b[0m\u001b[1;33m\u001b[0m\u001b[1;33m\u001b[0m\u001b[0m\n\u001b[0;32m    839\u001b[0m     \u001b[1;31m# discovery is performed\u001b[0m\u001b[1;33m\u001b[0m\u001b[1;33m\u001b[0m\u001b[0m\n\u001b[1;32m--> 840\u001b[1;33m     \u001b[0m_run_post_processing\u001b[0m\u001b[1;33m(\u001b[0m\u001b[0mswagger_spec\u001b[0m\u001b[1;33m)\u001b[0m\u001b[1;33m\u001b[0m\u001b[0m\n\u001b[0m\u001b[0;32m    841\u001b[0m \u001b[1;33m\u001b[0m\u001b[0m\n\u001b[0;32m    842\u001b[0m     \u001b[1;32mif\u001b[0m \u001b[0mswagger_spec\u001b[0m\u001b[1;33m.\u001b[0m\u001b[0mconfig\u001b[0m\u001b[1;33m[\u001b[0m\u001b[1;34m'internally_dereference_refs'\u001b[0m\u001b[1;33m]\u001b[0m\u001b[1;33m:\u001b[0m\u001b[1;33m\u001b[0m\u001b[0m\n",
      "\u001b[1;32mC:\\tools\\python_3.6\\lib\\site-packages\\bravado_core\\model.py\u001b[0m in \u001b[0;36m_run_post_processing\u001b[1;34m(spec)\u001b[0m\n\u001b[0;32m    801\u001b[0m \u001b[1;33m\u001b[0m\u001b[0m\n\u001b[0;32m    802\u001b[0m     \u001b[1;31m# Post process specs to identify models\u001b[0m\u001b[1;33m\u001b[0m\u001b[1;33m\u001b[0m\u001b[0m\n\u001b[1;32m--> 803\u001b[1;33m     \u001b[0m_call_post_process_spec\u001b[0m\u001b[1;33m(\u001b[0m\u001b[0mspec\u001b[0m\u001b[1;33m.\u001b[0m\u001b[0mspec_dict\u001b[0m\u001b[1;33m)\u001b[0m\u001b[1;33m\u001b[0m\u001b[0m\n\u001b[0m\u001b[0;32m    804\u001b[0m \u001b[1;33m\u001b[0m\u001b[0m\n\u001b[0;32m    805\u001b[0m     processed_uris = {\n",
      "\u001b[1;32mC:\\tools\\python_3.6\\lib\\site-packages\\bravado_core\\model.py\u001b[0m in \u001b[0;36m_call_post_process_spec\u001b[1;34m(spec_dict)\u001b[0m\n\u001b[0;32m    795\u001b[0m                     \u001b[0m_collect_models\u001b[0m\u001b[1;33m,\u001b[0m\u001b[1;33m\u001b[0m\u001b[0m\n\u001b[0;32m    796\u001b[0m                     \u001b[0mmodels\u001b[0m\u001b[1;33m=\u001b[0m\u001b[0mspec\u001b[0m\u001b[1;33m.\u001b[0m\u001b[0mdefinitions\u001b[0m\u001b[1;33m,\u001b[0m\u001b[1;33m\u001b[0m\u001b[0m\n\u001b[1;32m--> 797\u001b[1;33m                     \u001b[0mswagger_spec\u001b[0m\u001b[1;33m=\u001b[0m\u001b[0mspec\u001b[0m\u001b[1;33m,\u001b[0m\u001b[1;33m\u001b[0m\u001b[0m\n\u001b[0m\u001b[0;32m    798\u001b[0m                 ),\n\u001b[0;32m    799\u001b[0m             ],\n",
      "\u001b[1;32mC:\\tools\\python_3.6\\lib\\site-packages\\bravado_core\\model.py\u001b[0m in \u001b[0;36m_post_process_spec\u001b[1;34m(spec_dict, spec_resolver, on_container_callbacks)\u001b[0m\n\u001b[0;32m    768\u001b[0m \u001b[1;33m\u001b[0m\u001b[0m\n\u001b[0;32m    769\u001b[0m     \u001b[1;32mtry\u001b[0m\u001b[1;33m:\u001b[0m\u001b[1;33m\u001b[0m\u001b[0m\n\u001b[1;32m--> 770\u001b[1;33m         \u001b[0mdescend\u001b[0m\u001b[1;33m(\u001b[0m\u001b[0mspec_dict\u001b[0m\u001b[1;33m)\u001b[0m\u001b[1;33m\u001b[0m\u001b[0m\n\u001b[0m\u001b[0;32m    771\u001b[0m     \u001b[1;32mfinally\u001b[0m\u001b[1;33m:\u001b[0m\u001b[1;33m\u001b[0m\u001b[0m\n\u001b[0;32m    772\u001b[0m         \u001b[0mdescend\u001b[0m\u001b[1;33m.\u001b[0m\u001b[0mcache\u001b[0m\u001b[1;33m.\u001b[0m\u001b[0mclear\u001b[0m\u001b[1;33m(\u001b[0m\u001b[1;33m)\u001b[0m\u001b[1;33m\u001b[0m\u001b[0m\n",
      "\u001b[1;32mC:\\tools\\python_3.6\\lib\\site-packages\\bravado_core\\model.py\u001b[0m in \u001b[0;36mwrapper\u001b[1;34m(fragment, json_reference)\u001b[0m\n\u001b[0;32m    738\u001b[0m             func(\n\u001b[0;32m    739\u001b[0m                 \u001b[0mfragment\u001b[0m\u001b[1;33m=\u001b[0m\u001b[0mfragment\u001b[0m\u001b[1;33m,\u001b[0m\u001b[1;33m\u001b[0m\u001b[0m\n\u001b[1;32m--> 740\u001b[1;33m                 \u001b[0mjson_reference\u001b[0m\u001b[1;33m=\u001b[0m\u001b[0mjson_reference\u001b[0m\u001b[1;33m,\u001b[0m\u001b[1;33m\u001b[0m\u001b[0m\n\u001b[0m\u001b[0;32m    741\u001b[0m             )\n\u001b[0;32m    742\u001b[0m         \u001b[1;32mreturn\u001b[0m \u001b[0mwrapper\u001b[0m\u001b[1;33m\u001b[0m\u001b[0m\n",
      "\u001b[1;32mC:\\tools\\python_3.6\\lib\\site-packages\\bravado_core\\model.py\u001b[0m in \u001b[0;36mdescend\u001b[1;34m(fragment, json_reference)\u001b[0m\n\u001b[0;32m    755\u001b[0m                 descend(\n\u001b[0;32m    756\u001b[0m                     \u001b[0mfragment\u001b[0m\u001b[1;33m=\u001b[0m\u001b[0mfragment\u001b[0m\u001b[1;33m[\u001b[0m\u001b[0mkey\u001b[0m\u001b[1;33m]\u001b[0m\u001b[1;33m,\u001b[0m\u001b[1;33m\u001b[0m\u001b[0m\n\u001b[1;32m--> 757\u001b[1;33m                     \u001b[0mjson_reference\u001b[0m\u001b[1;33m=\u001b[0m\u001b[0mjson_ref\u001b[0m\u001b[1;33m,\u001b[0m\u001b[1;33m\u001b[0m\u001b[0m\n\u001b[0m\u001b[0;32m    758\u001b[0m                 )\n\u001b[0;32m    759\u001b[0m \u001b[1;33m\u001b[0m\u001b[0m\n",
      "\u001b[1;32mC:\\tools\\python_3.6\\lib\\site-packages\\bravado_core\\model.py\u001b[0m in \u001b[0;36mwrapper\u001b[1;34m(fragment, json_reference)\u001b[0m\n\u001b[0;32m    738\u001b[0m             func(\n\u001b[0;32m    739\u001b[0m                 \u001b[0mfragment\u001b[0m\u001b[1;33m=\u001b[0m\u001b[0mfragment\u001b[0m\u001b[1;33m,\u001b[0m\u001b[1;33m\u001b[0m\u001b[0m\n\u001b[1;32m--> 740\u001b[1;33m                 \u001b[0mjson_reference\u001b[0m\u001b[1;33m=\u001b[0m\u001b[0mjson_reference\u001b[0m\u001b[1;33m,\u001b[0m\u001b[1;33m\u001b[0m\u001b[0m\n\u001b[0m\u001b[0;32m    741\u001b[0m             )\n\u001b[0;32m    742\u001b[0m         \u001b[1;32mreturn\u001b[0m \u001b[0mwrapper\u001b[0m\u001b[1;33m\u001b[0m\u001b[0m\n",
      "\u001b[1;32mC:\\tools\\python_3.6\\lib\\site-packages\\bravado_core\\model.py\u001b[0m in \u001b[0;36mdescend\u001b[1;34m(fragment, json_reference)\u001b[0m\n\u001b[0;32m    752\u001b[0m             \u001b[1;32mfor\u001b[0m \u001b[0mkey\u001b[0m\u001b[1;33m,\u001b[0m \u001b[0mvalue\u001b[0m \u001b[1;32min\u001b[0m \u001b[0msorted\u001b[0m\u001b[1;33m(\u001b[0m\u001b[0miteritems\u001b[0m\u001b[1;33m(\u001b[0m\u001b[0mfragment\u001b[0m\u001b[1;33m)\u001b[0m\u001b[1;33m)\u001b[0m\u001b[1;33m:\u001b[0m\u001b[1;33m\u001b[0m\u001b[0m\n\u001b[0;32m    753\u001b[0m                 \u001b[0mjson_ref\u001b[0m \u001b[1;33m=\u001b[0m \u001b[1;34m'{}/{}'\u001b[0m\u001b[1;33m.\u001b[0m\u001b[0mformat\u001b[0m\u001b[1;33m(\u001b[0m\u001b[0mjson_reference\u001b[0m \u001b[1;32mor\u001b[0m \u001b[1;34m''\u001b[0m\u001b[1;33m,\u001b[0m \u001b[0mkey\u001b[0m\u001b[1;33m)\u001b[0m\u001b[1;33m\u001b[0m\u001b[0m\n\u001b[1;32m--> 754\u001b[1;33m                 \u001b[0mfire_callbacks\u001b[0m\u001b[1;33m(\u001b[0m\u001b[0mfragment\u001b[0m\u001b[1;33m,\u001b[0m \u001b[0mjson_ref\u001b[0m\u001b[1;33m)\u001b[0m\u001b[1;33m\u001b[0m\u001b[0m\n\u001b[0m\u001b[0;32m    755\u001b[0m                 descend(\n\u001b[0;32m    756\u001b[0m                     \u001b[0mfragment\u001b[0m\u001b[1;33m=\u001b[0m\u001b[0mfragment\u001b[0m\u001b[1;33m[\u001b[0m\u001b[0mkey\u001b[0m\u001b[1;33m]\u001b[0m\u001b[1;33m,\u001b[0m\u001b[1;33m\u001b[0m\u001b[0m\n",
      "\u001b[1;32mC:\\tools\\python_3.6\\lib\\site-packages\\bravado_core\\model.py\u001b[0m in \u001b[0;36mfire_callbacks\u001b[1;34m(container, json_reference)\u001b[0m\n\u001b[0;32m    698\u001b[0m     \u001b[1;32mdef\u001b[0m \u001b[0mfire_callbacks\u001b[0m\u001b[1;33m(\u001b[0m\u001b[0mcontainer\u001b[0m\u001b[1;33m,\u001b[0m \u001b[0mjson_reference\u001b[0m\u001b[1;33m)\u001b[0m\u001b[1;33m:\u001b[0m\u001b[1;33m\u001b[0m\u001b[0m\n\u001b[0;32m    699\u001b[0m         \u001b[1;32mfor\u001b[0m \u001b[0mcallback\u001b[0m \u001b[1;32min\u001b[0m \u001b[0mon_container_callbacks\u001b[0m\u001b[1;33m:\u001b[0m\u001b[1;33m\u001b[0m\u001b[0m\n\u001b[1;32m--> 700\u001b[1;33m             \u001b[0mcallback\u001b[0m\u001b[1;33m(\u001b[0m\u001b[0mcontainer\u001b[0m\u001b[1;33m,\u001b[0m \u001b[0mjson_reference\u001b[0m\u001b[1;33m)\u001b[0m\u001b[1;33m\u001b[0m\u001b[0m\n\u001b[0m\u001b[0;32m    701\u001b[0m \u001b[1;33m\u001b[0m\u001b[0m\n\u001b[0;32m    702\u001b[0m     \u001b[1;32mdef\u001b[0m \u001b[0mskip_already_visited_fragments\u001b[0m\u001b[1;33m(\u001b[0m\u001b[0mfunc\u001b[0m\u001b[1;33m)\u001b[0m\u001b[1;33m:\u001b[0m\u001b[1;33m\u001b[0m\u001b[0m\n",
      "\u001b[1;32mC:\\tools\\python_3.6\\lib\\site-packages\\bravado_core\\model.py\u001b[0m in \u001b[0;36m_tag_models\u001b[1;34m(container, json_reference, visited_models, swagger_spec)\u001b[0m\n\u001b[0;32m    115\u001b[0m         \u001b[0mvisited_models\u001b[0m\u001b[1;33m=\u001b[0m\u001b[0mvisited_models\u001b[0m\u001b[1;33m,\u001b[0m\u001b[1;33m\u001b[0m\u001b[0m\n\u001b[0;32m    116\u001b[0m         \u001b[0mis_blessed\u001b[0m\u001b[1;33m=\u001b[0m\u001b[1;32mFalse\u001b[0m\u001b[1;33m,\u001b[0m\u001b[1;33m\u001b[0m\u001b[0m\n\u001b[1;32m--> 117\u001b[1;33m         \u001b[0mswagger_spec\u001b[0m\u001b[1;33m=\u001b[0m\u001b[0mswagger_spec\u001b[0m\u001b[1;33m,\u001b[0m\u001b[1;33m\u001b[0m\u001b[0m\n\u001b[0m\u001b[0;32m    118\u001b[0m     )\n\u001b[0;32m    119\u001b[0m \u001b[1;33m\u001b[0m\u001b[0m\n",
      "\u001b[1;32mC:\\tools\\python_3.6\\lib\\site-packages\\bravado_core\\model.py\u001b[0m in \u001b[0;36m_register_visited_model\u001b[1;34m(json_reference, model_spec, model_name, visited_models, is_blessed, swagger_spec)\u001b[0m\n\u001b[0;32m     63\u001b[0m             \u001b[0mswagger_spec\u001b[0m\u001b[1;33m=\u001b[0m\u001b[0mswagger_spec\u001b[0m\u001b[1;33m,\u001b[0m\u001b[1;33m\u001b[0m\u001b[0m\n\u001b[0;32m     64\u001b[0m             message='Duplicate \"{0}\" model found at \"{1}\". Original \"{0}\" model at \"{2}\"'.format(\n\u001b[1;32m---> 65\u001b[1;33m                 \u001b[0mmodel_name\u001b[0m\u001b[1;33m,\u001b[0m \u001b[0mjson_reference\u001b[0m\u001b[1;33m,\u001b[0m \u001b[0mvisited_models\u001b[0m\u001b[1;33m[\u001b[0m\u001b[0mmodel_name\u001b[0m\u001b[1;33m]\u001b[0m\u001b[1;33m,\u001b[0m\u001b[1;33m\u001b[0m\u001b[0m\n\u001b[0m\u001b[0;32m     66\u001b[0m             ),\n\u001b[0;32m     67\u001b[0m         )\n",
      "\u001b[1;32mC:\\tools\\python_3.6\\lib\\site-packages\\bravado_core\\model.py\u001b[0m in \u001b[0;36m_raise_or_warn_duplicated_model\u001b[1;34m(swagger_spec, message)\u001b[0m\n\u001b[0;32m     36\u001b[0m \u001b[1;32mdef\u001b[0m \u001b[0m_raise_or_warn_duplicated_model\u001b[0m\u001b[1;33m(\u001b[0m\u001b[0mswagger_spec\u001b[0m\u001b[1;33m,\u001b[0m \u001b[0mmessage\u001b[0m\u001b[1;33m)\u001b[0m\u001b[1;33m:\u001b[0m\u001b[1;33m\u001b[0m\u001b[0m\n\u001b[0;32m     37\u001b[0m     \u001b[1;32mif\u001b[0m \u001b[0mswagger_spec\u001b[0m\u001b[1;33m.\u001b[0m\u001b[0mconfig\u001b[0m\u001b[1;33m[\u001b[0m\u001b[1;34m'use_models'\u001b[0m\u001b[1;33m]\u001b[0m\u001b[1;33m:\u001b[0m\u001b[1;33m\u001b[0m\u001b[0m\n\u001b[1;32m---> 38\u001b[1;33m         \u001b[1;32mraise\u001b[0m \u001b[0mValueError\u001b[0m\u001b[1;33m(\u001b[0m\u001b[0mmessage\u001b[0m\u001b[1;33m)\u001b[0m\u001b[1;33m\u001b[0m\u001b[0m\n\u001b[0m\u001b[0;32m     39\u001b[0m     \u001b[1;32melse\u001b[0m\u001b[1;33m:\u001b[0m\u001b[1;33m\u001b[0m\u001b[0m\n\u001b[0;32m     40\u001b[0m         \u001b[0mlog\u001b[0m\u001b[1;33m.\u001b[0m\u001b[0mwarning\u001b[0m\u001b[1;33m(\u001b[0m\u001b[0mmessage\u001b[0m\u001b[1;33m)\u001b[0m\u001b[1;33m\u001b[0m\u001b[0m\n",
      "\u001b[1;31mValueError\u001b[0m: Duplicate \"Request Body\" model found at \"https://dbaas.oraclecloud.com/#/definitions/create-instance\". Original \"Request Body\" model at \"https://dbaas.oraclecloud.com/#/definitions/change-role-postrequest\""
     ]
    }
   ],
   "source": [
    "# Spec.from_dict(cls, spec_dict, origin_url=None, http_client=None, config=None):\n",
    "dbcs_swagger_spec = Spec.from_dict(spec_dict=dbcs_spec_dict, origin_url=rest_endpoint , config=config)"
   ]
  },
  {
   "cell_type": "code",
   "execution_count": null,
   "metadata": {},
   "outputs": [],
   "source": [
    "print(f\"user_defined_formats=[{dbcs_swagger_spec.user_defined_formats}]\")\n",
    "print(dbcs_swagger_spec.origin_url)\n",
    "print(dbcs_swagger_spec.api_url)"
   ]
  },
  {
   "cell_type": "code",
   "execution_count": null,
   "metadata": {},
   "outputs": [],
   "source": [
    "print(dbcs_swagger_spec.config)\n"
   ]
  },
  {
   "cell_type": "code",
   "execution_count": null,
   "metadata": {},
   "outputs": [],
   "source": [
    "http_client = RequestsClient()\n",
    "http_client.set_basic_auth(rest_endpoint, opc_username, opc_password)\n",
    "\n"
   ]
  },
  {
   "cell_type": "code",
   "execution_count": null,
   "metadata": {},
   "outputs": [],
   "source": []
  },
  {
   "cell_type": "code",
   "execution_count": null,
   "metadata": {},
   "outputs": [],
   "source": [
    "# SwaggerClient.from_spec(spec_dict, origin_url=None, http_client=None, config=None)"
   ]
  },
  {
   "cell_type": "code",
   "execution_count": null,
   "metadata": {},
   "outputs": [],
   "source": [
    "# client = SwaggerClient.from_url(\n",
    "#     'http://petstore.swagger.io/v2/swagger.json',\n",
    "#     http_client=http_client,\n",
    "# )\n",
    "# pet = client.pet.getPetById(petId=42).response().result\n"
   ]
  },
  {
   "cell_type": "code",
   "execution_count": null,
   "metadata": {},
   "outputs": [],
   "source": []
  },
  {
   "cell_type": "code",
   "execution_count": null,
   "metadata": {
    "scrolled": true
   },
   "outputs": [],
   "source": [
    "auth_client = SwaggerClient.from_spec(spec_dict=auth_spec_dict, origin_url=rest_endpoint, http_client=http_client, config=config)"
   ]
  },
  {
   "cell_type": "code",
   "execution_count": null,
   "metadata": {},
   "outputs": [],
   "source": [
    "print(f\"user_defined_formats=[{auth_client.swagger_spec.user_defined_formats}]\")\n",
    "print(auth_client.swagger_spec.origin_url)\n",
    "print(auth_client.swagger_spec.api_url)\n",
    "print(f\"bravado_config=[{auth_client.swagger_spec.config['bravado']}]\")\n",
    "print(f\"schemes=[{auth_client.swagger_spec.client_spec_dict['schemes']}]\")"
   ]
  },
  {
   "cell_type": "code",
   "execution_count": null,
   "metadata": {},
   "outputs": [],
   "source": [
    "print(auth_client.swagger_spec.config)"
   ]
  },
  {
   "cell_type": "code",
   "execution_count": null,
   "metadata": {},
   "outputs": [],
   "source": [
    "dir(auth_client)"
   ]
  },
  {
   "cell_type": "code",
   "execution_count": null,
   "metadata": {},
   "outputs": [],
   "source": [
    "auth_client.Authenticate.POST_auth?"
   ]
  },
  {
   "cell_type": "code",
   "execution_count": null,
   "metadata": {},
   "outputs": [],
   "source": [
    "body = f'{{\"username\": \"{opc_username}\", \"password\": \"{opc_password}\"}}'\n",
    "print(body)"
   ]
  },
  {
   "cell_type": "code",
   "execution_count": null,
   "metadata": {},
   "outputs": [],
   "source": [
    "auth_http_future = auth_client.Authenticate.POST_auth(Body=dict(username=\"eric.harris@oracle.com\", password=\"V@nadium123!\"))"
   ]
  },
  {
   "cell_type": "code",
   "execution_count": null,
   "metadata": {},
   "outputs": [],
   "source": [
    "auth_http_future.future.request.url"
   ]
  },
  {
   "cell_type": "code",
   "execution_count": null,
   "metadata": {},
   "outputs": [],
   "source": [
    "auth_response = auth_http_future.response()"
   ]
  },
  {
   "cell_type": "code",
   "execution_count": null,
   "metadata": {},
   "outputs": [],
   "source": [
    "secrule_client = SwaggerClient.from_spec(spec_dict=spec_dict, origin_url=rest_endpoint, http_client=http_client, config=config)"
   ]
  },
  {
   "cell_type": "code",
   "execution_count": null,
   "metadata": {},
   "outputs": [],
   "source": [
    "print(f\"user_defined_formats=[{client.swagger_spec.user_defined_formats}]\")\n",
    "print(client.swagger_spec.origin_url)\n",
    "print(client.swagger_spec.api_url)\n",
    "print(f\"bravado_config=[{client.swagger_spec.config['bravado']}]\")\n",
    "print(f\"schemes=[{client.swagger_spec.client_spec_dict['schemes']}]\")\n",
    "\n"
   ]
  },
  {
   "cell_type": "code",
   "execution_count": null,
   "metadata": {},
   "outputs": [],
   "source": [
    "print(client.swagger_spec.config)"
   ]
  },
  {
   "cell_type": "code",
   "execution_count": null,
   "metadata": {},
   "outputs": [],
   "source": [
    "dir(client.SecRules)"
   ]
  },
  {
   "cell_type": "code",
   "execution_count": null,
   "metadata": {},
   "outputs": [],
   "source": [
    "config.keys()"
   ]
  },
  {
   "cell_type": "markdown",
   "metadata": {},
   "source": [
    "```\n",
    "service_operations = <bravado.client.ResourceDecorator object at 0x000001969CDF3BE0>\n",
    "service_operation_name = 'getSecRule'\n",
    "service_operation = getattr(service_operations, service_operation_name)\n",
    "operation_headers={'Accept': 'application/oracle-compute-v3+json', 'Content-Type': 'application/oracle-compute-v3+json'}\n",
    "partial_service_operation = partial(service_operation, _request_options={\"headers\": operation_headers})\n",
    "p = functools.partial(<bravado.client.CallableOperation object at 0x000001969CDDAB00>, _request_options={'headers': {'Accept': 'application/oracle-compute-v3+json', 'Content-Type': 'application/oracle-compute-v3+json'}})\n",
    "\n",
    "```\n"
   ]
  },
  {
   "cell_type": "markdown",
   "metadata": {},
   "source": [
    "```\n",
    "self.idm_root_container_name\n",
    "Out[2]: 'Compute-587626604'\n",
    "http_future = self.bravado_service_operations.listSecRule(container=self.idm_root_container_name)\n",
    "\n",
    "\n",
    "\n",
    "\n",
    "self.idm_root_container_name\n",
    "Out[2]: 'Compute-587626604'\n",
    "request_url\n",
    "Out[3]: 'https://compute.uscom-central-1.oraclecloud.com/secrule/Compute-587626604/'\n",
    "\n",
    "\n",
    "```"
   ]
  },
  {
   "cell_type": "code",
   "execution_count": null,
   "metadata": {},
   "outputs": [],
   "source": [
    "client.SecRules.listSecRule?"
   ]
  },
  {
   "cell_type": "code",
   "execution_count": null,
   "metadata": {},
   "outputs": [],
   "source": [
    "http_future = client.SecRules.listSecRule(container='Compute-587626604', _request_options={'headers': {'Accept': 'application/oracle-compute-v3+json', 'Content-Type': 'application/oracle-compute-v3+json'}})"
   ]
  },
  {
   "cell_type": "code",
   "execution_count": null,
   "metadata": {},
   "outputs": [],
   "source": [
    "request_url = http_future.future.request.url\n",
    "print(request_url)"
   ]
  },
  {
   "cell_type": "code",
   "execution_count": null,
   "metadata": {},
   "outputs": [],
   "source": [
    "service_response = http_future.response()"
   ]
  },
  {
   "cell_type": "code",
   "execution_count": null,
   "metadata": {},
   "outputs": [],
   "source": [
    "http_client.authenticator"
   ]
  },
  {
   "cell_type": "code",
   "execution_count": null,
   "metadata": {},
   "outputs": [],
   "source": []
  }
 ],
 "metadata": {
  "kernelspec": {
   "display_name": "Python 3",
   "language": "python",
   "name": "python3"
  },
  "language_info": {
   "codemirror_mode": {
    "name": "ipython",
    "version": 3
   },
   "file_extension": ".py",
   "mimetype": "text/x-python",
   "name": "python",
   "nbconvert_exporter": "python",
   "pygments_lexer": "ipython3",
   "version": "3.6.6"
  }
 },
 "nbformat": 4,
 "nbformat_minor": 2
}
