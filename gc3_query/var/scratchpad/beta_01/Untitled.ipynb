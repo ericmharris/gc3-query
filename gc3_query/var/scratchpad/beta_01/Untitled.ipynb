{
 "cells": [
  {
   "cell_type": "code",
   "execution_count": 2,
   "metadata": {},
   "outputs": [],
   "source": [
    "import json"
   ]
  },
  {
   "cell_type": "code",
   "execution_count": 4,
   "metadata": {},
   "outputs": [],
   "source": [
    "s = '{\"result\": [{\"domain\": \"compute-587626604.oraclecloud.internal.\", \"placement_requirements\": [\"/system/compute/placement/default\", \"/oracle/compute/dedicated/fcbaed9f-242b-42ce-ac77-dd727f9710eb\", \"/system/compute/allow_instances\"], \"ip\": \"10.19.6.118\", \"fingerprint\": \"5c:80:b0:fb:bc:c5:bb:13:7c:a5:92:1b:53:96:b2:cc\", \"image_metadata_bag\": \"/oracle/machineimage_metadata/40fd26b4106b48e989a2ca1b1f90e923\", \"site\": \"\", \"shape\": \"oc4\", \"imagelist\": null, \"image_format\": \"raw\", \"relationships\": [], \"availability_domain\": \"/uscom-central-1a\", \"networking\": {\"eth0\": {\"model\": \"\", \"seclists\": [\"/Compute-587626604/eric.harris@oracle.com/gc3_naac_soar_seclist_01\"], \"dns\": [\"gc3-naac-soar-ebs1226-demo-01.compute-587626604.oraclecloud.internal.\"], \"vethernet\": \"/oracle/public/default\", \"nat\": \"ipreservation:/Compute-587626604/eric.harris@oracle.com/gc3_naac_soar_ip02\"}}, \"storage_attachments\": [{\"index\": 1, \"storage_volume_name\": \"/Compute-587626604/eric.harris@oracle.com/gc3_naac_soar_ebs1226_demo_01_storage\", \"name\": \"/Compute-587626604/eric.harris@oracle.com/gc3_naac_soar_ebs1226_demo_01/8706cea9-6f49-428f-b354-a3748478d1c2/5b499dc8-2b5f-4f7f-9779-c0c52a6059cd\"}], \"hostname\": \"gc3-naac-soar-ebs1226-demo-01.compute-587626604.oraclecloud.internal.\", \"quota_reservation\": null, \"disk_attach\": \"\", \"label\": \"OPC_OL6_8_EBS_1226_VISION_SINGLE_20180615175635\", \"priority\": \"/oracle/public/default\", \"platform\": \"linux\", \"state\": \"running\", \"virtio\": null, \"vnc\": \"10.19.6.117:5900\", \"desired_state\": \"running\", \"tags\": [\"naac\", \"soar\", \"EBS\", \"EBS 12.2.6\"], \"start_time\": \"2018-06-16T01:00:17Z\", \"quota\": \"/Compute-587626604\", \"entry\": null, \"error_reason\": \"\", \"sshkeys\": [\"/Compute-587626604/eric.harris@oracle.com/gc3_naac_soar\", \"/Compute-587626604/eric.harris@oracle.com/eric_harris-cloud-01\"], \"resolvers\": null, \"account\": \"/Compute-587626604/default\", \"name\": \"/Compute-587626604/eric.harris@oracle.com/gc3_naac_soar_ebs1226_demo_01/8706cea9-6f49-428f-b354-a3748478d1c2\", \"vcable_id\": \"/Compute-587626604/eric.harris@oracle.com/48e894f3-2984-4089-99b2-237da9775e9f\", \"hypervisor\": {\"mode\": \"hvm\"}, \"uri\": \"https://compute.uscom-central-1.oraclecloud.com/instance/Compute-587626604/eric.harris%40oracle.com/gc3_naac_soar_ebs1226_demo_01/8706cea9-6f49-428f-b354-a3748478d1c2\", \"reverse_dns\": true, \"attributes\": {\"sshkeys\": [\"ssh-rsa AAAAB3NzaC1yc2EAAAADAQABAAABAQDkl16+TS1DB5jFwxr8tRMfztjLCHK2+wpfqy2eKeUzDJx8oGlasmBTAdwPX9cH3bfPRLJzru6SG2fJWsow4sU0d2clcwLRtqVdFMAdA3MSpIqayQMQJJ7NE5omkucF0pf0RG2p5cT3mBZDw/9IrSKnIAzaescUi72QOtcVSVgOiBcvJeQVn75GFQ0+JVKnVooh4pL2xDwTUj4EeSn5aLSA4ycqpBqvFFzrGsfDjDn55HiL0Dwwo9uM6VasAPHatqVIRA4EXGMu+QU6iw0m75e5n5CzEoL5ut4D2Og6MqrAVHTmtwf3WhPlDIzLu5OZbILydPq3/u58g6IVUHeB/wBd\", \"ssh-rsa AAAAB3NzaC1yc2EAAAADAQABAAACAQDMvQhtNg2BmrGoKZVtChz6TFyy53KuB09L5SsmnbQxzM6C0PNfH1TwsG7p/emWOhc6jB2KFxdkuM/Q4BD9PreuFPN37FU5D1cIWKB8yPub3kTVJf1g5PkF1HsoG5vjf3tbUdB6I+pclMiV8tXPXBWA64wtfXc9g6dZSNvg4JDYh8J5eOul5Jct4QK9juA9pZNI7fOeYcT2z4PdmwYDkj517Ei47wX2xSM6++wM2+AkOPP2f6EZYaOQdex68in3R1g5T0rBfqPF1+7KRdPaP5c+s/ASqeFmitf7+/BQZa+9Em/F6EOoDwWbhAAFzJBidjzwWv+E+fsEbUjrWrBFB5Bkd3j2s3ojfTxDoLo+GzGrZtxuL4CcwWVTe98gRvRj7vRwTX8JIJfvKiJCkDPUZlW0Kxwysn6wZVXWLHnjf7c4NcMXJc5mdihtGTxGyZDyR4NLyoLGatN5ZAdYpiztkYxqxyWRrLT8DANZeWi0w+EdE0JAuvVyyBajV+FczHkViGY0xVm4SjcfFDz8KrByaEn/3ioZd6tK6ahFy/aT+N+cqu0xeFjPDOyxfQ7qtufbq/yJ0XktISBumVvBMOv7MbDXiUmqHlqP2pbw6V1XXqSIw6/Jsi4/9NeRPSjLbNvem3RFzAbxXIOiNlQKl+e03jCkDZ3pNFQ81RQhgegmhOtQqw==\"], \"oracle_metadata\": {\"v1\": {\"object\": \"/Compute-587626604/eric.harris@oracle.com/gc3_naac_soar_ebs1226_demo_01/instance\", \"orchestration\": \"/Compute-587626604/eric.harris@oracle.com/gc3_naac_soar_ebs1226_demo_01\"}}, \"network\": {\"nimbula_vcable-eth0\": {\"vethernet_id\": \"0\", \"vethernet\": \"/oracle/public/default\", \"address\": [\"c6:b0:24:5b:b3:4a\", \"10.19.6.118\"], \"model\": \"\", \"vethernet_type\": \"vlan\", \"id\": \"/Compute-587626604/eric.harris@oracle.com/48e894f3-2984-4089-99b2-237da9775e9f\", \"dhcp_options\": []}}, \"dns\": {\"domain\": \"compute-587626604.oraclecloud.internal.\", \"hostname\": \"gc3-naac-soar-ebs1226-demo-01.compute-587626604.oraclecloud.internal.\", \"nimbula_vcable-eth0\": \"gc3-naac-soar-ebs1226-demo-01.compute-587626604.oraclecloud.internal.\"}, \"nimbula_orchestration\": \"/Compute-587626604/eric.harris@oracle.com/gc3_naac_soar_ebs1226_demo_01\"}, \"boot_order\": [1]}]}'"
   ]
  },
  {
   "cell_type": "code",
   "execution_count": 6,
   "metadata": {},
   "outputs": [],
   "source": [
    "d = json.loads(s)"
   ]
  },
  {
   "cell_type": "code",
   "execution_count": 7,
   "metadata": {},
   "outputs": [],
   "source": [
    "j =  json.dumps(d, indent=4, sort_keys=True)"
   ]
  },
  {
   "cell_type": "code",
   "execution_count": 9,
   "metadata": {},
   "outputs": [
    {
     "name": "stdout",
     "output_type": "stream",
     "text": [
      "{\n",
      "    \"result\": [\n",
      "        {\n",
      "            \"account\": \"/Compute-587626604/default\",\n",
      "            \"attributes\": {\n",
      "                \"dns\": {\n",
      "                    \"domain\": \"compute-587626604.oraclecloud.internal.\",\n",
      "                    \"hostname\": \"gc3-naac-soar-ebs1226-demo-01.compute-587626604.oraclecloud.internal.\",\n",
      "                    \"nimbula_vcable-eth0\": \"gc3-naac-soar-ebs1226-demo-01.compute-587626604.oraclecloud.internal.\"\n",
      "                },\n",
      "                \"network\": {\n",
      "                    \"nimbula_vcable-eth0\": {\n",
      "                        \"address\": [\n",
      "                            \"c6:b0:24:5b:b3:4a\",\n",
      "                            \"10.19.6.118\"\n",
      "                        ],\n",
      "                        \"dhcp_options\": [],\n",
      "                        \"id\": \"/Compute-587626604/eric.harris@oracle.com/48e894f3-2984-4089-99b2-237da9775e9f\",\n",
      "                        \"model\": \"\",\n",
      "                        \"vethernet\": \"/oracle/public/default\",\n",
      "                        \"vethernet_id\": \"0\",\n",
      "                        \"vethernet_type\": \"vlan\"\n",
      "                    }\n",
      "                },\n",
      "                \"nimbula_orchestration\": \"/Compute-587626604/eric.harris@oracle.com/gc3_naac_soar_ebs1226_demo_01\",\n",
      "                \"oracle_metadata\": {\n",
      "                    \"v1\": {\n",
      "                        \"object\": \"/Compute-587626604/eric.harris@oracle.com/gc3_naac_soar_ebs1226_demo_01/instance\",\n",
      "                        \"orchestration\": \"/Compute-587626604/eric.harris@oracle.com/gc3_naac_soar_ebs1226_demo_01\"\n",
      "                    }\n",
      "                },\n",
      "                \"sshkeys\": [\n",
      "                    \"ssh-rsa AAAAB3NzaC1yc2EAAAADAQABAAABAQDkl16+TS1DB5jFwxr8tRMfztjLCHK2+wpfqy2eKeUzDJx8oGlasmBTAdwPX9cH3bfPRLJzru6SG2fJWsow4sU0d2clcwLRtqVdFMAdA3MSpIqayQMQJJ7NE5omkucF0pf0RG2p5cT3mBZDw/9IrSKnIAzaescUi72QOtcVSVgOiBcvJeQVn75GFQ0+JVKnVooh4pL2xDwTUj4EeSn5aLSA4ycqpBqvFFzrGsfDjDn55HiL0Dwwo9uM6VasAPHatqVIRA4EXGMu+QU6iw0m75e5n5CzEoL5ut4D2Og6MqrAVHTmtwf3WhPlDIzLu5OZbILydPq3/u58g6IVUHeB/wBd\",\n",
      "                    \"ssh-rsa AAAAB3NzaC1yc2EAAAADAQABAAACAQDMvQhtNg2BmrGoKZVtChz6TFyy53KuB09L5SsmnbQxzM6C0PNfH1TwsG7p/emWOhc6jB2KFxdkuM/Q4BD9PreuFPN37FU5D1cIWKB8yPub3kTVJf1g5PkF1HsoG5vjf3tbUdB6I+pclMiV8tXPXBWA64wtfXc9g6dZSNvg4JDYh8J5eOul5Jct4QK9juA9pZNI7fOeYcT2z4PdmwYDkj517Ei47wX2xSM6++wM2+AkOPP2f6EZYaOQdex68in3R1g5T0rBfqPF1+7KRdPaP5c+s/ASqeFmitf7+/BQZa+9Em/F6EOoDwWbhAAFzJBidjzwWv+E+fsEbUjrWrBFB5Bkd3j2s3ojfTxDoLo+GzGrZtxuL4CcwWVTe98gRvRj7vRwTX8JIJfvKiJCkDPUZlW0Kxwysn6wZVXWLHnjf7c4NcMXJc5mdihtGTxGyZDyR4NLyoLGatN5ZAdYpiztkYxqxyWRrLT8DANZeWi0w+EdE0JAuvVyyBajV+FczHkViGY0xVm4SjcfFDz8KrByaEn/3ioZd6tK6ahFy/aT+N+cqu0xeFjPDOyxfQ7qtufbq/yJ0XktISBumVvBMOv7MbDXiUmqHlqP2pbw6V1XXqSIw6/Jsi4/9NeRPSjLbNvem3RFzAbxXIOiNlQKl+e03jCkDZ3pNFQ81RQhgegmhOtQqw==\"\n",
      "                ]\n",
      "            },\n",
      "            \"availability_domain\": \"/uscom-central-1a\",\n",
      "            \"boot_order\": [\n",
      "                1\n",
      "            ],\n",
      "            \"desired_state\": \"running\",\n",
      "            \"disk_attach\": \"\",\n",
      "            \"domain\": \"compute-587626604.oraclecloud.internal.\",\n",
      "            \"entry\": null,\n",
      "            \"error_reason\": \"\",\n",
      "            \"fingerprint\": \"5c:80:b0:fb:bc:c5:bb:13:7c:a5:92:1b:53:96:b2:cc\",\n",
      "            \"hostname\": \"gc3-naac-soar-ebs1226-demo-01.compute-587626604.oraclecloud.internal.\",\n",
      "            \"hypervisor\": {\n",
      "                \"mode\": \"hvm\"\n",
      "            },\n",
      "            \"image_format\": \"raw\",\n",
      "            \"image_metadata_bag\": \"/oracle/machineimage_metadata/40fd26b4106b48e989a2ca1b1f90e923\",\n",
      "            \"imagelist\": null,\n",
      "            \"ip\": \"10.19.6.118\",\n",
      "            \"label\": \"OPC_OL6_8_EBS_1226_VISION_SINGLE_20180615175635\",\n",
      "            \"name\": \"/Compute-587626604/eric.harris@oracle.com/gc3_naac_soar_ebs1226_demo_01/8706cea9-6f49-428f-b354-a3748478d1c2\",\n",
      "            \"networking\": {\n",
      "                \"eth0\": {\n",
      "                    \"dns\": [\n",
      "                        \"gc3-naac-soar-ebs1226-demo-01.compute-587626604.oraclecloud.internal.\"\n",
      "                    ],\n",
      "                    \"model\": \"\",\n",
      "                    \"nat\": \"ipreservation:/Compute-587626604/eric.harris@oracle.com/gc3_naac_soar_ip02\",\n",
      "                    \"seclists\": [\n",
      "                        \"/Compute-587626604/eric.harris@oracle.com/gc3_naac_soar_seclist_01\"\n",
      "                    ],\n",
      "                    \"vethernet\": \"/oracle/public/default\"\n",
      "                }\n",
      "            },\n",
      "            \"placement_requirements\": [\n",
      "                \"/system/compute/placement/default\",\n",
      "                \"/oracle/compute/dedicated/fcbaed9f-242b-42ce-ac77-dd727f9710eb\",\n",
      "                \"/system/compute/allow_instances\"\n",
      "            ],\n",
      "            \"platform\": \"linux\",\n",
      "            \"priority\": \"/oracle/public/default\",\n",
      "            \"quota\": \"/Compute-587626604\",\n",
      "            \"quota_reservation\": null,\n",
      "            \"relationships\": [],\n",
      "            \"resolvers\": null,\n",
      "            \"reverse_dns\": true,\n",
      "            \"shape\": \"oc4\",\n",
      "            \"site\": \"\",\n",
      "            \"sshkeys\": [\n",
      "                \"/Compute-587626604/eric.harris@oracle.com/gc3_naac_soar\",\n",
      "                \"/Compute-587626604/eric.harris@oracle.com/eric_harris-cloud-01\"\n",
      "            ],\n",
      "            \"start_time\": \"2018-06-16T01:00:17Z\",\n",
      "            \"state\": \"running\",\n",
      "            \"storage_attachments\": [\n",
      "                {\n",
      "                    \"index\": 1,\n",
      "                    \"name\": \"/Compute-587626604/eric.harris@oracle.com/gc3_naac_soar_ebs1226_demo_01/8706cea9-6f49-428f-b354-a3748478d1c2/5b499dc8-2b5f-4f7f-9779-c0c52a6059cd\",\n",
      "                    \"storage_volume_name\": \"/Compute-587626604/eric.harris@oracle.com/gc3_naac_soar_ebs1226_demo_01_storage\"\n",
      "                }\n",
      "            ],\n",
      "            \"tags\": [\n",
      "                \"naac\",\n",
      "                \"soar\",\n",
      "                \"EBS\",\n",
      "                \"EBS 12.2.6\"\n",
      "            ],\n",
      "            \"uri\": \"https://compute.uscom-central-1.oraclecloud.com/instance/Compute-587626604/eric.harris%40oracle.com/gc3_naac_soar_ebs1226_demo_01/8706cea9-6f49-428f-b354-a3748478d1c2\",\n",
      "            \"vcable_id\": \"/Compute-587626604/eric.harris@oracle.com/48e894f3-2984-4089-99b2-237da9775e9f\",\n",
      "            \"virtio\": null,\n",
      "            \"vnc\": \"10.19.6.117:5900\"\n",
      "        }\n",
      "    ]\n",
      "}\n"
     ]
    }
   ],
   "source": [
    "print(j)"
   ]
  },
  {
   "cell_type": "code",
   "execution_count": null,
   "metadata": {},
   "outputs": [],
   "source": []
  }
 ],
 "metadata": {
  "kernelspec": {
   "display_name": "Python 3",
   "language": "python",
   "name": "python3"
  },
  "language_info": {
   "codemirror_mode": {
    "name": "ipython",
    "version": 3
   },
   "file_extension": ".py",
   "mimetype": "text/x-python",
   "name": "python",
   "nbconvert_exporter": "python",
   "pygments_lexer": "ipython3",
   "version": "3.6.6"
  }
 },
 "nbformat": 4,
 "nbformat_minor": 2
}
