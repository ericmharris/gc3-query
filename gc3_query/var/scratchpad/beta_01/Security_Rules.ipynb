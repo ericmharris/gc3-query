{
 "cells": [
  {
   "cell_type": "markdown",
   "metadata": {},
   "source": [
    "## Oracle Cloud Instance POC\n"
   ]
  },
  {
   "cell_type": "code",
   "execution_count": null,
   "metadata": {},
   "outputs": [],
   "source": [
    "import os\n",
    "import json\n",
    "from pathlib import Path\n",
    "from typing import Dict\n",
    "from dataclasses import dataclass\n",
    "from copy import deepcopy\n",
    "\n",
    "import bravado\n",
    "from bravado.client import SwaggerClient, CallableOperation\n",
    "# from bravado.requests_client import RequestsClient\n",
    "from gc3_query.lib.gc3_bravado.requests_client import OCRequestsClient\n",
    "from bravado.requests_client import RequestsResponseAdapter\n",
    "from bravado.swagger_model import load_file\n",
    "from bravado_core.exception import MatchingResponseNotFound\n",
    "from bravado.exception import HTTPBadRequest\n",
    "from bravado.http_future import HttpFuture\n",
    "\n",
    "from tinydb import TinyDB, Query\n",
    "\n",
    "# from prettyprinter import pprint, pformat\n",
    "from pprint import pprint, pformat\n",
    "\n",
    "## https://medium.com/@betz.mark/validate-json-models-with-swagger-and-bravado-5fad6b21a825\n",
    "# Validate json models with swagger and bravado\n",
    "from bravado_core.spec import Spec"
   ]
  },
  {
   "cell_type": "code",
   "execution_count": null,
   "metadata": {},
   "outputs": [],
   "source": [
    "### B01\n",
    "import toml\n",
    "from pathlib import Path\n",
    "\n",
    "from gc3_query.lib import *\n",
    "from gc3_query.lib import gc3_cfg
from gc3_query import BASE_DIR\n",
    "from gc3_query.lib import List, Optional, Any, Callable, Dict, Tuple, Union, Set, Generator, Path\n",
    "\n",
    "from gc3_query.lib.gc3_config import GC3Config, IDMCredential\n",
    "from gc3_query.lib.iaas_classic.iaas_requests_http_client import IaaSRequestsHTTPClient\n",
    "from gc3_query.lib.iaas_classic import IaaSServiceBase, API_SPECS_DIR, IaaSRequestsHTTPClient\n",
    "from gc3_query.lib.iaas_classic.instances import Instances\n",
    "\n"
   ]
  },
  {
   "cell_type": "code",
   "execution_count": null,
   "metadata": {},
   "outputs": [],
   "source": [
    "### B01\n",
    "ORACLE_VPN_CONNECTED=False\n",
    "ASDF='ASDF'"
   ]
  },
  {
   "cell_type": "code",
   "execution_count": null,
   "metadata": {},
   "outputs": [],
   "source": [
    "### B01\n",
    "service = 'Instances'\n",
    "idm_domain = 'gc30003'\n",
    "gc3_config = GC3Config()\n",
    "service_cfg = gc3_config.iaas_classic.services[service]\n",
    "idm_cfg = gc3_config.idm.domains[idm_domain]\n",
    "http_client: IaaSRequestsHTTPClient = IaaSRequestsHTTPClient(idm_cfg=idm_cfg)"
   ]
  },
  {
   "cell_type": "code",
   "execution_count": null,
   "metadata": {},
   "outputs": [],
   "source": [
    "# from secrets import opc_username, opc_password\n",
    "import keyring\n",
    "\n",
    "opc_username = \"eric.harris@oracle.com\"\n",
    "opc_password = keyring.get_password(\"gc3\", \"gc30003\")\n",
    "print(f\"opc_username={opc_username}, opc_password={opc_password}\")"
   ]
  },
  {
   "cell_type": "code",
   "execution_count": null,
   "metadata": {},
   "outputs": [],
   "source": [
    "### B01\n",
    "opc_password = keyring.get_password(service_name=\"gc3@gc30003\", username=\"eric.harris@oracle.com\")\n",
    "print(f\"opc_username={opc_username}, opc_password={opc_password}\")"
   ]
  },
  {
   "cell_type": "code",
   "execution_count": null,
   "metadata": {},
   "outputs": [],
   "source": [
    "idm_domain_name = 'gc30003'\n",
    "idm_service_instance_id = '587626604'\n",
    "iaas_rest_endpoint = r'https://compute.uscom-central-1.oraclecloud.com'\n",
    "iaas_auth_endpoint = f'{iaas_rest_endpoint}/authenticate/'\n",
    "\n",
    "print(f'iaas_rest_endpoint: {iaas_rest_endpoint}')\n",
    "print(f'iaas_auth_endpoint: {iaas_auth_endpoint}\\n')\n",
    "\n",
    "\n",
    "### Username/pass setup\n",
    "idm_domain_username = f'/Compute-{idm_domain_name}/{opc_username}'\n",
    "idm_service_instance_username = f'/Compute-{idm_service_instance_id}/{opc_username}'\n",
    "# username = traditional_iaas_username\n",
    "username = idm_service_instance_username\n",
    "# basic_auth_cred = _basic_auth_str(username, opc_password)\n"
   ]
  },
  {
   "cell_type": "code",
   "execution_count": null,
   "metadata": {},
   "outputs": [],
   "source": [
    "json_data = {\"user\": username, \"password\": opc_password}\n",
    "print(f'idm_domain_username: {idm_domain_username}')\n",
    "print(f'idm_service_instance_username: {idm_service_instance_username}')\n",
    "print(f'username: {username}')"
   ]
  },
  {
   "cell_type": "code",
   "execution_count": null,
   "metadata": {},
   "outputs": [],
   "source": [
    "proxies = {\n",
    "  'http': 'http://www-proxy-ash7.us.oracle.com:80',\n",
    "  'https': 'https://www-proxy-ash7.us.oracle.com:80',\n",
    "}"
   ]
  },
  {
   "cell_type": "markdown",
   "metadata": {},
   "source": [
    "#### Create DB to store Instance data"
   ]
  },
  {
   "cell_type": "code",
   "execution_count": null,
   "metadata": {},
   "outputs": [],
   "source": [
    "instances_db = TinyDB('instances.tdb.json')"
   ]
  },
  {
   "cell_type": "markdown",
   "metadata": {},
   "source": [
    "####  Authenticate and get header token\n"
   ]
  },
  {
   "cell_type": "code",
   "execution_count": null,
   "metadata": {},
   "outputs": [],
   "source": [
    "headers = dict([('Content-Type', 'application/oracle-compute-v3+json'),\n",
    "                ('Accept', 'application/oracle-compute-v3+directory+json'),\n",
    "                ])\n",
    "requests_client = OCRequestsClient()\n",
    "requests_client.session.headers.update(headers)\n",
    "if ORACLE_VPN_CONNECTED:\n",
    "    requests_client.session.proxies.update(proxies)\n",
    "\n",
    "\n",
    "# print(f\"requests_client.session.headers before update: {requests_client.session.headers}\\n\")\n",
    "requests_client.session.headers.update(headers)\n",
    "# print(f\"requests_client.session.headers after update: {requests_client.session.headers}\\n\")\n",
    "\n",
    "response = requests_client.session.post(url=iaas_auth_endpoint, json=json_data)\n",
    "print(f'Response OK: {response.ok}, Status Code: {response.status_code}, URL: {response.url}')\n",
    "if response.ok and 'Set-Cookie' in response.headers:\n",
    "    print(f\"Auth request succeess.\\n\")\n",
    "    ### The auth cookie is already placed in the session ... nothing else needs to be done.\n",
    "#     print(f\"\\nSession Cookies: {requests_client.session.cookies}\")\n",
    "#     print(f\"\\nResponse Headers['Set-Cookie']: {response.headers['Set-Cookie']}\")\n",
    "else:\n",
    "    print(f'Something failed! Response OK: {response.ok}, Status Code: {response.status_code}')\n",
    "\n",
    "# print(f\"requests_client.session.headers before update: {requests_client.session.headers}\\n\")\n",
    "cookie_header = {'Cookie': response.headers['Set-Cookie']}\n",
    "# print(f\"cookie_header: {cookie_header}\\n\")\n",
    "requests_client.session.headers.update(cookie_header)\n",
    "# print(f\"requests_client.session.headers after update: {requests_client.session.headers}\\n\")\n"
   ]
  },
  {
   "cell_type": "code",
   "execution_count": null,
   "metadata": {},
   "outputs": [],
   "source": [
    "## Update the swagger spec to use https\n",
    "spec_file_path = Path().joinpath('open_api_definitions/iaas_instances.json').resolve()\n",
    "spec_dict = load_file(spec_file_path)\n",
    "spec_dict['schemes'] = ['https']\n"
   ]
  },
  {
   "cell_type": "code",
   "execution_count": null,
   "metadata": {},
   "outputs": [],
   "source": [
    "headers = dict([('Content-Type', 'application/oracle-compute-v3+json'),\n",
    "                ('Accept', 'application/oracle-compute-v3+json, application/oracle-compute-v3+directory+json, json, text/html')\n",
    "                ])\n",
    "\n",
    "# headers = dict([('Content-Type', 'application/oracle-compute-v3+json'),\n",
    "#                 ('Accept', 'application/oracle-compute-v3+json, json, text/html')])"
   ]
  },
  {
   "cell_type": "code",
   "execution_count": null,
   "metadata": {},
   "outputs": [],
   "source": [
    "requests_client = OCRequestsClient()\n",
    "requests_client.session.headers.update(headers)\n",
    "if ORACLE_VPN_CONNECTED:\n",
    "    requests_client.session.proxies.update(proxies)\n",
    "# requests_client.session.proxies.update(proxies)\n",
    "requests_client.session.headers.update(cookie_header)\n",
    "swagger_client = SwaggerClient.from_spec(spec_dict=spec_dict,\n",
    "                                         origin_url=iaas_rest_endpoint,\n",
    "                                         http_client=requests_client,\n",
    "                                         config={'also_return_response': True,\n",
    "                                                 'validate_responses': True,\n",
    "                                                 'validate_requests': True,\n",
    "                                                 'validate_swagger_spec': True})\n",
    "                                         # config={'also_return_response': True,\n",
    "                                         #         'validate_responses': False,\n",
    "                                         #         'validate_requests': True,\n",
    "                                         #         'validate_swagger_spec': True})\n",
    "#                                          config={'also_return_response': True,\n",
    "#                                                  'validate_responses': False,\n",
    "#                                                  'validate_requests': False,\n",
    "#                                                  'validate_swagger_spec': False})\n",
    "instances_resource = swagger_client.Instances"
   ]
  },
  {
   "cell_type": "code",
   "execution_count": null,
   "metadata": {},
   "outputs": [],
   "source": [
    "for operation_name in dir(instances_resource):\n",
    "    callable_operation = getattr(instances_resource, operation_name)\n",
    "    print(f\"{callable_operation.operation.operation_id}\\t\\t http_method={callable_operation.operation.http_method}\\tpath={callable_operation.operation.path_name}\")\n",
    "    \n",
    "    "
   ]
  },
  {
   "cell_type": "code",
   "execution_count": null,
   "metadata": {},
   "outputs": [],
   "source": [
    "callable_operation"
   ]
  },
  {
   "cell_type": "code",
   "execution_count": null,
   "metadata": {},
   "outputs": [],
   "source": [
    "@dataclass\n",
    "class GetOpReturn:\n",
    "    operation_details: Dict[str, Any]\n",
    "    operation_response: RequestsResponseAdapter\n",
    "\n",
    "\n",
    "def get_op(operation_id: str, **wkargs) -> Tuple[Dict[str, Any], RequestsResponseAdapter]:\n",
    "    print(f\"Operation {operation_id} starting.\")\n",
    "    try:\n",
    "        operation_future = getattr(instances_resource, operation_id)(**wkargs)\n",
    "        url = operation_future.future.request.url\n",
    "        print(f\"REST url for {operation_id}: {url}\")\n",
    "        operation_result, operation_response = operation_future.result()\n",
    "    except HTTPBadRequest:\n",
    "        print(\"Request failed for {operation_id}! \")\n",
    "        print(f\"URL: {operation_future.future.request.url}\")\n",
    "        raise\n",
    "    operation_details = json.loads(operation_result)\n",
    "    return GetOpReturn(operation_details,operation_response )\n",
    "#     print(\"\\n{} operation_details:\\nHTTP method: {}\\nAPI url: {}:\\n {}\\n\".format(operation_id, operation_future.operation.http_method, url, pformat(operation_details)))\n",
    "#     print(f\"Operation {operation_id} finished.\\n\")\n"
   ]
  },
  {
   "cell_type": "code",
   "execution_count": null,
   "metadata": {},
   "outputs": [],
   "source": [
    "operation_id = \"discoverRootInstance\"\n",
    "print(f\"Operation {operation_id} starting.\")\n",
    "operation_future = getattr(instances_resource, operation_id)()\n",
    "url = operation_future.future.request.url\n",
    "print(f\"REST url for {operation_id}: {url}\")"
   ]
  },
  {
   "cell_type": "code",
   "execution_count": null,
   "metadata": {},
   "outputs": [],
   "source": [
    "operation_result, operation_response = operation_future.result()\n"
   ]
  },
  {
   "cell_type": "code",
   "execution_count": null,
   "metadata": {},
   "outputs": [],
   "source": [
    "operation_details = json.loads(operation_result)\n",
    "operation_result\n",
    "operation_response"
   ]
  },
  {
   "cell_type": "code",
   "execution_count": null,
   "metadata": {},
   "outputs": [],
   "source": [
    "operation_future.future.session.headers['Accept']"
   ]
  },
  {
   "cell_type": "code",
   "execution_count": null,
   "metadata": {},
   "outputs": [],
   "source": [
    "operation_id = \"discoverRootInstance\"\n",
    "print(f\"Operation {operation_id} starting.\")\n",
    "try:\n",
    "    operation_future = getattr(instances_resource, operation_id)()\n",
    "    url = operation_future.future.request.url\n",
    "    print(f\"REST url for {operation_id}: {url}\")\n",
    "    operation_result, operation_response = operation_future.result()\n",
    "except HTTPBadRequest:\n",
    "    print(\"Request failed for {operation_id}! \")\n",
    "    print(f\"URL: {operation_future.future.request.url}\")\n",
    "    raise\n",
    "operation_details = json.loads(operation_result)\n",
    "print(\"\\n{} operation_details:\\nHTTP method: {}\\nAPI url: {}:\\n {}\\n\".format(operation_id, operation_future.operation.http_method, url, pformat(operation_details)))\n",
    "print(f\"Operation {operation_id} finished.\\n\")"
   ]
  },
  {
   "cell_type": "code",
   "execution_count": null,
   "metadata": {},
   "outputs": [],
   "source": [
    "### B01\n",
    "\n",
    "instances = Instances(service_cfg=service_cfg, idm_cfg=idm_cfg, http_client=http_client)\n",
    "http_future = instances.bravado_service_operations.discoverRootInstance()\n",
    "request_url = http_future.future.request.url\n",
    "service_response = http_future.response()\n",
    "result = service_response.result\n",
    "http_response = service_response.incoming_response\n",
    "http_response_json = http_response.json()\n",
    "service_response_status_code = service_response.metadata.status_code\n",
    "\n",
    "\n",
    "\n"
   ]
  },
  {
   "cell_type": "code",
   "execution_count": null,
   "metadata": {},
   "outputs": [],
   "source": [
    "### B01\n",
    "service_response"
   ]
  },
  {
   "cell_type": "code",
   "execution_count": null,
   "metadata": {},
   "outputs": [],
   "source": [
    "### B01\n",
    "print(f\"operation_id={operation_id}\")\n",
    "print(f\"service_response_status_code={service_response_status_code}\")\n",
    "print(f\"http_response={http_response}\")\n",
    "print(f\"b01_result={result}\")\n",
    "print(f\"s01_operation_result={operation_result}\")\n",
    "is_same = result == operation_result\n",
    "print(f\"is_same={is_same}\")\n",
    "\n",
    "\n",
    "\n",
    "print(f\"ASDF={ASDF}\")\n",
    "print(f\"ASDF={ASDF}\")\n",
    "print(f\"ASDF={ASDF}\")\n",
    "\n",
    "\n",
    "\n",
    "\n",
    "\n",
    "\n",
    "\n"
   ]
  },
  {
   "cell_type": "code",
   "execution_count": null,
   "metadata": {},
   "outputs": [],
   "source": [
    "## discoverInstance\n",
    "## container=\"Compute-587626604/\"\n",
    "operation_id = \"discoverInstance\"\n",
    "\n",
    "print(f\"Operation {operation_id} starting.\")\n",
    "try:\n",
    "    # API url: https://compute.uscom-central-1.oraclecloud.com/instance/Compute-587626604\n",
    "    container = operation_details['result'][0].lstrip('/').rstrip('/')\n",
    "    # # API url: https://compute.uscom-central-1.oraclecloud.com/instance/Compute-587626604/eric.harris@oracle.com\n",
    "    # container = f\"{container}/{opc_username}\"\n",
    "    # # API url: https://compute.uscom-central-1.oraclecloud.com/instance/Compute-587626604/eric.harris@oracle.com/\n",
    "    container = f\"{container}/\"\n",
    "    container = \"Compute-587626604/\"\n",
    "    print(f\"container: {container}\")\n",
    "    operation_future = getattr(instances_resource, operation_id)(container=container)\n",
    "    url = operation_future.future.request.url\n",
    "    print(f\"REST url for {operation_id}: {url}\")\n",
    "    operation_result, operation_response = operation_future.result()\n",
    "except HTTPBadRequest:\n",
    "    print(\"Request failed for {operation_id}! \")\n",
    "    print(f\"URL: {operation_future.future.request.url}\")\n",
    "    raise\n",
    "operation_details = json.loads(operation_result)\n",
    "print(\"\\n{} operation_details:\\nHTTP method: {}\\nAPI url: {}:\\n {}\\n\".format(operation_id, operation_future.operation.http_method, url, pformat(operation_details)))\n",
    "print(f\"Operation {operation_id} finished.\\n\")"
   ]
  },
  {
   "cell_type": "code",
   "execution_count": null,
   "metadata": {},
   "outputs": [],
   "source": [
    "## discoverInstance\n",
    "## container=\"Compute-587626604/eric.harris@oracle.com/\"\n",
    "\n",
    "operation_id = \"discoverInstance\"\n",
    "print(f\"Operation {operation_id} starting.\")\n",
    "try:\n",
    "    # API url: https://compute.uscom-central-1.oraclecloud.com/instance/Compute-587626604\n",
    "#     container = operation_details['result'][0].lstrip('/').rstrip('/')\n",
    "    # # API url: https://compute.uscom-central-1.oraclecloud.com/instance/Compute-587626604/eric.harris@oracle.com\n",
    "    # container = f\"{container}/{opc_username}\"\n",
    "    # # API url: https://compute.uscom-central-1.oraclecloud.com/instance/Compute-587626604/eric.harris@oracle.com/\n",
    "    container = f\"{container}/{opc_username}/\"\n",
    "    container=\"Compute-587626604/eric.harris@oracle.com/\"\n",
    "    print(f\"container: {container}\")\n",
    "    operation_future = getattr(instances_resource, operation_id)(container=container)\n",
    "    url = operation_future.future.request.url\n",
    "    print(f\"REST url for {operation_id}: {url}\")\n",
    "    operation_result, operation_response = operation_future.result()\n",
    "except HTTPBadRequest:\n",
    "    print(\"Request failed for {operation_id}! \")\n",
    "    print(f\"URL: {operation_future.future.request.url}\")\n",
    "    raise\n",
    "operation_details = json.loads(operation_result)\n",
    "print(\"\\n{} operation_details:\\nHTTP method: {}\\nAPI url: {}:\\n {}\\n\".format(operation_id, operation_future.operation.http_method, url, pformat(operation_details)))\n",
    "print(f\"Operation {operation_id} finished.\\n\")"
   ]
  },
  {
   "cell_type": "code",
   "execution_count": null,
   "metadata": {},
   "outputs": [],
   "source": [
    "### B01\n",
    "## discoverInstance\n",
    "## container=\"Compute-587626604/eric.harris@oracle.com/\"\n",
    "\n",
    "instances = Instances(service_cfg=service_cfg, idm_cfg=idm_cfg, http_client=http_client)\n",
    "b01_container=instances.idm_user_container_name\n",
    "\n",
    "print(f\"b01_container={b01_container}\")\n",
    "print(f\"s01_container={container}\")\n",
    "is_same_container = b01_container==container\n",
    "\n",
    "print(f\"is_same_container={is_same_container}\")\n",
    "print(f\"ASDF={ASDF}\")\n",
    "print(f\"ASDF={ASDF}\")\n",
    "print(f\"ASDF={ASDF}\")"
   ]
  },
  {
   "cell_type": "code",
   "execution_count": null,
   "metadata": {},
   "outputs": [],
   "source": [
    "### B01\n",
    "\n",
    "http_future = instances.bravado_service_operations.discoverInstance(container=b01_container)\n",
    "request_url = http_future.future.request.url\n",
    "service_response = http_future.response()\n",
    "result = service_response.result\n",
    "http_response = service_response.incoming_response\n",
    "http_response_json = http_response.json()\n",
    "service_response_status_code = service_response.metadata.status_code"
   ]
  },
  {
   "cell_type": "code",
   "execution_count": null,
   "metadata": {},
   "outputs": [],
   "source": [
    "### B01\n",
    "print(f\"operation_id={operation_id}\")\n",
    "print(f\"service_response_status_code={service_response_status_code}\")\n",
    "print(f\"http_response={http_response}\")\n",
    "print(f\"b01_result={result}\")\n",
    "print(f\"s01_operation_result={operation_result}\")\n",
    "is_same = result == operation_result\n",
    "print(f\"is_same={is_same}\")\n",
    "\n",
    "\n",
    "\n",
    "print(f\"ASDF={ASDF}\")\n",
    "print(f\"ASDF={ASDF}\")\n",
    "print(f\"ASDF={ASDF}\")\n",
    "\n",
    "\n",
    "\n"
   ]
  },
  {
   "cell_type": "code",
   "execution_count": null,
   "metadata": {
    "scrolled": true
   },
   "outputs": [],
   "source": [
    "operation_id = \"listInstance\"\n",
    "print(f\"Operation {operation_id} starting.\")\n",
    "try:\n",
    "    # container = operation_details['result'][0].lstrip('/').rstrip('/')\n",
    "    # container = 'Compute-587626604/eric.harris@oracle.com'\n",
    "    container = 'Compute-587626604/eric.harris@oracle.com/GC3NAAC-CDMT-LWS1'\n",
    "    print(f\"container: {container}\")\n",
    "    operation_future = getattr(instances_resource, operation_id)(container=container)\n",
    "    url = operation_future.future.request.url\n",
    "    print(f\"REST url for {operation_id}: {url}\")\n",
    "    operation_result, operation_response = operation_future.result()\n",
    "except HTTPBadRequest:\n",
    "    print(\"Request failed for {operation_id}! \")\n",
    "    print(f\"URL: {operation_future.future.request.url}\")\n",
    "    raise\n",
    "operation_details = json.loads(operation_result)\n",
    "print(\"\\n{} operation_details:\\nHTTP method: {}\\nAPI url: {}:\\n {}\\n\".format(operation_id, operation_future.operation.http_method, url, pformat(operation_details)))\n",
    "print(f\"Operation {operation_id} finished.\")"
   ]
  },
  {
   "cell_type": "code",
   "execution_count": null,
   "metadata": {},
   "outputs": [],
   "source": [
    "operation_details"
   ]
  },
  {
   "cell_type": "code",
   "execution_count": null,
   "metadata": {},
   "outputs": [],
   "source": [
    "operation_details['result']"
   ]
  },
  {
   "cell_type": "code",
   "execution_count": null,
   "metadata": {},
   "outputs": [],
   "source": [
    "### B01\n",
    "## listInstance\n",
    "## container: \"Compute-587626604/eric.harris@oracle.com/GC3NAAC-CDMT-LWS1\"\n",
    "\n",
    "instances = Instances(service_cfg=service_cfg, idm_cfg=idm_cfg, http_client=http_client)\n",
    "b01_container=\"Compute-587626604/eric.harris@oracle.com/GC3NAAC-CDMT-LWS1\"\n",
    "\n",
    "print(f\"b01_container={b01_container}\")\n",
    "print(f\"s01_container={container}\")\n",
    "is_same_container = b01_container==container\n",
    "\n",
    "print(f\"is_same_container={is_same_container}\")\n",
    "print(f\"ASDF={ASDF}\")\n",
    "print(f\"ASDF={ASDF}\")\n",
    "print(f\"ASDF={ASDF}\")"
   ]
  },
  {
   "cell_type": "code",
   "execution_count": null,
   "metadata": {},
   "outputs": [],
   "source": [
    "### B01\n",
    "\n",
    "http_future = instances.bravado_service_operations.listInstance(container=b01_container)\n",
    "request_url = http_future.future.request.url\n",
    "service_response = http_future.response()\n",
    "result = service_response.result\n",
    "http_response = service_response.incoming_response\n",
    "http_response_json = http_response.json()\n",
    "service_response_status_code = service_response.metadata.status_code"
   ]
  },
  {
   "cell_type": "code",
   "execution_count": null,
   "metadata": {},
   "outputs": [],
   "source": [
    "### B01\n",
    "print(f\"operation_id={operation_id}\")\n",
    "print(f\"service_response_status_code={service_response_status_code}\")\n",
    "print(f\"http_response={http_response}\")\n",
    "print(f\"b01_result={result}\")\n",
    "print(f\"s01_operation_result={operation_result}\")\n",
    "is_same = result == operation_result\n",
    "print(f\"is_same={is_same}\")\n",
    "\n",
    "\n",
    "\n",
    "print(f\"ASDF={ASDF}\")\n",
    "print(f\"ASDF={ASDF}\")\n",
    "print(f\"ASDF={ASDF}\")\n",
    "\n"
   ]
  },
  {
   "cell_type": "code",
   "execution_count": null,
   "metadata": {},
   "outputs": [],
   "source": [
    "headers = dict([('Content-Type', 'application/oracle-compute-v3+json'),\n",
    "                ('Accept', 'application/oracle-compute-v3+json, json, text/html')])\n",
    "\n",
    "\n",
    "requests_client = OCRequestsClient()\n",
    "requests_client.session.headers.update(headers)\n",
    "if ORACLE_VPN_CONNECTED:\n",
    "    requests_client.session.proxies.update(proxies)\n",
    "# requests_client.session.proxies.update(proxies)\n",
    "requests_client.session.headers.update(cookie_header)\n",
    "swagger_client = SwaggerClient.from_spec(spec_dict=spec_dict,\n",
    "                                         origin_url=iaas_rest_endpoint,\n",
    "                                         http_client=requests_client,\n",
    "                                         # config={'also_return_response': True,\n",
    "                                         #         'validate_responses': True,\n",
    "                                         #         'validate_requests': True,\n",
    "                                         #         'validate_swagger_spec': True})\n",
    "                                         # config={'also_return_response': True,\n",
    "                                         #         'validate_responses': False,\n",
    "                                         #         'validate_requests': True,\n",
    "                                         #         'validate_swagger_spec': True})\n",
    "                                         config={'also_return_response': True,\n",
    "                                                 'validate_responses': False,\n",
    "                                                 'validate_requests': False,\n",
    "                                                 'validate_swagger_spec': False})\n",
    "instances_resource = swagger_client.Instances"
   ]
  },
  {
   "cell_type": "code",
   "execution_count": null,
   "metadata": {},
   "outputs": [],
   "source": [
    "operation_details_copy = deepcopy(operation_details)\n",
    "print(operation_details_copy)"
   ]
  },
  {
   "cell_type": "code",
   "execution_count": null,
   "metadata": {
    "scrolled": true
   },
   "outputs": [],
   "source": [
    "operation_id = \"getInstance\"\n",
    "print(f\"\\nOperation {operation_id} starting.\")\n",
    "try:\n",
    "    name = operation_details_copy['result'][0].lstrip('/').rstrip('/')\n",
    "    print(f\"name: {name}\")\n",
    "    operation_future: HttpFuture = getattr(instances_resource, operation_id)(name=name)\n",
    "    url = operation_future.future.request.url\n",
    "    print(f\"REST url for {operation_id}: {url}\")\n",
    "    print(f\"Accept Header=[{operation_future.future.session.headers['Accept']}], Content-Type Header=[{operation_future.future.session.headers['Content-Type']}]\")\n",
    "    operation_result, operation_response = operation_future.result()\n",
    "except bravado.exception.HTTPBadRequest:\n",
    "    print(\"Request failed for {operation_id}! \")\n",
    "    print(f\"URL: {operation_future.future.request.url}\")\n",
    "    raise\n",
    "except bravado.exception.HTTPNotFound:\n",
    "    print(\"Request failed for {operation_id}! \")\n",
    "    print(f\"URL: {operation_future.future.request.url}\")\n",
    "    raise\n",
    "operation_details = json.loads(operation_result)\n",
    "print(\"\\n{} operation_details:\\nHTTP method: {}\\nAPI url: {}:\\n {}\\n\".format(operation_id, operation_future.operation.http_method, url, pformat(operation_details)))\n",
    "print(f\"Operation {operation_id} finished.\")"
   ]
  },
  {
   "cell_type": "code",
   "execution_count": null,
   "metadata": {
    "scrolled": true
   },
   "outputs": [],
   "source": [
    "operation_details"
   ]
  },
  {
   "cell_type": "code",
   "execution_count": null,
   "metadata": {},
   "outputs": [],
   "source": [
    "### B01\n",
    "## getInstance\n",
    "## name: \"Compute-587626604/eric.harris@oracle.com/GC3NAAC-CDMT-LWS1/c17bb7ea-724b-4e51-ab72-1bd8714f07b7\"\n",
    "\n",
    "instances = Instances(service_cfg=service_cfg, idm_cfg=idm_cfg, http_client=http_client)\n",
    "b01_name=\"Compute-587626604/eric.harris@oracle.com/GC3NAAC-CDMT-LWS1/c17bb7ea-724b-4e51-ab72-1bd8714f07b7\"\n",
    "\n",
    "print(f\"b01_name={b01_name}\")\n",
    "print(f\"s01_name={name}\")\n",
    "is_same_name = b01_name==name\n",
    "\n",
    "print(f\"is_same_name={is_same_name}\")\n",
    "print(f\"ASDF={ASDF}\")\n",
    "print(f\"ASDF={ASDF}\")"
   ]
  },
  {
   "cell_type": "code",
   "execution_count": null,
   "metadata": {},
   "outputs": [],
   "source": [
    "### B01\n",
    "\n",
    "http_future = instances.bravado_service_operations.getInstance(name=b01_name)\n",
    "request_url = http_future.future.request.url\n",
    "print(f\"request_url={request_url}\")\n",
    "print(f\"s01_url    ={request_url}\")\n",
    "url_same = url==request_url\n",
    "print(f\"url_same={url_same}\")\n"
   ]
  },
  {
   "cell_type": "code",
   "execution_count": null,
   "metadata": {},
   "outputs": [],
   "source": [
    "### B01\n",
    "\n",
    "service_response = http_future.response()\n",
    "result = service_response.result\n",
    "http_response = service_response.incoming_response\n",
    "http_response_json = http_response.json()\n",
    "service_response_status_code = service_response.metadata.status_code"
   ]
  },
  {
   "cell_type": "code",
   "execution_count": null,
   "metadata": {},
   "outputs": [],
   "source": [
    "service_result = instances.bravado_service_operations.getInstance(name=b01_name).result()\n",
    "service_result"
   ]
  },
  {
   "cell_type": "markdown",
   "metadata": {},
   "source": [
    "```\n",
    "operation_id = \"getInstance\"\n",
    "print(f\"\\nOperation {operation_id} starting.\")\n",
    "try:\n",
    "    name = operation_details_copy['result'][0].lstrip('/').rstrip('/')\n",
    "    print(f\"name: {name}\")\n",
    "    operation_future: HttpFuture = getattr(instances_resource, operation_id)(name=name)\n",
    "    url = operation_future.future.request.url\n",
    "    print(f\"REST url for {operation_id}: {url}\")\n",
    "    print(f\"Accept Header=[{operation_future.future.session.headers['Accept']}], Content-Type Header=[{operation_future.future.session.headers['Content-Type']}]\")\n",
    "    operation_result, operation_response = operation_future.result()\n",
    "except bravado.exception.HTTPBadRequest:\n",
    "    print(\"Request failed for {operation_id}! \")\n",
    "    print(f\"URL: {operation_future.future.request.url}\")\n",
    "    raise\n",
    "except bravado.exception.HTTPNotFound:\n",
    "    print(\"Request failed for {operation_id}! \")\n",
    "    print(f\"URL: {operation_future.future.request.url}\")\n",
    "    raise\n",
    "operation_details = json.loads(operation_result)\n",
    "print(\"\\n{} operation_details:\\nHTTP method: {}\\nAPI url: {}:\\n {}\\n\".format(operation_id, operation_future.operation.http_method, url, pformat(operation_details)))\n",
    "print(f\"Operation {operation_id} finished.\")\n",
    ".\n",
    ".\n",
    ".\n",
    "Operation getInstance starting.\n",
    "name: Compute-587626604/eric.harris@oracle.com/GC3NAAC-CDMT-LWS1/c17bb7ea-724b-4e51-ab72-1bd8714f07b7\n",
    "REST url for getInstance: https://compute.uscom-central-1.oraclecloud.com/instance/Compute-587626604/eric.harris@oracle.com/GC3NAAC-CDMT-LWS1/c17bb7ea-724b-4e51-ab72-1bd8714f07b7\n",
    "Accept Header=[application/oracle-compute-v3+json, json, text/html], Content-Type Header=[application/oracle-compute-v3+json]\n",
    "\n",
    "getInstance operation_details:\n",
    "HTTP method: get\n",
    "API url: https://compute.uscom-central-1.oraclecloud.com/instance/Compute-587626604/eric.harris@oracle.com/GC3NAAC-CDMT-LWS1/c17bb7ea-724b-4e51-ab72-1bd8714f07b7:\n",
    " {'account': '/Compute-587626604/default',\n",
    " 'attributes': {'dns': {'domain': 'compute-587626604.oraclecloud.internal.',\n",
    "                        'hostname': 'gc3naac-cdmt-lws1.compute-587626604.oraclecloud.internal.',\n",
    "                        'nimbula_vcable-eth0': 'gc3naac-cdmt-lws1.compute-587626604.oraclecloud.internal.'},\n",
    "                'network': {'nimbula_vcable-eth0': {'address': ['c6:b0:6d:06:65:04',\n",
    "                                                                '10.19.0.246'],\n",
    "                                                    'dhcp_options': [],\n",
    "                                                   \n",
    "```\n",
    "   \n",
    "#### Accept Header=[application/oracle-compute-v3+json, json, text/html], Content-Type Header=[application/oracle-compute-v3+json]\n",
    "\n",
    "   "
   ]
  },
  {
   "cell_type": "code",
   "execution_count": null,
   "metadata": {},
   "outputs": [],
   "source": [
    "instances = Instances(service_cfg=service_cfg, idm_cfg=idm_cfg, http_client=http_client)\n",
    "b01_name=\"Compute-587626604/eric.harris@oracle.com/GC3NAAC-CDMT-LWS1/c17bb7ea-724b-4e51-ab72-1bd8714f07b7\"\n",
    "\n",
    "print(f\"b01_name={b01_name}\")\n",
    "print(f\"s01_name={name}\")\n",
    "is_same_name = b01_name==name\n",
    "\n",
    "print(f\"is_same_name={is_same_name}\")\n",
    "print(f\"ASDF={ASDF}\")\n",
    "print(f\"ASDF={ASDF}\")"
   ]
  },
  {
   "cell_type": "code",
   "execution_count": null,
   "metadata": {
    "scrolled": true
   },
   "outputs": [],
   "source": [
    "accept_headers = http_future.future.session.headers['Accept']\n",
    "content_type_headers = http_future.future.session.headers['Content-Type']\n",
    "print(f\"accept_headers={accept_headers}\")\n",
    "print(f\"content_type_headers={content_type_headers}\")"
   ]
  },
  {
   "cell_type": "code",
   "execution_count": null,
   "metadata": {},
   "outputs": [],
   "source": [
    "### B01\n",
    "## getInstance\n",
    "## name: \"Compute-587626604/eric.harris@oracle.com/GC3NAAC-CDMT-LWS1/c17bb7ea-724b-4e51-ab72-1bd8714f07b7\"\n",
    "\n",
    "instances = Instances(service_cfg=service_cfg, idm_cfg=idm_cfg, http_client=http_client)\n",
    "b01_name=\"Compute-587626604/eric.harris@oracle.com/GC3NAAC-CDMT-LWS1/c17bb7ea-724b-4e51-ab72-1bd8714f07b7\"\n",
    "\n",
    "print(f\"b01_name={b01_name}\")\n",
    "print(f\"s01_name={name}\")\n",
    "is_same_name = b01_name==name\n",
    "\n",
    "print(f\"is_same_name={is_same_name}\")\n",
    "print(f\"ASDF={ASDF}\")\n",
    "print(f\"ASDF={ASDF}\")"
   ]
  },
  {
   "cell_type": "code",
   "execution_count": null,
   "metadata": {},
   "outputs": [],
   "source": [
    "### B01\n",
    "headers = dict([('Content-Type', 'application/oracle-compute-v3+json'),\n",
    "                ('Accept', 'application/oracle-compute-v3+json, json, text/html')])\n",
    "\n",
    "\n",
    "http_future = instances.bravado_service_operations.getInstance(name=b01_name)\n",
    "http_future.future.session.headers.update(headers)\n",
    "\n",
    "request_url = http_future.future.request.url\n",
    "print(f\"request_url={request_url}\")\n",
    "print(f\"s01_url    ={request_url}\")\n",
    "url_same = url==request_url\n",
    "print(f\"url_same={url_same}\")\n"
   ]
  },
  {
   "cell_type": "code",
   "execution_count": null,
   "metadata": {},
   "outputs": [],
   "source": [
    "accept_headers = http_future.future.session.headers['Accept']\n",
    "content_type_headers = http_future.future.session.headers['Content-Type']\n",
    "print(f\"accept_headers={accept_headers}\")\n",
    "print(f\"content_type_headers={content_type_headers}\")"
   ]
  },
  {
   "cell_type": "code",
   "execution_count": null,
   "metadata": {},
   "outputs": [],
   "source": [
    "### B01\n",
    "\n",
    "service_response = http_future.response()\n",
    "result = service_response.result\n",
    "http_response = service_response.incoming_response\n",
    "http_response_json = http_response.json()\n",
    "service_response_status_code = service_response.metadata.status_code"
   ]
  },
  {
   "cell_type": "code",
   "execution_count": null,
   "metadata": {
    "scrolled": true
   },
   "outputs": [],
   "source": [
    "### B01\n",
    "print(f\"operation_id={operation_id}\")\n",
    "print(f\"service_response_status_code={service_response_status_code}\")\n",
    "print(f\"http_response={http_response}\")\n",
    "print(f\"b01_result={result}\")\n",
    "# print(f\"s01_operation_result={operation_result}\")\n",
    "is_same = result == operation_result\n",
    "print(f\"is_same={is_same}\")\n",
    "\n",
    "\n",
    "\n",
    "print(f\"ASDF={ASDF}\")\n",
    "print(f\"ASDF={ASDF}\")\n",
    "print(f\"ASDF={ASDF}\")\n"
   ]
  },
  {
   "cell_type": "code",
   "execution_count": null,
   "metadata": {},
   "outputs": [],
   "source": [
    "instances = Instances(service_cfg=service_cfg, idm_cfg=idm_cfg, http_client=http_client)\n",
    "headers = dict([('Content-Type', 'application/oracle-compute-v3+json'),\n",
    "                ('Accept', 'application/oracle-compute-v3+json, json, text/html')])\n",
    "http_future = instances.bravado_service_operations.getInstance(name=b01_name)\n",
    "http_future.future.session.headers.update(headers)\n",
    "service_result = instances.bravado_service_operations.getInstance(name=b01_name).result()\n",
    "service_result"
   ]
  },
  {
   "cell_type": "code",
   "execution_count": null,
   "metadata": {},
   "outputs": [],
   "source": [
    "http_client.session.headers['Accept']"
   ]
  },
  {
   "cell_type": "code",
   "execution_count": null,
   "metadata": {
    "scrolled": true
   },
   "outputs": [],
   "source": [
    "operation_details_copy = deepcopy(operation_details)\n",
    "operation_details_copy"
   ]
  },
  {
   "cell_type": "code",
   "execution_count": null,
   "metadata": {
    "scrolled": true
   },
   "outputs": [],
   "source": [
    "operation_id = \"getInstance\"\n",
    "print(f\"\\nOperation {operation_id} starting.\")\n",
    "try:\n",
    "    name = operation_details_copy['result'][0].lstrip('/').rstrip('/')\n",
    "    print(f\"name: {name}\")\n",
    "    operation_future: HttpFuture = getattr(instances_resource, operation_id)(name=name)\n",
    "    url = operation_future.future.request.url\n",
    "    print(f\"REST url for {operation_id}: {url}\")\n",
    "    print(f\"Accept Header=[{operation_future.future.session.headers['Accept']}], Content-Type Header=[{operation_future.future.session.headers['Content-Type']}]\")\n",
    "    operation_result, operation_response = operation_future.result()\n",
    "except bravado.exception.HTTPBadRequest:\n",
    "    print(\"Request failed for {operation_id}! \")\n",
    "    print(f\"URL: {operation_future.future.request.url}\")\n",
    "    raise\n",
    "except bravado.exception.HTTPNotFound:\n",
    "    print(\"Request failed for {operation_id}! \")\n",
    "    print(f\"URL: {operation_future.future.request.url}\")\n",
    "    raise\n",
    "operation_details = json.loads(operation_result)\n",
    "# print(\"\\n{} operation_details:\\nHTTP method: {}\\nAPI url: {}:\\n {}\\n\".format(operation_id, operation_future.operation.http_method, url, pformat(operation_details)))\n",
    "print(f\"Operation {operation_id} finished.\")"
   ]
  },
  {
   "cell_type": "code",
   "execution_count": null,
   "metadata": {},
   "outputs": [],
   "source": [
    "type(operation_details)\n",
    "print(operation_details.keys())"
   ]
  },
  {
   "cell_type": "markdown",
   "metadata": {},
   "source": [
    "#### Insert results in to DB"
   ]
  },
  {
   "cell_type": "code",
   "execution_count": null,
   "metadata": {},
   "outputs": [],
   "source": [
    "instances_db.insert(operation_details)"
   ]
  },
  {
   "cell_type": "code",
   "execution_count": null,
   "metadata": {},
   "outputs": [],
   "source": [
    "instances_db.all()[-1]"
   ]
  },
  {
   "cell_type": "markdown",
   "metadata": {},
   "source": [
    "### Using BasicAuth\n",
    "\n",
    "[https://porter.io/github.com/Yelp/bravado]\n"
   ]
  },
  {
   "cell_type": "markdown",
   "metadata": {},
   "source": [
    "from bravado.requests_client import RequestsClient\n",
    "from bravado.client import SwaggerClient\n",
    "\n",
    "http_client = RequestsClient()\n",
    "http_client.set_basic_auth(\n",
    "    'api.yourhost.com',\n",
    "    'username', 'password'\n",
    ")\n",
    "client = SwaggerClient.from_url(\n",
    "    'http://petstore.swagger.io/v2/swagger.json',\n",
    "    http_client=http_client,\n",
    ")\n",
    "pet = client.pet.getPetById(petId=42).response().result"
   ]
  },
  {
   "cell_type": "code",
   "execution_count": null,
   "metadata": {},
   "outputs": [],
   "source": [
    "from bravado.requests_client import RequestsClient\n",
    "from bravado.client import SwaggerClient\n",
    "from requests.auth import HTTPBasicAuth\n",
    "import json\n"
   ]
  },
  {
   "cell_type": "code",
   "execution_count": null,
   "metadata": {},
   "outputs": [],
   "source": [
    "auth_url = 'https://compute.uscom-central-1.oraclecloud.com/authenticate/'\n",
    "auth_host = 'compute.uscom-central-1.oraclecloud.com'\n",
    "\n",
    "opc_username='eric.harris@oracle.com'\n",
    "opc_username='/Compute-gc30003/eric.harris@oracle.com'\n",
    "opc_password='V@nadium123!'\n",
    "data={\"user\":opc_username, \"password\":opc_password}\n",
    "spec_url = 'https://apicatalog.oraclecloud.com/webapp/v1/orgs/oracle-public/apicollections/compute/18.1.2/apis/Instances/canonical'\n",
    "print(data)"
   ]
  },
  {
   "cell_type": "code",
   "execution_count": null,
   "metadata": {},
   "outputs": [],
   "source": [
    "\n",
    "http_client = RequestsClient()\n",
    "http_client.set_basic_auth(\n",
    "    auth_host,\n",
    "    opc_username, opc_password\n",
    ")\n",
    "http_client\n",
    "# client = SwaggerClient.from_url(\n",
    "#     spec_url,\n",
    "#     http_client=http_client,\n",
    "# )\n"
   ]
  },
  {
   "cell_type": "code",
   "execution_count": null,
   "metadata": {},
   "outputs": [],
   "source": [
    "r = http_client.session.post(url=auth_url, auth=HTTPBasicAuth(opc_username, opc_password))"
   ]
  },
  {
   "cell_type": "code",
   "execution_count": null,
   "metadata": {},
   "outputs": [],
   "source": [
    "r = http_client.session.post(url=auth_url, data=data, params=data, auth=HTTPBasicAuth(opc_username, opc_password))s"
   ]
  },
  {
   "cell_type": "code",
   "execution_count": null,
   "metadata": {},
   "outputs": [],
   "source": [
    "r.text"
   ]
  },
  {
   "cell_type": "code",
   "execution_count": null,
   "metadata": {},
   "outputs": [],
   "source": [
    "r.cookies"
   ]
  },
  {
   "cell_type": "code",
   "execution_count": null,
   "metadata": {},
   "outputs": [],
   "source": [
    "http_client.session.cookies.keys()"
   ]
  },
  {
   "cell_type": "code",
   "execution_count": null,
   "metadata": {},
   "outputs": [],
   "source": [
    "r.text"
   ]
  },
  {
   "cell_type": "code",
   "execution_count": null,
   "metadata": {},
   "outputs": [],
   "source": []
  },
  {
   "cell_type": "code",
   "execution_count": null,
   "metadata": {},
   "outputs": [],
   "source": []
  },
  {
   "cell_type": "code",
   "execution_count": null,
   "metadata": {},
   "outputs": [],
   "source": [
    "import os\n",
    "import json\n",
    "from pathlib import Path\n",
    "from typing import Dict\n",
    "from dataclasses import dataclass\n",
    "from copy import deepcopy\n",
    "\n",
    "import bravado\n",
    "from bravado.client import SwaggerClient, CallableOperation\n",
    "# from bravado.requests_client import RequestsClient\n",
    "from gc3_query.lib.gc3_bravado.requests_client import OCRequestsClient\n",
    "from bravado.requests_client import RequestsResponseAdapter\n",
    "from bravado.swagger_model import load_file\n",
    "from bravado_core.exception import MatchingResponseNotFound\n",
    "from bravado.exception import HTTPBadRequest\n",
    "from bravado.http_future import HttpFuture\n",
    "\n",
    "from tinydb import TinyDB, Query\n",
    "\n",
    "# from prettyprinter import pprint, pformat\n",
    "from pprint import pprint, pformat\n",
    "\n",
    "## https://medium.com/@betz.mark/validate-json-models-with-swagger-and-bravado-5fad6b21a825\n",
    "# Validate json models with swagger and bravado\n",
    "from bravado_core.spec import Spec"
   ]
  },
  {
   "cell_type": "code",
   "execution_count": null,
   "metadata": {},
   "outputs": [],
   "source": [
    "### B01\n",
    "import toml\n",
    "from pathlib import Path\n",
    "\n",
    "from gc3_query.lib import *\n",
    "from gc3_query.lib import gc3_cfg
from gc3_query import BASE_DIR\n",
    "from gc3_query.lib import List, Optional, Any, Callable, Dict, Tuple, Union, Set, Generator, Path\n",
    "\n",
    "from gc3_query.lib.gc3_config import GC3Config, IDMCredential\n",
    "from gc3_query.lib.iaas_classic.iaas_requests_http_client import IaaSRequestsHTTPClient\n",
    "from gc3_query.lib.iaas_classic import IaaSServiceBase, API_SPECS_DIR, IaaSRequestsHTTPClient\n",
    "from gc3_query.lib.iaas_classic.instances import Instances\n"
   ]
  },
  {
   "cell_type": "code",
   "execution_count": null,
   "metadata": {},
   "outputs": [],
   "source": []
  },
  {
   "cell_type": "code",
   "execution_count": null,
   "metadata": {},
   "outputs": [],
   "source": [
    "### B01\n",
    "ORACLE_VPN_CONNECTED=False\n",
    "ASDF='ASDF'"
   ]
  },
  {
   "cell_type": "code",
   "execution_count": null,
   "metadata": {},
   "outputs": [],
   "source": [
    "### B01\n",
    "service = 'Instances'\n",
    "idm_domain = 'gc30003'\n",
    "gc3_config = GC3Config()\n",
    "service_cfg = gc3_config.iaas_classic.services[service]\n",
    "idm_cfg = gc3_config.idm.domains[idm_domain]\n",
    "http_client: IaaSRequestsHTTPClient = IaaSRequestsHTTPClient(idm_cfg=idm_cfg)"
   ]
  },
  {
   "cell_type": "code",
   "execution_count": null,
   "metadata": {},
   "outputs": [],
   "source": [
    "# from secrets import opc_username, opc_password\n",
    "import keyring\n",
    "\n",
    "opc_username = \"eric.harris@oracle.com\"\n",
    "opc_password = keyring.get_password(\"gc3\", \"gc30003\")\n",
    "print(f\"opc_username={opc_username}, opc_password={opc_password}\")"
   ]
  },
  {
   "cell_type": "code",
   "execution_count": null,
   "metadata": {},
   "outputs": [],
   "source": []
  },
  {
   "cell_type": "code",
   "execution_count": null,
   "metadata": {},
   "outputs": [],
   "source": [
    "### B01\n",
    "opc_password = keyring.get_password(service_name=\"gc3@gc30003\", username=\"eric.harris@oracle.com\")\n",
    "print(f\"opc_username={opc_username}, opc_password={opc_password}\")"
   ]
  },
  {
   "cell_type": "code",
   "execution_count": null,
   "metadata": {},
   "outputs": [],
   "source": [
    "idm_domain_name = 'gc30003'\n",
    "idm_service_instance_id = '587626604'\n",
    "iaas_rest_endpoint = r'https://compute.uscom-central-1.oraclecloud.com'\n",
    "iaas_auth_endpoint = f'{iaas_rest_endpoint}/authenticate/'\n",
    "\n",
    "print(f'iaas_rest_endpoint: {iaas_rest_endpoint}')\n",
    "print(f'iaas_auth_endpoint: {iaas_auth_endpoint}\\n')\n",
    "\n",
    "\n",
    "### Username/pass setup\n",
    "idm_domain_username = f'/Compute-{idm_domain_name}/{opc_username}'\n",
    "idm_service_instance_username = f'/Compute-{idm_service_instance_id}/{opc_username}'\n",
    "# username = traditional_iaas_username\n",
    "username = idm_service_instance_username\n",
    "# basic_auth_cred = _basic_auth_str(username, opc_password)\n"
   ]
  },
  {
   "cell_type": "code",
   "execution_count": null,
   "metadata": {},
   "outputs": [],
   "source": [
    "json_data = {\"user\": username, \"password\": opc_password}\n",
    "print(f'idm_domain_username: {idm_domain_username}')\n",
    "print(f'idm_service_instance_username: {idm_service_instance_username}')\n",
    "print(f'username: {username}')"
   ]
  },
  {
   "cell_type": "code",
   "execution_count": null,
   "metadata": {},
   "outputs": [],
   "source": [
    "proxies = {\n",
    "  'http': 'http://www-proxy-ash7.us.oracle.com:80',\n",
    "  'https': 'https://www-proxy-ash7.us.oracle.com:80',\n",
    "}"
   ]
  },
  {
   "cell_type": "code",
   "execution_count": null,
   "metadata": {},
   "outputs": [],
   "source": []
  },
  {
   "cell_type": "code",
   "execution_count": null,
   "metadata": {},
   "outputs": [],
   "source": []
  },
  {
   "cell_type": "code",
   "execution_count": null,
   "metadata": {},
   "outputs": [],
   "source": []
  },
  {
   "cell_type": "code",
   "execution_count": null,
   "metadata": {},
   "outputs": [],
   "source": []
  },
  {
   "cell_type": "code",
   "execution_count": null,
   "metadata": {},
   "outputs": [],
   "source": [
    "################################################################################\n",
    "## Standard Library Imports\n",
    "import sys, os\n",
    "from decimal import Decimal\n",
    "import re\n",
    "\n",
    "################################################################################\n",
    "## Third-Party Imports\n",
    "import dateutil\n",
    "import pytz\n",
    "# from bson.int64 import long\n",
    "from dataclasses import dataclass, field\n",
    "from bravado_core.formatter import SwaggerFormat\n",
    "from bravado_core.exception import SwaggerValidationError\n",
    "\n",
    "################################################################################\n",
    "## Project Imports\n",
    "from numpy import long\n",
    "\n",
    "from gc3_query.lib import *\n",
    "#from gc3_query.lib.gc3logging import get_logging\n",
    "_debug, _info, _warning, _error, _critical = get_logging(name=__name__)"
   ]
  },
  {
   "cell_type": "code",
   "execution_count": null,
   "metadata": {},
   "outputs": [],
   "source": [
    "\n",
    "formats = []\n",
    "\n",
    "\n",
    "def NO_OP(x):\n",
    "    return x\n",
    "\n",
    "\n",
    "\n",
    "\n",
    "DEFAULT_FORMATS = {\n",
    "    'byte': SwaggerFormat(\n",
    "        format='byte',\n",
    "        to_wire=lambda b: b if isinstance(b, str) else str(b),\n",
    "        to_python=lambda s: s if isinstance(s, str) else str(s),\n",
    "        validate=NO_OP,  # jsonschema validates string\n",
    "        description='Converts [wire]string:byte <=> python byte'),\n",
    "    'date': SwaggerFormat(\n",
    "        format='date',\n",
    "        to_wire=lambda d: d.isoformat(),\n",
    "        to_python=lambda d: dateutil.parser.parse(d).date(),\n",
    "        validate=NO_OP,  # jsonschema validates date\n",
    "        description='Converts [wire]string:date <=> python datetime.date'),\n",
    "    # Python has no double. float is C's double in CPython\n",
    "    'double': SwaggerFormat(\n",
    "        format='double',\n",
    "        to_wire=lambda d: d if isinstance(d, float) else float(d),\n",
    "        to_python=lambda d: d if isinstance(d, float) else float(d),\n",
    "        validate=NO_OP,  # jsonschema validates number\n",
    "        description='Converts [wire]number:double <=> python float'),\n",
    "    'date-time': SwaggerFormat(\n",
    "        format='date-time',\n",
    "        to_wire=lambda dt: (dt if dt.tzinfo else pytz.utc.localize(dt)).isoformat(),\n",
    "        to_python=lambda dt: dateutil.parser.parse(dt),\n",
    "        validate=NO_OP,  # jsonschema validates date-time\n",
    "        description=(\n",
    "            'Converts string:date-time <=> python datetime.datetime')),\n",
    "    'float': SwaggerFormat(\n",
    "        format='float',\n",
    "        to_wire=lambda f: f if isinstance(f, float) else float(f),\n",
    "        to_python=lambda f: f if isinstance(f, float) else float(f),\n",
    "        validate=NO_OP,  # jsonschema validates number\n",
    "        description='Converts [wire]number:float <=> python float'),\n",
    "    'int32': SwaggerFormat(\n",
    "        format='int32',\n",
    "        to_wire=lambda i: i if isinstance(i, int) else int(i),\n",
    "        to_python=lambda i: i if isinstance(i, int) else int(i),\n",
    "        validate=NO_OP,  # jsonschema validates integer\n",
    "        description='Converts [wire]integer:int32 <=> python int'),\n",
    "    'int64': SwaggerFormat(\n",
    "        format='int64',\n",
    "        to_wire=lambda i: i if isinstance(i, long) else long(i),\n",
    "        to_python=lambda i: i if isinstance(i, long) else long(i),\n",
    "        validate=NO_OP,  # jsonschema validates integer\n",
    "        description='Converts [wire]integer:int64 <=> python long'),\n",
    "}\n",
    "\n"
   ]
  },
  {
   "cell_type": "code",
   "execution_count": null,
   "metadata": {},
   "outputs": [],
   "source": [
    "integer_format = SwaggerFormat(\n",
    "        format='integer',\n",
    "        to_wire=lambda i: i if isinstance(i, int) else int(i),\n",
    "        to_python=lambda i: i if isinstance(i, int) else int(i),\n",
    "        validate=NO_OP,  # jsonschema validates integer\n",
    "        description='Converts [wire]integer:int32 <=> python int')\n",
    "\n",
    "\n",
    "int64_format = SwaggerFormat(\n",
    "    format='int64',\n",
    "    to_wire=lambda i: i if isinstance(i, long) else long(i),\n",
    "    to_python=lambda i: i if isinstance(i, long) else long(i),\n",
    "    validate=NO_OP,  # jsonschema validates integer\n",
    "    description='Converts [wire]integer:int64 <=> python long')\n",
    "\n",
    "\n",
    "is_decimal = re.compile(r'^\\d+(?:\\.\\d+)?$')\n",
    "\n",
    "def validate_decimaltype(x):\n",
    "  \"\"\"Validate input is a str in valid decimal format\"\"\"\n",
    "  if not (isinstance(x, str) and is_decimal.match(x)):\n",
    "      raise SwaggerValidationError()\n",
    "\n",
    "mydouble = SwaggerFormat(\n",
    "  format='double',\n",
    "  to_wire=lambda x: str(x) if isinstance(x, Decimal) else str(Decimal(x)),\n",
    "  to_python=lambda x: x if isinstance(x, Decimal) else Decimal(x),\n",
    "  validate=validate_decimaltype,\n",
    "  description=\"model format double internally as Decimal()\"\n",
    ")\n",
    "\n",
    "formats.append(integer_format)\n",
    "\n",
    "\n"
   ]
  },
  {
   "cell_type": "code",
   "execution_count": null,
   "metadata": {},
   "outputs": [],
   "source": [
    "class BooleanString:\n",
    "    str_to_bool: Dict[str, bool] = dict(true=True, false=False)\n",
    "\n",
    "    def __init__(self, from_wire: str):\n",
    "        self.from_wire= from_wire\n",
    "        self._as_boolean = self.str_to_bool[from_wire.lower()]\n",
    "        _debug(f'created')\n",
    "        # if self.validate(boolish):\n",
    "        #     self.as_boolean = self.json_bool_values[boolish]\n",
    "        # if self.boolish_literal != self.boolish:\n",
    "        #     _warning(f\"case sensitive data passed, self.boolish_literal={self.boolish_literal}\")\n",
    "\n",
    "    @classmethod\n",
    "    def validate(cls, from_wire: str) -> bool:\n",
    "        _debug(f\"from_wire={from_wire}\")\n",
    "        try:\n",
    "            as_boolean = cls.str_to_bool[from_wire.lower()]\n",
    "        except KeyError:\n",
    "            raise SwaggerValidationError(f\"Value={from_wire} not recognized as BooleanString\")\n",
    "        return isinstance(as_boolean, bool)\n",
    "\n",
    "    def __bool__(self):\n",
    "        return self.as_boolean\n",
    "\n",
    "    @property\n",
    "    def as_boolean(self):\n",
    "        as_boolean = self.str_to_bool[self.from_wire.lower()]\n",
    "        return as_boolean\n",
    "\n",
    "    @property\n",
    "    def as_wire(self):\n",
    "        return self.from_wire\n",
    "\n",
    "    @classmethod\n",
    "    def bool_to_wire(cls, b):\n",
    "        _bool_to_wire = 'true' if b else 'false'\n",
    "        return _bool_to_wire\n",
    "\n",
    "    @classmethod\n",
    "    def str_to_python(cls, s):\n",
    "        _str_to_python = cls.str_to_bool.get(s, False)\n",
    "        return _str_to_python\n",
    "\n",
    "\n",
    "json_bool_format = SwaggerFormat(\n",
    "    # name of the format as used in the Swagger spec\n",
    "    format='json_bool',\n",
    "\n",
    "    # Callable to convert a python object to_wire representations\n",
    "    to_wire=lambda json_bool_instance: json_bool_instance.as_wire,\n",
    "\n",
    "    # Callable to convert a from_wire to a python object\n",
    "    to_python=lambda s: BooleanString(s),\n",
    "\n",
    "    # Callable to validate the cidr in string form\n",
    "    validate=BooleanString.validate,\n",
    "    description='Converts \"true\" and \"false\" to/from equivalent booleans.'\n",
    ")\n",
    "\n",
    "\n",
    "formats.append(json_bool_format)\n",
    "\n"
   ]
  },
  {
   "cell_type": "code",
   "execution_count": null,
   "metadata": {},
   "outputs": [],
   "source": [
    "print(formats)"
   ]
  },
  {
   "cell_type": "markdown",
   "metadata": {},
   "source": [
    "[https://porter.io/github.com/Yelp/bravado]\n",
    "\n",
    "## Example with Basic Authentication\n",
    "\n",
    "\n",
    "```\n",
    "from bravado.requests_client import RequestsClient\n",
    "from bravado.client import SwaggerClient\n",
    "\n",
    "http_client = RequestsClient()\n",
    "http_client.set_basic_auth(\n",
    "    'api.yourhost.com',\n",
    "    'username', 'password'\n",
    ")\n",
    "client = SwaggerClient.from_url(\n",
    "    'http://petstore.swagger.io/v2/swagger.json',\n",
    "    http_client=http_client,\n",
    ")\n",
    "pet = client.pet.getPetById(petId=42).response().result\n",
    "\n",
    "```\n",
    "\n",
    "## IaaS Compute Authentication\n",
    "\n",
    "API calls to Compute Classic require basic authentication (user name and password). **You can pass your username and password with every API call or you can pass a valid authentication token**. To get a valid authentication token, send an HTTP request to authenticate the user credentials. If the authentication request succeeds, the server returns a cookie containing an authentication token that is valid for 30 minutes. The client making the API calls must include this cookie in the API calls.\n",
    "\n",
    "To request for an authentication token and store the authentication token in an environment variable:\n"
   ]
  },
  {
   "cell_type": "code",
   "execution_count": null,
   "metadata": {},
   "outputs": [],
   "source": [
    "import json"
   ]
  },
  {
   "cell_type": "code",
   "execution_count": null,
   "metadata": {},
   "outputs": [],
   "source": [
    "from bravado_core.formatter import SwaggerFormat  # noqa\n",
    "from bravado_core.param import marshal_param\n",
    "from bravado_core.spec import Spec"
   ]
  },
  {
   "cell_type": "code",
   "execution_count": null,
   "metadata": {},
   "outputs": [],
   "source": [
    "from bravado.requests_client import RequestsClient\n",
    "from bravado.client import SwaggerClient\n",
    "from bravado.swagger_model import load_file\n",
    "\n",
    "\n"
   ]
  },
  {
   "cell_type": "code",
   "execution_count": null,
   "metadata": {},
   "outputs": [],
   "source": [
    "# from secrets import opc_username, opc_password\n",
    "import keyring\n",
    "\n",
    "opc_username = \"eric.harris@oracle.com\"\n",
    "opc_password = keyring.get_password(service_name=\"gc3@gc30003\", username=\"eric.harris@oracle.com\")\n",
    "print(f\"opc_username={opc_username}, opc_password={opc_password}\")"
   ]
  },
  {
   "cell_type": "code",
   "execution_count": null,
   "metadata": {},
   "outputs": [],
   "source": [
    "################################################################################\n",
    "## Standard Library Imports\n",
    "import sys, os\n",
    "from decimal import Decimal\n",
    "import re\n",
    "\n",
    "################################################################################\n",
    "## Third-Party Imports\n",
    "import dateutil\n",
    "import pytz\n",
    "# from bson.int64 import long\n",
    "from dataclasses import dataclass, field\n",
    "from bravado_core.formatter import SwaggerFormat\n",
    "from bravado_core.exception import SwaggerValidationError\n",
    "\n",
    "################################################################################\n",
    "## Project Imports\n",
    "from numpy import long\n",
    "\n",
    "from gc3_query.lib import *\n",
    "#from gc3_query.lib.gc3logging import get_logging\n",
    "_debug, _info, _warning, _error, _critical = get_logging(name=__name__)"
   ]
  },
  {
   "cell_type": "code",
   "execution_count": null,
   "metadata": {},
   "outputs": [],
   "source": [
    "\n",
    "formats = []\n",
    "\n",
    "\n",
    "def NO_OP(x):\n",
    "    return x\n",
    "\n",
    "\n",
    "\n",
    "\n",
    "DEFAULT_FORMATS = {\n",
    "    'byte': SwaggerFormat(\n",
    "        format='byte',\n",
    "        to_wire=lambda b: b if isinstance(b, str) else str(b),\n",
    "        to_python=lambda s: s if isinstance(s, str) else str(s),\n",
    "        validate=NO_OP,  # jsonschema validates string\n",
    "        description='Converts [wire]string:byte <=> python byte'),\n",
    "    'date': SwaggerFormat(\n",
    "        format='date',\n",
    "        to_wire=lambda d: d.isoformat(),\n",
    "        to_python=lambda d: dateutil.parser.parse(d).date(),\n",
    "        validate=NO_OP,  # jsonschema validates date\n",
    "        description='Converts [wire]string:date <=> python datetime.date'),\n",
    "    # Python has no double. float is C's double in CPython\n",
    "    'double': SwaggerFormat(\n",
    "        format='double',\n",
    "        to_wire=lambda d: d if isinstance(d, float) else float(d),\n",
    "        to_python=lambda d: d if isinstance(d, float) else float(d),\n",
    "        validate=NO_OP,  # jsonschema validates number\n",
    "        description='Converts [wire]number:double <=> python float'),\n",
    "    'date-time': SwaggerFormat(\n",
    "        format='date-time',\n",
    "        to_wire=lambda dt: (dt if dt.tzinfo else pytz.utc.localize(dt)).isoformat(),\n",
    "        to_python=lambda dt: dateutil.parser.parse(dt),\n",
    "        validate=NO_OP,  # jsonschema validates date-time\n",
    "        description=(\n",
    "            'Converts string:date-time <=> python datetime.datetime')),\n",
    "    'float': SwaggerFormat(\n",
    "        format='float',\n",
    "        to_wire=lambda f: f if isinstance(f, float) else float(f),\n",
    "        to_python=lambda f: f if isinstance(f, float) else float(f),\n",
    "        validate=NO_OP,  # jsonschema validates number\n",
    "        description='Converts [wire]number:float <=> python float'),\n",
    "    'int32': SwaggerFormat(\n",
    "        format='int32',\n",
    "        to_wire=lambda i: i if isinstance(i, int) else int(i),\n",
    "        to_python=lambda i: i if isinstance(i, int) else int(i),\n",
    "        validate=NO_OP,  # jsonschema validates integer\n",
    "        description='Converts [wire]integer:int32 <=> python int'),\n",
    "    'int64': SwaggerFormat(\n",
    "        format='int64',\n",
    "        to_wire=lambda i: i if isinstance(i, long) else long(i),\n",
    "        to_python=lambda i: i if isinstance(i, long) else long(i),\n",
    "        validate=NO_OP,  # jsonschema validates integer\n",
    "        description='Converts [wire]integer:int64 <=> python long'),\n",
    "}\n",
    "\n"
   ]
  },
  {
   "cell_type": "code",
   "execution_count": null,
   "metadata": {},
   "outputs": [],
   "source": [
    "class BooleanString:\n",
    "    str_to_bool: Dict[str, bool] = dict(true=True, false=False)\n",
    "\n",
    "    def __init__(self, from_wire: str):\n",
    "        self.from_wire= from_wire\n",
    "        self._as_boolean = self.str_to_bool[from_wire.lower()]\n",
    "        _debug(f'created')\n",
    "        # if self.validate(boolish):\n",
    "        #     self.as_boolean = self.json_bool_values[boolish]\n",
    "        # if self.boolish_literal != self.boolish:\n",
    "        #     _warning(f\"case sensitive data passed, self.boolish_literal={self.boolish_literal}\")\n",
    "\n",
    "    @classmethod\n",
    "    def validate(cls, from_wire: str) -> bool:\n",
    "        _debug(f\"from_wire={from_wire}\")\n",
    "        try:\n",
    "            as_boolean = cls.str_to_bool[from_wire.lower()]\n",
    "        except KeyError:\n",
    "            raise SwaggerValidationError(f\"Value={from_wire} not recognized as BooleanString\")\n",
    "        return isinstance(as_boolean, bool)\n",
    "\n",
    "    def __bool__(self):\n",
    "        return self.as_boolean\n",
    "\n",
    "    @property\n",
    "    def as_boolean(self):\n",
    "        as_boolean = self.str_to_bool[self.from_wire.lower()]\n",
    "        return as_boolean\n",
    "\n",
    "    @property\n",
    "    def as_wire(self):\n",
    "        return self.from_wire\n",
    "\n",
    "    @classmethod\n",
    "    def bool_to_wire(cls, b):\n",
    "        _bool_to_wire = 'true' if b else 'false'\n",
    "        return _bool_to_wire\n",
    "\n",
    "    @classmethod\n",
    "    def str_to_python(cls, s):\n",
    "        _str_to_python = cls.str_to_bool.get(s, False)\n",
    "        return _str_to_python\n",
    "\n",
    "\n",
    "json_bool_format = SwaggerFormat(\n",
    "    # name of the format as used in the Swagger spec\n",
    "    format='json_bool',\n",
    "\n",
    "    # Callable to convert a python object to_wire representations\n",
    "    to_wire=lambda json_bool_instance: json_bool_instance.as_wire,\n",
    "\n",
    "    # Callable to convert a from_wire to a python object\n",
    "    to_python=lambda s: BooleanString(s),\n",
    "\n",
    "    # Callable to validate the cidr in string form\n",
    "    validate=BooleanString.validate,\n",
    "    description='Converts \"true\" and \"false\" to/from equivalent booleans.'\n",
    ")\n",
    "\n",
    "\n",
    "formats.append(json_bool_format)\n",
    "\n"
   ]
  },
  {
   "cell_type": "code",
   "execution_count": null,
   "metadata": {},
   "outputs": [],
   "source": [
    "rest_endpoint = 'https://compute.uscom-central-1.oraclecloud.com'\n",
    "swagger_file = 'SecRules.json'\n",
    "\n",
    "\n",
    "config = {'validate_responses': True, \n",
    "          'validate_requests': True, \n",
    "          'validate_swagger_spec': True, \n",
    "          'use_models': True, \n",
    "          'include_missing_properties': True,\n",
    "          'default_type_to_object': True, \n",
    "          'internally_dereference_refs': False, \n",
    "          'formats': [json_bool_format]}\n",
    "\n",
    "\n",
    "\n"
   ]
  },
  {
   "cell_type": "code",
   "execution_count": null,
   "metadata": {},
   "outputs": [],
   "source": [
    "# Spec.from_dict(cls, spec_dict, origin_url=None, http_client=None, config=None):\n",
    "spec_dict = json.loads(open(swagger_file, 'r').read())\n",
    "swagger_spec = Spec.from_dict(spec_dict=spec_dict, origin_url=rest_endpoint , config=config)"
   ]
  },
  {
   "cell_type": "code",
   "execution_count": null,
   "metadata": {},
   "outputs": [],
   "source": [
    "print(f\"user_defined_formats=[{swagger_spec.user_defined_formats}]\")\n",
    "print(swagger_spec.origin_url)\n",
    "print(swagger_spec.api_url)"
   ]
  },
  {
   "cell_type": "code",
   "execution_count": null,
   "metadata": {},
   "outputs": [],
   "source": [
    "print(swagger_spec.config)\n"
   ]
  },
  {
   "cell_type": "code",
   "execution_count": null,
   "metadata": {},
   "outputs": [],
   "source": [
    "http_client = RequestsClient()\n",
    "http_client.set_basic_auth(rest_endpoint, opc_username, opc_password)\n"
   ]
  },
  {
   "cell_type": "code",
   "execution_count": null,
   "metadata": {},
   "outputs": [],
   "source": [
    "# SwaggerClient.from_spec(spec_dict, origin_url=None, http_client=None, config=None)"
   ]
  },
  {
   "cell_type": "code",
   "execution_count": null,
   "metadata": {},
   "outputs": [],
   "source": [
    "# client = SwaggerClient.from_url(\n",
    "#     'http://petstore.swagger.io/v2/swagger.json',\n",
    "#     http_client=http_client,\n",
    "# )\n",
    "# pet = client.pet.getPetById(petId=42).response().result\n"
   ]
  },
  {
   "cell_type": "code",
   "execution_count": null,
   "metadata": {},
   "outputs": [],
   "source": [
    "client = SwaggerClient.from_spec(spec_dict=spec_dict, origin_url=rest_endpoint, http_client=http_client, config=config)"
   ]
  },
  {
   "cell_type": "code",
   "execution_count": null,
   "metadata": {},
   "outputs": [],
   "source": [
    "print(f\"user_defined_formats=[{client.swagger_spec.user_defined_formats}]\")\n",
    "print(client.swagger_spec.origin_url)\n",
    "print(client.swagger_spec.api_url)\n",
    "print(f\"bravado_config=[{client.swagger_spec.config['bravado']}]\")\n"
   ]
  },
  {
   "cell_type": "code",
   "execution_count": null,
   "metadata": {},
   "outputs": [],
   "source": [
    "print(client.swagger_spec.config)"
   ]
  },
  {
   "cell_type": "code",
   "execution_count": null,
   "metadata": {},
   "outputs": [],
   "source": [
    "dir(client)"
   ]
  },
  {
   "cell_type": "code",
   "execution_count": null,
   "metadata": {},
   "outputs": [],
   "source": [
    "config.keys()"
   ]
  },
  {
   "cell_type": "markdown",
   "metadata": {},
   "source": [
    "```\n",
    "service_operations = <bravado.client.ResourceDecorator object at 0x000001969CDF3BE0>\n",
    "service_operation_name = 'getSecRule'\n",
    "service_operation = getattr(service_operations, service_operation_name)\n",
    "operation_headers={'Accept': 'application/oracle-compute-v3+json', 'Content-Type': 'application/oracle-compute-v3+json'}\n",
    "partial_service_operation = partial(service_operation, _request_options={\"headers\": operation_headers})\n",
    "p = functools.partial(<bravado.client.CallableOperation object at 0x000001969CDDAB00>, _request_options={'headers': {'Accept': 'application/oracle-compute-v3+json', 'Content-Type': 'application/oracle-compute-v3+json'}})\n",
    "\n",
    "```\n"
   ]
  },
  {
   "cell_type": "markdown",
   "metadata": {},
   "source": [
    "```\n",
    "self.idm_root_container_name\n",
    "Out[2]: 'Compute-587626604'\n",
    "http_future = self.bravado_service_operations.listSecRule(container=self.idm_root_container_name)\n",
    "\n",
    "\n",
    "\n",
    "\n",
    "self.idm_root_container_name\n",
    "Out[2]: 'Compute-587626604'\n",
    "request_url\n",
    "Out[3]: 'https://compute.uscom-central-1.oraclecloud.com/secrule/Compute-587626604/'\n",
    "\n",
    "\n",
    "```"
   ]
  },
  {
   "cell_type": "code",
   "execution_count": null,
   "metadata": {},
   "outputs": [],
   "source": []
  }
 ],
 "metadata": {
  "kernelspec": {
   "display_name": "Python 3",
   "language": "python",
   "name": "python3"
  },
  "language_info": {
   "codemirror_mode": {
    "name": "ipython",
    "version": 3
   },
   "file_extension": ".py",
   "mimetype": "text/x-python",
   "name": "python",
   "nbconvert_exporter": "python",
   "pygments_lexer": "ipython3",
   "version": "3.6.6"
  }
 },
 "nbformat": 4,
 "nbformat_minor": 2
}
