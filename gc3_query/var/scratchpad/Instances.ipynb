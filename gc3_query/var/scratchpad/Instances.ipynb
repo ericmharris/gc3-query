{
 "cells": [
  {
   "cell_type": "markdown",
   "metadata": {},
   "source": [
    "## Oracle Cloud Instance POC\n"
   ]
  },
  {
   "cell_type": "code",
   "execution_count": 1,
   "metadata": {},
   "outputs": [],
   "source": [
    "import os\n",
    "import json\n",
    "from pathlib import Path\n",
    "from typing import Dict\n",
    "\n",
    "import bravado\n",
    "from bravado.client import SwaggerClient\n",
    "# from bravado.requests_client import RequestsClient\n",
    "from gc3_query.lib.bravado.requests_client import OPCRequestsClient\n",
    "from bravado.swagger_model import load_file\n",
    "from secrets import opc_username, opc_password\n",
    "from bravado_core.exception import MatchingResponseNotFound\n",
    "from bravado.exception import HTTPBadRequest\n",
    "from bravado.http_future import HttpFuture\n",
    "\n",
    "from tinydb import TinyDB, Query\n",
    "\n",
    "# from prettyprinter import pprint, pformat\n",
    "from pprint import pprint, pformat\n",
    "\n",
    "## https://medium.com/@betz.mark/validate-json-models-with-swagger-and-bravado-5fad6b21a825\n",
    "# Validate json models with swagger and bravado\n",
    "from bravado_core.spec import Spec\n",
    "\n"
   ]
  },
  {
   "cell_type": "code",
   "execution_count": 2,
   "metadata": {},
   "outputs": [
    {
     "name": "stdout",
     "output_type": "stream",
     "text": [
      "iaas_rest_endpoint: https://compute.uscom-central-1.oraclecloud.com\n",
      "iaas_auth_endpoint: https://compute.uscom-central-1.oraclecloud.com/authenticate/\n",
      "\n"
     ]
    }
   ],
   "source": [
    "idm_domain_name = 'gc30003'\n",
    "idm_service_instance_id = '587626604'\n",
    "iaas_rest_endpoint = r'https://compute.uscom-central-1.oraclecloud.com'\n",
    "iaas_auth_endpoint = f'{iaas_rest_endpoint}/authenticate/'\n",
    "\n",
    "print(f'iaas_rest_endpoint: {iaas_rest_endpoint}')\n",
    "print(f'iaas_auth_endpoint: {iaas_auth_endpoint}\\n')\n",
    "\n",
    "\n",
    "### Username/pass setup\n",
    "idm_domain_username = f'/Compute-{idm_domain_name}/{opc_username}'\n",
    "idm_service_instance_username = f'/Compute-{idm_service_instance_id}/{opc_username}'\n",
    "# username = traditional_iaas_username\n",
    "username = idm_service_instance_username\n",
    "# basic_auth_cred = _basic_auth_str(username, opc_password)\n"
   ]
  },
  {
   "cell_type": "code",
   "execution_count": 3,
   "metadata": {},
   "outputs": [
    {
     "name": "stdout",
     "output_type": "stream",
     "text": [
      "idm_domain_username: /Compute-gc30003/eric.harris@oracle.com\n",
      "idm_service_instance_username: /Compute-587626604/eric.harris@oracle.com\n",
      "username: /Compute-587626604/eric.harris@oracle.com\n"
     ]
    }
   ],
   "source": [
    "json_data = {\"user\": username, \"password\": opc_password}\n",
    "print(f'idm_domain_username: {idm_domain_username}')\n",
    "print(f'idm_service_instance_username: {idm_service_instance_username}')\n",
    "print(f'username: {username}')"
   ]
  },
  {
   "cell_type": "markdown",
   "metadata": {},
   "source": [
    "#### Create DB to store Instance data"
   ]
  },
  {
   "cell_type": "code",
   "execution_count": 4,
   "metadata": {},
   "outputs": [],
   "source": [
    "instances_db = TinyDB('instances.tdb.json')"
   ]
  },
  {
   "cell_type": "markdown",
   "metadata": {},
   "source": [
    "####  Authenticate and get header token\n"
   ]
  },
  {
   "cell_type": "code",
   "execution_count": 5,
   "metadata": {},
   "outputs": [
    {
     "name": "stdout",
     "output_type": "stream",
     "text": [
      "requests_client.session.headers before update: {'User-Agent': 'python-requests/2.18.4', 'Accept-Encoding': 'gzip, deflate', 'Accept': 'application/oracle-compute-v3+directory+json', 'Connection': 'keep-alive', 'Content-Type': 'application/oracle-compute-v3+json'}\n",
      "\n",
      "requests_client.session.headers after update: {'User-Agent': 'python-requests/2.18.4', 'Accept-Encoding': 'gzip, deflate', 'Accept': 'application/oracle-compute-v3+directory+json', 'Connection': 'keep-alive', 'Content-Type': 'application/oracle-compute-v3+json'}\n",
      "\n",
      "Response OK: True, Status Code: 204, URL: https://compute.uscom-central-1.oraclecloud.com/authenticate/\n",
      "Auth request succeess.\n",
      "\n",
      "\n",
      "Session Cookies: <RequestsCookieJar[<Cookie nimbula=eyJpZGVudGl0eSI6ICJ7XCJyZWFsbVwiOiBcInVzY29tLWNlbnRyYWwtMVwiLCBcInZhbHVlXCI6IFwie1xcXCJjdXN0b21lclxcXCI6IFxcXCJDb21wdXRlLTU4NzYyNjYwNFxcXCIsIFxcXCJyZWFsbVxcXCI6IFxcXCJ1c2NvbS1jZW50cmFsLTFcXFwiLCBcXFwiZW50aXR5X3R5cGVcXFwiOiBcXFwidXNlclxcXCIsIFxcXCJzZXNzaW9uX2V4cGlyZXNcXFwiOiAxNTIzOTg2NzY5LjEyNjc5MjksIFxcXCJleHBpcmVzXFxcIjogMTUyMzk3Nzc2OS4xMjY4MjEsIFxcXCJ1c2VyXFxcIjogXFxcIi9Db21wdXRlLTU4NzYyNjYwNC9lcmljLmhhcnJpc0BvcmFjbGUuY29tXFxcIiwgXFxcImdyb3Vwc1xcXCI6IFtcXFwiL0NvbXB1dGUtNTg3NjI2NjA0L0NvbXB1dGUuQ29tcHV0ZV9PcGVyYXRpb25zXFxcIiwgXFxcIi9Db21wdXRlLTU4NzYyNjYwNC9Db21wdXRlLkNvbXB1dGVfTW9uaXRvclxcXCJdfVwiLCBcInNpZ25hdHVyZVwiOiBcIlljNVZraGtUMWlvWUE5bjMyY1ZxQXllN01tYXpSR01PbmlkcUgyZVRSSnlwdUR2SFBHYk1Na0FSMi9tVVZoajFGd1VNYkxVSGpFTzBmdEJraUJ2bzRLZVRNUHlIVnk1UEUzSzlUYmhBNGN4elQ0U2lWL2dLbzRZMktkc0ZoMnNGcmpvYjJVa21mdHZ1R3hpd2tmcEJJbyt3R3hLUnZBQXVCaHlDM1RxUVI5MmIveEJjT2x2dGxFY2t2RTZ6R25UNDNRTlZNVDdYSVhMV0NmT1RrMlMyWUF0R2RzZkdOZ1hac3ROWHVENGd1S2NJOHBOcVpITUFGYmVVbDJaWjZDM0w3S3N5c0V0eVJjWUNkT1NRS085UUQ0cm5ickNITHlBNE1ENGs0eVBDV01YMG1EeExISjVEMzNFdDhqU0NQVTQwVGxoa2V0S1o4RlhTQnBncEZ2NU43dz09XCJ9In0= for compute.uscom-central-1.oraclecloud.com/>]>\n",
      "\n",
      "Response Headers['Set-Cookie']: nimbula=eyJpZGVudGl0eSI6ICJ7XCJyZWFsbVwiOiBcInVzY29tLWNlbnRyYWwtMVwiLCBcInZhbHVlXCI6IFwie1xcXCJjdXN0b21lclxcXCI6IFxcXCJDb21wdXRlLTU4NzYyNjYwNFxcXCIsIFxcXCJyZWFsbVxcXCI6IFxcXCJ1c2NvbS1jZW50cmFsLTFcXFwiLCBcXFwiZW50aXR5X3R5cGVcXFwiOiBcXFwidXNlclxcXCIsIFxcXCJzZXNzaW9uX2V4cGlyZXNcXFwiOiAxNTIzOTg2NzY5LjEyNjc5MjksIFxcXCJleHBpcmVzXFxcIjogMTUyMzk3Nzc2OS4xMjY4MjEsIFxcXCJ1c2VyXFxcIjogXFxcIi9Db21wdXRlLTU4NzYyNjYwNC9lcmljLmhhcnJpc0BvcmFjbGUuY29tXFxcIiwgXFxcImdyb3Vwc1xcXCI6IFtcXFwiL0NvbXB1dGUtNTg3NjI2NjA0L0NvbXB1dGUuQ29tcHV0ZV9PcGVyYXRpb25zXFxcIiwgXFxcIi9Db21wdXRlLTU4NzYyNjYwNC9Db21wdXRlLkNvbXB1dGVfTW9uaXRvclxcXCJdfVwiLCBcInNpZ25hdHVyZVwiOiBcIlljNVZraGtUMWlvWUE5bjMyY1ZxQXllN01tYXpSR01PbmlkcUgyZVRSSnlwdUR2SFBHYk1Na0FSMi9tVVZoajFGd1VNYkxVSGpFTzBmdEJraUJ2bzRLZVRNUHlIVnk1UEUzSzlUYmhBNGN4elQ0U2lWL2dLbzRZMktkc0ZoMnNGcmpvYjJVa21mdHZ1R3hpd2tmcEJJbyt3R3hLUnZBQXVCaHlDM1RxUVI5MmIveEJjT2x2dGxFY2t2RTZ6R25UNDNRTlZNVDdYSVhMV0NmT1RrMlMyWUF0R2RzZkdOZ1hac3ROWHVENGd1S2NJOHBOcVpITUFGYmVVbDJaWjZDM0w3S3N5c0V0eVJjWUNkT1NRS085UUQ0cm5ickNITHlBNE1ENGs0eVBDV01YMG1EeExISjVEMzNFdDhqU0NQVTQwVGxoa2V0S1o4RlhTQnBncEZ2NU43dz09XCJ9In0=; Path=/; Max-Age=1800\n",
      "requests_client.session.headers before update: {'User-Agent': 'python-requests/2.18.4', 'Accept-Encoding': 'gzip, deflate', 'Accept': 'application/oracle-compute-v3+directory+json', 'Connection': 'keep-alive', 'Content-Type': 'application/oracle-compute-v3+json'}\n",
      "\n",
      "cookie_header: {'Cookie': 'nimbula=eyJpZGVudGl0eSI6ICJ7XCJyZWFsbVwiOiBcInVzY29tLWNlbnRyYWwtMVwiLCBcInZhbHVlXCI6IFwie1xcXCJjdXN0b21lclxcXCI6IFxcXCJDb21wdXRlLTU4NzYyNjYwNFxcXCIsIFxcXCJyZWFsbVxcXCI6IFxcXCJ1c2NvbS1jZW50cmFsLTFcXFwiLCBcXFwiZW50aXR5X3R5cGVcXFwiOiBcXFwidXNlclxcXCIsIFxcXCJzZXNzaW9uX2V4cGlyZXNcXFwiOiAxNTIzOTg2NzY5LjEyNjc5MjksIFxcXCJleHBpcmVzXFxcIjogMTUyMzk3Nzc2OS4xMjY4MjEsIFxcXCJ1c2VyXFxcIjogXFxcIi9Db21wdXRlLTU4NzYyNjYwNC9lcmljLmhhcnJpc0BvcmFjbGUuY29tXFxcIiwgXFxcImdyb3Vwc1xcXCI6IFtcXFwiL0NvbXB1dGUtNTg3NjI2NjA0L0NvbXB1dGUuQ29tcHV0ZV9PcGVyYXRpb25zXFxcIiwgXFxcIi9Db21wdXRlLTU4NzYyNjYwNC9Db21wdXRlLkNvbXB1dGVfTW9uaXRvclxcXCJdfVwiLCBcInNpZ25hdHVyZVwiOiBcIlljNVZraGtUMWlvWUE5bjMyY1ZxQXllN01tYXpSR01PbmlkcUgyZVRSSnlwdUR2SFBHYk1Na0FSMi9tVVZoajFGd1VNYkxVSGpFTzBmdEJraUJ2bzRLZVRNUHlIVnk1UEUzSzlUYmhBNGN4elQ0U2lWL2dLbzRZMktkc0ZoMnNGcmpvYjJVa21mdHZ1R3hpd2tmcEJJbyt3R3hLUnZBQXVCaHlDM1RxUVI5MmIveEJjT2x2dGxFY2t2RTZ6R25UNDNRTlZNVDdYSVhMV0NmT1RrMlMyWUF0R2RzZkdOZ1hac3ROWHVENGd1S2NJOHBOcVpITUFGYmVVbDJaWjZDM0w3S3N5c0V0eVJjWUNkT1NRS085UUQ0cm5ickNITHlBNE1ENGs0eVBDV01YMG1EeExISjVEMzNFdDhqU0NQVTQwVGxoa2V0S1o4RlhTQnBncEZ2NU43dz09XCJ9In0=; Path=/; Max-Age=1800'}\n",
      "\n",
      "requests_client.session.headers after update: {'User-Agent': 'python-requests/2.18.4', 'Accept-Encoding': 'gzip, deflate', 'Accept': 'application/oracle-compute-v3+directory+json', 'Connection': 'keep-alive', 'Content-Type': 'application/oracle-compute-v3+json', 'Cookie': 'nimbula=eyJpZGVudGl0eSI6ICJ7XCJyZWFsbVwiOiBcInVzY29tLWNlbnRyYWwtMVwiLCBcInZhbHVlXCI6IFwie1xcXCJjdXN0b21lclxcXCI6IFxcXCJDb21wdXRlLTU4NzYyNjYwNFxcXCIsIFxcXCJyZWFsbVxcXCI6IFxcXCJ1c2NvbS1jZW50cmFsLTFcXFwiLCBcXFwiZW50aXR5X3R5cGVcXFwiOiBcXFwidXNlclxcXCIsIFxcXCJzZXNzaW9uX2V4cGlyZXNcXFwiOiAxNTIzOTg2NzY5LjEyNjc5MjksIFxcXCJleHBpcmVzXFxcIjogMTUyMzk3Nzc2OS4xMjY4MjEsIFxcXCJ1c2VyXFxcIjogXFxcIi9Db21wdXRlLTU4NzYyNjYwNC9lcmljLmhhcnJpc0BvcmFjbGUuY29tXFxcIiwgXFxcImdyb3Vwc1xcXCI6IFtcXFwiL0NvbXB1dGUtNTg3NjI2NjA0L0NvbXB1dGUuQ29tcHV0ZV9PcGVyYXRpb25zXFxcIiwgXFxcIi9Db21wdXRlLTU4NzYyNjYwNC9Db21wdXRlLkNvbXB1dGVfTW9uaXRvclxcXCJdfVwiLCBcInNpZ25hdHVyZVwiOiBcIlljNVZraGtUMWlvWUE5bjMyY1ZxQXllN01tYXpSR01PbmlkcUgyZVRSSnlwdUR2SFBHYk1Na0FSMi9tVVZoajFGd1VNYkxVSGpFTzBmdEJraUJ2bzRLZVRNUHlIVnk1UEUzSzlUYmhBNGN4elQ0U2lWL2dLbzRZMktkc0ZoMnNGcmpvYjJVa21mdHZ1R3hpd2tmcEJJbyt3R3hLUnZBQXVCaHlDM1RxUVI5MmIveEJjT2x2dGxFY2t2RTZ6R25UNDNRTlZNVDdYSVhMV0NmT1RrMlMyWUF0R2RzZkdOZ1hac3ROWHVENGd1S2NJOHBOcVpITUFGYmVVbDJaWjZDM0w3S3N5c0V0eVJjWUNkT1NRS085UUQ0cm5ickNITHlBNE1ENGs0eVBDV01YMG1EeExISjVEMzNFdDhqU0NQVTQwVGxoa2V0S1o4RlhTQnBncEZ2NU43dz09XCJ9In0=; Path=/; Max-Age=1800'}\n",
      "\n"
     ]
    }
   ],
   "source": [
    "headers = dict([('Content-Type', 'application/oracle-compute-v3+json'),\n",
    "                ('Accept', 'application/oracle-compute-v3+directory+json'),\n",
    "                ])\n",
    "requests_client = OPCRequestsClient()\n",
    "requests_client.session.headers.update(headers)\n",
    "\n",
    "print(f\"requests_client.session.headers before update: {requests_client.session.headers}\\n\")\n",
    "requests_client.session.headers.update(headers)\n",
    "print(f\"requests_client.session.headers after update: {requests_client.session.headers}\\n\")\n",
    "\n",
    "response = requests_client.session.post(url=iaas_auth_endpoint, json=json_data)\n",
    "print(f'Response OK: {response.ok}, Status Code: {response.status_code}, URL: {response.url}')\n",
    "if response.ok and 'Set-Cookie' in response.headers:\n",
    "    print(f\"Auth request succeess.\\n\")\n",
    "    ### The auth cookie is already placed in the session ... nothing else needs to be done.\n",
    "    print(f\"\\nSession Cookies: {requests_client.session.cookies}\")\n",
    "    print(f\"\\nResponse Headers['Set-Cookie']: {response.headers['Set-Cookie']}\")\n",
    "else:\n",
    "    print(f'Something failed! Response OK: {response.ok}, Status Code: {response.status_code}')\n",
    "\n",
    "print(f\"requests_client.session.headers before update: {requests_client.session.headers}\\n\")\n",
    "cookie_header = {'Cookie': response.headers['Set-Cookie']}\n",
    "print(f\"cookie_header: {cookie_header}\\n\")\n",
    "requests_client.session.headers.update(cookie_header)\n",
    "print(f\"requests_client.session.headers after update: {requests_client.session.headers}\\n\")\n"
   ]
  },
  {
   "cell_type": "code",
   "execution_count": 6,
   "metadata": {},
   "outputs": [],
   "source": [
    "## Update the swagger spec to use https\n",
    "spec_file_path = Path().joinpath('open_api_definitions/iaas_instances.json').resolve()\n",
    "spec_dict = load_file(spec_file_path)\n",
    "spec_dict['schemes'] = ['https']\n"
   ]
  },
  {
   "cell_type": "code",
   "execution_count": 7,
   "metadata": {},
   "outputs": [],
   "source": [
    "headers = dict([('Content-Type', 'application/oracle-compute-v3+json'),\n",
    "                ('Accept', 'application/oracle-compute-v3+json, application/oracle-compute-v3+directory+json, json, text/html')\n",
    "                ])\n",
    "\n",
    "# headers = dict([('Content-Type', 'application/oracle-compute-v3+json'),\n",
    "#                 ('Accept', 'application/oracle-compute-v3+json, json, text/html')])"
   ]
  },
  {
   "cell_type": "code",
   "execution_count": 8,
   "metadata": {},
   "outputs": [],
   "source": [
    "proxies = {\n",
    "  'http': 'http://www-proxy-ash7.us.oracle.com:80',\n",
    "  'https': 'https://www-proxy-ash7.us.oracle.com:80',\n",
    "}"
   ]
  },
  {
   "cell_type": "code",
   "execution_count": 9,
   "metadata": {},
   "outputs": [],
   "source": [
    "requests_client = OPCRequestsClient()\n",
    "requests_client.session.headers.update(headers)\n",
    "requests_client.session.proxies.update(proxies)\n",
    "requests_client.session.headers.update(cookie_header)\n",
    "swagger_client = SwaggerClient.from_spec(spec_dict=spec_dict,\n",
    "                                         origin_url=iaas_rest_endpoint,\n",
    "                                         http_client=requests_client,\n",
    "                                         # config={'also_return_response': True,\n",
    "                                         #         'validate_responses': True,\n",
    "                                         #         'validate_requests': True,\n",
    "                                         #         'validate_swagger_spec': True})\n",
    "                                         # config={'also_return_response': True,\n",
    "                                         #         'validate_responses': False,\n",
    "                                         #         'validate_requests': True,\n",
    "                                         #         'validate_swagger_spec': True})\n",
    "                                         config={'also_return_response': True,\n",
    "                                                 'validate_responses': False,\n",
    "                                                 'validate_requests': False,\n",
    "                                                 'validate_swagger_spec': False})\n",
    "instances_resource = swagger_client.Instances"
   ]
  },
  {
   "cell_type": "code",
   "execution_count": 10,
   "metadata": {},
   "outputs": [
    {
     "name": "stdout",
     "output_type": "stream",
     "text": [
      "Operation discoverRootInstance starting.\n",
      "REST url for discoverRootInstance: https://compute.uscom-central-1.oraclecloud.com/instance/\n",
      "\n",
      "discoverRootInstance operation_details:\n",
      "HTTP method: get\n",
      "API url: https://compute.uscom-central-1.oraclecloud.com/instance/:\n",
      " {'result': ['/Compute-587626604/']}\n",
      "\n",
      "Operation discoverRootInstance finished.\n",
      "\n"
     ]
    }
   ],
   "source": [
    "operation_id = \"discoverRootInstance\"\n",
    "print(f\"Operation {operation_id} starting.\")\n",
    "try:\n",
    "    operation_future = getattr(instances_resource, operation_id)()\n",
    "    url = operation_future.future.request.url\n",
    "    print(f\"REST url for {operation_id}: {url}\")\n",
    "    operation_result, operation_response = operation_future.result()\n",
    "except HTTPBadRequest:\n",
    "    print(\"Request failed for {operation_id}! \")\n",
    "    print(f\"URL: {operation_future.future.request.url}\")\n",
    "    raise\n",
    "operation_details = json.loads(operation_result)\n",
    "print(\"\\n{} operation_details:\\nHTTP method: {}\\nAPI url: {}:\\n {}\\n\".format(operation_id, operation_future.operation.http_method, url, pformat(operation_details)))\n",
    "print(f\"Operation {operation_id} finished.\\n\")"
   ]
  },
  {
   "cell_type": "code",
   "execution_count": 11,
   "metadata": {},
   "outputs": [
    {
     "name": "stdout",
     "output_type": "stream",
     "text": [
      "Operation discoverInstance starting.\n",
      "container: Compute-587626604/eric.harris@oracle.com/\n",
      "REST url for discoverInstance: https://compute.uscom-central-1.oraclecloud.com/instance/Compute-587626604/eric.harris@oracle.com/\n",
      "\n",
      "discoverInstance operation_details:\n",
      "HTTP method: get\n",
      "API url: https://compute.uscom-central-1.oraclecloud.com/instance/Compute-587626604/eric.harris@oracle.com/:\n",
      " {'result': ['/Compute-587626604/eric.harris@oracle.com/GC3NAAC-CDMT-LWS1/',\n",
      "            '/Compute-587626604/eric.harris@oracle.com/GC3NAAC-CDMT-PSFTHR92/',\n",
      "            '/Compute-587626604/eric.harris@oracle.com/dbaas/',\n",
      "            '/Compute-587626604/eric.harris@oracle.com/paas/']}\n",
      "\n",
      "Operation discoverInstance finished.\n",
      "\n"
     ]
    }
   ],
   "source": [
    "operation_id = \"discoverInstance\"\n",
    "print(f\"Operation {operation_id} starting.\")\n",
    "try:\n",
    "    # API url: https://compute.uscom-central-1.oraclecloud.com/instance/Compute-587626604\n",
    "    container = operation_details['result'][0].lstrip('/').rstrip('/')\n",
    "    # # API url: https://compute.uscom-central-1.oraclecloud.com/instance/Compute-587626604/eric.harris@oracle.com\n",
    "    # container = f\"{container}/{opc_username}\"\n",
    "    # # API url: https://compute.uscom-central-1.oraclecloud.com/instance/Compute-587626604/eric.harris@oracle.com/\n",
    "    container = f\"{container}/{opc_username}/\"\n",
    "    print(f\"container: {container}\")\n",
    "    operation_future = getattr(instances_resource, operation_id)(container=container)\n",
    "    url = operation_future.future.request.url\n",
    "    print(f\"REST url for {operation_id}: {url}\")\n",
    "    operation_result, operation_response = operation_future.result()\n",
    "except HTTPBadRequest:\n",
    "    print(\"Request failed for {operation_id}! \")\n",
    "    print(f\"URL: {operation_future.future.request.url}\")\n",
    "    raise\n",
    "operation_details = json.loads(operation_result)\n",
    "print(\"\\n{} operation_details:\\nHTTP method: {}\\nAPI url: {}:\\n {}\\n\".format(operation_id, operation_future.operation.http_method, url, pformat(operation_details)))\n",
    "print(f\"Operation {operation_id} finished.\\n\")"
   ]
  },
  {
   "cell_type": "code",
   "execution_count": 12,
   "metadata": {},
   "outputs": [
    {
     "name": "stdout",
     "output_type": "stream",
     "text": [
      "Operation listInstance starting.\n",
      "container: Compute-587626604/eric.harris@oracle.com/GC3NAAC-CDMT-LWS1\n",
      "REST url for listInstance: https://compute.uscom-central-1.oraclecloud.com/instance/Compute-587626604/eric.harris@oracle.com/GC3NAAC-CDMT-LWS1/\n",
      "\n",
      "listInstance operation_details:\n",
      "HTTP method: get\n",
      "API url: https://compute.uscom-central-1.oraclecloud.com/instance/Compute-587626604/eric.harris@oracle.com/GC3NAAC-CDMT-LWS1/:\n",
      " {'result': ['/Compute-587626604/eric.harris@oracle.com/GC3NAAC-CDMT-LWS1/c17bb7ea-724b-4e51-ab72-1bd8714f07b7']}\n",
      "\n",
      "Operation listInstance finished.\n"
     ]
    }
   ],
   "source": [
    "operation_id = \"listInstance\"\n",
    "print(f\"Operation {operation_id} starting.\")\n",
    "try:\n",
    "    # container = operation_details['result'][0].lstrip('/').rstrip('/')\n",
    "    # container = 'Compute-587626604/eric.harris@oracle.com'\n",
    "    container = 'Compute-587626604/eric.harris@oracle.com/GC3NAAC-CDMT-LWS1'\n",
    "    print(f\"container: {container}\")\n",
    "    operation_future = getattr(instances_resource, operation_id)(container=container)\n",
    "    url = operation_future.future.request.url\n",
    "    print(f\"REST url for {operation_id}: {url}\")\n",
    "    operation_result, operation_response = operation_future.result()\n",
    "except HTTPBadRequest:\n",
    "    print(\"Request failed for {operation_id}! \")\n",
    "    print(f\"URL: {operation_future.future.request.url}\")\n",
    "    raise\n",
    "operation_details = json.loads(operation_result)\n",
    "print(\"\\n{} operation_details:\\nHTTP method: {}\\nAPI url: {}:\\n {}\\n\".format(operation_id, operation_future.operation.http_method, url, pformat(operation_details)))\n",
    "print(f\"Operation {operation_id} finished.\")"
   ]
  },
  {
   "cell_type": "code",
   "execution_count": 13,
   "metadata": {},
   "outputs": [],
   "source": [
    "headers = dict([('Content-Type', 'application/oracle-compute-v3+json'),\n",
    "                ('Accept', 'application/oracle-compute-v3+json, json, text/html')])\n",
    "\n",
    "\n",
    "requests_client = OPCRequestsClient()\n",
    "requests_client.session.headers.update(headers)\n",
    "requests_client.session.proxies.update(proxies)\n",
    "requests_client.session.headers.update(cookie_header)\n",
    "swagger_client = SwaggerClient.from_spec(spec_dict=spec_dict,\n",
    "                                         origin_url=iaas_rest_endpoint,\n",
    "                                         http_client=requests_client,\n",
    "                                         # config={'also_return_response': True,\n",
    "                                         #         'validate_responses': True,\n",
    "                                         #         'validate_requests': True,\n",
    "                                         #         'validate_swagger_spec': True})\n",
    "                                         # config={'also_return_response': True,\n",
    "                                         #         'validate_responses': False,\n",
    "                                         #         'validate_requests': True,\n",
    "                                         #         'validate_swagger_spec': True})\n",
    "                                         config={'also_return_response': True,\n",
    "                                                 'validate_responses': False,\n",
    "                                                 'validate_requests': False,\n",
    "                                                 'validate_swagger_spec': False})\n",
    "instances_resource = swagger_client.Instances"
   ]
  },
  {
   "cell_type": "code",
   "execution_count": 14,
   "metadata": {},
   "outputs": [
    {
     "name": "stdout",
     "output_type": "stream",
     "text": [
      "\n",
      "Operation getInstance starting.\n",
      "name: Compute-587626604/eric.harris@oracle.com/GC3NAAC-CDMT-LWS1/c17bb7ea-724b-4e51-ab72-1bd8714f07b7\n",
      "REST url for getInstance: https://compute.uscom-central-1.oraclecloud.com/instance/Compute-587626604/eric.harris@oracle.com/GC3NAAC-CDMT-LWS1/c17bb7ea-724b-4e51-ab72-1bd8714f07b7\n",
      "Accept Header=[application/oracle-compute-v3+json, json, text/html], Content-Type Header=[application/oracle-compute-v3+json]\n",
      "\n",
      "getInstance operation_details:\n",
      "HTTP method: get\n",
      "API url: https://compute.uscom-central-1.oraclecloud.com/instance/Compute-587626604/eric.harris@oracle.com/GC3NAAC-CDMT-LWS1/c17bb7ea-724b-4e51-ab72-1bd8714f07b7:\n",
      " {'account': '/Compute-587626604/default',\n",
      " 'attributes': {'dns': {'domain': 'compute-587626604.oraclecloud.internal.',\n",
      "                        'hostname': 'gc3naac-cdmt-lws1.compute-587626604.oraclecloud.internal.',\n",
      "                        'nimbula_vcable-eth0': 'gc3naac-cdmt-lws1.compute-587626604.oraclecloud.internal.'},\n",
      "                'network': {'nimbula_vcable-eth0': {'address': ['c6:b0:6d:06:65:04',\n",
      "                                                                '10.19.0.246'],\n",
      "                                                    'dhcp_options': [],\n",
      "                                                    'id': '/Compute-587626604/eric.harris@oracle.com/2043e3fa-682b-48a5-8b21-e163a54e7611',\n",
      "                                                    'model': '',\n",
      "                                                    'vethernet': '/oracle/public/default',\n",
      "                                                    'vethernet_id': '0',\n",
      "                                                    'vethernet_type': 'vlan'}},\n",
      "                'nimbula_orchestration': '/Compute-587626604/eric.harris@oracle.com/GC3NAAC-CDMT-LWS1',\n",
      "                'oracle_metadata': {'v1': {'object': '/Compute-587626604/eric.harris@oracle.com/GC3NAAC-CDMT-LWS1/instance',\n",
      "                                           'orchestration': '/Compute-587626604/eric.harris@oracle.com/GC3NAAC-CDMT-LWS1'}},\n",
      "                'sshkeys': ['ssh-rsa '\n",
      "                            'AAAAB3NzaC1yc2EAAAADAQABAAABAQDkl16+TS1DB5jFwxr8tRMfztjLCHK2+wpfqy2eKeUzDJx8oGlasmBTAdwPX9cH3bfPRLJzru6SG2fJWsow4sU0d2clcwLRtqVdFMAdA3MSpIqayQMQJJ7NE5omkucF0pf0RG2p5cT3mBZDw/9IrSKnIAzaescUi72QOtcVSVgOiBcvJeQVn75GFQ0+JVKnVooh4pL2xDwTUj4EeSn5aLSA4ycqpBqvFFzrGsfDjDn55HiL0Dwwo9uM6VasAPHatqVIRA4EXGMu+QU6iw0m75e5n5CzEoL5ut4D2Og6MqrAVHTmtwf3WhPlDIzLu5OZbILydPq3/u58g6IVUHeB/wBd',\n",
      "                            'ssh-rsa '\n",
      "                            'AAAAB3NzaC1yc2EAAAADAQABAAACAQCq7YIWjLtijvvaNOpvIK8JcYToewxyX4Zvpdb1Dyqmr8Kvns7t4fDOucGV6M+YaD5mNYvwjEGGjdZjyX4ygW3f4rMoZMOLLKlb2ofZtdCWppIPIhT7DwhPitGK0nasi7hAXpdW9Xgdd/i6Uq7VoFezCya5i5cz1Z1PEgpi+Usm4wxSKrGCz/7ndBjgSwvxxKKy9sFmLo2+kh5K+K5/d6NtbniH02M/1v4C+wuCCcNTyk4D5oqx8CF59FIPw0PQwVibvNMdOA+G3FIhGIUuP66W9k8SPOMGfpJzupNgauBnvhq32PQqvUj44Nb5wWvx8YjYdfgb7FtUquxnDovJ1jKG7V+yk+gujoViZHD20glermEULUAkUIKELGsSRPLTPmGMUla4+6uWTyOKXof7X0gcIDjEoMbC/DBbxhApj+GZ2WfU9z0tNkllidXaJIBsXwJNHruGN+VWbsPBDxhjTgg+XCOGphaZkAUZ7ex1jnqQqVFDoxAJ6gcQ0rLZRHkpupt7MkarAu5hXDjyUrU3yV6DFhznUyIpHAvqgp2SfNMg3dTdzE7ZRGiqdKlB3VJSw/FanbzWVyij5f4YsOyCIbujAmzxMulH3SRvoOqIFwRMlk7qxwKu9cFUw4Lgd30/L7yEE0llbzedfSopxHU0jvdZKneFBXSPP0srU3VeEvQDUw==']},\n",
      " 'availability_domain': '/uscom-central-1a',\n",
      " 'boot_order': [1],\n",
      " 'desired_state': 'running',\n",
      " 'disk_attach': '',\n",
      " 'domain': 'compute-587626604.oraclecloud.internal.',\n",
      " 'entry': None,\n",
      " 'error_reason': '',\n",
      " 'fingerprint': '34:a7:bb:00:67:50:85:f4:09:ef:8d:81:90:e7:46:72',\n",
      " 'hostname': 'gc3naac-cdmt-lws1.compute-587626604.oraclecloud.internal.',\n",
      " 'hypervisor': {'mode': 'hvm'},\n",
      " 'image_format': 'raw',\n",
      " 'image_metadata_bag': '/oracle/machineimage_metadata/8921e067a70948379d279c9a372c9165',\n",
      " 'imagelist': None,\n",
      " 'ip': '10.19.0.246',\n",
      " 'label': 'GC3NAAC-CDMT-LWS1',\n",
      " 'name': '/Compute-587626604/eric.harris@oracle.com/GC3NAAC-CDMT-LWS1/c17bb7ea-724b-4e51-ab72-1bd8714f07b7',\n",
      " 'networking': {'eth0': {'dns': ['gc3naac-cdmt-lws1.compute-587626604.oraclecloud.internal.'],\n",
      "                         'model': '',\n",
      "                         'nat': 'ipreservation:/Compute-587626604/eric.harris@oracle.com/GC3NAAC-CDMT-LWS1',\n",
      "                         'seclists': ['/Compute-587626604/eric.harris@oracle.com/GC3NAACCDMT_PSFT'],\n",
      "                         'vethernet': '/oracle/public/default'}},\n",
      " 'placement_requirements': ['/system/compute/placement/default',\n",
      "                            '/oracle/compute/dedicated/fcbaed9f-242b-42ce-ac77-dd727f9710eb',\n",
      "                            '/system/compute/allow_instances'],\n",
      " 'platform': 'linux',\n",
      " 'priority': '/oracle/public/default',\n",
      " 'quota': '/Compute-587626604',\n",
      " 'quota_reservation': None,\n",
      " 'relationships': [],\n",
      " 'resolvers': None,\n",
      " 'reverse_dns': True,\n",
      " 'shape': 'oc4',\n",
      " 'site': '',\n",
      " 'sshkeys': ['/Compute-587626604/eric.harris@oracle.com/eric_harris-cloud-01',\n",
      "             '/Compute-587626604/eric.harris@oracle.com/naaccdmt'],\n",
      " 'start_time': '2017-11-29T18:06:06Z',\n",
      " 'state': 'running',\n",
      " 'storage_attachments': [{'index': 1,\n",
      "                          'name': '/Compute-587626604/eric.harris@oracle.com/GC3NAAC-CDMT-LWS1/c17bb7ea-724b-4e51-ab72-1bd8714f07b7/befe2a3b-bc58-4de3-ab6a-277e64b585b2',\n",
      "                          'storage_volume_name': '/Compute-587626604/eric.harris@oracle.com/GC3NAAC-CDMT-LWS1_storage'},\n",
      "                         {'index': 2,\n",
      "                          'name': '/Compute-587626604/eric.harris@oracle.com/GC3NAAC-CDMT-LWS1/c17bb7ea-724b-4e51-ab72-1bd8714f07b7/30683f98-4680-4738-b2bf-38e3539188fe',\n",
      "                          'storage_volume_name': '/Compute-587626604/eric.harris@oracle.com/GC3NAAC-CDMT-LWS1_application'}],\n",
      " 'tags': ['CDMT'],\n",
      " 'uri': 'https://compute.uscom-central-1.oraclecloud.com/instance/Compute-587626604/eric.harris%40oracle.com/GC3NAAC-CDMT-LWS1/c17bb7ea-724b-4e51-ab72-1bd8714f07b7',\n",
      " 'vcable_id': '/Compute-587626604/eric.harris@oracle.com/2043e3fa-682b-48a5-8b21-e163a54e7611',\n",
      " 'virtio': None,\n",
      " 'vnc': '10.19.0.245:5900'}\n",
      "\n",
      "Operation getInstance finished.\n"
     ]
    }
   ],
   "source": [
    "operation_id = \"getInstance\"\n",
    "print(f\"\\nOperation {operation_id} starting.\")\n",
    "try:\n",
    "    name = operation_details['result'][0].lstrip('/').rstrip('/')\n",
    "    print(f\"name: {name}\")\n",
    "    operation_future: HttpFuture = getattr(instances_resource, operation_id)(name=name)\n",
    "    url = operation_future.future.request.url\n",
    "    print(f\"REST url for {operation_id}: {url}\")\n",
    "    print(f\"Accept Header=[{operation_future.future.session.headers['Accept']}], Content-Type Header=[{operation_future.future.session.headers['Content-Type']}]\")\n",
    "    operation_result, operation_response = operation_future.result()\n",
    "except bravado.exception.HTTPBadRequest:\n",
    "    print(\"Request failed for {operation_id}! \")\n",
    "    print(f\"URL: {operation_future.future.request.url}\")\n",
    "    raise\n",
    "except bravado.exception.HTTPNotFound:\n",
    "    print(\"Request failed for {operation_id}! \")\n",
    "    print(f\"URL: {operation_future.future.request.url}\")\n",
    "    raise\n",
    "operation_details = json.loads(operation_result)\n",
    "print(\"\\n{} operation_details:\\nHTTP method: {}\\nAPI url: {}:\\n {}\\n\".format(operation_id, operation_future.operation.http_method, url, pformat(operation_details)))\n",
    "print(f\"Operation {operation_id} finished.\")"
   ]
  },
  {
   "cell_type": "markdown",
   "metadata": {},
   "source": [
    "#### Insert results in to DB"
   ]
  },
  {
   "cell_type": "code",
   "execution_count": 15,
   "metadata": {},
   "outputs": [
    {
     "data": {
      "text/plain": [
       "5"
      ]
     },
     "execution_count": 15,
     "metadata": {},
     "output_type": "execute_result"
    }
   ],
   "source": [
    "instances_db.insert(operation_details)"
   ]
  },
  {
   "cell_type": "code",
   "execution_count": 16,
   "metadata": {},
   "outputs": [
    {
     "data": {
      "text/plain": [
       "{'account': '/Compute-587626604/default',\n",
       " 'attributes': {'dns': {'domain': 'compute-587626604.oraclecloud.internal.',\n",
       "   'hostname': 'gc3naac-cdmt-lws1.compute-587626604.oraclecloud.internal.',\n",
       "   'nimbula_vcable-eth0': 'gc3naac-cdmt-lws1.compute-587626604.oraclecloud.internal.'},\n",
       "  'network': {'nimbula_vcable-eth0': {'address': ['c6:b0:6d:06:65:04',\n",
       "     '10.19.0.246'],\n",
       "    'dhcp_options': [],\n",
       "    'id': '/Compute-587626604/eric.harris@oracle.com/2043e3fa-682b-48a5-8b21-e163a54e7611',\n",
       "    'model': '',\n",
       "    'vethernet': '/oracle/public/default',\n",
       "    'vethernet_id': '0',\n",
       "    'vethernet_type': 'vlan'}},\n",
       "  'nimbula_orchestration': '/Compute-587626604/eric.harris@oracle.com/GC3NAAC-CDMT-LWS1',\n",
       "  'oracle_metadata': {'v1': {'object': '/Compute-587626604/eric.harris@oracle.com/GC3NAAC-CDMT-LWS1/instance',\n",
       "    'orchestration': '/Compute-587626604/eric.harris@oracle.com/GC3NAAC-CDMT-LWS1'}},\n",
       "  'sshkeys': ['ssh-rsa AAAAB3NzaC1yc2EAAAADAQABAAABAQDkl16+TS1DB5jFwxr8tRMfztjLCHK2+wpfqy2eKeUzDJx8oGlasmBTAdwPX9cH3bfPRLJzru6SG2fJWsow4sU0d2clcwLRtqVdFMAdA3MSpIqayQMQJJ7NE5omkucF0pf0RG2p5cT3mBZDw/9IrSKnIAzaescUi72QOtcVSVgOiBcvJeQVn75GFQ0+JVKnVooh4pL2xDwTUj4EeSn5aLSA4ycqpBqvFFzrGsfDjDn55HiL0Dwwo9uM6VasAPHatqVIRA4EXGMu+QU6iw0m75e5n5CzEoL5ut4D2Og6MqrAVHTmtwf3WhPlDIzLu5OZbILydPq3/u58g6IVUHeB/wBd',\n",
       "   'ssh-rsa AAAAB3NzaC1yc2EAAAADAQABAAACAQCq7YIWjLtijvvaNOpvIK8JcYToewxyX4Zvpdb1Dyqmr8Kvns7t4fDOucGV6M+YaD5mNYvwjEGGjdZjyX4ygW3f4rMoZMOLLKlb2ofZtdCWppIPIhT7DwhPitGK0nasi7hAXpdW9Xgdd/i6Uq7VoFezCya5i5cz1Z1PEgpi+Usm4wxSKrGCz/7ndBjgSwvxxKKy9sFmLo2+kh5K+K5/d6NtbniH02M/1v4C+wuCCcNTyk4D5oqx8CF59FIPw0PQwVibvNMdOA+G3FIhGIUuP66W9k8SPOMGfpJzupNgauBnvhq32PQqvUj44Nb5wWvx8YjYdfgb7FtUquxnDovJ1jKG7V+yk+gujoViZHD20glermEULUAkUIKELGsSRPLTPmGMUla4+6uWTyOKXof7X0gcIDjEoMbC/DBbxhApj+GZ2WfU9z0tNkllidXaJIBsXwJNHruGN+VWbsPBDxhjTgg+XCOGphaZkAUZ7ex1jnqQqVFDoxAJ6gcQ0rLZRHkpupt7MkarAu5hXDjyUrU3yV6DFhznUyIpHAvqgp2SfNMg3dTdzE7ZRGiqdKlB3VJSw/FanbzWVyij5f4YsOyCIbujAmzxMulH3SRvoOqIFwRMlk7qxwKu9cFUw4Lgd30/L7yEE0llbzedfSopxHU0jvdZKneFBXSPP0srU3VeEvQDUw==']},\n",
       " 'availability_domain': '/uscom-central-1a',\n",
       " 'boot_order': [1],\n",
       " 'desired_state': 'running',\n",
       " 'disk_attach': '',\n",
       " 'domain': 'compute-587626604.oraclecloud.internal.',\n",
       " 'entry': None,\n",
       " 'error_reason': '',\n",
       " 'fingerprint': '34:a7:bb:00:67:50:85:f4:09:ef:8d:81:90:e7:46:72',\n",
       " 'hostname': 'gc3naac-cdmt-lws1.compute-587626604.oraclecloud.internal.',\n",
       " 'hypervisor': {'mode': 'hvm'},\n",
       " 'image_format': 'raw',\n",
       " 'image_metadata_bag': '/oracle/machineimage_metadata/8921e067a70948379d279c9a372c9165',\n",
       " 'imagelist': None,\n",
       " 'ip': '10.19.0.246',\n",
       " 'label': 'GC3NAAC-CDMT-LWS1',\n",
       " 'name': '/Compute-587626604/eric.harris@oracle.com/GC3NAAC-CDMT-LWS1/c17bb7ea-724b-4e51-ab72-1bd8714f07b7',\n",
       " 'networking': {'eth0': {'dns': ['gc3naac-cdmt-lws1.compute-587626604.oraclecloud.internal.'],\n",
       "   'model': '',\n",
       "   'nat': 'ipreservation:/Compute-587626604/eric.harris@oracle.com/GC3NAAC-CDMT-LWS1',\n",
       "   'seclists': ['/Compute-587626604/eric.harris@oracle.com/GC3NAACCDMT_PSFT'],\n",
       "   'vethernet': '/oracle/public/default'}},\n",
       " 'placement_requirements': ['/system/compute/placement/default',\n",
       "  '/oracle/compute/dedicated/fcbaed9f-242b-42ce-ac77-dd727f9710eb',\n",
       "  '/system/compute/allow_instances'],\n",
       " 'platform': 'linux',\n",
       " 'priority': '/oracle/public/default',\n",
       " 'quota': '/Compute-587626604',\n",
       " 'quota_reservation': None,\n",
       " 'relationships': [],\n",
       " 'resolvers': None,\n",
       " 'reverse_dns': True,\n",
       " 'shape': 'oc4',\n",
       " 'site': '',\n",
       " 'sshkeys': ['/Compute-587626604/eric.harris@oracle.com/eric_harris-cloud-01',\n",
       "  '/Compute-587626604/eric.harris@oracle.com/naaccdmt'],\n",
       " 'start_time': '2017-11-29T18:06:06Z',\n",
       " 'state': 'running',\n",
       " 'storage_attachments': [{'index': 1,\n",
       "   'name': '/Compute-587626604/eric.harris@oracle.com/GC3NAAC-CDMT-LWS1/c17bb7ea-724b-4e51-ab72-1bd8714f07b7/befe2a3b-bc58-4de3-ab6a-277e64b585b2',\n",
       "   'storage_volume_name': '/Compute-587626604/eric.harris@oracle.com/GC3NAAC-CDMT-LWS1_storage'},\n",
       "  {'index': 2,\n",
       "   'name': '/Compute-587626604/eric.harris@oracle.com/GC3NAAC-CDMT-LWS1/c17bb7ea-724b-4e51-ab72-1bd8714f07b7/30683f98-4680-4738-b2bf-38e3539188fe',\n",
       "   'storage_volume_name': '/Compute-587626604/eric.harris@oracle.com/GC3NAAC-CDMT-LWS1_application'}],\n",
       " 'tags': ['CDMT'],\n",
       " 'uri': 'https://compute.uscom-central-1.oraclecloud.com/instance/Compute-587626604/eric.harris%40oracle.com/GC3NAAC-CDMT-LWS1/c17bb7ea-724b-4e51-ab72-1bd8714f07b7',\n",
       " 'vcable_id': '/Compute-587626604/eric.harris@oracle.com/2043e3fa-682b-48a5-8b21-e163a54e7611',\n",
       " 'virtio': None,\n",
       " 'vnc': '10.19.0.245:5900'}"
      ]
     },
     "execution_count": 16,
     "metadata": {},
     "output_type": "execute_result"
    }
   ],
   "source": [
    "instances_db.all()[-1]"
   ]
  },
  {
   "cell_type": "code",
   "execution_count": null,
   "metadata": {},
   "outputs": [],
   "source": []
  }
 ],
 "metadata": {
  "kernelspec": {
   "display_name": "Python 3",
   "language": "python",
   "name": "python3"
  },
  "language_info": {
   "codemirror_mode": {
    "name": "ipython",
    "version": 3
   },
   "file_extension": ".py",
   "mimetype": "text/x-python",
   "name": "python",
   "nbconvert_exporter": "python",
   "pygments_lexer": "ipython3",
   "version": "3.6.4"
  }
 },
 "nbformat": 4,
 "nbformat_minor": 2
}
