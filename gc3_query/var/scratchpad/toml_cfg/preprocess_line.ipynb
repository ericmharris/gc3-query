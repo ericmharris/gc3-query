{
 "cells": [
  {
   "cell_type": "code",
   "execution_count": 22,
   "metadata": {},
   "outputs": [],
   "source": [
    "\n",
    "from dataclasses import dataclass\n",
    "\n",
    "from dataclasses import dataclass\n",
    "import inspect\n",
    "import types, typing\n",
    "\n",
    "from gc3_query.lib import *\n",
    "from pathlib import Path\n",
    "\n",
    "import toml\n",
    "\n",
    "from gc3_query import GC3_QUERY_HOME\n",
    "\n",
    "_debug, _info, _warning, _error, _critical = get_logging(name=__name__)"
   ]
  },
  {
   "cell_type": "code",
   "execution_count": 8,
   "metadata": {},
   "outputs": [],
   "source": [
    "s = \"last_name = Harris\"\n",
    "s = \"last_name  =   Harris\"\n",
    "s = \"last_name  =   ASDF = sadf\"\n",
    "s = \"  last_name  =   ASDF = sadf\"\n",
    "s = \"  last_name: int  =   ASDF = sadf\"\n",
    "s = \" no eq sign\"\n",
    "\n",
    "\n",
    "first_eq_loc = s.find('=')\n",
    "lhs = s[0:first_eq_loc-1].strip()\n",
    "rhs = s[first_eq_loc+1:].strip()\n"
   ]
  },
  {
   "cell_type": "code",
   "execution_count": 9,
   "metadata": {},
   "outputs": [
    {
     "name": "stdout",
     "output_type": "stream",
     "text": [
      "first_eq_loc=|-1|\n",
      "lhs=|no eq si|\n",
      "rhs=|no eq sign|\n"
     ]
    }
   ],
   "source": [
    "print(f\"first_eq_loc=|{first_eq_loc}|\")\n",
    "print(f\"lhs=|{lhs}|\")\n",
    "print(f\"rhs=|{rhs}|\")\n"
   ]
  },
  {
   "cell_type": "code",
   "execution_count": 10,
   "metadata": {},
   "outputs": [],
   "source": [
    "def quote_key(s: str) -> str:\n",
    "    \"\"\"Takes a sinlge string of TOML and returns it with the key value quoted to allow more flexibility in names.\n",
    "\n",
    "    key_name = value  -> 'key_name' = value\n",
    "    key name = value  -> 'key name' = value\n",
    "\n",
    "    :param s:\n",
    "    \"\"\"\n",
    "    first_eq_loc = s.find('=')\n",
    "    lhs = s[0:first_eq_loc-1].strip()\n",
    "    rhs = s[first_eq_loc+1:].strip()\n",
    "    return f\"'{lhs}' = {rhs}\""
   ]
  },
  {
   "cell_type": "code",
   "execution_count": 11,
   "metadata": {},
   "outputs": [
    {
     "data": {
      "text/plain": [
       "\"'no eq si' = no eq sign\""
      ]
     },
     "execution_count": 11,
     "metadata": {},
     "output_type": "execute_result"
    }
   ],
   "source": [
    "quote_key(s)"
   ]
  },
  {
   "cell_type": "code",
   "execution_count": 12,
   "metadata": {},
   "outputs": [
    {
     "name": "stdout",
     "output_type": "stream",
     "text": [
      "  last_name: int  =   ASDF = sadf\n"
     ]
    }
   ],
   "source": [
    "s = \"  last_name: int  =   ASDF = sadf\"\n",
    "first_eq_loc = s.find('=')\n",
    "print(s)"
   ]
  },
  {
   "cell_type": "code",
   "execution_count": 13,
   "metadata": {},
   "outputs": [
    {
     "name": "stdout",
     "output_type": "stream",
     "text": [
      "['last_name', 'int']\n",
      "key=last_name, annotation=int\n"
     ]
    }
   ],
   "source": [
    "parts = [p.strip() for p in s[0:first_eq_loc].split(\":\")]\n",
    "print(parts)\n",
    "key, annotation = parts[0], parts[1]\n",
    "print(f\"key={key}, annotation={annotation}\")"
   ]
  },
  {
   "cell_type": "code",
   "execution_count": 14,
   "metadata": {},
   "outputs": [
    {
     "ename": "TypeError",
     "evalue": "'NoneType' object is not callable",
     "output_type": "error",
     "traceback": [
      "\u001b[1;31m---------------------------------------------------------------------------\u001b[0m",
      "\u001b[1;31mTypeError\u001b[0m                                 Traceback (most recent call last)",
      "\u001b[1;32m<ipython-input-14-094756f1cb23>\u001b[0m in \u001b[0;36m<module>\u001b[1;34m()\u001b[0m\n\u001b[1;32m----> 1\u001b[1;33m \u001b[1;32mNone\u001b[0m\u001b[1;33m(\u001b[0m\u001b[1;32mTrue\u001b[0m\u001b[1;33m)\u001b[0m\u001b[1;33m\u001b[0m\u001b[0m\n\u001b[0m",
      "\u001b[1;31mTypeError\u001b[0m: 'NoneType' object is not callable"
     ]
    }
   ],
   "source": [
    "None(True)"
   ]
  },
  {
   "cell_type": "code",
   "execution_count": 15,
   "metadata": {},
   "outputs": [],
   "source": [
    "Default = None"
   ]
  },
  {
   "cell_type": "code",
   "execution_count": null,
   "metadata": {},
   "outputs": [],
   "source": [
    "type(Default)"
   ]
  },
  {
   "cell_type": "code",
   "execution_count": null,
   "metadata": {},
   "outputs": [],
   "source": [
    "Default is None"
   ]
  },
  {
   "cell_type": "code",
   "execution_count": 17,
   "metadata": {},
   "outputs": [],
   "source": [
    "@dataclass()\n",
    "class AnnotatedTOML:\n",
    "    input: str\n",
    "    key: str\n",
    "    type_name: str\n",
    "    value: str\n",
    "    toml: str\n",
    "\n",
    "    def __post_init__(self):\n",
    "        self._name = self.__class__.__name__\n",
    "        _debug(f\"{self._name} __post_init(): {self}\")\n",
    "\n",
    "    def __str__(self):\n",
    "        return self.toml"
   ]
  },
  {
   "cell_type": "code",
   "execution_count": 18,
   "metadata": {},
   "outputs": [],
   "source": [
    "def pre_process_line(s: str) -> AnnotatedTOML:\n",
    "    \"\"\"Returns valid TOML string with any type_name annotations in the LHS separated out.\n",
    "\n",
    "    :param s:\n",
    "    \"\"\"\n",
    "    first_eq_loc = s.find('=')\n",
    "    value = s[first_eq_loc + 1:]\n",
    "    _debug(f\"s={s}, first_eq_loc={first_eq_loc}, value={value}\")\n",
    "    if first_eq_loc == -1:\n",
    "        return AnnotatedTOML(input=s, key='None', type_name='None', value='None', toml=s)\n",
    "\n",
    "    if ':' in s[0:first_eq_loc]:\n",
    "        parts = [p.strip() for p in s[0:first_eq_loc].split(\":\")]\n",
    "        assert len(parts) == 2\n",
    "        key, type_name = parts[0], parts[1]\n",
    "        _debug(f\"key={key}, type_name={type_name}\")\n",
    "    else:\n",
    "        key = s[0:first_eq_loc - 1].strip()\n",
    "        # type_name = 'None'\n",
    "        type_name = 'None'\n",
    "        _debug(f\"key={key}, type_name={type_name}\")\n",
    "\n",
    "    valid_toml = f\"{key} = {value}\"\n",
    "    a_toml = AnnotatedTOML(input=s, key=key, type_name=type_name, value=value, toml=valid_toml)\n",
    "    return a_toml\n"
   ]
  },
  {
   "cell_type": "code",
   "execution_count": 23,
   "metadata": {},
   "outputs": [],
   "source": [
    "s = \"'rest_url:url' = 'https://compute.uscom-central-1.oraclecloud.com/'\"\n",
    "at = pre_process_line(s)"
   ]
  },
  {
   "cell_type": "code",
   "execution_count": 24,
   "metadata": {},
   "outputs": [
    {
     "data": {
      "text/plain": [
       "AnnotatedTOML(input=\"'rest_url:url' = 'https://compute.uscom-central-1.oraclecloud.com/'\", key=\"'rest_url\", type_name=\"url'\", value=\" 'https://compute.uscom-central-1.oraclecloud.com/'\", toml=\"'rest_url =  'https://compute.uscom-central-1.oraclecloud.com/'\")"
      ]
     },
     "execution_count": 24,
     "metadata": {},
     "output_type": "execute_result"
    }
   ],
   "source": [
    "at"
   ]
  },
  {
   "cell_type": "code",
   "execution_count": 38,
   "metadata": {},
   "outputs": [
    {
     "name": "stdout",
     "output_type": "stream",
     "text": [
      "s='rest_url:url' = 'https://compute.uscom-central-1.oraclecloud.com/', first_eq_loc=15, key='rest_url:url', value= 'https://compute.uscom-central-1.oraclecloud.com/'\n",
      "key='rest_url, type_name=url'\n"
     ]
    }
   ],
   "source": [
    "first_eq_loc = s.find('=')\n",
    "value = s[first_eq_loc + 1:]\n",
    "key = s[0:first_eq_loc - 1].strip()\n",
    "print(f\"s={s}, first_eq_loc={first_eq_loc}, key={key}, value={value}\")\n",
    "\n",
    "\n",
    "if ':' in s[0:first_eq_loc]:\n",
    "    parts = [p.strip() for p in s[0:first_eq_loc].split(\":\")]\n",
    "    assert len(parts) == 2\n",
    "    key, type_name = parts[0], parts[1]\n",
    "    print(f\"key={key}, type_name={type_name}\")\n",
    "else:\n",
    "    key = s[0:first_eq_loc - 1].strip()\n",
    "    # type_name = 'None'\n",
    "    type_name = 'None'\n",
    "    print(f\"key={key}, type_name={type_name}\")\n",
    "\n",
    "valid_toml = f\"{key} = {value}\"\n",
    "a_toml = AnnotatedTOML(input=s, key=key, type_name=type_name, value=value, toml=valid_toml)\n",
    "\n"
   ]
  },
  {
   "cell_type": "code",
   "execution_count": 29,
   "metadata": {},
   "outputs": [
    {
     "data": {
      "text/plain": [
       "AnnotatedTOML(input=\"'rest_url:url' = 'https://compute.uscom-central-1.oraclecloud.com/'\", key=\"'rest_url\", type_name=\"url'\", value=\" 'https://compute.uscom-central-1.oraclecloud.com/'\", toml=\"'rest_url =  'https://compute.uscom-central-1.oraclecloud.com/'\")"
      ]
     },
     "execution_count": 29,
     "metadata": {},
     "output_type": "execute_result"
    }
   ],
   "source": [
    "a_toml"
   ]
  },
  {
   "cell_type": "code",
   "execution_count": 30,
   "metadata": {},
   "outputs": [
    {
     "data": {
      "text/plain": [
       "[\"'rest_url\", \"url'\"]"
      ]
     },
     "execution_count": 30,
     "metadata": {},
     "output_type": "execute_result"
    }
   ],
   "source": [
    "parts"
   ]
  },
  {
   "cell_type": "code",
   "execution_count": 32,
   "metadata": {},
   "outputs": [
    {
     "data": {
      "text/plain": [
       "False"
      ]
     },
     "execution_count": 32,
     "metadata": {},
     "output_type": "execute_result"
    }
   ],
   "source": [
    "f = \" '\"\n",
    "f.startswith(\"'\")"
   ]
  },
  {
   "cell_type": "code",
   "execution_count": 34,
   "metadata": {},
   "outputs": [],
   "source": [
    "value\n",
    "key = s[0:first_eq_loc - 1].strip()\n"
   ]
  },
  {
   "cell_type": "code",
   "execution_count": 35,
   "metadata": {},
   "outputs": [
    {
     "data": {
      "text/plain": [
       "\"'rest_url:url'\""
      ]
     },
     "execution_count": 35,
     "metadata": {},
     "output_type": "execute_result"
    }
   ],
   "source": [
    "key"
   ]
  },
  {
   "cell_type": "code",
   "execution_count": null,
   "metadata": {},
   "outputs": [],
   "source": []
  }
 ],
 "metadata": {
  "kernelspec": {
   "display_name": "Python 3",
   "language": "python",
   "name": "python3"
  },
  "language_info": {
   "codemirror_mode": {
    "name": "ipython",
    "version": 3
   },
   "file_extension": ".py",
   "mimetype": "text/x-python",
   "name": "python",
   "nbconvert_exporter": "python",
   "pygments_lexer": "ipython3",
   "version": "3.6.5"
  }
 },
 "nbformat": 4,
 "nbformat_minor": 2
}
