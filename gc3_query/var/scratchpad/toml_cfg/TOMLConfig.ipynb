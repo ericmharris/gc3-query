{
 "cells": [
  {
   "cell_type": "code",
   "execution_count": 1,
   "metadata": {},
   "outputs": [],
   "source": [
    "import toml\n",
    "from pathlib import Path\n",
    "from dataclasses import dataclass, make_dataclass, fields, asdict, replace\n",
    "from pprint import pprint, pformat\n",
    "\n",
    "from gc3_query.lib import *\n",
    "from gc3_query.lib.toml_cfg.toml_file import TOMLFile\n",
    "\n"
   ]
  },
  {
   "cell_type": "code",
   "execution_count": 2,
   "metadata": {},
   "outputs": [],
   "source": [
    "import typing, inspect"
   ]
  },
  {
   "cell_type": "code",
   "execution_count": 3,
   "metadata": {},
   "outputs": [
    {
     "name": "stdout",
     "output_type": "stream",
     "text": [
      "CONFIG_DIR=C:\\Users\\eharris\\devel\\gc3-query\\gc3_query\\var\\scratchpad\\toml_cfg\\toml_config, toml_file=C:\\Users\\eharris\\devel\\gc3-query\\gc3_query\\var\\scratchpad\\toml_cfg\\toml_config\\user_info_basic.toml, toml_file exists=True\n"
     ]
    }
   ],
   "source": [
    "CONFIG_DIR: Path = Path().parent.joinpath(\"toml_config\").resolve()\n",
    "toml_file = CONFIG_DIR.joinpath('user_info_basic.toml')\n",
    "print(f\"CONFIG_DIR={CONFIG_DIR}, toml_file={toml_file}, toml_file exists={toml_file.exists()}\")"
   ]
  },
  {
   "cell_type": "code",
   "execution_count": 4,
   "metadata": {
    "scrolled": true
   },
   "outputs": [
    {
     "name": "stdout",
     "output_type": "stream",
     "text": [
      "td type: <class 'dict'>\n",
      "{'user': {'_meta': {'decription': 'Basic user information',\n",
      "                    'default_type': 'str',\n",
      "                    'dependencies': '',\n",
      "                    'file': 'user_info.toml',\n",
      "                    'title': 'User Information'},\n",
      "          'cloud_username': 'eric.harris@oracle.com',\n",
      "          'email': 'eric.harris@oracle.com',\n",
      "          'emplid': 12345,\n",
      "          'first_name': 'Eric',\n",
      "          'home_directory': 'C:\\\\Users\\\\eharris',\n",
      "          'is_admin': True,\n",
      "          'is_fired': False,\n",
      "          'last_name': 'Harris',\n",
      "          'os_username': 'eharris'}}\n"
     ]
    }
   ],
   "source": [
    "td = toml.load(str(toml_file))\n",
    "print(f\"td type: {type(td)}\")\n",
    "pprint(td)"
   ]
  },
  {
   "cell_type": "code",
   "execution_count": 5,
   "metadata": {},
   "outputs": [
    {
     "data": {
      "text/plain": [
       "int"
      ]
     },
     "execution_count": 5,
     "metadata": {},
     "output_type": "execute_result"
    }
   ],
   "source": [
    "type(td['user']['first_name'])\n",
    "type(td['user']['emplid'])\n",
    "# type(td['user']['is_admin'])"
   ]
  },
  {
   "cell_type": "code",
   "execution_count": 6,
   "metadata": {
    "scrolled": true
   },
   "outputs": [
    {
     "data": {
      "text/plain": [
       "{'user': {'first_name': 'Eric',\n",
       "  'last_name': 'Harris',\n",
       "  'email': 'eric.harris@oracle.com',\n",
       "  'cloud_username': 'eric.harris@oracle.com',\n",
       "  'os_username': 'eharris',\n",
       "  'home_directory': 'C:\\\\Users\\\\eharris',\n",
       "  'emplid': 12345,\n",
       "  'is_admin': True,\n",
       "  'is_fired': False,\n",
       "  '_meta': {'title': 'User Information',\n",
       "   'file': 'user_info.toml',\n",
       "   'decription': 'Basic user information',\n",
       "   'dependencies': '',\n",
       "   'default_type': 'str'}}}"
      ]
     },
     "execution_count": 6,
     "metadata": {},
     "output_type": "execute_result"
    }
   ],
   "source": [
    "tf = TOMLFile(toml_file)\n",
    "tf.toml"
   ]
  },
  {
   "cell_type": "code",
   "execution_count": 7,
   "metadata": {},
   "outputs": [
    {
     "name": "stdout",
     "output_type": "stream",
     "text": [
      "[AnnotatedTOML(input='[user]\\n', key='None', type_name='None', value='None', toml='[user]\\n'),\n",
      " AnnotatedTOML(input=\"first_name = 'Eric'\\n\", key='first_name', type_name=None, value=\" 'Eric'\\n\", toml=\"first_name =  'Eric'\\n\"),\n",
      " AnnotatedTOML(input=\"last_name = 'Harris'\\n\", key='last_name', type_name=None, value=\" 'Harris'\\n\", toml=\"last_name =  'Harris'\\n\"),\n",
      " AnnotatedTOML(input=\"email = 'eric.harris@oracle.com'\\n\", key='email', type_name=None, value=\" 'eric.harris@oracle.com'\\n\", toml=\"email =  'eric.harris@oracle.com'\\n\"),\n",
      " AnnotatedTOML(input=\"cloud_username = 'eric.harris@oracle.com'\\n\", key='cloud_username', type_name=None, value=\" 'eric.harris@oracle.com'\\n\", toml=\"cloud_username =  'eric.harris@oracle.com'\\n\"),\n",
      " AnnotatedTOML(input=\"os_username = 'eharris'\\n\", key='os_username', type_name=None, value=\" 'eharris'\\n\", toml=\"os_username =  'eharris'\\n\"),\n",
      " AnnotatedTOML(input=\"home_directory = 'C:\\\\Users\\\\eharris'\\n\", key='home_directory', type_name=None, value=\" 'C:\\\\Users\\\\eharris'\\n\", toml=\"home_directory =  'C:\\\\Users\\\\eharris'\\n\"),\n",
      " AnnotatedTOML(input='emplid = 12345\\n', key='emplid', type_name=None, value=' 12345\\n', toml='emplid =  12345\\n'),\n",
      " AnnotatedTOML(input='is_admin = true\\n', key='is_admin', type_name=None, value=' true\\n', toml='is_admin =  true\\n'),\n",
      " AnnotatedTOML(input='is_fired = false\\n', key='is_fired', type_name=None, value=' false\\n', toml='is_fired =  false\\n'),\n",
      " AnnotatedTOML(input='\\n', key='None', type_name='None', value='None', toml='\\n'),\n",
      " AnnotatedTOML(input='\\n', key='None', type_name='None', value='None', toml='\\n'),\n",
      " AnnotatedTOML(input='[user._meta]\\n', key='None', type_name='None', value='None', toml='[user._meta]\\n'),\n",
      " AnnotatedTOML(input=\"title = 'User Information'\\n\", key='title', type_name=None, value=\" 'User Information'\\n\", toml=\"title =  'User Information'\\n\"),\n",
      " AnnotatedTOML(input=\"file = 'user_info.toml'\\n\", key='file', type_name=None, value=\" 'user_info.toml'\\n\", toml=\"file =  'user_info.toml'\\n\"),\n",
      " AnnotatedTOML(input=\"decription = 'Basic user information'\\n\", key='decription', type_name=None, value=\" 'Basic user information'\\n\", toml=\"decription =  'Basic user information'\\n\"),\n",
      " AnnotatedTOML(input=\"dependencies = ''\\n\", key='dependencies', type_name=None, value=\" ''\\n\", toml=\"dependencies =  ''\\n\"),\n",
      " AnnotatedTOML(input=\"default_type = 'str'\\n\", key='default_type', type_name=None, value=\" 'str'\\n\", toml=\"default_type =  'str'\\n\"),\n",
      " AnnotatedTOML(input='\\n', key='None', type_name='None', value='None', toml='\\n'),\n",
      " AnnotatedTOML(input='\\n', key='None', type_name='None', value='None', toml='\\n'),\n",
      " AnnotatedTOML(input='\\n', key='None', type_name='None', value='None', toml='\\n')]\n"
     ]
    }
   ],
   "source": [
    "pprint(tf._lines)"
   ]
  },
  {
   "cell_type": "code",
   "execution_count": 8,
   "metadata": {},
   "outputs": [
    {
     "name": "stdout",
     "output_type": "stream",
     "text": [
      "['None', 'first_name', 'last_name', 'email', 'cloud_username', 'os_username', 'home_directory', 'emplid', 'is_admin', 'is_fired', 'None', 'None', 'None', 'title', 'file', 'decription', 'dependencies', 'default_type', 'None', 'None', 'None']\n"
     ]
    }
   ],
   "source": [
    "tf._lines\n",
    "keys = [l.key for l in tf._lines if l.key]\n",
    "print(keys)"
   ]
  },
  {
   "cell_type": "markdown",
   "metadata": {},
   "source": [
    "def make_dataclass(cls_name, fields, *, bases=(), namespace=None, init=True,\n",
    "                   repr=True, eq=True, order=False, unsafe_hash=False,\n",
    "                   frozen=False):\n",
    "    \"\"\"Return a new dynamically created dataclass.\n",
    "\n",
    "    The dataclass name will be 'cls_name'.  'fields' is an iterable\n",
    "    of either (name), (name, type) or (name, type, Field) objects. If type is\n",
    "    omitted, use the string 'typing.Any'.  Field objects are created by\n",
    "    the equivalent of calling 'field(name, type [, Field-info])'.\n",
    "\n",
    "      C = make_dataclass('C', ['x', ('y', int), ('z', int, field(init=False))], bases=(Base,))\n",
    "\n",
    "    is equivalent to:\n",
    "\n",
    "      @dataclass\n",
    "      class C(Base):\n",
    "          x: 'typing.Any'\n",
    "          y: int\n",
    "          z: int = field(init=False)\n",
    "\n",
    "    For the bases and namespace parameters, see the builtin type() function.\n",
    "\n",
    "    The parameters init, repr, eq, order, unsafe_hash, and frozen are passed to\n",
    "    dataclass().\n",
    "    \"\"\""
   ]
  },
  {
   "cell_type": "code",
   "execution_count": 9,
   "metadata": {},
   "outputs": [
    {
     "name": "stdout",
     "output_type": "stream",
     "text": [
      "class_name=user, field_names=['first_name', 'last_name', 'email', 'cloud_username', 'os_username', 'home_directory', 'emplid', 'is_admin', 'is_fired']\n"
     ]
    }
   ],
   "source": [
    "# class_name == \"user\"\n",
    "class_name = list(td.keys())[0]\n",
    "field_names = [f for f in td[class_name].keys() if not f.startswith('_')]\n",
    "print(f\"class_name={class_name}, field_names={field_names}\")"
   ]
  },
  {
   "cell_type": "code",
   "execution_count": 10,
   "metadata": {
    "scrolled": true
   },
   "outputs": [
    {
     "ename": "TypeError",
     "evalue": "make_dataclass() missing 2 required positional arguments: 'cls_name' and 'fields'",
     "output_type": "error",
     "traceback": [
      "\u001b[1;31m---------------------------------------------------------------------------\u001b[0m",
      "\u001b[1;31mTypeError\u001b[0m                                 Traceback (most recent call last)",
      "\u001b[1;32m<ipython-input-10-86386ebeb964>\u001b[0m in \u001b[0;36m<module>\u001b[1;34m()\u001b[0m\n\u001b[1;32m----> 1\u001b[1;33m \u001b[0mtd_dataclass\u001b[0m \u001b[1;33m=\u001b[0m \u001b[0mmake_dataclass\u001b[0m\u001b[1;33m(\u001b[0m\u001b[1;33m)\u001b[0m\u001b[1;33m\u001b[0m\u001b[0m\n\u001b[0m",
      "\u001b[1;31mTypeError\u001b[0m: make_dataclass() missing 2 required positional arguments: 'cls_name' and 'fields'"
     ]
    }
   ],
   "source": [
    "td_dataclass = make_dataclass()"
   ]
  }
 ],
 "metadata": {
  "kernelspec": {
   "display_name": "Python 3",
   "language": "python",
   "name": "python3"
  },
  "language_info": {
   "codemirror_mode": {
    "name": "ipython",
    "version": 3
   },
   "file_extension": ".py",
   "mimetype": "text/x-python",
   "name": "python",
   "nbconvert_exporter": "python",
   "pygments_lexer": "ipython3",
   "version": "3.6.5"
  }
 },
 "nbformat": 4,
 "nbformat_minor": 2
}
