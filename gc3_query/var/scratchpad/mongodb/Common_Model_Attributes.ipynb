{
 "cells": [
  {
   "cell_type": "code",
   "execution_count": 3,
   "metadata": {},
   "outputs": [],
   "source": [
    "import json\n",
    "\n",
    "from gc3_query import GC3_QUERY_HOME\n",
    "from gc3_query.lib.util import camelcase_to_snake\n",
    " "
   ]
  },
  {
   "cell_type": "code",
   "execution_count": 2,
   "metadata": {},
   "outputs": [
    {
     "name": "stdout",
     "output_type": "stream",
     "text": [
      "ocic_specs_dir=c:\\users\\eharris\\devel\\gc3-query\\gc3_query\\var\\open_api_specs\\ocic\n"
     ]
    }
   ],
   "source": [
    "ocic_specs_dir = GC3_QUERY_HOME.joinpath('var/open_api_specs/ocic')\n",
    "print(f\"ocic_specs_dir={ocic_specs_dir}\")"
   ]
  },
  {
   "cell_type": "code",
   "execution_count": null,
   "metadata": {},
   "outputs": [],
   "source": []
  }
 ],
 "metadata": {
  "kernelspec": {
   "display_name": "Python 3",
   "language": "python",
   "name": "python3"
  },
  "language_info": {
   "codemirror_mode": {
    "name": "ipython",
    "version": 3
   },
   "file_extension": ".py",
   "mimetype": "text/x-python",
   "name": "python",
   "nbconvert_exporter": "python",
   "pygments_lexer": "ipython3",
   "version": "3.6.5"
  }
 },
 "nbformat": 4,
 "nbformat_minor": 2
}
